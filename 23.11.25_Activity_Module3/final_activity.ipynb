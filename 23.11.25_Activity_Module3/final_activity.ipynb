{
 "cells": [
  {
   "cell_type": "markdown",
   "metadata": {},
   "source": [
    "Import the required libraries"
   ]
  },
  {
   "cell_type": "code",
   "execution_count": 2,
   "metadata": {},
   "outputs": [
    {
     "name": "stdout",
     "output_type": "stream",
     "text": [
      "Requirement already satisfied: currencyconverter in c:\\users\\renzcute\\appdata\\local\\programs\\python\\python310\\lib\\site-packages (0.17.13)\n",
      "Note: you may need to restart the kernel to use updated packages.\n"
     ]
    },
    {
     "name": "stderr",
     "output_type": "stream",
     "text": [
      "\n",
      "[notice] A new release of pip is available: 23.0 -> 23.3.1\n",
      "[notice] To update, run: python.exe -m pip install --upgrade pip\n"
     ]
    }
   ],
   "source": [
    "import numpy as np\n",
    "import pandas as pd\n",
    "import matplotlib.pyplot as plt\n",
    "from scipy import stats\n",
    "import json\n",
    "import seaborn as sns\n",
    "\n",
    "\n",
    "\n",
    "%pip install currencyconverter\n",
    "from currency_converter import CurrencyConverter"
   ]
  },
  {
   "cell_type": "markdown",
   "metadata": {},
   "source": [
    "Import the dataset"
   ]
  },
  {
   "cell_type": "code",
   "execution_count": 3,
   "metadata": {},
   "outputs": [],
   "source": [
    "# df = pd.read_csv('https://query.data.world/s/4hitawaxckoxcgheh3mdxb5tafsmq6?dws=00000')\n",
    "df = pd.read_csv('7210_1.csv', low_memory=False)"
   ]
  },
  {
   "cell_type": "markdown",
   "metadata": {},
   "source": [
    "Copy the dataset for comparing the cleaned and non cleaned"
   ]
  },
  {
   "cell_type": "code",
   "execution_count": 47,
   "metadata": {},
   "outputs": [],
   "source": [
    "df_cpy = df.copy()"
   ]
  },
  {
   "cell_type": "markdown",
   "metadata": {},
   "source": [
    "Get the first 10 rows"
   ]
  },
  {
   "cell_type": "code",
   "execution_count": 48,
   "metadata": {},
   "outputs": [
    {
     "data": {
      "text/html": [
       "<div>\n",
       "<style scoped>\n",
       "    .dataframe tbody tr th:only-of-type {\n",
       "        vertical-align: middle;\n",
       "    }\n",
       "\n",
       "    .dataframe tbody tr th {\n",
       "        vertical-align: top;\n",
       "    }\n",
       "\n",
       "    .dataframe thead th {\n",
       "        text-align: right;\n",
       "    }\n",
       "</style>\n",
       "<table border=\"1\" class=\"dataframe\">\n",
       "  <thead>\n",
       "    <tr style=\"text-align: right;\">\n",
       "      <th></th>\n",
       "      <th>id</th>\n",
       "      <th>asins</th>\n",
       "      <th>brand</th>\n",
       "      <th>categories</th>\n",
       "      <th>colors</th>\n",
       "      <th>count</th>\n",
       "      <th>dateAdded</th>\n",
       "      <th>dateUpdated</th>\n",
       "      <th>descriptions</th>\n",
       "      <th>dimension</th>\n",
       "      <th>...</th>\n",
       "      <th>skus</th>\n",
       "      <th>sourceURLs</th>\n",
       "      <th>upc</th>\n",
       "      <th>vin</th>\n",
       "      <th>websiteIDs</th>\n",
       "      <th>weight</th>\n",
       "      <th>Unnamed: 48</th>\n",
       "      <th>Unnamed: 49</th>\n",
       "      <th>Unnamed: 50</th>\n",
       "      <th>Unnamed: 51</th>\n",
       "    </tr>\n",
       "  </thead>\n",
       "  <tbody>\n",
       "    <tr>\n",
       "      <th>0</th>\n",
       "      <td>AVpe__eOilAPnD_xSt-H</td>\n",
       "      <td>NaN</td>\n",
       "      <td>Novica</td>\n",
       "      <td>Access.,Clothing,Shoes,Women's Clothing</td>\n",
       "      <td>Purple</td>\n",
       "      <td>NaN</td>\n",
       "      <td>2017-02-03T22:06:24Z</td>\n",
       "      <td>2017-03-28T11:53:51Z</td>\n",
       "      <td>[{\"dateSeen\":[\"2017-03-26T05:04:46.539Z\",\"2017...</td>\n",
       "      <td>NaN</td>\n",
       "      <td>...</td>\n",
       "      <td>[{\"sourceURLs\":[\"https://www.overstock.com/Wor...</td>\n",
       "      <td>https://www.overstock.com/Worldstock-Fair-Trad...</td>\n",
       "      <td>NaN</td>\n",
       "      <td>NaN</td>\n",
       "      <td>NaN</td>\n",
       "      <td>NaN</td>\n",
       "      <td>NaN</td>\n",
       "      <td>NaN</td>\n",
       "      <td>NaN</td>\n",
       "      <td>NaN</td>\n",
       "    </tr>\n",
       "    <tr>\n",
       "      <th>1</th>\n",
       "      <td>AVpe__eOilAPnD_xSt-H</td>\n",
       "      <td>NaN</td>\n",
       "      <td>Novica</td>\n",
       "      <td>Access.,Clothing,Shoes,Women's Clothing</td>\n",
       "      <td>Purple</td>\n",
       "      <td>NaN</td>\n",
       "      <td>2017-02-03T22:06:24Z</td>\n",
       "      <td>2017-03-28T11:53:51Z</td>\n",
       "      <td>[{\"dateSeen\":[\"2017-03-26T05:04:46.539Z\",\"2017...</td>\n",
       "      <td>NaN</td>\n",
       "      <td>...</td>\n",
       "      <td>[{\"sourceURLs\":[\"https://www.overstock.com/Wor...</td>\n",
       "      <td>https://www.overstock.com/Worldstock-Fair-Trad...</td>\n",
       "      <td>NaN</td>\n",
       "      <td>NaN</td>\n",
       "      <td>NaN</td>\n",
       "      <td>NaN</td>\n",
       "      <td>NaN</td>\n",
       "      <td>NaN</td>\n",
       "      <td>NaN</td>\n",
       "      <td>NaN</td>\n",
       "    </tr>\n",
       "    <tr>\n",
       "      <th>2</th>\n",
       "      <td>AVpe__eOilAPnD_xSt-H</td>\n",
       "      <td>NaN</td>\n",
       "      <td>Novica</td>\n",
       "      <td>Access.,Clothing,Shoes,Women's Clothing</td>\n",
       "      <td>Purple</td>\n",
       "      <td>NaN</td>\n",
       "      <td>2017-02-03T22:06:24Z</td>\n",
       "      <td>2017-03-28T11:53:51Z</td>\n",
       "      <td>[{\"dateSeen\":[\"2017-03-26T05:04:46.539Z\",\"2017...</td>\n",
       "      <td>NaN</td>\n",
       "      <td>...</td>\n",
       "      <td>[{\"sourceURLs\":[\"https://www.overstock.com/Wor...</td>\n",
       "      <td>https://www.overstock.com/Worldstock-Fair-Trad...</td>\n",
       "      <td>NaN</td>\n",
       "      <td>NaN</td>\n",
       "      <td>NaN</td>\n",
       "      <td>NaN</td>\n",
       "      <td>NaN</td>\n",
       "      <td>NaN</td>\n",
       "      <td>NaN</td>\n",
       "      <td>NaN</td>\n",
       "    </tr>\n",
       "    <tr>\n",
       "      <th>3</th>\n",
       "      <td>AVpe__eOilAPnD_xSt-H</td>\n",
       "      <td>NaN</td>\n",
       "      <td>Novica</td>\n",
       "      <td>Access.,Clothing,Shoes,Women's Clothing</td>\n",
       "      <td>Purple</td>\n",
       "      <td>NaN</td>\n",
       "      <td>2017-02-03T22:06:24Z</td>\n",
       "      <td>2017-03-28T11:53:51Z</td>\n",
       "      <td>[{\"dateSeen\":[\"2017-03-26T05:04:46.539Z\",\"2017...</td>\n",
       "      <td>NaN</td>\n",
       "      <td>...</td>\n",
       "      <td>[{\"sourceURLs\":[\"https://www.overstock.com/Wor...</td>\n",
       "      <td>https://www.overstock.com/Worldstock-Fair-Trad...</td>\n",
       "      <td>NaN</td>\n",
       "      <td>NaN</td>\n",
       "      <td>NaN</td>\n",
       "      <td>NaN</td>\n",
       "      <td>NaN</td>\n",
       "      <td>NaN</td>\n",
       "      <td>NaN</td>\n",
       "      <td>NaN</td>\n",
       "    </tr>\n",
       "    <tr>\n",
       "      <th>4</th>\n",
       "      <td>AVpe__eOilAPnD_xSt-H</td>\n",
       "      <td>NaN</td>\n",
       "      <td>Novica</td>\n",
       "      <td>Access.,Clothing,Shoes,Women's Clothing</td>\n",
       "      <td>Purple</td>\n",
       "      <td>NaN</td>\n",
       "      <td>2017-02-03T22:06:24Z</td>\n",
       "      <td>2017-03-28T11:53:51Z</td>\n",
       "      <td>[{\"dateSeen\":[\"2017-03-26T05:04:46.539Z\",\"2017...</td>\n",
       "      <td>NaN</td>\n",
       "      <td>...</td>\n",
       "      <td>[{\"sourceURLs\":[\"https://www.overstock.com/Wor...</td>\n",
       "      <td>https://www.overstock.com/Worldstock-Fair-Trad...</td>\n",
       "      <td>NaN</td>\n",
       "      <td>NaN</td>\n",
       "      <td>NaN</td>\n",
       "      <td>NaN</td>\n",
       "      <td>NaN</td>\n",
       "      <td>NaN</td>\n",
       "      <td>NaN</td>\n",
       "      <td>NaN</td>\n",
       "    </tr>\n",
       "    <tr>\n",
       "      <th>5</th>\n",
       "      <td>AVpe__eOilAPnD_xSt-H</td>\n",
       "      <td>NaN</td>\n",
       "      <td>Novica</td>\n",
       "      <td>Access.,Clothing,Shoes,Women's Clothing</td>\n",
       "      <td>Purple</td>\n",
       "      <td>NaN</td>\n",
       "      <td>2017-02-03T22:06:24Z</td>\n",
       "      <td>2017-03-28T11:53:51Z</td>\n",
       "      <td>[{\"dateSeen\":[\"2017-03-26T05:04:46.539Z\",\"2017...</td>\n",
       "      <td>NaN</td>\n",
       "      <td>...</td>\n",
       "      <td>[{\"sourceURLs\":[\"https://www.overstock.com/Wor...</td>\n",
       "      <td>https://www.overstock.com/Worldstock-Fair-Trad...</td>\n",
       "      <td>NaN</td>\n",
       "      <td>NaN</td>\n",
       "      <td>NaN</td>\n",
       "      <td>NaN</td>\n",
       "      <td>NaN</td>\n",
       "      <td>NaN</td>\n",
       "      <td>NaN</td>\n",
       "      <td>NaN</td>\n",
       "    </tr>\n",
       "    <tr>\n",
       "      <th>6</th>\n",
       "      <td>AVpe__eOilAPnD_xSt-H</td>\n",
       "      <td>NaN</td>\n",
       "      <td>Novica</td>\n",
       "      <td>Access.,Clothing,Shoes,Women's Clothing</td>\n",
       "      <td>Purple</td>\n",
       "      <td>NaN</td>\n",
       "      <td>2017-02-03T22:06:24Z</td>\n",
       "      <td>2017-03-28T11:53:51Z</td>\n",
       "      <td>[{\"dateSeen\":[\"2017-03-26T05:04:46.539Z\",\"2017...</td>\n",
       "      <td>NaN</td>\n",
       "      <td>...</td>\n",
       "      <td>[{\"sourceURLs\":[\"https://www.overstock.com/Wor...</td>\n",
       "      <td>https://www.overstock.com/Worldstock-Fair-Trad...</td>\n",
       "      <td>NaN</td>\n",
       "      <td>NaN</td>\n",
       "      <td>NaN</td>\n",
       "      <td>NaN</td>\n",
       "      <td>NaN</td>\n",
       "      <td>NaN</td>\n",
       "      <td>NaN</td>\n",
       "      <td>NaN</td>\n",
       "    </tr>\n",
       "    <tr>\n",
       "      <th>7</th>\n",
       "      <td>AVpe__JXilAPnD_xSt3F</td>\n",
       "      <td>NaN</td>\n",
       "      <td>Pedi Couture</td>\n",
       "      <td>Clothing,Shoes,Women's Shoes,All Women's Shoes</td>\n",
       "      <td>NaN</td>\n",
       "      <td>NaN</td>\n",
       "      <td>2016-11-10T09:13:23Z</td>\n",
       "      <td>2016-11-10T09:13:23Z</td>\n",
       "      <td>[{\"dateSeen\":[\"2016-11-10T09:13:23Z\"],\"sourceU...</td>\n",
       "      <td>NaN</td>\n",
       "      <td>...</td>\n",
       "      <td>NaN</td>\n",
       "      <td>https://www.walmart.com/ip/PEDI-COUTURE-Women-...</td>\n",
       "      <td>8.396132e+10</td>\n",
       "      <td>NaN</td>\n",
       "      <td>NaN</td>\n",
       "      <td>NaN</td>\n",
       "      <td>NaN</td>\n",
       "      <td>NaN</td>\n",
       "      <td>NaN</td>\n",
       "      <td>NaN</td>\n",
       "    </tr>\n",
       "    <tr>\n",
       "      <th>8</th>\n",
       "      <td>AVpe_0mrilAPnD_xSqI7</td>\n",
       "      <td>NaN</td>\n",
       "      <td>ANNE KLEIN SPORT</td>\n",
       "      <td>Clothing,Shoes,Women's Shoes,All Women's Shoes</td>\n",
       "      <td>NaN</td>\n",
       "      <td>NaN</td>\n",
       "      <td>2016-08-02T08:29:11Z</td>\n",
       "      <td>2016-08-02T08:29:11Z</td>\n",
       "      <td>[{\"dateSeen\":[\"2016-08-02T08:29:11Z\"],\"sourceU...</td>\n",
       "      <td>NaN</td>\n",
       "      <td>...</td>\n",
       "      <td>NaN</td>\n",
       "      <td>http://www.walmart.com/ip/Anne-Klein-Sport-Per...</td>\n",
       "      <td>NaN</td>\n",
       "      <td>NaN</td>\n",
       "      <td>NaN</td>\n",
       "      <td>NaN</td>\n",
       "      <td>NaN</td>\n",
       "      <td>NaN</td>\n",
       "      <td>NaN</td>\n",
       "      <td>NaN</td>\n",
       "    </tr>\n",
       "    <tr>\n",
       "      <th>9</th>\n",
       "      <td>AVpe_0mrilAPnD_xSqI7</td>\n",
       "      <td>NaN</td>\n",
       "      <td>ANNE KLEIN SPORT</td>\n",
       "      <td>Clothing,Shoes,Women's Shoes,All Women's Shoes</td>\n",
       "      <td>NaN</td>\n",
       "      <td>NaN</td>\n",
       "      <td>2016-08-02T08:29:11Z</td>\n",
       "      <td>2016-08-02T08:29:11Z</td>\n",
       "      <td>[{\"dateSeen\":[\"2016-08-02T08:29:11Z\"],\"sourceU...</td>\n",
       "      <td>NaN</td>\n",
       "      <td>...</td>\n",
       "      <td>NaN</td>\n",
       "      <td>http://www.walmart.com/ip/Anne-Klein-Sport-Per...</td>\n",
       "      <td>NaN</td>\n",
       "      <td>NaN</td>\n",
       "      <td>NaN</td>\n",
       "      <td>NaN</td>\n",
       "      <td>NaN</td>\n",
       "      <td>NaN</td>\n",
       "      <td>NaN</td>\n",
       "      <td>NaN</td>\n",
       "    </tr>\n",
       "  </tbody>\n",
       "</table>\n",
       "<p>10 rows × 52 columns</p>\n",
       "</div>"
      ],
      "text/plain": [
       "                     id asins             brand  \\\n",
       "0  AVpe__eOilAPnD_xSt-H   NaN            Novica   \n",
       "1  AVpe__eOilAPnD_xSt-H   NaN            Novica   \n",
       "2  AVpe__eOilAPnD_xSt-H   NaN            Novica   \n",
       "3  AVpe__eOilAPnD_xSt-H   NaN            Novica   \n",
       "4  AVpe__eOilAPnD_xSt-H   NaN            Novica   \n",
       "5  AVpe__eOilAPnD_xSt-H   NaN            Novica   \n",
       "6  AVpe__eOilAPnD_xSt-H   NaN            Novica   \n",
       "7  AVpe__JXilAPnD_xSt3F   NaN      Pedi Couture   \n",
       "8  AVpe_0mrilAPnD_xSqI7   NaN  ANNE KLEIN SPORT   \n",
       "9  AVpe_0mrilAPnD_xSqI7   NaN  ANNE KLEIN SPORT   \n",
       "\n",
       "                                       categories  colors  count  \\\n",
       "0         Access.,Clothing,Shoes,Women's Clothing  Purple    NaN   \n",
       "1         Access.,Clothing,Shoes,Women's Clothing  Purple    NaN   \n",
       "2         Access.,Clothing,Shoes,Women's Clothing  Purple    NaN   \n",
       "3         Access.,Clothing,Shoes,Women's Clothing  Purple    NaN   \n",
       "4         Access.,Clothing,Shoes,Women's Clothing  Purple    NaN   \n",
       "5         Access.,Clothing,Shoes,Women's Clothing  Purple    NaN   \n",
       "6         Access.,Clothing,Shoes,Women's Clothing  Purple    NaN   \n",
       "7  Clothing,Shoes,Women's Shoes,All Women's Shoes     NaN    NaN   \n",
       "8  Clothing,Shoes,Women's Shoes,All Women's Shoes     NaN    NaN   \n",
       "9  Clothing,Shoes,Women's Shoes,All Women's Shoes     NaN    NaN   \n",
       "\n",
       "              dateAdded           dateUpdated  \\\n",
       "0  2017-02-03T22:06:24Z  2017-03-28T11:53:51Z   \n",
       "1  2017-02-03T22:06:24Z  2017-03-28T11:53:51Z   \n",
       "2  2017-02-03T22:06:24Z  2017-03-28T11:53:51Z   \n",
       "3  2017-02-03T22:06:24Z  2017-03-28T11:53:51Z   \n",
       "4  2017-02-03T22:06:24Z  2017-03-28T11:53:51Z   \n",
       "5  2017-02-03T22:06:24Z  2017-03-28T11:53:51Z   \n",
       "6  2017-02-03T22:06:24Z  2017-03-28T11:53:51Z   \n",
       "7  2016-11-10T09:13:23Z  2016-11-10T09:13:23Z   \n",
       "8  2016-08-02T08:29:11Z  2016-08-02T08:29:11Z   \n",
       "9  2016-08-02T08:29:11Z  2016-08-02T08:29:11Z   \n",
       "\n",
       "                                        descriptions dimension  ...  \\\n",
       "0  [{\"dateSeen\":[\"2017-03-26T05:04:46.539Z\",\"2017...       NaN  ...   \n",
       "1  [{\"dateSeen\":[\"2017-03-26T05:04:46.539Z\",\"2017...       NaN  ...   \n",
       "2  [{\"dateSeen\":[\"2017-03-26T05:04:46.539Z\",\"2017...       NaN  ...   \n",
       "3  [{\"dateSeen\":[\"2017-03-26T05:04:46.539Z\",\"2017...       NaN  ...   \n",
       "4  [{\"dateSeen\":[\"2017-03-26T05:04:46.539Z\",\"2017...       NaN  ...   \n",
       "5  [{\"dateSeen\":[\"2017-03-26T05:04:46.539Z\",\"2017...       NaN  ...   \n",
       "6  [{\"dateSeen\":[\"2017-03-26T05:04:46.539Z\",\"2017...       NaN  ...   \n",
       "7  [{\"dateSeen\":[\"2016-11-10T09:13:23Z\"],\"sourceU...       NaN  ...   \n",
       "8  [{\"dateSeen\":[\"2016-08-02T08:29:11Z\"],\"sourceU...       NaN  ...   \n",
       "9  [{\"dateSeen\":[\"2016-08-02T08:29:11Z\"],\"sourceU...       NaN  ...   \n",
       "\n",
       "                                                skus  \\\n",
       "0  [{\"sourceURLs\":[\"https://www.overstock.com/Wor...   \n",
       "1  [{\"sourceURLs\":[\"https://www.overstock.com/Wor...   \n",
       "2  [{\"sourceURLs\":[\"https://www.overstock.com/Wor...   \n",
       "3  [{\"sourceURLs\":[\"https://www.overstock.com/Wor...   \n",
       "4  [{\"sourceURLs\":[\"https://www.overstock.com/Wor...   \n",
       "5  [{\"sourceURLs\":[\"https://www.overstock.com/Wor...   \n",
       "6  [{\"sourceURLs\":[\"https://www.overstock.com/Wor...   \n",
       "7                                                NaN   \n",
       "8                                                NaN   \n",
       "9                                                NaN   \n",
       "\n",
       "                                          sourceURLs           upc vin  \\\n",
       "0  https://www.overstock.com/Worldstock-Fair-Trad...           NaN NaN   \n",
       "1  https://www.overstock.com/Worldstock-Fair-Trad...           NaN NaN   \n",
       "2  https://www.overstock.com/Worldstock-Fair-Trad...           NaN NaN   \n",
       "3  https://www.overstock.com/Worldstock-Fair-Trad...           NaN NaN   \n",
       "4  https://www.overstock.com/Worldstock-Fair-Trad...           NaN NaN   \n",
       "5  https://www.overstock.com/Worldstock-Fair-Trad...           NaN NaN   \n",
       "6  https://www.overstock.com/Worldstock-Fair-Trad...           NaN NaN   \n",
       "7  https://www.walmart.com/ip/PEDI-COUTURE-Women-...  8.396132e+10 NaN   \n",
       "8  http://www.walmart.com/ip/Anne-Klein-Sport-Per...           NaN NaN   \n",
       "9  http://www.walmart.com/ip/Anne-Klein-Sport-Per...           NaN NaN   \n",
       "\n",
       "   websiteIDs weight Unnamed: 48 Unnamed: 49 Unnamed: 50 Unnamed: 51  \n",
       "0         NaN    NaN         NaN         NaN         NaN         NaN  \n",
       "1         NaN    NaN         NaN         NaN         NaN         NaN  \n",
       "2         NaN    NaN         NaN         NaN         NaN         NaN  \n",
       "3         NaN    NaN         NaN         NaN         NaN         NaN  \n",
       "4         NaN    NaN         NaN         NaN         NaN         NaN  \n",
       "5         NaN    NaN         NaN         NaN         NaN         NaN  \n",
       "6         NaN    NaN         NaN         NaN         NaN         NaN  \n",
       "7         NaN    NaN         NaN         NaN         NaN         NaN  \n",
       "8         NaN    NaN         NaN         NaN         NaN         NaN  \n",
       "9         NaN    NaN         NaN         NaN         NaN         NaN  \n",
       "\n",
       "[10 rows x 52 columns]"
      ]
     },
     "execution_count": 48,
     "metadata": {},
     "output_type": "execute_result"
    }
   ],
   "source": [
    "df_cpy.head(10)"
   ]
  },
  {
   "cell_type": "markdown",
   "metadata": {},
   "source": [
    "Get the columns"
   ]
  },
  {
   "cell_type": "code",
   "execution_count": 49,
   "metadata": {},
   "outputs": [
    {
     "data": {
      "text/plain": [
       "Index(['id', 'asins', 'brand', 'categories', 'colors', 'count', 'dateAdded',\n",
       "       'dateUpdated', 'descriptions', 'dimension', 'ean', 'features',\n",
       "       'flavors', 'imageURLs', 'isbn', 'keys', 'manufacturer',\n",
       "       'manufacturerNumber', 'merchants', 'name', 'prices.amountMin',\n",
       "       'prices.amountMax', 'prices.availability', 'prices.color',\n",
       "       'prices.condition', 'prices.count', 'prices.currency',\n",
       "       'prices.dateAdded', 'prices.dateSeen', 'prices.flavor', 'prices.isSale',\n",
       "       'prices.merchant', 'prices.offer', 'prices.returnPolicy',\n",
       "       'prices.shipping', 'prices.size', 'prices.source', 'prices.sourceURLs',\n",
       "       'prices.warranty', 'quantities', 'reviews', 'sizes', 'skus',\n",
       "       'sourceURLs', 'upc', 'vin', 'websiteIDs', 'weight', 'Unnamed: 48',\n",
       "       'Unnamed: 49', 'Unnamed: 50', 'Unnamed: 51'],\n",
       "      dtype='object')"
      ]
     },
     "execution_count": 49,
     "metadata": {},
     "output_type": "execute_result"
    }
   ],
   "source": [
    "df_cpy.columns"
   ]
  },
  {
   "cell_type": "markdown",
   "metadata": {},
   "source": [
    "Get the info"
   ]
  },
  {
   "cell_type": "code",
   "execution_count": 50,
   "metadata": {},
   "outputs": [
    {
     "name": "stdout",
     "output_type": "stream",
     "text": [
      "<class 'pandas.core.frame.DataFrame'>\n",
      "RangeIndex: 33801 entries, 0 to 33800\n",
      "Data columns (total 52 columns):\n",
      " #   Column               Non-Null Count  Dtype  \n",
      "---  ------               --------------  -----  \n",
      " 0   id                   33801 non-null  object \n",
      " 1   asins                2422 non-null   object \n",
      " 2   brand                32817 non-null  object \n",
      " 3   categories           33801 non-null  object \n",
      " 4   colors               19844 non-null  object \n",
      " 5   count                0 non-null      float64\n",
      " 6   dateAdded            33801 non-null  object \n",
      " 7   dateUpdated          33801 non-null  object \n",
      " 8   descriptions         28425 non-null  object \n",
      " 9   dimension            1177 non-null   object \n",
      " 10  ean                  9778 non-null   float64\n",
      " 11  features             27181 non-null  object \n",
      " 12  flavors              0 non-null      float64\n",
      " 13  imageURLs            22309 non-null  object \n",
      " 14  isbn                 0 non-null      float64\n",
      " 15  keys                 33801 non-null  object \n",
      " 16  manufacturer         9279 non-null   object \n",
      " 17  manufacturerNumber   31434 non-null  object \n",
      " 18  merchants            15382 non-null  object \n",
      " 19  name                 33801 non-null  object \n",
      " 20  prices.amountMin     33801 non-null  float64\n",
      " 21  prices.amountMax     33801 non-null  float64\n",
      " 22  prices.availability  307 non-null    object \n",
      " 23  prices.color         17421 non-null  object \n",
      " 24  prices.condition     12015 non-null  object \n",
      " 25  prices.count         0 non-null      float64\n",
      " 26  prices.currency      33801 non-null  object \n",
      " 27  prices.dateAdded     33801 non-null  object \n",
      " 28  prices.dateSeen      33801 non-null  object \n",
      " 29  prices.flavor        0 non-null      float64\n",
      " 30  prices.isSale        33801 non-null  bool   \n",
      " 31  prices.merchant      29926 non-null  object \n",
      " 32  prices.offer         6798 non-null   object \n",
      " 33  prices.returnPolicy  1374 non-null   object \n",
      " 34  prices.shipping      3948 non-null   object \n",
      " 35  prices.size          15391 non-null  object \n",
      " 36  prices.source        0 non-null      float64\n",
      " 37  prices.sourceURLs    33801 non-null  object \n",
      " 38  prices.warranty      0 non-null      float64\n",
      " 39  quantities           18490 non-null  object \n",
      " 40  reviews              4188 non-null   object \n",
      " 41  sizes                8602 non-null   object \n",
      " 42  skus                 22135 non-null  object \n",
      " 43  sourceURLs           33801 non-null  object \n",
      " 44  upc                  10724 non-null  float64\n",
      " 45  vin                  0 non-null      float64\n",
      " 46  websiteIDs           0 non-null      float64\n",
      " 47  weight               1263 non-null   object \n",
      " 48  Unnamed: 48          0 non-null      float64\n",
      " 49  Unnamed: 49          0 non-null      float64\n",
      " 50  Unnamed: 50          0 non-null      float64\n",
      " 51  Unnamed: 51          1 non-null      object \n",
      "dtypes: bool(1), float64(16), object(35)\n",
      "memory usage: 13.2+ MB\n"
     ]
    }
   ],
   "source": [
    "df_cpy.info()"
   ]
  },
  {
   "cell_type": "markdown",
   "metadata": {},
   "source": [
    "Describe all the columns"
   ]
  },
  {
   "cell_type": "code",
   "execution_count": 51,
   "metadata": {},
   "outputs": [
    {
     "data": {
      "text/html": [
       "<div>\n",
       "<style scoped>\n",
       "    .dataframe tbody tr th:only-of-type {\n",
       "        vertical-align: middle;\n",
       "    }\n",
       "\n",
       "    .dataframe tbody tr th {\n",
       "        vertical-align: top;\n",
       "    }\n",
       "\n",
       "    .dataframe thead th {\n",
       "        text-align: right;\n",
       "    }\n",
       "</style>\n",
       "<table border=\"1\" class=\"dataframe\">\n",
       "  <thead>\n",
       "    <tr style=\"text-align: right;\">\n",
       "      <th></th>\n",
       "      <th>id</th>\n",
       "      <th>asins</th>\n",
       "      <th>brand</th>\n",
       "      <th>categories</th>\n",
       "      <th>colors</th>\n",
       "      <th>count</th>\n",
       "      <th>dateAdded</th>\n",
       "      <th>dateUpdated</th>\n",
       "      <th>descriptions</th>\n",
       "      <th>dimension</th>\n",
       "      <th>...</th>\n",
       "      <th>skus</th>\n",
       "      <th>sourceURLs</th>\n",
       "      <th>upc</th>\n",
       "      <th>vin</th>\n",
       "      <th>websiteIDs</th>\n",
       "      <th>weight</th>\n",
       "      <th>Unnamed: 48</th>\n",
       "      <th>Unnamed: 49</th>\n",
       "      <th>Unnamed: 50</th>\n",
       "      <th>Unnamed: 51</th>\n",
       "    </tr>\n",
       "  </thead>\n",
       "  <tbody>\n",
       "    <tr>\n",
       "      <th>count</th>\n",
       "      <td>33801</td>\n",
       "      <td>2422</td>\n",
       "      <td>32817</td>\n",
       "      <td>33801</td>\n",
       "      <td>19844</td>\n",
       "      <td>0.0</td>\n",
       "      <td>33801</td>\n",
       "      <td>33801</td>\n",
       "      <td>28425</td>\n",
       "      <td>1177</td>\n",
       "      <td>...</td>\n",
       "      <td>22135</td>\n",
       "      <td>33801</td>\n",
       "      <td>1.072400e+04</td>\n",
       "      <td>0.0</td>\n",
       "      <td>0.0</td>\n",
       "      <td>1263</td>\n",
       "      <td>0.0</td>\n",
       "      <td>0.0</td>\n",
       "      <td>0.0</td>\n",
       "      <td>1</td>\n",
       "    </tr>\n",
       "    <tr>\n",
       "      <th>unique</th>\n",
       "      <td>9996</td>\n",
       "      <td>1245</td>\n",
       "      <td>1360</td>\n",
       "      <td>894</td>\n",
       "      <td>2065</td>\n",
       "      <td>NaN</td>\n",
       "      <td>7006</td>\n",
       "      <td>6506</td>\n",
       "      <td>7186</td>\n",
       "      <td>100</td>\n",
       "      <td>...</td>\n",
       "      <td>3808</td>\n",
       "      <td>9993</td>\n",
       "      <td>NaN</td>\n",
       "      <td>NaN</td>\n",
       "      <td>NaN</td>\n",
       "      <td>69</td>\n",
       "      <td>NaN</td>\n",
       "      <td>NaN</td>\n",
       "      <td>NaN</td>\n",
       "      <td>1</td>\n",
       "    </tr>\n",
       "    <tr>\n",
       "      <th>top</th>\n",
       "      <td>AVpfiLB71cnluZ0-mdRy</td>\n",
       "      <td>B002MUU6JG,B017MXDUZY,B002MUSAQW,B002MUSAQC,B0...</td>\n",
       "      <td>Journee Collection</td>\n",
       "      <td>Clothing,Shoes,Women's Shoes,All Women's Shoes</td>\n",
       "      <td>Black</td>\n",
       "      <td>NaN</td>\n",
       "      <td>2017-03-28T11:43:08Z</td>\n",
       "      <td>2017-03-28T11:42:28Z</td>\n",
       "      <td>[{\"dateSeen\":[\"2017-03-25T09:34:20.165Z\"],\"sou...</td>\n",
       "      <td>6.0 in x 6.0 in x 1.0 in</td>\n",
       "      <td>...</td>\n",
       "      <td>[{\"sourceURLs\":[\"http://www.ralphlauren.com/pr...</td>\n",
       "      <td>http://www.ralphlauren.com/product/index.jsp?p...</td>\n",
       "      <td>NaN</td>\n",
       "      <td>NaN</td>\n",
       "      <td>NaN</td>\n",
       "      <td>499 g</td>\n",
       "      <td>NaN</td>\n",
       "      <td>NaN</td>\n",
       "      <td>NaN</td>\n",
       "      <td>9 g</td>\n",
       "    </tr>\n",
       "    <tr>\n",
       "      <th>freq</th>\n",
       "      <td>79</td>\n",
       "      <td>57</td>\n",
       "      <td>1401</td>\n",
       "      <td>3156</td>\n",
       "      <td>2928</td>\n",
       "      <td>NaN</td>\n",
       "      <td>253</td>\n",
       "      <td>415</td>\n",
       "      <td>67</td>\n",
       "      <td>238</td>\n",
       "      <td>...</td>\n",
       "      <td>79</td>\n",
       "      <td>79</td>\n",
       "      <td>NaN</td>\n",
       "      <td>NaN</td>\n",
       "      <td>NaN</td>\n",
       "      <td>559</td>\n",
       "      <td>NaN</td>\n",
       "      <td>NaN</td>\n",
       "      <td>NaN</td>\n",
       "      <td>1</td>\n",
       "    </tr>\n",
       "    <tr>\n",
       "      <th>mean</th>\n",
       "      <td>NaN</td>\n",
       "      <td>NaN</td>\n",
       "      <td>NaN</td>\n",
       "      <td>NaN</td>\n",
       "      <td>NaN</td>\n",
       "      <td>NaN</td>\n",
       "      <td>NaN</td>\n",
       "      <td>NaN</td>\n",
       "      <td>NaN</td>\n",
       "      <td>NaN</td>\n",
       "      <td>...</td>\n",
       "      <td>NaN</td>\n",
       "      <td>NaN</td>\n",
       "      <td>6.808845e+11</td>\n",
       "      <td>NaN</td>\n",
       "      <td>NaN</td>\n",
       "      <td>NaN</td>\n",
       "      <td>NaN</td>\n",
       "      <td>NaN</td>\n",
       "      <td>NaN</td>\n",
       "      <td>NaN</td>\n",
       "    </tr>\n",
       "    <tr>\n",
       "      <th>std</th>\n",
       "      <td>NaN</td>\n",
       "      <td>NaN</td>\n",
       "      <td>NaN</td>\n",
       "      <td>NaN</td>\n",
       "      <td>NaN</td>\n",
       "      <td>NaN</td>\n",
       "      <td>NaN</td>\n",
       "      <td>NaN</td>\n",
       "      <td>NaN</td>\n",
       "      <td>NaN</td>\n",
       "      <td>...</td>\n",
       "      <td>NaN</td>\n",
       "      <td>NaN</td>\n",
       "      <td>2.836908e+11</td>\n",
       "      <td>NaN</td>\n",
       "      <td>NaN</td>\n",
       "      <td>NaN</td>\n",
       "      <td>NaN</td>\n",
       "      <td>NaN</td>\n",
       "      <td>NaN</td>\n",
       "      <td>NaN</td>\n",
       "    </tr>\n",
       "    <tr>\n",
       "      <th>min</th>\n",
       "      <td>NaN</td>\n",
       "      <td>NaN</td>\n",
       "      <td>NaN</td>\n",
       "      <td>NaN</td>\n",
       "      <td>NaN</td>\n",
       "      <td>NaN</td>\n",
       "      <td>NaN</td>\n",
       "      <td>NaN</td>\n",
       "      <td>NaN</td>\n",
       "      <td>NaN</td>\n",
       "      <td>...</td>\n",
       "      <td>NaN</td>\n",
       "      <td>NaN</td>\n",
       "      <td>4.151870e+05</td>\n",
       "      <td>NaN</td>\n",
       "      <td>NaN</td>\n",
       "      <td>NaN</td>\n",
       "      <td>NaN</td>\n",
       "      <td>NaN</td>\n",
       "      <td>NaN</td>\n",
       "      <td>NaN</td>\n",
       "    </tr>\n",
       "    <tr>\n",
       "      <th>25%</th>\n",
       "      <td>NaN</td>\n",
       "      <td>NaN</td>\n",
       "      <td>NaN</td>\n",
       "      <td>NaN</td>\n",
       "      <td>NaN</td>\n",
       "      <td>NaN</td>\n",
       "      <td>NaN</td>\n",
       "      <td>NaN</td>\n",
       "      <td>NaN</td>\n",
       "      <td>NaN</td>\n",
       "      <td>...</td>\n",
       "      <td>NaN</td>\n",
       "      <td>NaN</td>\n",
       "      <td>6.410790e+11</td>\n",
       "      <td>NaN</td>\n",
       "      <td>NaN</td>\n",
       "      <td>NaN</td>\n",
       "      <td>NaN</td>\n",
       "      <td>NaN</td>\n",
       "      <td>NaN</td>\n",
       "      <td>NaN</td>\n",
       "    </tr>\n",
       "    <tr>\n",
       "      <th>50%</th>\n",
       "      <td>NaN</td>\n",
       "      <td>NaN</td>\n",
       "      <td>NaN</td>\n",
       "      <td>NaN</td>\n",
       "      <td>NaN</td>\n",
       "      <td>NaN</td>\n",
       "      <td>NaN</td>\n",
       "      <td>NaN</td>\n",
       "      <td>NaN</td>\n",
       "      <td>NaN</td>\n",
       "      <td>...</td>\n",
       "      <td>NaN</td>\n",
       "      <td>NaN</td>\n",
       "      <td>8.026160e+11</td>\n",
       "      <td>NaN</td>\n",
       "      <td>NaN</td>\n",
       "      <td>NaN</td>\n",
       "      <td>NaN</td>\n",
       "      <td>NaN</td>\n",
       "      <td>NaN</td>\n",
       "      <td>NaN</td>\n",
       "    </tr>\n",
       "    <tr>\n",
       "      <th>75%</th>\n",
       "      <td>NaN</td>\n",
       "      <td>NaN</td>\n",
       "      <td>NaN</td>\n",
       "      <td>NaN</td>\n",
       "      <td>NaN</td>\n",
       "      <td>NaN</td>\n",
       "      <td>NaN</td>\n",
       "      <td>NaN</td>\n",
       "      <td>NaN</td>\n",
       "      <td>NaN</td>\n",
       "      <td>...</td>\n",
       "      <td>NaN</td>\n",
       "      <td>NaN</td>\n",
       "      <td>8.865210e+11</td>\n",
       "      <td>NaN</td>\n",
       "      <td>NaN</td>\n",
       "      <td>NaN</td>\n",
       "      <td>NaN</td>\n",
       "      <td>NaN</td>\n",
       "      <td>NaN</td>\n",
       "      <td>NaN</td>\n",
       "    </tr>\n",
       "    <tr>\n",
       "      <th>max</th>\n",
       "      <td>NaN</td>\n",
       "      <td>NaN</td>\n",
       "      <td>NaN</td>\n",
       "      <td>NaN</td>\n",
       "      <td>NaN</td>\n",
       "      <td>NaN</td>\n",
       "      <td>NaN</td>\n",
       "      <td>NaN</td>\n",
       "      <td>NaN</td>\n",
       "      <td>NaN</td>\n",
       "      <td>...</td>\n",
       "      <td>NaN</td>\n",
       "      <td>NaN</td>\n",
       "      <td>9.105300e+11</td>\n",
       "      <td>NaN</td>\n",
       "      <td>NaN</td>\n",
       "      <td>NaN</td>\n",
       "      <td>NaN</td>\n",
       "      <td>NaN</td>\n",
       "      <td>NaN</td>\n",
       "      <td>NaN</td>\n",
       "    </tr>\n",
       "  </tbody>\n",
       "</table>\n",
       "<p>11 rows × 52 columns</p>\n",
       "</div>"
      ],
      "text/plain": [
       "                          id  \\\n",
       "count                  33801   \n",
       "unique                  9996   \n",
       "top     AVpfiLB71cnluZ0-mdRy   \n",
       "freq                      79   \n",
       "mean                     NaN   \n",
       "std                      NaN   \n",
       "min                      NaN   \n",
       "25%                      NaN   \n",
       "50%                      NaN   \n",
       "75%                      NaN   \n",
       "max                      NaN   \n",
       "\n",
       "                                                    asins               brand  \\\n",
       "count                                                2422               32817   \n",
       "unique                                               1245                1360   \n",
       "top     B002MUU6JG,B017MXDUZY,B002MUSAQW,B002MUSAQC,B0...  Journee Collection   \n",
       "freq                                                   57                1401   \n",
       "mean                                                  NaN                 NaN   \n",
       "std                                                   NaN                 NaN   \n",
       "min                                                   NaN                 NaN   \n",
       "25%                                                   NaN                 NaN   \n",
       "50%                                                   NaN                 NaN   \n",
       "75%                                                   NaN                 NaN   \n",
       "max                                                   NaN                 NaN   \n",
       "\n",
       "                                            categories colors  count  \\\n",
       "count                                            33801  19844    0.0   \n",
       "unique                                             894   2065    NaN   \n",
       "top     Clothing,Shoes,Women's Shoes,All Women's Shoes  Black    NaN   \n",
       "freq                                              3156   2928    NaN   \n",
       "mean                                               NaN    NaN    NaN   \n",
       "std                                                NaN    NaN    NaN   \n",
       "min                                                NaN    NaN    NaN   \n",
       "25%                                                NaN    NaN    NaN   \n",
       "50%                                                NaN    NaN    NaN   \n",
       "75%                                                NaN    NaN    NaN   \n",
       "max                                                NaN    NaN    NaN   \n",
       "\n",
       "                   dateAdded           dateUpdated  \\\n",
       "count                  33801                 33801   \n",
       "unique                  7006                  6506   \n",
       "top     2017-03-28T11:43:08Z  2017-03-28T11:42:28Z   \n",
       "freq                     253                   415   \n",
       "mean                     NaN                   NaN   \n",
       "std                      NaN                   NaN   \n",
       "min                      NaN                   NaN   \n",
       "25%                      NaN                   NaN   \n",
       "50%                      NaN                   NaN   \n",
       "75%                      NaN                   NaN   \n",
       "max                      NaN                   NaN   \n",
       "\n",
       "                                             descriptions  \\\n",
       "count                                               28425   \n",
       "unique                                               7186   \n",
       "top     [{\"dateSeen\":[\"2017-03-25T09:34:20.165Z\"],\"sou...   \n",
       "freq                                                   67   \n",
       "mean                                                  NaN   \n",
       "std                                                   NaN   \n",
       "min                                                   NaN   \n",
       "25%                                                   NaN   \n",
       "50%                                                   NaN   \n",
       "75%                                                   NaN   \n",
       "max                                                   NaN   \n",
       "\n",
       "                       dimension  ...  \\\n",
       "count                       1177  ...   \n",
       "unique                       100  ...   \n",
       "top     6.0 in x 6.0 in x 1.0 in  ...   \n",
       "freq                         238  ...   \n",
       "mean                         NaN  ...   \n",
       "std                          NaN  ...   \n",
       "min                          NaN  ...   \n",
       "25%                          NaN  ...   \n",
       "50%                          NaN  ...   \n",
       "75%                          NaN  ...   \n",
       "max                          NaN  ...   \n",
       "\n",
       "                                                     skus  \\\n",
       "count                                               22135   \n",
       "unique                                               3808   \n",
       "top     [{\"sourceURLs\":[\"http://www.ralphlauren.com/pr...   \n",
       "freq                                                   79   \n",
       "mean                                                  NaN   \n",
       "std                                                   NaN   \n",
       "min                                                   NaN   \n",
       "25%                                                   NaN   \n",
       "50%                                                   NaN   \n",
       "75%                                                   NaN   \n",
       "max                                                   NaN   \n",
       "\n",
       "                                               sourceURLs           upc  vin  \\\n",
       "count                                               33801  1.072400e+04  0.0   \n",
       "unique                                               9993           NaN  NaN   \n",
       "top     http://www.ralphlauren.com/product/index.jsp?p...           NaN  NaN   \n",
       "freq                                                   79           NaN  NaN   \n",
       "mean                                                  NaN  6.808845e+11  NaN   \n",
       "std                                                   NaN  2.836908e+11  NaN   \n",
       "min                                                   NaN  4.151870e+05  NaN   \n",
       "25%                                                   NaN  6.410790e+11  NaN   \n",
       "50%                                                   NaN  8.026160e+11  NaN   \n",
       "75%                                                   NaN  8.865210e+11  NaN   \n",
       "max                                                   NaN  9.105300e+11  NaN   \n",
       "\n",
       "        websiteIDs weight Unnamed: 48 Unnamed: 49 Unnamed: 50 Unnamed: 51  \n",
       "count          0.0   1263         0.0         0.0         0.0           1  \n",
       "unique         NaN     69         NaN         NaN         NaN           1  \n",
       "top            NaN  499 g         NaN         NaN         NaN         9 g  \n",
       "freq           NaN    559         NaN         NaN         NaN           1  \n",
       "mean           NaN    NaN         NaN         NaN         NaN         NaN  \n",
       "std            NaN    NaN         NaN         NaN         NaN         NaN  \n",
       "min            NaN    NaN         NaN         NaN         NaN         NaN  \n",
       "25%            NaN    NaN         NaN         NaN         NaN         NaN  \n",
       "50%            NaN    NaN         NaN         NaN         NaN         NaN  \n",
       "75%            NaN    NaN         NaN         NaN         NaN         NaN  \n",
       "max            NaN    NaN         NaN         NaN         NaN         NaN  \n",
       "\n",
       "[11 rows x 52 columns]"
      ]
     },
     "execution_count": 51,
     "metadata": {},
     "output_type": "execute_result"
    }
   ],
   "source": [
    "df_cpy.describe(include='all')"
   ]
  },
  {
   "cell_type": "markdown",
   "metadata": {},
   "source": [
    "Get all the missing values"
   ]
  },
  {
   "cell_type": "code",
   "execution_count": 52,
   "metadata": {},
   "outputs": [
    {
     "data": {
      "text/plain": [
       "id                         0\n",
       "asins                  31379\n",
       "brand                    984\n",
       "categories                 0\n",
       "colors                 13957\n",
       "count                  33801\n",
       "dateAdded                  0\n",
       "dateUpdated                0\n",
       "descriptions            5376\n",
       "dimension              32624\n",
       "ean                    24023\n",
       "features                6620\n",
       "flavors                33801\n",
       "imageURLs              11492\n",
       "isbn                   33801\n",
       "keys                       0\n",
       "manufacturer           24522\n",
       "manufacturerNumber      2367\n",
       "merchants              18419\n",
       "name                       0\n",
       "prices.amountMin           0\n",
       "prices.amountMax           0\n",
       "prices.availability    33494\n",
       "prices.color           16380\n",
       "prices.condition       21786\n",
       "prices.count           33801\n",
       "prices.currency            0\n",
       "prices.dateAdded           0\n",
       "prices.dateSeen            0\n",
       "prices.flavor          33801\n",
       "prices.isSale              0\n",
       "prices.merchant         3875\n",
       "prices.offer           27003\n",
       "prices.returnPolicy    32427\n",
       "prices.shipping        29853\n",
       "prices.size            18410\n",
       "prices.source          33801\n",
       "prices.sourceURLs          0\n",
       "prices.warranty        33801\n",
       "quantities             15311\n",
       "reviews                29613\n",
       "sizes                  25199\n",
       "skus                   11666\n",
       "sourceURLs                 0\n",
       "upc                    23077\n",
       "vin                    33801\n",
       "websiteIDs             33801\n",
       "weight                 32538\n",
       "Unnamed: 48            33801\n",
       "Unnamed: 49            33801\n",
       "Unnamed: 50            33801\n",
       "Unnamed: 51            33800\n",
       "dtype: int64"
      ]
     },
     "execution_count": 52,
     "metadata": {},
     "output_type": "execute_result"
    }
   ],
   "source": [
    "df_cpy.isna().sum()"
   ]
  },
  {
   "cell_type": "markdown",
   "metadata": {},
   "source": [
    "As we can see, there are a lot of values to be removed, from here we will analyze all the columns with missing values."
   ]
  },
  {
   "cell_type": "markdown",
   "metadata": {},
   "source": [
    "First now check the data types of missing datas"
   ]
  },
  {
   "cell_type": "code",
   "execution_count": 53,
   "metadata": {},
   "outputs": [
    {
     "data": {
      "text/plain": [
       "asins                   object\n",
       "brand                   object\n",
       "colors                  object\n",
       "count                  float64\n",
       "descriptions            object\n",
       "dimension               object\n",
       "ean                    float64\n",
       "features                object\n",
       "flavors                float64\n",
       "imageURLs               object\n",
       "isbn                   float64\n",
       "manufacturer            object\n",
       "manufacturerNumber      object\n",
       "merchants               object\n",
       "prices.availability     object\n",
       "prices.color            object\n",
       "prices.condition        object\n",
       "prices.count           float64\n",
       "prices.flavor          float64\n",
       "prices.merchant         object\n",
       "prices.offer            object\n",
       "prices.returnPolicy     object\n",
       "prices.shipping         object\n",
       "prices.size             object\n",
       "prices.source          float64\n",
       "prices.warranty        float64\n",
       "quantities              object\n",
       "reviews                 object\n",
       "sizes                   object\n",
       "skus                    object\n",
       "upc                    float64\n",
       "vin                    float64\n",
       "websiteIDs             float64\n",
       "weight                  object\n",
       "Unnamed: 48            float64\n",
       "Unnamed: 49            float64\n",
       "Unnamed: 50            float64\n",
       "Unnamed: 51             object\n",
       "dtype: object"
      ]
     },
     "execution_count": 53,
     "metadata": {},
     "output_type": "execute_result"
    }
   ],
   "source": [
    "df_cpy.loc[:, df_cpy.isna().any(axis=0)].dtypes"
   ]
  },
  {
   "cell_type": "markdown",
   "metadata": {},
   "source": [
    "Check all the columns that the entire rows are null"
   ]
  },
  {
   "cell_type": "code",
   "execution_count": 54,
   "metadata": {},
   "outputs": [
    {
     "data": {
      "text/plain": [
       "Index(['count', 'flavors', 'isbn', 'prices.count', 'prices.flavor',\n",
       "       'prices.source', 'prices.warranty', 'vin', 'websiteIDs', 'Unnamed: 48',\n",
       "       'Unnamed: 49', 'Unnamed: 50'],\n",
       "      dtype='object')"
      ]
     },
     "execution_count": 54,
     "metadata": {},
     "output_type": "execute_result"
    }
   ],
   "source": [
    "# get the columns that have all null values\n",
    "(nulled_col := df_cpy.columns[df_cpy.isnull().all(axis=0)])"
   ]
  },
  {
   "cell_type": "markdown",
   "metadata": {},
   "source": [
    "Remove the columns that the entire rows are null"
   ]
  },
  {
   "cell_type": "code",
   "execution_count": 55,
   "metadata": {},
   "outputs": [
    {
     "data": {
      "text/plain": [
       "Index(['id', 'asins', 'brand', 'categories', 'colors', 'dateAdded',\n",
       "       'dateUpdated', 'descriptions', 'dimension', 'ean', 'features',\n",
       "       'imageURLs', 'keys', 'manufacturer', 'manufacturerNumber', 'merchants',\n",
       "       'name', 'prices.amountMin', 'prices.amountMax', 'prices.availability',\n",
       "       'prices.color', 'prices.condition', 'prices.currency',\n",
       "       'prices.dateAdded', 'prices.dateSeen', 'prices.isSale',\n",
       "       'prices.merchant', 'prices.offer', 'prices.returnPolicy',\n",
       "       'prices.shipping', 'prices.size', 'prices.sourceURLs', 'quantities',\n",
       "       'reviews', 'sizes', 'skus', 'sourceURLs', 'upc', 'weight',\n",
       "       'Unnamed: 51'],\n",
       "      dtype='object')"
      ]
     },
     "execution_count": 55,
     "metadata": {},
     "output_type": "execute_result"
    }
   ],
   "source": [
    "# drop the null columns\n",
    "df_cpy.drop(nulled_col, axis=1, inplace=True)\n",
    "df_cpy.columns"
   ]
  },
  {
   "cell_type": "markdown",
   "metadata": {},
   "source": [
    "The <code>quantities</code> and <code>skus</code> column consists of json formatted strings, therefore we should get the 'value' key"
   ]
  },
  {
   "cell_type": "code",
   "execution_count": 56,
   "metadata": {},
   "outputs": [],
   "source": [
    "# parse the json string to a python dictionary if it's not NaN\n",
    "data_qty = df_cpy['quantities'].map(lambda x: json.loads(x) if pd.notnull(x) else x)\n",
    "\n",
    "for i, v in data_qty.items():\n",
    "    try:\n",
    "        if len(v) > 1:\n",
    "            # get the max value of the list\n",
    "            v = max(v, key=lambda x: x['value'])['value']\n",
    "        else:\n",
    "            v = v[0]['value']\n",
    "            \n",
    "        # set the max value to the column\n",
    "        df_cpy.loc[i, 'quantities'] = v\n",
    "    except TypeError:\n",
    "        df_cpy.loc[i, 'quantities'] = np.nan\n",
    "\n",
    "\n",
    "# set the column to float\n",
    "df_cpy['quantities'] = df_cpy['quantities'].astype(float)\n",
    "\n",
    "\n",
    "def d(x):\n",
    "    if pd.notnull(x):\n",
    "        try:\n",
    "            return json.loads(x)\n",
    "        except json.JSONDecodeError:\n",
    "            return x\n",
    "    else:\n",
    "        return x\n",
    "    \n",
    "data_rev = df_cpy['reviews'].map(d)\n",
    "\n",
    "for i, v in data_rev.items():\n",
    "    try:\n",
    "        if len(v) > 1:\n",
    "            # get the sum rating of the list\n",
    "            v = sum([x['rating'] for x in v]) / len(v)\n",
    "        else:\n",
    "            v = v[0]['rating']\n",
    "            \n",
    "        # set the max value to the column\n",
    "        df_cpy.loc[i, 'reviews'] = v\n",
    "    except Exception as e:\n",
    "        df_cpy.loc[i, 'reviews'] = np.nan\n",
    "\n",
    "\n",
    "# set the column to float\n",
    "df_cpy['reviews'] = df_cpy['reviews'].astype(float)\n"
   ]
  },
  {
   "cell_type": "markdown",
   "metadata": {},
   "source": [
    "Get all the data numerical data types that has missing values"
   ]
  },
  {
   "cell_type": "code",
   "execution_count": 57,
   "metadata": {},
   "outputs": [
    {
     "data": {
      "text/plain": [
       "Index(['ean', 'quantities', 'reviews', 'upc'], dtype='object')"
      ]
     },
     "execution_count": 57,
     "metadata": {},
     "output_type": "execute_result"
    }
   ],
   "source": [
    "(nulled_num := df_cpy.loc[:, df_cpy.isna().any(axis=0)].select_dtypes(include=['float64', 'int64']).columns)"
   ]
  },
  {
   "cell_type": "markdown",
   "metadata": {},
   "source": [
    "Handle all the missing data for numerical values by using the mean"
   ]
  },
  {
   "cell_type": "code",
   "execution_count": 58,
   "metadata": {},
   "outputs": [
    {
     "data": {
      "text/plain": [
       "ean           0\n",
       "quantities    0\n",
       "reviews       0\n",
       "upc           0\n",
       "dtype: int64"
      ]
     },
     "execution_count": 58,
     "metadata": {},
     "output_type": "execute_result"
    }
   ],
   "source": [
    "df_cpy[nulled_num] = df_cpy[nulled_num].fillna(df_cpy[nulled_num].mean())\n",
    "df_cpy[nulled_num].isna().sum() # check"
   ]
  },
  {
   "cell_type": "markdown",
   "metadata": {},
   "source": [
    "Check all the columns that was 50% of its data are missing"
   ]
  },
  {
   "cell_type": "code",
   "execution_count": 59,
   "metadata": {},
   "outputs": [
    {
     "data": {
      "text/plain": [
       "Index(['asins', 'dimension', 'manufacturer', 'merchants',\n",
       "       'prices.availability', 'prices.condition', 'prices.offer',\n",
       "       'prices.returnPolicy', 'prices.shipping', 'prices.size', 'sizes',\n",
       "       'weight', 'Unnamed: 51'],\n",
       "      dtype='object')"
      ]
     },
     "execution_count": 59,
     "metadata": {},
     "output_type": "execute_result"
    }
   ],
   "source": [
    "# Check all the columns that was 50% of its data are missing\n",
    "(nulled_50 := \n",
    " df_cpy.loc[\n",
    "     :, \n",
    "     df_cpy.drop(\n",
    "        df_cpy.dropna(\n",
    "            axis=1, \n",
    "            thresh=df.shape[0] * 0.50, \n",
    "            inplace=False), \n",
    "        axis=1)\n",
    "        .columns].columns)\n"
   ]
  },
  {
   "cell_type": "markdown",
   "metadata": {},
   "source": [
    "Remove all the nulled columns and nulled 50% columns"
   ]
  },
  {
   "cell_type": "code",
   "execution_count": 60,
   "metadata": {},
   "outputs": [
    {
     "data": {
      "text/plain": [
       "Index(['id', 'brand', 'categories', 'colors', 'dateAdded', 'dateUpdated',\n",
       "       'descriptions', 'ean', 'features', 'imageURLs', 'keys',\n",
       "       'manufacturerNumber', 'name', 'prices.amountMin', 'prices.amountMax',\n",
       "       'prices.color', 'prices.currency', 'prices.dateAdded',\n",
       "       'prices.dateSeen', 'prices.isSale', 'prices.merchant',\n",
       "       'prices.sourceURLs', 'quantities', 'reviews', 'skus', 'sourceURLs',\n",
       "       'upc'],\n",
       "      dtype='object')"
      ]
     },
     "execution_count": 60,
     "metadata": {},
     "output_type": "execute_result"
    }
   ],
   "source": [
    "df_cpy.drop(nulled_50, axis=1, inplace=True)\n",
    "df_cpy.columns"
   ]
  },
  {
   "cell_type": "markdown",
   "metadata": {},
   "source": [
    "Check the nulls"
   ]
  },
  {
   "cell_type": "code",
   "execution_count": 61,
   "metadata": {},
   "outputs": [
    {
     "data": {
      "text/plain": [
       "id                        0\n",
       "brand                   984\n",
       "categories                0\n",
       "colors                13957\n",
       "dateAdded                 0\n",
       "dateUpdated               0\n",
       "descriptions           5376\n",
       "ean                       0\n",
       "features               6620\n",
       "imageURLs             11492\n",
       "keys                      0\n",
       "manufacturerNumber     2367\n",
       "name                      0\n",
       "prices.amountMin          0\n",
       "prices.amountMax          0\n",
       "prices.color          16380\n",
       "prices.currency           0\n",
       "prices.dateAdded          0\n",
       "prices.dateSeen           0\n",
       "prices.isSale             0\n",
       "prices.merchant        3875\n",
       "prices.sourceURLs         0\n",
       "quantities                0\n",
       "reviews                   0\n",
       "skus                  11666\n",
       "sourceURLs                0\n",
       "upc                       0\n",
       "dtype: int64"
      ]
     },
     "execution_count": 61,
     "metadata": {},
     "output_type": "execute_result"
    }
   ],
   "source": [
    "df_cpy.isna().sum()"
   ]
  },
  {
   "cell_type": "markdown",
   "metadata": {},
   "source": [
    "The most important columns are the <code>brand</code>, <code>colors / prices.color</code>, <code>features</code>, and <code>description</code> so clean the rows that does not have values in this columns"
   ]
  },
  {
   "cell_type": "code",
   "execution_count": 62,
   "metadata": {},
   "outputs": [
    {
     "name": "stdout",
     "output_type": "stream",
     "text": [
      "Index(['id', 'brand', 'categories', 'colors', 'dateAdded', 'dateUpdated',\n",
      "       'descriptions', 'ean', 'features', 'imageURLs', 'keys',\n",
      "       'manufacturerNumber', 'name', 'prices.amountMin', 'prices.amountMax',\n",
      "       'prices.color', 'prices.currency', 'prices.dateAdded',\n",
      "       'prices.dateSeen', 'prices.isSale', 'prices.merchant',\n",
      "       'prices.sourceURLs', 'quantities', 'reviews', 'skus', 'sourceURLs',\n",
      "       'upc'],\n",
      "      dtype='object')\n"
     ]
    }
   ],
   "source": [
    "# clean the rows that does not have values in columns colors, features and descriptions\n",
    "prev_shape = df_cpy.shape[0]\n",
    "df_cpy.dropna(subset=['features', 'descriptions', 'brand'], inplace=True)\n",
    "print(df_cpy.columns)"
   ]
  },
  {
   "cell_type": "markdown",
   "metadata": {},
   "source": [
    "Special case for <code>colors</code> and <code>prices.color</code>"
   ]
  },
  {
   "cell_type": "code",
   "execution_count": 63,
   "metadata": {},
   "outputs": [
    {
     "name": "stdout",
     "output_type": "stream",
     "text": [
      "25.88% of the rows were dropped\n",
      "Index(['id', 'brand', 'categories', 'colors', 'dateAdded', 'dateUpdated',\n",
      "       'descriptions', 'ean', 'features', 'imageURLs', 'keys',\n",
      "       'manufacturerNumber', 'name', 'prices.amountMin', 'prices.amountMax',\n",
      "       'prices.currency', 'prices.dateAdded', 'prices.dateSeen',\n",
      "       'prices.isSale', 'prices.merchant', 'prices.sourceURLs', 'quantities',\n",
      "       'reviews', 'skus', 'sourceURLs', 'upc'],\n",
      "      dtype='object')\n"
     ]
    }
   ],
   "source": [
    "#combine the colors and prices.color\n",
    "\n",
    "df_cpy['colors'] = df_cpy['colors'].fillna(df_cpy['prices.color'])\n",
    "\n",
    "# drop the prices.color column\n",
    "df_cpy.drop('prices.color', axis=1, inplace=True)\n",
    "\n",
    "# drop the nulls on colors\n",
    "\n",
    "\n",
    "print(f'{((prev_shape - df_cpy.shape[0]) / prev_shape)*100:.2f}% of the rows were dropped') \n",
    "print(df_cpy.columns)"
   ]
  },
  {
   "cell_type": "markdown",
   "metadata": {},
   "source": [
    "Remove the colors missing values"
   ]
  },
  {
   "cell_type": "code",
   "execution_count": 64,
   "metadata": {},
   "outputs": [],
   "source": [
    "# remove colors rows with missing values\n",
    "df_cpy.dropna(subset=['colors'], inplace=True)\n"
   ]
  },
  {
   "cell_type": "code",
   "execution_count": 65,
   "metadata": {},
   "outputs": [
    {
     "data": {
      "text/plain": [
       "id                       0\n",
       "brand                    0\n",
       "categories               0\n",
       "colors                   0\n",
       "dateAdded                0\n",
       "dateUpdated              0\n",
       "descriptions             0\n",
       "ean                      0\n",
       "features                 0\n",
       "imageURLs             7068\n",
       "keys                     0\n",
       "manufacturerNumber     906\n",
       "name                     0\n",
       "prices.amountMin         0\n",
       "prices.amountMax         0\n",
       "prices.currency          0\n",
       "prices.dateAdded         0\n",
       "prices.dateSeen          0\n",
       "prices.isSale            0\n",
       "prices.merchant       1252\n",
       "prices.sourceURLs        0\n",
       "quantities               0\n",
       "reviews                  0\n",
       "skus                  4632\n",
       "sourceURLs               0\n",
       "upc                      0\n",
       "dtype: int64"
      ]
     },
     "execution_count": 65,
     "metadata": {},
     "output_type": "execute_result"
    }
   ],
   "source": [
    "df_cpy.isna().sum()"
   ]
  },
  {
   "cell_type": "markdown",
   "metadata": {},
   "source": [
    "Remove the remaining columns that has missing values"
   ]
  },
  {
   "cell_type": "code",
   "execution_count": 66,
   "metadata": {},
   "outputs": [
    {
     "data": {
      "text/plain": [
       "id                   0\n",
       "brand                0\n",
       "categories           0\n",
       "colors               0\n",
       "dateAdded            0\n",
       "dateUpdated          0\n",
       "descriptions         0\n",
       "ean                  0\n",
       "features             0\n",
       "keys                 0\n",
       "name                 0\n",
       "prices.amountMin     0\n",
       "prices.amountMax     0\n",
       "prices.currency      0\n",
       "prices.dateAdded     0\n",
       "prices.dateSeen      0\n",
       "prices.isSale        0\n",
       "prices.sourceURLs    0\n",
       "quantities           0\n",
       "reviews              0\n",
       "sourceURLs           0\n",
       "upc                  0\n",
       "dtype: int64"
      ]
     },
     "execution_count": 66,
     "metadata": {},
     "output_type": "execute_result"
    }
   ],
   "source": [
    "df_cpy.dropna(axis=1, inplace=True)\n",
    "df_cpy.isna().sum()"
   ]
  },
  {
   "cell_type": "markdown",
   "metadata": {},
   "source": [
    "Converts the date into epoch"
   ]
  },
  {
   "cell_type": "code",
   "execution_count": 67,
   "metadata": {},
   "outputs": [],
   "source": [
    "#convert date to epoch\n",
    "for feature in  ['dateAdded', 'dateUpdated', 'prices.dateAdded', 'prices.dateSeen']:\n",
    "    df_cpy[feature] = pd.to_datetime(df_cpy[feature], errors='coerce')\n",
    "    \n",
    "    \n",
    "    # if the value is not NaN, convert to epoch using lambda\n",
    "    df_cpy[feature] = df_cpy[feature].map(lambda x: x if pd.isnull(x) else int(x.toordinal()))\n",
    "\n"
   ]
  },
  {
   "cell_type": "markdown",
   "metadata": {},
   "source": [
    "Change the price currency into PHP"
   ]
  },
  {
   "cell_type": "code",
   "execution_count": 68,
   "metadata": {},
   "outputs": [],
   "source": [
    "curs = {}\n",
    "# get all the currency\n",
    "for x in df_cpy['prices.currency'].unique():\n",
    "    curs[x] = CurrencyConverter().convert(1, x, 'PHP')\n",
    "\n",
    "# convert all the prices to PHP  \n",
    "for x in curs.keys():\n",
    "    df_cpy.loc[df_cpy['prices.currency'] == x, 'prices.amountMax'] = df_cpy.loc[df_cpy['prices.currency'] == x, 'prices.amountMax'].map(lambda y: y * curs[x])  \n",
    "    df_cpy.loc[df_cpy['prices.currency'] == x, 'prices.amountMin'] = df_cpy.loc[df_cpy['prices.currency'] == x, 'prices.amountMin'].map(lambda y: y * curs[x])\n",
    "\n",
    "# drop the prices.currency column (as all values will be converted to PHP)\n",
    "df_cpy.drop('prices.currency', axis=1, inplace=True)\n"
   ]
  },
  {
   "cell_type": "code",
   "execution_count": 69,
   "metadata": {},
   "outputs": [],
   "source": [
    "df_cpy['prices.amount'] = df_cpy[['prices.amountMax', 'prices.amountMin']].mean(axis=1)"
   ]
  },
  {
   "cell_type": "code",
   "execution_count": 70,
   "metadata": {},
   "outputs": [],
   "source": [
    "df_cpy['colors'] = df_cpy['colors'].map(lambda x: x.lower())\n",
    "\n",
    "for i, v in df_cpy['colors'].items():\n",
    "    # non color values\n",
    "    if 'women' in v:\n",
    "        # remove the row\n",
    "        df_cpy.drop(i, inplace=True)"
   ]
  },
  {
   "cell_type": "code",
   "execution_count": 71,
   "metadata": {},
   "outputs": [
    {
     "data": {
      "text/plain": [
       "array(['purple', 'multicolor,multi', 'silver', ...,\n",
       "       'beige,black,blue,grey,red', 'black,green,red', 'black,red,yellow'],\n",
       "      dtype=object)"
      ]
     },
     "execution_count": 71,
     "metadata": {},
     "output_type": "execute_result"
    }
   ],
   "source": [
    "df_cpy['colors'].unique()"
   ]
  },
  {
   "cell_type": "markdown",
   "metadata": {},
   "source": [
    "Normalize data"
   ]
  },
  {
   "cell_type": "code",
   "execution_count": 72,
   "metadata": {},
   "outputs": [
    {
     "data": {
      "text/html": [
       "<div>\n",
       "<style scoped>\n",
       "    .dataframe tbody tr th:only-of-type {\n",
       "        vertical-align: middle;\n",
       "    }\n",
       "\n",
       "    .dataframe tbody tr th {\n",
       "        vertical-align: top;\n",
       "    }\n",
       "\n",
       "    .dataframe thead th {\n",
       "        text-align: right;\n",
       "    }\n",
       "</style>\n",
       "<table border=\"1\" class=\"dataframe\">\n",
       "  <thead>\n",
       "    <tr style=\"text-align: right;\">\n",
       "      <th></th>\n",
       "      <th>dateAdded</th>\n",
       "      <th>dateUpdated</th>\n",
       "      <th>ean</th>\n",
       "      <th>prices.amountMin</th>\n",
       "      <th>prices.amountMax</th>\n",
       "      <th>prices.dateAdded</th>\n",
       "      <th>quantities</th>\n",
       "      <th>reviews</th>\n",
       "      <th>upc</th>\n",
       "      <th>prices.amount</th>\n",
       "      <th>...</th>\n",
       "      <th>categories</th>\n",
       "      <th>colors</th>\n",
       "      <th>descriptions</th>\n",
       "      <th>features</th>\n",
       "      <th>keys</th>\n",
       "      <th>name</th>\n",
       "      <th>prices.dateSeen</th>\n",
       "      <th>prices.isSale</th>\n",
       "      <th>prices.sourceURLs</th>\n",
       "      <th>sourceURLs</th>\n",
       "    </tr>\n",
       "  </thead>\n",
       "  <tbody>\n",
       "    <tr>\n",
       "      <th>0</th>\n",
       "      <td>0.999928</td>\n",
       "      <td>0.999978</td>\n",
       "      <td>0.079394</td>\n",
       "      <td>0.063307</td>\n",
       "      <td>0.063307</td>\n",
       "      <td>0.999978</td>\n",
       "      <td>0.15</td>\n",
       "      <td>1.0</td>\n",
       "      <td>0.747789</td>\n",
       "      <td>0.063307</td>\n",
       "      <td>...</td>\n",
       "      <td>Access.,Clothing,Shoes,Women's Clothing</td>\n",
       "      <td>purple</td>\n",
       "      <td>[{\"dateSeen\":[\"2017-03-26T05:04:46.539Z\",\"2017...</td>\n",
       "      <td>[{\"key\":\"Pattern\",\"value\":[\"Solid\"]},{\"key\":\"W...</td>\n",
       "      <td>handcraftedalpacablendpurplecharismasweaterper...</td>\n",
       "      <td>Handcrafted Alpaca Blend 'Purple Charisma' Swe...</td>\n",
       "      <td>736414</td>\n",
       "      <td>False</td>\n",
       "      <td>https://www.overstock.com/Worldstock-Fair-Trad...</td>\n",
       "      <td>https://www.overstock.com/Worldstock-Fair-Trad...</td>\n",
       "    </tr>\n",
       "    <tr>\n",
       "      <th>1</th>\n",
       "      <td>0.999928</td>\n",
       "      <td>0.999978</td>\n",
       "      <td>0.079394</td>\n",
       "      <td>0.063307</td>\n",
       "      <td>0.063307</td>\n",
       "      <td>0.999978</td>\n",
       "      <td>0.15</td>\n",
       "      <td>1.0</td>\n",
       "      <td>0.747789</td>\n",
       "      <td>0.063307</td>\n",
       "      <td>...</td>\n",
       "      <td>Access.,Clothing,Shoes,Women's Clothing</td>\n",
       "      <td>purple</td>\n",
       "      <td>[{\"dateSeen\":[\"2017-03-26T05:04:46.539Z\",\"2017...</td>\n",
       "      <td>[{\"key\":\"Pattern\",\"value\":[\"Solid\"]},{\"key\":\"W...</td>\n",
       "      <td>handcraftedalpacablendpurplecharismasweaterper...</td>\n",
       "      <td>Handcrafted Alpaca Blend 'Purple Charisma' Swe...</td>\n",
       "      <td>736414</td>\n",
       "      <td>False</td>\n",
       "      <td>https://www.overstock.com/Worldstock-Fair-Trad...</td>\n",
       "      <td>https://www.overstock.com/Worldstock-Fair-Trad...</td>\n",
       "    </tr>\n",
       "    <tr>\n",
       "      <th>2</th>\n",
       "      <td>0.999928</td>\n",
       "      <td>0.999978</td>\n",
       "      <td>0.079394</td>\n",
       "      <td>0.063307</td>\n",
       "      <td>0.063307</td>\n",
       "      <td>0.999978</td>\n",
       "      <td>0.15</td>\n",
       "      <td>1.0</td>\n",
       "      <td>0.747789</td>\n",
       "      <td>0.063307</td>\n",
       "      <td>...</td>\n",
       "      <td>Access.,Clothing,Shoes,Women's Clothing</td>\n",
       "      <td>purple</td>\n",
       "      <td>[{\"dateSeen\":[\"2017-03-26T05:04:46.539Z\",\"2017...</td>\n",
       "      <td>[{\"key\":\"Pattern\",\"value\":[\"Solid\"]},{\"key\":\"W...</td>\n",
       "      <td>handcraftedalpacablendpurplecharismasweaterper...</td>\n",
       "      <td>Handcrafted Alpaca Blend 'Purple Charisma' Swe...</td>\n",
       "      <td>736414</td>\n",
       "      <td>False</td>\n",
       "      <td>https://www.overstock.com/Worldstock-Fair-Trad...</td>\n",
       "      <td>https://www.overstock.com/Worldstock-Fair-Trad...</td>\n",
       "    </tr>\n",
       "    <tr>\n",
       "      <th>3</th>\n",
       "      <td>0.999928</td>\n",
       "      <td>0.999978</td>\n",
       "      <td>0.079394</td>\n",
       "      <td>0.063307</td>\n",
       "      <td>0.063307</td>\n",
       "      <td>0.999978</td>\n",
       "      <td>0.15</td>\n",
       "      <td>1.0</td>\n",
       "      <td>0.747789</td>\n",
       "      <td>0.063307</td>\n",
       "      <td>...</td>\n",
       "      <td>Access.,Clothing,Shoes,Women's Clothing</td>\n",
       "      <td>purple</td>\n",
       "      <td>[{\"dateSeen\":[\"2017-03-26T05:04:46.539Z\",\"2017...</td>\n",
       "      <td>[{\"key\":\"Pattern\",\"value\":[\"Solid\"]},{\"key\":\"W...</td>\n",
       "      <td>handcraftedalpacablendpurplecharismasweaterper...</td>\n",
       "      <td>Handcrafted Alpaca Blend 'Purple Charisma' Swe...</td>\n",
       "      <td>736414</td>\n",
       "      <td>False</td>\n",
       "      <td>https://www.overstock.com/Worldstock-Fair-Trad...</td>\n",
       "      <td>https://www.overstock.com/Worldstock-Fair-Trad...</td>\n",
       "    </tr>\n",
       "    <tr>\n",
       "      <th>4</th>\n",
       "      <td>0.999928</td>\n",
       "      <td>0.999978</td>\n",
       "      <td>0.079394</td>\n",
       "      <td>0.063307</td>\n",
       "      <td>0.063307</td>\n",
       "      <td>0.999943</td>\n",
       "      <td>0.15</td>\n",
       "      <td>1.0</td>\n",
       "      <td>0.747789</td>\n",
       "      <td>0.063307</td>\n",
       "      <td>...</td>\n",
       "      <td>Access.,Clothing,Shoes,Women's Clothing</td>\n",
       "      <td>purple</td>\n",
       "      <td>[{\"dateSeen\":[\"2017-03-26T05:04:46.539Z\",\"2017...</td>\n",
       "      <td>[{\"key\":\"Pattern\",\"value\":[\"Solid\"]},{\"key\":\"W...</td>\n",
       "      <td>handcraftedalpacablendpurplecharismasweaterper...</td>\n",
       "      <td>Handcrafted Alpaca Blend 'Purple Charisma' Swe...</td>\n",
       "      <td>736368</td>\n",
       "      <td>True</td>\n",
       "      <td>https://www.overstock.com/Worldstock-Fair-Trad...</td>\n",
       "      <td>https://www.overstock.com/Worldstock-Fair-Trad...</td>\n",
       "    </tr>\n",
       "  </tbody>\n",
       "</table>\n",
       "<p>5 rows × 22 columns</p>\n",
       "</div>"
      ],
      "text/plain": [
       "   dateAdded  dateUpdated       ean  prices.amountMin  prices.amountMax  \\\n",
       "0   0.999928     0.999978  0.079394          0.063307          0.063307   \n",
       "1   0.999928     0.999978  0.079394          0.063307          0.063307   \n",
       "2   0.999928     0.999978  0.079394          0.063307          0.063307   \n",
       "3   0.999928     0.999978  0.079394          0.063307          0.063307   \n",
       "4   0.999928     0.999978  0.079394          0.063307          0.063307   \n",
       "\n",
       "   prices.dateAdded  quantities  reviews       upc  prices.amount  ...  \\\n",
       "0          0.999978        0.15      1.0  0.747789       0.063307  ...   \n",
       "1          0.999978        0.15      1.0  0.747789       0.063307  ...   \n",
       "2          0.999978        0.15      1.0  0.747789       0.063307  ...   \n",
       "3          0.999978        0.15      1.0  0.747789       0.063307  ...   \n",
       "4          0.999943        0.15      1.0  0.747789       0.063307  ...   \n",
       "\n",
       "                                categories  colors  \\\n",
       "0  Access.,Clothing,Shoes,Women's Clothing  purple   \n",
       "1  Access.,Clothing,Shoes,Women's Clothing  purple   \n",
       "2  Access.,Clothing,Shoes,Women's Clothing  purple   \n",
       "3  Access.,Clothing,Shoes,Women's Clothing  purple   \n",
       "4  Access.,Clothing,Shoes,Women's Clothing  purple   \n",
       "\n",
       "                                        descriptions  \\\n",
       "0  [{\"dateSeen\":[\"2017-03-26T05:04:46.539Z\",\"2017...   \n",
       "1  [{\"dateSeen\":[\"2017-03-26T05:04:46.539Z\",\"2017...   \n",
       "2  [{\"dateSeen\":[\"2017-03-26T05:04:46.539Z\",\"2017...   \n",
       "3  [{\"dateSeen\":[\"2017-03-26T05:04:46.539Z\",\"2017...   \n",
       "4  [{\"dateSeen\":[\"2017-03-26T05:04:46.539Z\",\"2017...   \n",
       "\n",
       "                                            features  \\\n",
       "0  [{\"key\":\"Pattern\",\"value\":[\"Solid\"]},{\"key\":\"W...   \n",
       "1  [{\"key\":\"Pattern\",\"value\":[\"Solid\"]},{\"key\":\"W...   \n",
       "2  [{\"key\":\"Pattern\",\"value\":[\"Solid\"]},{\"key\":\"W...   \n",
       "3  [{\"key\":\"Pattern\",\"value\":[\"Solid\"]},{\"key\":\"W...   \n",
       "4  [{\"key\":\"Pattern\",\"value\":[\"Solid\"]},{\"key\":\"W...   \n",
       "\n",
       "                                                keys  \\\n",
       "0  handcraftedalpacablendpurplecharismasweaterper...   \n",
       "1  handcraftedalpacablendpurplecharismasweaterper...   \n",
       "2  handcraftedalpacablendpurplecharismasweaterper...   \n",
       "3  handcraftedalpacablendpurplecharismasweaterper...   \n",
       "4  handcraftedalpacablendpurplecharismasweaterper...   \n",
       "\n",
       "                                                name prices.dateSeen  \\\n",
       "0  Handcrafted Alpaca Blend 'Purple Charisma' Swe...          736414   \n",
       "1  Handcrafted Alpaca Blend 'Purple Charisma' Swe...          736414   \n",
       "2  Handcrafted Alpaca Blend 'Purple Charisma' Swe...          736414   \n",
       "3  Handcrafted Alpaca Blend 'Purple Charisma' Swe...          736414   \n",
       "4  Handcrafted Alpaca Blend 'Purple Charisma' Swe...          736368   \n",
       "\n",
       "  prices.isSale                                  prices.sourceURLs  \\\n",
       "0         False  https://www.overstock.com/Worldstock-Fair-Trad...   \n",
       "1         False  https://www.overstock.com/Worldstock-Fair-Trad...   \n",
       "2         False  https://www.overstock.com/Worldstock-Fair-Trad...   \n",
       "3         False  https://www.overstock.com/Worldstock-Fair-Trad...   \n",
       "4          True  https://www.overstock.com/Worldstock-Fair-Trad...   \n",
       "\n",
       "                                          sourceURLs  \n",
       "0  https://www.overstock.com/Worldstock-Fair-Trad...  \n",
       "1  https://www.overstock.com/Worldstock-Fair-Trad...  \n",
       "2  https://www.overstock.com/Worldstock-Fair-Trad...  \n",
       "3  https://www.overstock.com/Worldstock-Fair-Trad...  \n",
       "4  https://www.overstock.com/Worldstock-Fair-Trad...  \n",
       "\n",
       "[5 rows x 22 columns]"
      ]
     },
     "execution_count": 72,
     "metadata": {},
     "output_type": "execute_result"
    }
   ],
   "source": [
    "# normalize the data numerical only\n",
    "df_cpy_norm = df_cpy.select_dtypes(include=['float64', 'int64']).apply(lambda x: x  / x.max())\n",
    "df_cpy_norm = pd.concat([df_cpy_norm, df_cpy.select_dtypes(exclude=['float64', 'int64'])], axis=1)\n",
    "df_cpy_norm.head()"
   ]
  },
  {
   "cell_type": "markdown",
   "metadata": {},
   "source": [
    "<h2>Correlation</h2>"
   ]
  },
  {
   "cell_type": "markdown",
   "metadata": {},
   "source": []
  },
  {
   "cell_type": "code",
   "execution_count": 103,
   "metadata": {},
   "outputs": [
    {
     "data": {
      "text/html": [
       "<div>\n",
       "<style scoped>\n",
       "    .dataframe tbody tr th:only-of-type {\n",
       "        vertical-align: middle;\n",
       "    }\n",
       "\n",
       "    .dataframe tbody tr th {\n",
       "        vertical-align: top;\n",
       "    }\n",
       "\n",
       "    .dataframe thead th {\n",
       "        text-align: right;\n",
       "    }\n",
       "</style>\n",
       "<table border=\"1\" class=\"dataframe\">\n",
       "  <thead>\n",
       "    <tr style=\"text-align: right;\">\n",
       "      <th></th>\n",
       "      <th>dateAdded</th>\n",
       "      <th>dateUpdated</th>\n",
       "      <th>ean</th>\n",
       "      <th>prices.amountMin</th>\n",
       "      <th>prices.amountMax</th>\n",
       "      <th>prices.dateAdded</th>\n",
       "      <th>quantities</th>\n",
       "      <th>reviews</th>\n",
       "      <th>upc</th>\n",
       "      <th>prices.amount</th>\n",
       "      <th>prices.isSale</th>\n",
       "    </tr>\n",
       "  </thead>\n",
       "  <tbody>\n",
       "    <tr>\n",
       "      <th>dateAdded</th>\n",
       "      <td>1.000000</td>\n",
       "      <td>-0.053180</td>\n",
       "      <td>-0.037017</td>\n",
       "      <td>0.013990</td>\n",
       "      <td>0.005852</td>\n",
       "      <td>0.285814</td>\n",
       "      <td>-0.147728</td>\n",
       "      <td>0.024012</td>\n",
       "      <td>-0.031892</td>\n",
       "      <td>0.009923</td>\n",
       "      <td>0.073652</td>\n",
       "    </tr>\n",
       "    <tr>\n",
       "      <th>dateUpdated</th>\n",
       "      <td>-0.053180</td>\n",
       "      <td>1.000000</td>\n",
       "      <td>-0.047874</td>\n",
       "      <td>0.015150</td>\n",
       "      <td>0.015927</td>\n",
       "      <td>0.405946</td>\n",
       "      <td>-0.104826</td>\n",
       "      <td>0.001465</td>\n",
       "      <td>-0.058916</td>\n",
       "      <td>0.015561</td>\n",
       "      <td>-0.389313</td>\n",
       "    </tr>\n",
       "    <tr>\n",
       "      <th>ean</th>\n",
       "      <td>-0.037017</td>\n",
       "      <td>-0.047874</td>\n",
       "      <td>1.000000</td>\n",
       "      <td>0.079633</td>\n",
       "      <td>0.079676</td>\n",
       "      <td>-0.025708</td>\n",
       "      <td>0.016186</td>\n",
       "      <td>0.014455</td>\n",
       "      <td>0.843966</td>\n",
       "      <td>0.079765</td>\n",
       "      <td>0.007241</td>\n",
       "    </tr>\n",
       "    <tr>\n",
       "      <th>prices.amountMin</th>\n",
       "      <td>0.013990</td>\n",
       "      <td>0.015150</td>\n",
       "      <td>0.079633</td>\n",
       "      <td>1.000000</td>\n",
       "      <td>0.994469</td>\n",
       "      <td>-0.011669</td>\n",
       "      <td>0.005556</td>\n",
       "      <td>-0.006538</td>\n",
       "      <td>0.083156</td>\n",
       "      <td>0.998608</td>\n",
       "      <td>-0.152795</td>\n",
       "    </tr>\n",
       "    <tr>\n",
       "      <th>prices.amountMax</th>\n",
       "      <td>0.005852</td>\n",
       "      <td>0.015927</td>\n",
       "      <td>0.079676</td>\n",
       "      <td>0.994469</td>\n",
       "      <td>1.000000</td>\n",
       "      <td>-0.026360</td>\n",
       "      <td>0.007201</td>\n",
       "      <td>-0.005902</td>\n",
       "      <td>0.083119</td>\n",
       "      <td>0.998624</td>\n",
       "      <td>-0.153160</td>\n",
       "    </tr>\n",
       "    <tr>\n",
       "      <th>prices.dateAdded</th>\n",
       "      <td>0.285814</td>\n",
       "      <td>0.405946</td>\n",
       "      <td>-0.025708</td>\n",
       "      <td>-0.011669</td>\n",
       "      <td>-0.026360</td>\n",
       "      <td>1.000000</td>\n",
       "      <td>-0.002679</td>\n",
       "      <td>-0.007519</td>\n",
       "      <td>-0.027141</td>\n",
       "      <td>-0.019062</td>\n",
       "      <td>-0.196035</td>\n",
       "    </tr>\n",
       "    <tr>\n",
       "      <th>quantities</th>\n",
       "      <td>-0.147728</td>\n",
       "      <td>-0.104826</td>\n",
       "      <td>0.016186</td>\n",
       "      <td>0.005556</td>\n",
       "      <td>0.007201</td>\n",
       "      <td>-0.002679</td>\n",
       "      <td>1.000000</td>\n",
       "      <td>-0.019580</td>\n",
       "      <td>0.020680</td>\n",
       "      <td>0.006390</td>\n",
       "      <td>0.032594</td>\n",
       "    </tr>\n",
       "    <tr>\n",
       "      <th>reviews</th>\n",
       "      <td>0.024012</td>\n",
       "      <td>0.001465</td>\n",
       "      <td>0.014455</td>\n",
       "      <td>-0.006538</td>\n",
       "      <td>-0.005902</td>\n",
       "      <td>-0.007519</td>\n",
       "      <td>-0.019580</td>\n",
       "      <td>1.000000</td>\n",
       "      <td>0.016977</td>\n",
       "      <td>-0.006227</td>\n",
       "      <td>0.015341</td>\n",
       "    </tr>\n",
       "    <tr>\n",
       "      <th>upc</th>\n",
       "      <td>-0.031892</td>\n",
       "      <td>-0.058916</td>\n",
       "      <td>0.843966</td>\n",
       "      <td>0.083156</td>\n",
       "      <td>0.083119</td>\n",
       "      <td>-0.027141</td>\n",
       "      <td>0.020680</td>\n",
       "      <td>0.016977</td>\n",
       "      <td>1.000000</td>\n",
       "      <td>0.083253</td>\n",
       "      <td>0.012145</td>\n",
       "    </tr>\n",
       "    <tr>\n",
       "      <th>prices.amount</th>\n",
       "      <td>0.009923</td>\n",
       "      <td>0.015561</td>\n",
       "      <td>0.079765</td>\n",
       "      <td>0.998608</td>\n",
       "      <td>0.998624</td>\n",
       "      <td>-0.019062</td>\n",
       "      <td>0.006390</td>\n",
       "      <td>-0.006227</td>\n",
       "      <td>0.083253</td>\n",
       "      <td>1.000000</td>\n",
       "      <td>-0.153190</td>\n",
       "    </tr>\n",
       "    <tr>\n",
       "      <th>prices.isSale</th>\n",
       "      <td>0.073652</td>\n",
       "      <td>-0.389313</td>\n",
       "      <td>0.007241</td>\n",
       "      <td>-0.152795</td>\n",
       "      <td>-0.153160</td>\n",
       "      <td>-0.196035</td>\n",
       "      <td>0.032594</td>\n",
       "      <td>0.015341</td>\n",
       "      <td>0.012145</td>\n",
       "      <td>-0.153190</td>\n",
       "      <td>1.000000</td>\n",
       "    </tr>\n",
       "  </tbody>\n",
       "</table>\n",
       "</div>"
      ],
      "text/plain": [
       "                  dateAdded  dateUpdated       ean  prices.amountMin  \\\n",
       "dateAdded          1.000000    -0.053180 -0.037017          0.013990   \n",
       "dateUpdated       -0.053180     1.000000 -0.047874          0.015150   \n",
       "ean               -0.037017    -0.047874  1.000000          0.079633   \n",
       "prices.amountMin   0.013990     0.015150  0.079633          1.000000   \n",
       "prices.amountMax   0.005852     0.015927  0.079676          0.994469   \n",
       "prices.dateAdded   0.285814     0.405946 -0.025708         -0.011669   \n",
       "quantities        -0.147728    -0.104826  0.016186          0.005556   \n",
       "reviews            0.024012     0.001465  0.014455         -0.006538   \n",
       "upc               -0.031892    -0.058916  0.843966          0.083156   \n",
       "prices.amount      0.009923     0.015561  0.079765          0.998608   \n",
       "prices.isSale      0.073652    -0.389313  0.007241         -0.152795   \n",
       "\n",
       "                  prices.amountMax  prices.dateAdded  quantities   reviews  \\\n",
       "dateAdded                 0.005852          0.285814   -0.147728  0.024012   \n",
       "dateUpdated               0.015927          0.405946   -0.104826  0.001465   \n",
       "ean                       0.079676         -0.025708    0.016186  0.014455   \n",
       "prices.amountMin          0.994469         -0.011669    0.005556 -0.006538   \n",
       "prices.amountMax          1.000000         -0.026360    0.007201 -0.005902   \n",
       "prices.dateAdded         -0.026360          1.000000   -0.002679 -0.007519   \n",
       "quantities                0.007201         -0.002679    1.000000 -0.019580   \n",
       "reviews                  -0.005902         -0.007519   -0.019580  1.000000   \n",
       "upc                       0.083119         -0.027141    0.020680  0.016977   \n",
       "prices.amount             0.998624         -0.019062    0.006390 -0.006227   \n",
       "prices.isSale            -0.153160         -0.196035    0.032594  0.015341   \n",
       "\n",
       "                       upc  prices.amount  prices.isSale  \n",
       "dateAdded        -0.031892       0.009923       0.073652  \n",
       "dateUpdated      -0.058916       0.015561      -0.389313  \n",
       "ean               0.843966       0.079765       0.007241  \n",
       "prices.amountMin  0.083156       0.998608      -0.152795  \n",
       "prices.amountMax  0.083119       0.998624      -0.153160  \n",
       "prices.dateAdded -0.027141      -0.019062      -0.196035  \n",
       "quantities        0.020680       0.006390       0.032594  \n",
       "reviews           0.016977      -0.006227       0.015341  \n",
       "upc               1.000000       0.083253       0.012145  \n",
       "prices.amount     0.083253       1.000000      -0.153190  \n",
       "prices.isSale     0.012145      -0.153190       1.000000  "
      ]
     },
     "execution_count": 103,
     "metadata": {},
     "output_type": "execute_result"
    }
   ],
   "source": [
    "df_cpy_norm.corr(numeric_only=True)"
   ]
  },
  {
   "cell_type": "code",
   "execution_count": 74,
   "metadata": {},
   "outputs": [
    {
     "data": {
      "text/plain": [
       "(0.0, 1.0499502512562815)"
      ]
     },
     "execution_count": 74,
     "metadata": {},
     "output_type": "execute_result"
    },
    {
     "data": {
      "image/png": "[encoded data removed]",
      "text/plain": [
       "<Figure size 432x288 with 1 Axes>"
      ]
     },
     "metadata": {},
     "output_type": "display_data"
    }
   ],
   "source": [
    "sns.regplot(x='prices.amountMax', y='prices.amountMin', data=df_cpy_norm)\n",
    "plt.ylim(0,)"
   ]
  },
  {
   "cell_type": "code",
   "execution_count": 75,
   "metadata": {},
   "outputs": [
    {
     "data": {
      "text/plain": [
       "(0.0, 1.0508136601976787)"
      ]
     },
     "execution_count": 75,
     "metadata": {},
     "output_type": "execute_result"
    },
    {
     "data": {
      "image/png": "[encoded data removed]",
      "text/plain": [
       "<Figure size 432x288 with 1 Axes>"
      ]
     },
     "metadata": {},
     "output_type": "display_data"
    }
   ],
   "source": [
    "sns.regplot(x='prices.amountMin', y='prices.amount', data=df_cpy_norm)\n",
    "plt.ylim(0,)"
   ]
  },
  {
   "cell_type": "code",
   "execution_count": 76,
   "metadata": {},
   "outputs": [
    {
     "data": {
      "text/plain": [
       "(0.0, 1.0499502512562815)"
      ]
     },
     "execution_count": 76,
     "metadata": {},
     "output_type": "execute_result"
    },
    {
     "data": {
      "image/png": "[encoded data removed]",
      "text/plain": [
       "<Figure size 432x288 with 1 Axes>"
      ]
     },
     "metadata": {},
     "output_type": "display_data"
    }
   ],
   "source": [
    "sns.regplot(x='prices.amountMax', y='prices.amount', data=df_cpy_norm)\n",
    "plt.ylim(0,)"
   ]
  },
  {
   "cell_type": "code",
   "execution_count": 104,
   "metadata": {},
   "outputs": [
    {
     "data": {
      "text/plain": [
       "(0.0, 58487.95545965702)"
      ]
     },
     "execution_count": 104,
     "metadata": {},
     "output_type": "execute_result"
    },
    {
     "data": {
      "image/png": "[encoded data removed]",
      "text/plain": [
       "<Figure size 432x288 with 1 Axes>"
      ]
     },
     "metadata": {},
     "output_type": "display_data"
    }
   ],
   "source": [
    "sns.regplot(x='quantities', y='prices.amount', data=df_cpy)\n",
    "plt.ylim(0,)\n"
   ]
  },
  {
   "cell_type": "code",
   "execution_count": 115,
   "metadata": {},
   "outputs": [
    {
     "ename": "UFuncTypeError",
     "evalue": "ufunc 'multiply' did not contain a loop with signature matching types (dtype('<U20'), dtype('float64')) -> None",
     "output_type": "error",
     "traceback": [
      "\u001b[1;31m---------------------------------------------------------------------------\u001b[0m",
      "\u001b[1;31mUFuncTypeError\u001b[0m                            Traceback (most recent call last)",
      "\u001b[1;32m~\\AppData\\Local\\Temp/ipykernel_27976/1196353504.py\u001b[0m in \u001b[0;36m<module>\u001b[1;34m\u001b[0m\n\u001b[1;32m----> 1\u001b[1;33m \u001b[0msns\u001b[0m\u001b[1;33m.\u001b[0m\u001b[0mregplot\u001b[0m\u001b[1;33m(\u001b[0m\u001b[0mx\u001b[0m\u001b[1;33m=\u001b[0m\u001b[1;34m'prices.dateAdded'\u001b[0m\u001b[1;33m,\u001b[0m \u001b[0my\u001b[0m\u001b[1;33m=\u001b[0m\u001b[1;34m'prices.amountMax'\u001b[0m\u001b[1;33m,\u001b[0m \u001b[0mdata\u001b[0m\u001b[1;33m=\u001b[0m\u001b[0mdf\u001b[0m\u001b[1;33m)\u001b[0m\u001b[1;33m\u001b[0m\u001b[1;33m\u001b[0m\u001b[0m\n\u001b[0m\u001b[0;32m      2\u001b[0m \u001b[0mplt\u001b[0m\u001b[1;33m.\u001b[0m\u001b[0mylim\u001b[0m\u001b[1;33m(\u001b[0m\u001b[1;36m0\u001b[0m\u001b[1;33m,\u001b[0m\u001b[1;33m)\u001b[0m\u001b[1;33m\u001b[0m\u001b[1;33m\u001b[0m\u001b[0m\n",
      "\u001b[1;32mc:\\Users\\RenzCute\\AppData\\Local\\Programs\\Python\\Python310\\lib\\site-packages\\seaborn\\regression.py\u001b[0m in \u001b[0;36mregplot\u001b[1;34m(data, x, y, x_estimator, x_bins, x_ci, scatter, fit_reg, ci, n_boot, units, seed, order, logistic, lowess, robust, logx, x_partial, y_partial, truncate, dropna, x_jitter, y_jitter, label, color, marker, scatter_kws, line_kws, ax)\u001b[0m\n\u001b[0;32m    757\u001b[0m     \u001b[0mscatter_kws\u001b[0m\u001b[1;33m[\u001b[0m\u001b[1;34m\"marker\"\u001b[0m\u001b[1;33m]\u001b[0m \u001b[1;33m=\u001b[0m \u001b[0mmarker\u001b[0m\u001b[1;33m\u001b[0m\u001b[1;33m\u001b[0m\u001b[0m\n\u001b[0;32m    758\u001b[0m     \u001b[0mline_kws\u001b[0m \u001b[1;33m=\u001b[0m \u001b[1;33m{\u001b[0m\u001b[1;33m}\u001b[0m \u001b[1;32mif\u001b[0m \u001b[0mline_kws\u001b[0m \u001b[1;32mis\u001b[0m \u001b[1;32mNone\u001b[0m \u001b[1;32melse\u001b[0m \u001b[0mcopy\u001b[0m\u001b[1;33m.\u001b[0m\u001b[0mcopy\u001b[0m\u001b[1;33m(\u001b[0m\u001b[0mline_kws\u001b[0m\u001b[1;33m)\u001b[0m\u001b[1;33m\u001b[0m\u001b[1;33m\u001b[0m\u001b[0m\n\u001b[1;32m--> 759\u001b[1;33m     \u001b[0mplotter\u001b[0m\u001b[1;33m.\u001b[0m\u001b[0mplot\u001b[0m\u001b[1;33m(\u001b[0m\u001b[0max\u001b[0m\u001b[1;33m,\u001b[0m \u001b[0mscatter_kws\u001b[0m\u001b[1;33m,\u001b[0m \u001b[0mline_kws\u001b[0m\u001b[1;33m)\u001b[0m\u001b[1;33m\u001b[0m\u001b[1;33m\u001b[0m\u001b[0m\n\u001b[0m\u001b[0;32m    760\u001b[0m     \u001b[1;32mreturn\u001b[0m \u001b[0max\u001b[0m\u001b[1;33m\u001b[0m\u001b[1;33m\u001b[0m\u001b[0m\n\u001b[0;32m    761\u001b[0m \u001b[1;33m\u001b[0m\u001b[0m\n",
      "\u001b[1;32mc:\\Users\\RenzCute\\AppData\\Local\\Programs\\Python\\Python310\\lib\\site-packages\\seaborn\\regression.py\u001b[0m in \u001b[0;36mplot\u001b[1;34m(self, ax, scatter_kws, line_kws)\u001b[0m\n\u001b[0;32m    366\u001b[0m \u001b[1;33m\u001b[0m\u001b[0m\n\u001b[0;32m    367\u001b[0m         \u001b[1;32mif\u001b[0m \u001b[0mself\u001b[0m\u001b[1;33m.\u001b[0m\u001b[0mfit_reg\u001b[0m\u001b[1;33m:\u001b[0m\u001b[1;33m\u001b[0m\u001b[1;33m\u001b[0m\u001b[0m\n\u001b[1;32m--> 368\u001b[1;33m             \u001b[0mself\u001b[0m\u001b[1;33m.\u001b[0m\u001b[0mlineplot\u001b[0m\u001b[1;33m(\u001b[0m\u001b[0max\u001b[0m\u001b[1;33m,\u001b[0m \u001b[0mline_kws\u001b[0m\u001b[1;33m)\u001b[0m\u001b[1;33m\u001b[0m\u001b[1;33m\u001b[0m\u001b[0m\n\u001b[0m\u001b[0;32m    369\u001b[0m \u001b[1;33m\u001b[0m\u001b[0m\n\u001b[0;32m    370\u001b[0m         \u001b[1;31m# Label the axes\u001b[0m\u001b[1;33m\u001b[0m\u001b[1;33m\u001b[0m\u001b[0m\n",
      "\u001b[1;32mc:\\Users\\RenzCute\\AppData\\Local\\Programs\\Python\\Python310\\lib\\site-packages\\seaborn\\regression.py\u001b[0m in \u001b[0;36mlineplot\u001b[1;34m(self, ax, kws)\u001b[0m\n\u001b[0;32m    411\u001b[0m         \u001b[1;34m\"\"\"Draw the model.\"\"\"\u001b[0m\u001b[1;33m\u001b[0m\u001b[1;33m\u001b[0m\u001b[0m\n\u001b[0;32m    412\u001b[0m         \u001b[1;31m# Fit the regression model\u001b[0m\u001b[1;33m\u001b[0m\u001b[1;33m\u001b[0m\u001b[0m\n\u001b[1;32m--> 413\u001b[1;33m         \u001b[0mgrid\u001b[0m\u001b[1;33m,\u001b[0m \u001b[0myhat\u001b[0m\u001b[1;33m,\u001b[0m \u001b[0merr_bands\u001b[0m \u001b[1;33m=\u001b[0m \u001b[0mself\u001b[0m\u001b[1;33m.\u001b[0m\u001b[0mfit_regression\u001b[0m\u001b[1;33m(\u001b[0m\u001b[0max\u001b[0m\u001b[1;33m)\u001b[0m\u001b[1;33m\u001b[0m\u001b[1;33m\u001b[0m\u001b[0m\n\u001b[0m\u001b[0;32m    414\u001b[0m         \u001b[0medges\u001b[0m \u001b[1;33m=\u001b[0m \u001b[0mgrid\u001b[0m\u001b[1;33m[\u001b[0m\u001b[1;36m0\u001b[0m\u001b[1;33m]\u001b[0m\u001b[1;33m,\u001b[0m \u001b[0mgrid\u001b[0m\u001b[1;33m[\u001b[0m\u001b[1;33m-\u001b[0m\u001b[1;36m1\u001b[0m\u001b[1;33m]\u001b[0m\u001b[1;33m\u001b[0m\u001b[1;33m\u001b[0m\u001b[0m\n\u001b[0;32m    415\u001b[0m \u001b[1;33m\u001b[0m\u001b[0m\n",
      "\u001b[1;32mc:\\Users\\RenzCute\\AppData\\Local\\Programs\\Python\\Python310\\lib\\site-packages\\seaborn\\regression.py\u001b[0m in \u001b[0;36mfit_regression\u001b[1;34m(self, ax, x_range, grid)\u001b[0m\n\u001b[0;32m    197\u001b[0m                 \u001b[1;32melse\u001b[0m\u001b[1;33m:\u001b[0m\u001b[1;33m\u001b[0m\u001b[1;33m\u001b[0m\u001b[0m\n\u001b[0;32m    198\u001b[0m                     \u001b[0mx_min\u001b[0m\u001b[1;33m,\u001b[0m \u001b[0mx_max\u001b[0m \u001b[1;33m=\u001b[0m \u001b[0max\u001b[0m\u001b[1;33m.\u001b[0m\u001b[0mget_xlim\u001b[0m\u001b[1;33m(\u001b[0m\u001b[1;33m)\u001b[0m\u001b[1;33m\u001b[0m\u001b[1;33m\u001b[0m\u001b[0m\n\u001b[1;32m--> 199\u001b[1;33m             \u001b[0mgrid\u001b[0m \u001b[1;33m=\u001b[0m \u001b[0mnp\u001b[0m\u001b[1;33m.\u001b[0m\u001b[0mlinspace\u001b[0m\u001b[1;33m(\u001b[0m\u001b[0mx_min\u001b[0m\u001b[1;33m,\u001b[0m \u001b[0mx_max\u001b[0m\u001b[1;33m,\u001b[0m \u001b[1;36m100\u001b[0m\u001b[1;33m)\u001b[0m\u001b[1;33m\u001b[0m\u001b[1;33m\u001b[0m\u001b[0m\n\u001b[0m\u001b[0;32m    200\u001b[0m         \u001b[0mci\u001b[0m \u001b[1;33m=\u001b[0m \u001b[0mself\u001b[0m\u001b[1;33m.\u001b[0m\u001b[0mci\u001b[0m\u001b[1;33m\u001b[0m\u001b[1;33m\u001b[0m\u001b[0m\n\u001b[0;32m    201\u001b[0m \u001b[1;33m\u001b[0m\u001b[0m\n",
      "\u001b[1;32mc:\\Users\\RenzCute\\AppData\\Local\\Programs\\Python\\Python310\\lib\\site-packages\\numpy\\core\\overrides.py\u001b[0m in \u001b[0;36mlinspace\u001b[1;34m(*args, **kwargs)\u001b[0m\n",
      "\u001b[1;32mc:\\Users\\RenzCute\\AppData\\Local\\Programs\\Python\\Python310\\lib\\site-packages\\numpy\\core\\function_base.py\u001b[0m in \u001b[0;36mlinspace\u001b[1;34m(start, stop, num, endpoint, retstep, dtype, axis)\u001b[0m\n\u001b[0;32m    125\u001b[0m     \u001b[1;31m# Convert float/complex array scalars to float, gh-3504\u001b[0m\u001b[1;33m\u001b[0m\u001b[1;33m\u001b[0m\u001b[0m\n\u001b[0;32m    126\u001b[0m     \u001b[1;31m# and make sure one can use variables that have an __array_interface__, gh-6634\u001b[0m\u001b[1;33m\u001b[0m\u001b[1;33m\u001b[0m\u001b[0m\n\u001b[1;32m--> 127\u001b[1;33m     \u001b[0mstart\u001b[0m \u001b[1;33m=\u001b[0m \u001b[0masanyarray\u001b[0m\u001b[1;33m(\u001b[0m\u001b[0mstart\u001b[0m\u001b[1;33m)\u001b[0m \u001b[1;33m*\u001b[0m \u001b[1;36m1.0\u001b[0m\u001b[1;33m\u001b[0m\u001b[1;33m\u001b[0m\u001b[0m\n\u001b[0m\u001b[0;32m    128\u001b[0m     \u001b[0mstop\u001b[0m  \u001b[1;33m=\u001b[0m \u001b[0masanyarray\u001b[0m\u001b[1;33m(\u001b[0m\u001b[0mstop\u001b[0m\u001b[1;33m)\u001b[0m  \u001b[1;33m*\u001b[0m \u001b[1;36m1.0\u001b[0m\u001b[1;33m\u001b[0m\u001b[1;33m\u001b[0m\u001b[0m\n\u001b[0;32m    129\u001b[0m \u001b[1;33m\u001b[0m\u001b[0m\n",
      "\u001b[1;31mUFuncTypeError\u001b[0m: ufunc 'multiply' did not contain a loop with signature matching types (dtype('<U20'), dtype('float64')) -> None"
     ]
    },
    {
     "name": "stdout",
     "output_type": "stream",
     "text": [
      "Error in callback <function _draw_all_if_interactive at 0x000001F4353C40D0> (for post_execute):\n"
     ]
    },
    {
     "ename": "KeyboardInterrupt",
     "evalue": "",
     "output_type": "error",
     "traceback": [
      "\u001b[1;31m---------------------------------------------------------------------------\u001b[0m",
      "\u001b[1;31mKeyboardInterrupt\u001b[0m                         Traceback (most recent call last)",
      "\u001b[1;32mc:\\Users\\RenzCute\\AppData\\Local\\Programs\\Python\\Python310\\lib\\site-packages\\matplotlib\\pyplot.py\u001b[0m in \u001b[0;36m_draw_all_if_interactive\u001b[1;34m()\u001b[0m\n\u001b[0;32m    117\u001b[0m \u001b[1;32mdef\u001b[0m \u001b[0m_draw_all_if_interactive\u001b[0m\u001b[1;33m(\u001b[0m\u001b[1;33m)\u001b[0m\u001b[1;33m:\u001b[0m\u001b[1;33m\u001b[0m\u001b[1;33m\u001b[0m\u001b[0m\n\u001b[0;32m    118\u001b[0m     \u001b[1;32mif\u001b[0m \u001b[0mmatplotlib\u001b[0m\u001b[1;33m.\u001b[0m\u001b[0mis_interactive\u001b[0m\u001b[1;33m(\u001b[0m\u001b[1;33m)\u001b[0m\u001b[1;33m:\u001b[0m\u001b[1;33m\u001b[0m\u001b[1;33m\u001b[0m\u001b[0m\n\u001b[1;32m--> 119\u001b[1;33m         \u001b[0mdraw_all\u001b[0m\u001b[1;33m(\u001b[0m\u001b[1;33m)\u001b[0m\u001b[1;33m\u001b[0m\u001b[1;33m\u001b[0m\u001b[0m\n\u001b[0m\u001b[0;32m    120\u001b[0m \u001b[1;33m\u001b[0m\u001b[0m\n\u001b[0;32m    121\u001b[0m \u001b[1;33m\u001b[0m\u001b[0m\n",
      "\u001b[1;32mc:\\Users\\RenzCute\\AppData\\Local\\Programs\\Python\\Python310\\lib\\site-packages\\matplotlib\\_pylab_helpers.py\u001b[0m in \u001b[0;36mdraw_all\u001b[1;34m(cls, force)\u001b[0m\n\u001b[0;32m    130\u001b[0m         \u001b[1;32mfor\u001b[0m \u001b[0mmanager\u001b[0m \u001b[1;32min\u001b[0m \u001b[0mcls\u001b[0m\u001b[1;33m.\u001b[0m\u001b[0mget_all_fig_managers\u001b[0m\u001b[1;33m(\u001b[0m\u001b[1;33m)\u001b[0m\u001b[1;33m:\u001b[0m\u001b[1;33m\u001b[0m\u001b[1;33m\u001b[0m\u001b[0m\n\u001b[0;32m    131\u001b[0m             \u001b[1;32mif\u001b[0m \u001b[0mforce\u001b[0m \u001b[1;32mor\u001b[0m \u001b[0mmanager\u001b[0m\u001b[1;33m.\u001b[0m\u001b[0mcanvas\u001b[0m\u001b[1;33m.\u001b[0m\u001b[0mfigure\u001b[0m\u001b[1;33m.\u001b[0m\u001b[0mstale\u001b[0m\u001b[1;33m:\u001b[0m\u001b[1;33m\u001b[0m\u001b[1;33m\u001b[0m\u001b[0m\n\u001b[1;32m--> 132\u001b[1;33m                 \u001b[0mmanager\u001b[0m\u001b[1;33m.\u001b[0m\u001b[0mcanvas\u001b[0m\u001b[1;33m.\u001b[0m\u001b[0mdraw_idle\u001b[0m\u001b[1;33m(\u001b[0m\u001b[1;33m)\u001b[0m\u001b[1;33m\u001b[0m\u001b[1;33m\u001b[0m\u001b[0m\n\u001b[0m\u001b[0;32m    133\u001b[0m \u001b[1;33m\u001b[0m\u001b[0m\n\u001b[0;32m    134\u001b[0m \u001b[1;33m\u001b[0m\u001b[0m\n",
      "\u001b[1;32mc:\\Users\\RenzCute\\AppData\\Local\\Programs\\Python\\Python310\\lib\\site-packages\\matplotlib\\backend_bases.py\u001b[0m in \u001b[0;36mdraw_idle\u001b[1;34m(self, *args, **kwargs)\u001b[0m\n\u001b[0;32m   2052\u001b[0m         \u001b[1;32mif\u001b[0m \u001b[1;32mnot\u001b[0m \u001b[0mself\u001b[0m\u001b[1;33m.\u001b[0m\u001b[0m_is_idle_drawing\u001b[0m\u001b[1;33m:\u001b[0m\u001b[1;33m\u001b[0m\u001b[1;33m\u001b[0m\u001b[0m\n\u001b[0;32m   2053\u001b[0m             \u001b[1;32mwith\u001b[0m \u001b[0mself\u001b[0m\u001b[1;33m.\u001b[0m\u001b[0m_idle_draw_cntx\u001b[0m\u001b[1;33m(\u001b[0m\u001b[1;33m)\u001b[0m\u001b[1;33m:\u001b[0m\u001b[1;33m\u001b[0m\u001b[1;33m\u001b[0m\u001b[0m\n\u001b[1;32m-> 2054\u001b[1;33m                 \u001b[0mself\u001b[0m\u001b[1;33m.\u001b[0m\u001b[0mdraw\u001b[0m\u001b[1;33m(\u001b[0m\u001b[1;33m*\u001b[0m\u001b[0margs\u001b[0m\u001b[1;33m,\u001b[0m \u001b[1;33m**\u001b[0m\u001b[0mkwargs\u001b[0m\u001b[1;33m)\u001b[0m\u001b[1;33m\u001b[0m\u001b[1;33m\u001b[0m\u001b[0m\n\u001b[0m\u001b[0;32m   2055\u001b[0m \u001b[1;33m\u001b[0m\u001b[0m\n\u001b[0;32m   2056\u001b[0m     \u001b[1;33m@\u001b[0m\u001b[0mproperty\u001b[0m\u001b[1;33m\u001b[0m\u001b[1;33m\u001b[0m\u001b[0m\n",
      "\u001b[1;32mc:\\Users\\RenzCute\\AppData\\Local\\Programs\\Python\\Python310\\lib\\site-packages\\matplotlib\\backends\\backend_agg.py\u001b[0m in \u001b[0;36mdraw\u001b[1;34m(self)\u001b[0m\n\u001b[0;32m    406\u001b[0m              (self.toolbar._wait_cursor_for_draw_cm() if self.toolbar\n\u001b[0;32m    407\u001b[0m               else nullcontext()):\n\u001b[1;32m--> 408\u001b[1;33m             \u001b[0mself\u001b[0m\u001b[1;33m.\u001b[0m\u001b[0mfigure\u001b[0m\u001b[1;33m.\u001b[0m\u001b[0mdraw\u001b[0m\u001b[1;33m(\u001b[0m\u001b[0mself\u001b[0m\u001b[1;33m.\u001b[0m\u001b[0mrenderer\u001b[0m\u001b[1;33m)\u001b[0m\u001b[1;33m\u001b[0m\u001b[1;33m\u001b[0m\u001b[0m\n\u001b[0m\u001b[0;32m    409\u001b[0m             \u001b[1;31m# A GUI class may be need to update a window using this draw, so\u001b[0m\u001b[1;33m\u001b[0m\u001b[1;33m\u001b[0m\u001b[0m\n\u001b[0;32m    410\u001b[0m             \u001b[1;31m# don't forget to call the superclass.\u001b[0m\u001b[1;33m\u001b[0m\u001b[1;33m\u001b[0m\u001b[0m\n",
      "\u001b[1;32mc:\\Users\\RenzCute\\AppData\\Local\\Programs\\Python\\Python310\\lib\\site-packages\\matplotlib\\artist.py\u001b[0m in \u001b[0;36mdraw_wrapper\u001b[1;34m(artist, renderer, *args, **kwargs)\u001b[0m\n\u001b[0;32m     72\u001b[0m     \u001b[1;33m@\u001b[0m\u001b[0mwraps\u001b[0m\u001b[1;33m(\u001b[0m\u001b[0mdraw\u001b[0m\u001b[1;33m)\u001b[0m\u001b[1;33m\u001b[0m\u001b[1;33m\u001b[0m\u001b[0m\n\u001b[0;32m     73\u001b[0m     \u001b[1;32mdef\u001b[0m \u001b[0mdraw_wrapper\u001b[0m\u001b[1;33m(\u001b[0m\u001b[0martist\u001b[0m\u001b[1;33m,\u001b[0m \u001b[0mrenderer\u001b[0m\u001b[1;33m,\u001b[0m \u001b[1;33m*\u001b[0m\u001b[0margs\u001b[0m\u001b[1;33m,\u001b[0m \u001b[1;33m**\u001b[0m\u001b[0mkwargs\u001b[0m\u001b[1;33m)\u001b[0m\u001b[1;33m:\u001b[0m\u001b[1;33m\u001b[0m\u001b[1;33m\u001b[0m\u001b[0m\n\u001b[1;32m---> 74\u001b[1;33m         \u001b[0mresult\u001b[0m \u001b[1;33m=\u001b[0m \u001b[0mdraw\u001b[0m\u001b[1;33m(\u001b[0m\u001b[0martist\u001b[0m\u001b[1;33m,\u001b[0m \u001b[0mrenderer\u001b[0m\u001b[1;33m,\u001b[0m \u001b[1;33m*\u001b[0m\u001b[0margs\u001b[0m\u001b[1;33m,\u001b[0m \u001b[1;33m**\u001b[0m\u001b[0mkwargs\u001b[0m\u001b[1;33m)\u001b[0m\u001b[1;33m\u001b[0m\u001b[1;33m\u001b[0m\u001b[0m\n\u001b[0m\u001b[0;32m     75\u001b[0m         \u001b[1;32mif\u001b[0m \u001b[0mrenderer\u001b[0m\u001b[1;33m.\u001b[0m\u001b[0m_rasterizing\u001b[0m\u001b[1;33m:\u001b[0m\u001b[1;33m\u001b[0m\u001b[1;33m\u001b[0m\u001b[0m\n\u001b[0;32m     76\u001b[0m             \u001b[0mrenderer\u001b[0m\u001b[1;33m.\u001b[0m\u001b[0mstop_rasterizing\u001b[0m\u001b[1;33m(\u001b[0m\u001b[1;33m)\u001b[0m\u001b[1;33m\u001b[0m\u001b[1;33m\u001b[0m\u001b[0m\n",
      "\u001b[1;32mc:\\Users\\RenzCute\\AppData\\Local\\Programs\\Python\\Python310\\lib\\site-packages\\matplotlib\\artist.py\u001b[0m in \u001b[0;36mdraw_wrapper\u001b[1;34m(artist, renderer)\u001b[0m\n\u001b[0;32m     49\u001b[0m                 \u001b[0mrenderer\u001b[0m\u001b[1;33m.\u001b[0m\u001b[0mstart_filter\u001b[0m\u001b[1;33m(\u001b[0m\u001b[1;33m)\u001b[0m\u001b[1;33m\u001b[0m\u001b[1;33m\u001b[0m\u001b[0m\n\u001b[0;32m     50\u001b[0m \u001b[1;33m\u001b[0m\u001b[0m\n\u001b[1;32m---> 51\u001b[1;33m             \u001b[1;32mreturn\u001b[0m \u001b[0mdraw\u001b[0m\u001b[1;33m(\u001b[0m\u001b[0martist\u001b[0m\u001b[1;33m,\u001b[0m \u001b[0mrenderer\u001b[0m\u001b[1;33m)\u001b[0m\u001b[1;33m\u001b[0m\u001b[1;33m\u001b[0m\u001b[0m\n\u001b[0m\u001b[0;32m     52\u001b[0m         \u001b[1;32mfinally\u001b[0m\u001b[1;33m:\u001b[0m\u001b[1;33m\u001b[0m\u001b[1;33m\u001b[0m\u001b[0m\n\u001b[0;32m     53\u001b[0m             \u001b[1;32mif\u001b[0m \u001b[0martist\u001b[0m\u001b[1;33m.\u001b[0m\u001b[0mget_agg_filter\u001b[0m\u001b[1;33m(\u001b[0m\u001b[1;33m)\u001b[0m \u001b[1;32mis\u001b[0m \u001b[1;32mnot\u001b[0m \u001b[1;32mNone\u001b[0m\u001b[1;33m:\u001b[0m\u001b[1;33m\u001b[0m\u001b[1;33m\u001b[0m\u001b[0m\n",
      "\u001b[1;32mc:\\Users\\RenzCute\\AppData\\Local\\Programs\\Python\\Python310\\lib\\site-packages\\matplotlib\\figure.py\u001b[0m in \u001b[0;36mdraw\u001b[1;34m(self, renderer)\u001b[0m\n\u001b[0;32m   3067\u001b[0m \u001b[1;33m\u001b[0m\u001b[0m\n\u001b[0;32m   3068\u001b[0m             \u001b[0mself\u001b[0m\u001b[1;33m.\u001b[0m\u001b[0mpatch\u001b[0m\u001b[1;33m.\u001b[0m\u001b[0mdraw\u001b[0m\u001b[1;33m(\u001b[0m\u001b[0mrenderer\u001b[0m\u001b[1;33m)\u001b[0m\u001b[1;33m\u001b[0m\u001b[1;33m\u001b[0m\u001b[0m\n\u001b[1;32m-> 3069\u001b[1;33m             mimage._draw_list_compositing_images(\n\u001b[0m\u001b[0;32m   3070\u001b[0m                 renderer, self, artists, self.suppressComposite)\n\u001b[0;32m   3071\u001b[0m \u001b[1;33m\u001b[0m\u001b[0m\n",
      "\u001b[1;32mc:\\Users\\RenzCute\\AppData\\Local\\Programs\\Python\\Python310\\lib\\site-packages\\matplotlib\\image.py\u001b[0m in \u001b[0;36m_draw_list_compositing_images\u001b[1;34m(renderer, parent, artists, suppress_composite)\u001b[0m\n\u001b[0;32m    129\u001b[0m     \u001b[1;32mif\u001b[0m \u001b[0mnot_composite\u001b[0m \u001b[1;32mor\u001b[0m \u001b[1;32mnot\u001b[0m \u001b[0mhas_images\u001b[0m\u001b[1;33m:\u001b[0m\u001b[1;33m\u001b[0m\u001b[1;33m\u001b[0m\u001b[0m\n\u001b[0;32m    130\u001b[0m         \u001b[1;32mfor\u001b[0m \u001b[0ma\u001b[0m \u001b[1;32min\u001b[0m \u001b[0martists\u001b[0m\u001b[1;33m:\u001b[0m\u001b[1;33m\u001b[0m\u001b[1;33m\u001b[0m\u001b[0m\n\u001b[1;32m--> 131\u001b[1;33m             \u001b[0ma\u001b[0m\u001b[1;33m.\u001b[0m\u001b[0mdraw\u001b[0m\u001b[1;33m(\u001b[0m\u001b[0mrenderer\u001b[0m\u001b[1;33m)\u001b[0m\u001b[1;33m\u001b[0m\u001b[1;33m\u001b[0m\u001b[0m\n\u001b[0m\u001b[0;32m    132\u001b[0m     \u001b[1;32melse\u001b[0m\u001b[1;33m:\u001b[0m\u001b[1;33m\u001b[0m\u001b[1;33m\u001b[0m\u001b[0m\n\u001b[0;32m    133\u001b[0m         \u001b[1;31m# Composite any adjacent images together\u001b[0m\u001b[1;33m\u001b[0m\u001b[1;33m\u001b[0m\u001b[0m\n",
      "\u001b[1;32mc:\\Users\\RenzCute\\AppData\\Local\\Programs\\Python\\Python310\\lib\\site-packages\\matplotlib\\artist.py\u001b[0m in \u001b[0;36mdraw_wrapper\u001b[1;34m(artist, renderer)\u001b[0m\n\u001b[0;32m     49\u001b[0m                 \u001b[0mrenderer\u001b[0m\u001b[1;33m.\u001b[0m\u001b[0mstart_filter\u001b[0m\u001b[1;33m(\u001b[0m\u001b[1;33m)\u001b[0m\u001b[1;33m\u001b[0m\u001b[1;33m\u001b[0m\u001b[0m\n\u001b[0;32m     50\u001b[0m \u001b[1;33m\u001b[0m\u001b[0m\n\u001b[1;32m---> 51\u001b[1;33m             \u001b[1;32mreturn\u001b[0m \u001b[0mdraw\u001b[0m\u001b[1;33m(\u001b[0m\u001b[0martist\u001b[0m\u001b[1;33m,\u001b[0m \u001b[0mrenderer\u001b[0m\u001b[1;33m)\u001b[0m\u001b[1;33m\u001b[0m\u001b[1;33m\u001b[0m\u001b[0m\n\u001b[0m\u001b[0;32m     52\u001b[0m         \u001b[1;32mfinally\u001b[0m\u001b[1;33m:\u001b[0m\u001b[1;33m\u001b[0m\u001b[1;33m\u001b[0m\u001b[0m\n\u001b[0;32m     53\u001b[0m             \u001b[1;32mif\u001b[0m \u001b[0martist\u001b[0m\u001b[1;33m.\u001b[0m\u001b[0mget_agg_filter\u001b[0m\u001b[1;33m(\u001b[0m\u001b[1;33m)\u001b[0m \u001b[1;32mis\u001b[0m \u001b[1;32mnot\u001b[0m \u001b[1;32mNone\u001b[0m\u001b[1;33m:\u001b[0m\u001b[1;33m\u001b[0m\u001b[1;33m\u001b[0m\u001b[0m\n",
      "\u001b[1;32mc:\\Users\\RenzCute\\AppData\\Local\\Programs\\Python\\Python310\\lib\\site-packages\\matplotlib\\axes\\_base.py\u001b[0m in \u001b[0;36mdraw\u001b[1;34m(self, renderer)\u001b[0m\n\u001b[0;32m   3104\u001b[0m             \u001b[0mrenderer\u001b[0m\u001b[1;33m.\u001b[0m\u001b[0mstop_rasterizing\u001b[0m\u001b[1;33m(\u001b[0m\u001b[1;33m)\u001b[0m\u001b[1;33m\u001b[0m\u001b[1;33m\u001b[0m\u001b[0m\n\u001b[0;32m   3105\u001b[0m \u001b[1;33m\u001b[0m\u001b[0m\n\u001b[1;32m-> 3106\u001b[1;33m         mimage._draw_list_compositing_images(\n\u001b[0m\u001b[0;32m   3107\u001b[0m             renderer, self, artists, self.figure.suppressComposite)\n\u001b[0;32m   3108\u001b[0m \u001b[1;33m\u001b[0m\u001b[0m\n",
      "\u001b[1;32mc:\\Users\\RenzCute\\AppData\\Local\\Programs\\Python\\Python310\\lib\\site-packages\\matplotlib\\image.py\u001b[0m in \u001b[0;36m_draw_list_compositing_images\u001b[1;34m(renderer, parent, artists, suppress_composite)\u001b[0m\n\u001b[0;32m    129\u001b[0m     \u001b[1;32mif\u001b[0m \u001b[0mnot_composite\u001b[0m \u001b[1;32mor\u001b[0m \u001b[1;32mnot\u001b[0m \u001b[0mhas_images\u001b[0m\u001b[1;33m:\u001b[0m\u001b[1;33m\u001b[0m\u001b[1;33m\u001b[0m\u001b[0m\n\u001b[0;32m    130\u001b[0m         \u001b[1;32mfor\u001b[0m \u001b[0ma\u001b[0m \u001b[1;32min\u001b[0m \u001b[0martists\u001b[0m\u001b[1;33m:\u001b[0m\u001b[1;33m\u001b[0m\u001b[1;33m\u001b[0m\u001b[0m\n\u001b[1;32m--> 131\u001b[1;33m             \u001b[0ma\u001b[0m\u001b[1;33m.\u001b[0m\u001b[0mdraw\u001b[0m\u001b[1;33m(\u001b[0m\u001b[0mrenderer\u001b[0m\u001b[1;33m)\u001b[0m\u001b[1;33m\u001b[0m\u001b[1;33m\u001b[0m\u001b[0m\n\u001b[0m\u001b[0;32m    132\u001b[0m     \u001b[1;32melse\u001b[0m\u001b[1;33m:\u001b[0m\u001b[1;33m\u001b[0m\u001b[1;33m\u001b[0m\u001b[0m\n\u001b[0;32m    133\u001b[0m         \u001b[1;31m# Composite any adjacent images together\u001b[0m\u001b[1;33m\u001b[0m\u001b[1;33m\u001b[0m\u001b[0m\n",
      "\u001b[1;32mc:\\Users\\RenzCute\\AppData\\Local\\Programs\\Python\\Python310\\lib\\site-packages\\matplotlib\\artist.py\u001b[0m in \u001b[0;36mdraw_wrapper\u001b[1;34m(artist, renderer)\u001b[0m\n\u001b[0;32m     49\u001b[0m                 \u001b[0mrenderer\u001b[0m\u001b[1;33m.\u001b[0m\u001b[0mstart_filter\u001b[0m\u001b[1;33m(\u001b[0m\u001b[1;33m)\u001b[0m\u001b[1;33m\u001b[0m\u001b[1;33m\u001b[0m\u001b[0m\n\u001b[0;32m     50\u001b[0m \u001b[1;33m\u001b[0m\u001b[0m\n\u001b[1;32m---> 51\u001b[1;33m             \u001b[1;32mreturn\u001b[0m \u001b[0mdraw\u001b[0m\u001b[1;33m(\u001b[0m\u001b[0martist\u001b[0m\u001b[1;33m,\u001b[0m \u001b[0mrenderer\u001b[0m\u001b[1;33m)\u001b[0m\u001b[1;33m\u001b[0m\u001b[1;33m\u001b[0m\u001b[0m\n\u001b[0m\u001b[0;32m     52\u001b[0m         \u001b[1;32mfinally\u001b[0m\u001b[1;33m:\u001b[0m\u001b[1;33m\u001b[0m\u001b[1;33m\u001b[0m\u001b[0m\n\u001b[0;32m     53\u001b[0m             \u001b[1;32mif\u001b[0m \u001b[0martist\u001b[0m\u001b[1;33m.\u001b[0m\u001b[0mget_agg_filter\u001b[0m\u001b[1;33m(\u001b[0m\u001b[1;33m)\u001b[0m \u001b[1;32mis\u001b[0m \u001b[1;32mnot\u001b[0m \u001b[1;32mNone\u001b[0m\u001b[1;33m:\u001b[0m\u001b[1;33m\u001b[0m\u001b[1;33m\u001b[0m\u001b[0m\n",
      "\u001b[1;32mc:\\Users\\RenzCute\\AppData\\Local\\Programs\\Python\\Python310\\lib\\site-packages\\matplotlib\\axis.py\u001b[0m in \u001b[0;36mdraw\u001b[1;34m(self, renderer, *args, **kwargs)\u001b[0m\n\u001b[0;32m   1306\u001b[0m \u001b[1;33m\u001b[0m\u001b[0m\n\u001b[0;32m   1307\u001b[0m         \u001b[1;32mfor\u001b[0m \u001b[0mtick\u001b[0m \u001b[1;32min\u001b[0m \u001b[0mticks_to_draw\u001b[0m\u001b[1;33m:\u001b[0m\u001b[1;33m\u001b[0m\u001b[1;33m\u001b[0m\u001b[0m\n\u001b[1;32m-> 1308\u001b[1;33m             \u001b[0mtick\u001b[0m\u001b[1;33m.\u001b[0m\u001b[0mdraw\u001b[0m\u001b[1;33m(\u001b[0m\u001b[0mrenderer\u001b[0m\u001b[1;33m)\u001b[0m\u001b[1;33m\u001b[0m\u001b[1;33m\u001b[0m\u001b[0m\n\u001b[0m\u001b[0;32m   1309\u001b[0m \u001b[1;33m\u001b[0m\u001b[0m\n\u001b[0;32m   1310\u001b[0m         \u001b[1;31m# Scale up the axis label box to also find the neighbors, not just the\u001b[0m\u001b[1;33m\u001b[0m\u001b[1;33m\u001b[0m\u001b[0m\n",
      "\u001b[1;32mc:\\Users\\RenzCute\\AppData\\Local\\Programs\\Python\\Python310\\lib\\site-packages\\matplotlib\\artist.py\u001b[0m in \u001b[0;36mdraw_wrapper\u001b[1;34m(artist, renderer)\u001b[0m\n\u001b[0;32m     49\u001b[0m                 \u001b[0mrenderer\u001b[0m\u001b[1;33m.\u001b[0m\u001b[0mstart_filter\u001b[0m\u001b[1;33m(\u001b[0m\u001b[1;33m)\u001b[0m\u001b[1;33m\u001b[0m\u001b[1;33m\u001b[0m\u001b[0m\n\u001b[0;32m     50\u001b[0m \u001b[1;33m\u001b[0m\u001b[0m\n\u001b[1;32m---> 51\u001b[1;33m             \u001b[1;32mreturn\u001b[0m \u001b[0mdraw\u001b[0m\u001b[1;33m(\u001b[0m\u001b[0martist\u001b[0m\u001b[1;33m,\u001b[0m \u001b[0mrenderer\u001b[0m\u001b[1;33m)\u001b[0m\u001b[1;33m\u001b[0m\u001b[1;33m\u001b[0m\u001b[0m\n\u001b[0m\u001b[0;32m     52\u001b[0m         \u001b[1;32mfinally\u001b[0m\u001b[1;33m:\u001b[0m\u001b[1;33m\u001b[0m\u001b[1;33m\u001b[0m\u001b[0m\n\u001b[0;32m     53\u001b[0m             \u001b[1;32mif\u001b[0m \u001b[0martist\u001b[0m\u001b[1;33m.\u001b[0m\u001b[0mget_agg_filter\u001b[0m\u001b[1;33m(\u001b[0m\u001b[1;33m)\u001b[0m \u001b[1;32mis\u001b[0m \u001b[1;32mnot\u001b[0m \u001b[1;32mNone\u001b[0m\u001b[1;33m:\u001b[0m\u001b[1;33m\u001b[0m\u001b[1;33m\u001b[0m\u001b[0m\n",
      "\u001b[1;32mc:\\Users\\RenzCute\\AppData\\Local\\Programs\\Python\\Python310\\lib\\site-packages\\matplotlib\\axis.py\u001b[0m in \u001b[0;36mdraw\u001b[1;34m(self, renderer)\u001b[0m\n\u001b[0;32m    304\u001b[0m         for artist in [self.gridline, self.tick1line, self.tick2line,\n\u001b[0;32m    305\u001b[0m                        self.label1, self.label2]:\n\u001b[1;32m--> 306\u001b[1;33m             \u001b[0martist\u001b[0m\u001b[1;33m.\u001b[0m\u001b[0mdraw\u001b[0m\u001b[1;33m(\u001b[0m\u001b[0mrenderer\u001b[0m\u001b[1;33m)\u001b[0m\u001b[1;33m\u001b[0m\u001b[1;33m\u001b[0m\u001b[0m\n\u001b[0m\u001b[0;32m    307\u001b[0m         \u001b[0mrenderer\u001b[0m\u001b[1;33m.\u001b[0m\u001b[0mclose_group\u001b[0m\u001b[1;33m(\u001b[0m\u001b[0mself\u001b[0m\u001b[1;33m.\u001b[0m\u001b[0m__name__\u001b[0m\u001b[1;33m)\u001b[0m\u001b[1;33m\u001b[0m\u001b[1;33m\u001b[0m\u001b[0m\n\u001b[0;32m    308\u001b[0m         \u001b[0mself\u001b[0m\u001b[1;33m.\u001b[0m\u001b[0mstale\u001b[0m \u001b[1;33m=\u001b[0m \u001b[1;32mFalse\u001b[0m\u001b[1;33m\u001b[0m\u001b[1;33m\u001b[0m\u001b[0m\n",
      "\u001b[1;32mc:\\Users\\RenzCute\\AppData\\Local\\Programs\\Python\\Python310\\lib\\site-packages\\matplotlib\\artist.py\u001b[0m in \u001b[0;36mdraw_wrapper\u001b[1;34m(artist, renderer)\u001b[0m\n\u001b[0;32m     49\u001b[0m                 \u001b[0mrenderer\u001b[0m\u001b[1;33m.\u001b[0m\u001b[0mstart_filter\u001b[0m\u001b[1;33m(\u001b[0m\u001b[1;33m)\u001b[0m\u001b[1;33m\u001b[0m\u001b[1;33m\u001b[0m\u001b[0m\n\u001b[0;32m     50\u001b[0m \u001b[1;33m\u001b[0m\u001b[0m\n\u001b[1;32m---> 51\u001b[1;33m             \u001b[1;32mreturn\u001b[0m \u001b[0mdraw\u001b[0m\u001b[1;33m(\u001b[0m\u001b[0martist\u001b[0m\u001b[1;33m,\u001b[0m \u001b[0mrenderer\u001b[0m\u001b[1;33m)\u001b[0m\u001b[1;33m\u001b[0m\u001b[1;33m\u001b[0m\u001b[0m\n\u001b[0m\u001b[0;32m     52\u001b[0m         \u001b[1;32mfinally\u001b[0m\u001b[1;33m:\u001b[0m\u001b[1;33m\u001b[0m\u001b[1;33m\u001b[0m\u001b[0m\n\u001b[0;32m     53\u001b[0m             \u001b[1;32mif\u001b[0m \u001b[0martist\u001b[0m\u001b[1;33m.\u001b[0m\u001b[0mget_agg_filter\u001b[0m\u001b[1;33m(\u001b[0m\u001b[1;33m)\u001b[0m \u001b[1;32mis\u001b[0m \u001b[1;32mnot\u001b[0m \u001b[1;32mNone\u001b[0m\u001b[1;33m:\u001b[0m\u001b[1;33m\u001b[0m\u001b[1;33m\u001b[0m\u001b[0m\n",
      "\u001b[1;32mc:\\Users\\RenzCute\\AppData\\Local\\Programs\\Python\\Python310\\lib\\site-packages\\matplotlib\\text.py\u001b[0m in \u001b[0;36mdraw\u001b[1;34m(self, renderer)\u001b[0m\n\u001b[0;32m    686\u001b[0m \u001b[1;33m\u001b[0m\u001b[0m\n\u001b[0;32m    687\u001b[0m         \u001b[1;32mwith\u001b[0m \u001b[0mself\u001b[0m\u001b[1;33m.\u001b[0m\u001b[0m_cm_set\u001b[0m\u001b[1;33m(\u001b[0m\u001b[0mtext\u001b[0m\u001b[1;33m=\u001b[0m\u001b[0mself\u001b[0m\u001b[1;33m.\u001b[0m\u001b[0m_get_wrapped_text\u001b[0m\u001b[1;33m(\u001b[0m\u001b[1;33m)\u001b[0m\u001b[1;33m)\u001b[0m\u001b[1;33m:\u001b[0m\u001b[1;33m\u001b[0m\u001b[1;33m\u001b[0m\u001b[0m\n\u001b[1;32m--> 688\u001b[1;33m             \u001b[0mbbox\u001b[0m\u001b[1;33m,\u001b[0m \u001b[0minfo\u001b[0m\u001b[1;33m,\u001b[0m \u001b[0mdescent\u001b[0m \u001b[1;33m=\u001b[0m \u001b[0mself\u001b[0m\u001b[1;33m.\u001b[0m\u001b[0m_get_layout\u001b[0m\u001b[1;33m(\u001b[0m\u001b[0mrenderer\u001b[0m\u001b[1;33m)\u001b[0m\u001b[1;33m\u001b[0m\u001b[1;33m\u001b[0m\u001b[0m\n\u001b[0m\u001b[0;32m    689\u001b[0m             \u001b[0mtrans\u001b[0m \u001b[1;33m=\u001b[0m \u001b[0mself\u001b[0m\u001b[1;33m.\u001b[0m\u001b[0mget_transform\u001b[0m\u001b[1;33m(\u001b[0m\u001b[1;33m)\u001b[0m\u001b[1;33m\u001b[0m\u001b[1;33m\u001b[0m\u001b[0m\n\u001b[0;32m    690\u001b[0m \u001b[1;33m\u001b[0m\u001b[0m\n",
      "\u001b[1;32mc:\\Users\\RenzCute\\AppData\\Local\\Programs\\Python\\Python310\\lib\\site-packages\\matplotlib\\text.py\u001b[0m in \u001b[0;36m_get_layout\u001b[1;34m(self, renderer)\u001b[0m\n\u001b[0;32m    320\u001b[0m             \u001b[0mclean_line\u001b[0m\u001b[1;33m,\u001b[0m \u001b[0mismath\u001b[0m \u001b[1;33m=\u001b[0m \u001b[0mself\u001b[0m\u001b[1;33m.\u001b[0m\u001b[0m_preprocess_math\u001b[0m\u001b[1;33m(\u001b[0m\u001b[0mline\u001b[0m\u001b[1;33m)\u001b[0m\u001b[1;33m\u001b[0m\u001b[1;33m\u001b[0m\u001b[0m\n\u001b[0;32m    321\u001b[0m             \u001b[1;32mif\u001b[0m \u001b[0mclean_line\u001b[0m\u001b[1;33m:\u001b[0m\u001b[1;33m\u001b[0m\u001b[1;33m\u001b[0m\u001b[0m\n\u001b[1;32m--> 322\u001b[1;33m                 w, h, d = _get_text_metrics_with_cache(\n\u001b[0m\u001b[0;32m    323\u001b[0m                     \u001b[0mrenderer\u001b[0m\u001b[1;33m,\u001b[0m \u001b[0mclean_line\u001b[0m\u001b[1;33m,\u001b[0m \u001b[0mself\u001b[0m\u001b[1;33m.\u001b[0m\u001b[0m_fontproperties\u001b[0m\u001b[1;33m,\u001b[0m\u001b[1;33m\u001b[0m\u001b[1;33m\u001b[0m\u001b[0m\n\u001b[0;32m    324\u001b[0m                     ismath=ismath, dpi=self.figure.dpi)\n",
      "\u001b[1;32mc:\\Users\\RenzCute\\AppData\\Local\\Programs\\Python\\Python310\\lib\\site-packages\\matplotlib\\text.py\u001b[0m in \u001b[0;36m_get_text_metrics_with_cache\u001b[1;34m(renderer, text, fontprop, ismath, dpi)\u001b[0m\n\u001b[0;32m     95\u001b[0m     \u001b[1;31m# Cached based on a copy of fontprop so that later in-place mutations of\u001b[0m\u001b[1;33m\u001b[0m\u001b[1;33m\u001b[0m\u001b[0m\n\u001b[0;32m     96\u001b[0m     \u001b[1;31m# the passed-in argument do not mess up the cache.\u001b[0m\u001b[1;33m\u001b[0m\u001b[1;33m\u001b[0m\u001b[0m\n\u001b[1;32m---> 97\u001b[1;33m     return _get_text_metrics_with_cache_impl(\n\u001b[0m\u001b[0;32m     98\u001b[0m         weakref.ref(renderer), text, fontprop.copy(), ismath, dpi)\n\u001b[0;32m     99\u001b[0m \u001b[1;33m\u001b[0m\u001b[0m\n",
      "\u001b[1;32mc:\\Users\\RenzCute\\AppData\\Local\\Programs\\Python\\Python310\\lib\\site-packages\\matplotlib\\text.py\u001b[0m in \u001b[0;36m_get_text_metrics_with_cache_impl\u001b[1;34m(renderer_ref, text, fontprop, ismath, dpi)\u001b[0m\n\u001b[0;32m    103\u001b[0m         renderer_ref, text, fontprop, ismath, dpi):\n\u001b[0;32m    104\u001b[0m     \u001b[1;31m# dpi is unused, but participates in cache invalidation (via the renderer).\u001b[0m\u001b[1;33m\u001b[0m\u001b[1;33m\u001b[0m\u001b[0m\n\u001b[1;32m--> 105\u001b[1;33m     \u001b[1;32mreturn\u001b[0m \u001b[0mrenderer_ref\u001b[0m\u001b[1;33m(\u001b[0m\u001b[1;33m)\u001b[0m\u001b[1;33m.\u001b[0m\u001b[0mget_text_width_height_descent\u001b[0m\u001b[1;33m(\u001b[0m\u001b[0mtext\u001b[0m\u001b[1;33m,\u001b[0m \u001b[0mfontprop\u001b[0m\u001b[1;33m,\u001b[0m \u001b[0mismath\u001b[0m\u001b[1;33m)\u001b[0m\u001b[1;33m\u001b[0m\u001b[1;33m\u001b[0m\u001b[0m\n\u001b[0m\u001b[0;32m    106\u001b[0m \u001b[1;33m\u001b[0m\u001b[0m\n\u001b[0;32m    107\u001b[0m \u001b[1;33m\u001b[0m\u001b[0m\n",
      "\u001b[1;32mc:\\Users\\RenzCute\\AppData\\Local\\Programs\\Python\\Python310\\lib\\site-packages\\matplotlib\\backends\\backend_agg.py\u001b[0m in \u001b[0;36mget_text_width_height_descent\u001b[1;34m(self, s, prop, ismath)\u001b[0m\n\u001b[0;32m    240\u001b[0m \u001b[1;33m\u001b[0m\u001b[0m\n\u001b[0;32m    241\u001b[0m         \u001b[0mfont\u001b[0m \u001b[1;33m=\u001b[0m \u001b[0mself\u001b[0m\u001b[1;33m.\u001b[0m\u001b[0m_prepare_font\u001b[0m\u001b[1;33m(\u001b[0m\u001b[0mprop\u001b[0m\u001b[1;33m)\u001b[0m\u001b[1;33m\u001b[0m\u001b[1;33m\u001b[0m\u001b[0m\n\u001b[1;32m--> 242\u001b[1;33m         \u001b[0mfont\u001b[0m\u001b[1;33m.\u001b[0m\u001b[0mset_text\u001b[0m\u001b[1;33m(\u001b[0m\u001b[0ms\u001b[0m\u001b[1;33m,\u001b[0m \u001b[1;36m0.0\u001b[0m\u001b[1;33m,\u001b[0m \u001b[0mflags\u001b[0m\u001b[1;33m=\u001b[0m\u001b[0mget_hinting_flag\u001b[0m\u001b[1;33m(\u001b[0m\u001b[1;33m)\u001b[0m\u001b[1;33m)\u001b[0m\u001b[1;33m\u001b[0m\u001b[1;33m\u001b[0m\u001b[0m\n\u001b[0m\u001b[0;32m    243\u001b[0m         \u001b[0mw\u001b[0m\u001b[1;33m,\u001b[0m \u001b[0mh\u001b[0m \u001b[1;33m=\u001b[0m \u001b[0mfont\u001b[0m\u001b[1;33m.\u001b[0m\u001b[0mget_width_height\u001b[0m\u001b[1;33m(\u001b[0m\u001b[1;33m)\u001b[0m  \u001b[1;31m# width and height of unrotated string\u001b[0m\u001b[1;33m\u001b[0m\u001b[1;33m\u001b[0m\u001b[0m\n\u001b[0;32m    244\u001b[0m         \u001b[0md\u001b[0m \u001b[1;33m=\u001b[0m \u001b[0mfont\u001b[0m\u001b[1;33m.\u001b[0m\u001b[0mget_descent\u001b[0m\u001b[1;33m(\u001b[0m\u001b[1;33m)\u001b[0m\u001b[1;33m\u001b[0m\u001b[1;33m\u001b[0m\u001b[0m\n",
      "\u001b[1;31mKeyboardInterrupt\u001b[0m: "
     ]
    }
   ],
   "source": [
    "sns.regplot(x='prices.dateAdded', y='prices.amountMax', data=df_cpy)\n",
    "plt.ylim(0,)"
   ]
  },
  {
   "cell_type": "code",
   "execution_count": 106,
   "metadata": {},
   "outputs": [
    {
     "data": {
      "text/plain": [
       "(0.0, 58487.95545965702)"
      ]
     },
     "execution_count": 106,
     "metadata": {},
     "output_type": "execute_result"
    },
    {
     "data": {
      "image/png": "[encoded data removed]",
      "text/plain": [
       "<Figure size 432x288 with 1 Axes>"
      ]
     },
     "metadata": {},
     "output_type": "display_data"
    }
   ],
   "source": [
    "sns.regplot(x='dateUpdated', y='prices.amount', data=df_cpy)\n",
    "plt.ylim(0,)"
   ]
  },
  {
   "cell_type": "code",
   "execution_count": 107,
   "metadata": {},
   "outputs": [
    {
     "data": {
      "text/plain": [
       "(0.0, 58487.95545965702)"
      ]
     },
     "execution_count": 107,
     "metadata": {},
     "output_type": "execute_result"
    },
    {
     "data": {
      "image/png": "[encoded data removed]",
      "text/plain": [
       "<Figure size 432x288 with 1 Axes>"
      ]
     },
     "metadata": {},
     "output_type": "display_data"
    }
   ],
   "source": [
    "sns.regplot(x='dateAdded', y='prices.amount', data=df_cpy)\n",
    "plt.ylim(0,)"
   ]
  },
  {
   "cell_type": "code",
   "execution_count": 108,
   "metadata": {},
   "outputs": [
    {
     "data": {
      "text/plain": [
       "(0.0, 58487.95545965702)"
      ]
     },
     "execution_count": 108,
     "metadata": {},
     "output_type": "execute_result"
    },
    {
     "data": {
      "image/png": "[encoded data removed]",
      "text/plain": [
       "<Figure size 432x288 with 1 Axes>"
      ]
     },
     "metadata": {},
     "output_type": "display_data"
    }
   ],
   "source": [
    "sns.regplot(x='prices.isSale', y='prices.amount', data=df_cpy)\n",
    "plt.ylim(0,)"
   ]
  },
  {
   "cell_type": "code",
   "execution_count": 109,
   "metadata": {},
   "outputs": [
    {
     "data": {
      "text/plain": [
       "(0.0, 58487.95545965702)"
      ]
     },
     "execution_count": 109,
     "metadata": {},
     "output_type": "execute_result"
    },
    {
     "data": {
      "image/png": "[encoded data removed]",
      "text/plain": [
       "<Figure size 432x288 with 1 Axes>"
      ]
     },
     "metadata": {},
     "output_type": "display_data"
    }
   ],
   "source": [
    "sns.regplot(x='upc', y='prices.amount', data=df_cpy)\n",
    "plt.ylim(0,)"
   ]
  },
  {
   "cell_type": "code",
   "execution_count": 110,
   "metadata": {},
   "outputs": [
    {
     "data": {
      "text/plain": [
       "(0.0, 58487.95545965702)"
      ]
     },
     "execution_count": 110,
     "metadata": {},
     "output_type": "execute_result"
    },
    {
     "data": {
      "image/png": "[encoded data removed]",
      "text/plain": [
       "<Figure size 432x288 with 1 Axes>"
      ]
     },
     "metadata": {},
     "output_type": "display_data"
    }
   ],
   "source": [
    "sns.regplot(x='ean', y='prices.amount', data=df_cpy)\n",
    "plt.ylim(0,)"
   ]
  },
  {
   "cell_type": "code",
   "execution_count": 114,
   "metadata": {},
   "outputs": [
    {
     "data": {
      "text/plain": [
       "(0.0, 58487.95545965702)"
      ]
     },
     "execution_count": 114,
     "metadata": {},
     "output_type": "execute_result"
    },
    {
     "data": {
      "image/png": "[encoded data removed]",
      "text/plain": [
       "<Figure size 432x288 with 1 Axes>"
      ]
     },
     "metadata": {},
     "output_type": "display_data"
    }
   ],
   "source": [
    "sns.regplot(x='reviews', y='prices.amount', data=df_cpy)\n",
    "plt.ylim(0,)\n"
   ]
  },
  {
   "cell_type": "code",
   "execution_count": 85,
   "metadata": {},
   "outputs": [
    {
     "data": {
      "text/plain": [
       "Index(['id', 'brand', 'categories', 'colors', 'descriptions', 'features',\n",
       "       'keys', 'name', 'prices.dateSeen', 'prices.isSale', 'prices.sourceURLs',\n",
       "       'sourceURLs'],\n",
       "      dtype='object')"
      ]
     },
     "execution_count": 85,
     "metadata": {},
     "output_type": "execute_result"
    }
   ],
   "source": [
    "df_cpy_norm.select_dtypes(exclude=['float64', 'int64']).columns"
   ]
  },
  {
   "cell_type": "markdown",
   "metadata": {},
   "source": [
    "Top 20 brands"
   ]
  },
  {
   "cell_type": "code",
   "execution_count": 86,
   "metadata": {},
   "outputs": [
    {
     "data": {
      "text/plain": [
       "<AxesSubplot: xlabel='count', ylabel='brand'>"
      ]
     },
     "execution_count": 86,
     "metadata": {},
     "output_type": "execute_result"
    },
    {
     "data": {
      "image/png": "[encoded data removed]",
      "text/plain": [
       "<Figure size 432x288 with 1 Axes>"
      ]
     },
     "metadata": {},
     "output_type": "display_data"
    }
   ],
   "source": [
    "#show only top brands\n",
    "sns.countplot(y='brand', data=df_cpy_norm, order=df_cpy_norm['brand'].value_counts().iloc[:20].index)"
   ]
  },
  {
   "cell_type": "code",
   "execution_count": 87,
   "metadata": {},
   "outputs": [
    {
     "data": {
      "text/plain": [
       "<AxesSubplot: xlabel='brand', ylabel='prices.amount'>"
      ]
     },
     "execution_count": 87,
     "metadata": {},
     "output_type": "execute_result"
    },
    {
     "data": {
      "image/png": "[encoded data removed]",
      "text/plain": [
       "<Figure size 432x288 with 1 Axes>"
      ]
     },
     "metadata": {},
     "output_type": "display_data"
    }
   ],
   "source": [
    "plt.xticks(rotation=90)\n",
    "sns.boxplot(x='brand', y='prices.amount', data=df_cpy_norm, order=df_cpy_norm['brand'].value_counts().iloc[:30].index)"
   ]
  },
  {
   "cell_type": "code",
   "execution_count": 88,
   "metadata": {},
   "outputs": [
    {
     "data": {
      "text/plain": [
       "array(['Novica', 'BEAUTIFEET', 'Caparros', 'Lugz', 'Vince Camuto',\n",
       "       'Bloch', 'Wild Diva', 'SKECHERS', 'Faded Glory', 'JBU by Jambu',\n",
       "       'Style & Co.', 'Arizona Jean Company', 'Ellen Tracy', 'Mia Girl',\n",
       "       'Born', 'r.b.l.s.', 'Michael Kors', 'Giani Bernini', 'Iron Fist',\n",
       "       'Lillian Rose', 'Dyeables', 'Alfani', 'MUK LUKS', 'BareTraps',\n",
       "       'Dr. Weil', 'Franco Sarto', 'Sanita', 'PleaserUSA', 'Easy Spirit',\n",
       "       'PUMA', 'Reebok', 'Crocs', 'kate spade', 'White Mountain',\n",
       "       'Journee Collection', 'Giro', 'G BY GUESS', 'Indigo Rd.',\n",
       "       'ELLIE SHOES', 'Ellie', 'Touch Ups', 'Propet',\n",
       "       'MICHAEL Michael Kors', 'Michael Michael Kors',\n",
       "       'Lamo Sheepskin Inc', 'Nina', 'New Balance', 'Pleaser USA, Inc.',\n",
       "       'DF by Dearfoams', 'Badgley Mischka', 'Toms', 'Mia', 'TOMS',\n",
       "       'Tredsafe', '2 Lips Too', 'Aerosoles', 'Vans', 'Karen Scott',\n",
       "       'Oofos', 'Tenth Frame', 'The Flexx', 'FS/NY', 'VANS', 'Rampage',\n",
       "       'Forever Collectible', 'Gentle Souls', 'Thalia Sodi', 'SoftWalk',\n",
       "       'Everybody By BZ Moda', 'Eric Michael', 'Michael Antonio',\n",
       "       'Ros Hommerson', 'Birkenstock', 'Charles By Charles David', 'NFL',\n",
       "       'Tretorn', \"Dr. Scholl's\", 'Henry Ferrera Collection', 'Qupid',\n",
       "       'Justin Boots', 'Calvin Klein', 'Nine West', 'C Label', 'Tundra',\n",
       "       'Bare Traps', 'Material Girl', 'Bellini', 'Helly Hansen', 'Vaneli',\n",
       "       'Nature Breeze', 'Acorn', 'Lamo', 'Bearpaw', 'Two Lips',\n",
       "       'Unique Bargains', 'Minnetonka', 'Via Spiga', 'Blue Tongue',\n",
       "       'Mo Mo', 'Steve Madden', 'Trotters', 'Finn Comfort', 'ASICS',\n",
       "       'Saucony', 'Kenneth Cole Reaction', 'Skechers', 'EasyComforts',\n",
       "       'Cushe', 'GIAMIA', 'Ugg Australia', 'M.G.', 'Ash', 'L.A. Beauty',\n",
       "       'Brinley Co.', 'Elites by Walking Cradles', 'Roces', 'Fabulicious',\n",
       "       'Pelle Moda', 'Klogs', 'Sam Edelman', 'Venettini', 'Studswar',\n",
       "       'Ann Creek', 'Silver Lilly', 'Rialto', 'Patagonia', 'Nike',\n",
       "       'DAWGS', 'CCILU', 'Lane Boots', 'Tommy Hilfiger', 'TIARA', 'Cvs',\n",
       "       'SHELLYS LONDON', 'Sperry', 'Asics', 'Easy Spirit e360',\n",
       "       'Call It Spring', 'SummitFashions', 'Pleaser Shoes', 'Lowa',\n",
       "       'Caterpillar', 'Penny Loves Kenny', 'Array', 'G.I.L.I.',\n",
       "       'Dolce by Mojo Moxy', 'Anne Klein', 'Marc Fisher', 'In-Sattva',\n",
       "       'M&F Western', 'Vasque', 'Lucky Brand', 'Trina Turk',\n",
       "       'Rocket Dog Brands LLC', 'Boreal', 'Beacon Shoes', 'Hush Puppies',\n",
       "       'Brianna Leigh', 'GUESS', 'Unbranded', 'Walking Cradles',\n",
       "       'Splendid', 'Refresh', 'Reneeze', 'Kamik', 'FIEL', 'T K',\n",
       "       'Lucchese', 'McRae Industrial', 'TRUE linkswear', 'Callisto',\n",
       "       'American Rag', 'Bogs', 'Joules', 'Vibram', 'Elie Tahari',\n",
       "       'Rebecca Minkoff', 'Muk Luks', 'Converse', 'Stuart Weitzman',\n",
       "       'Woolrich', 'Ramon Tenza', 'Leisureland', 'Sunny Feet',\n",
       "       'Moda Essentials', 'Hadari', 'Adidas', 'IM Link', 'Mix No 6',\n",
       "       'FIC', 'Beston', 'Matt Bernson', 'Alpine Swiss', 'XOXO', 'Ahnu',\n",
       "       'Easy Street', 'Chinese Laundry', 'Khombu', 'Hailey Jeans Co.',\n",
       "       'Carole Hochman', \"Maker's Shoes\", 'Gameday Boots',\n",
       "       'NAUGHTY MONKEY', 'Grasshoppers', 'Columbia', 'MELLOW WALK',\n",
       "       'Modern Rush', 'Enzo Angiolini', 'Lauren Ralph Lauren', 'bar III',\n",
       "       'Luo Luo', 'Belle Sigerson Morrison', 'Bamboo', 'Hunter',\n",
       "       'Seychelles', 'Heavenly Comfort', 'Vionic', 'Famous Name Brand',\n",
       "       'Eurosoft by Sofft', 'Wishpets', 'VIA PINKY', 'SHOES FOR CREWS',\n",
       "       'Isaac Mizrahi', 'Tsubo', 'El Naturalista', 'Cole Haan', 'Mizuno',\n",
       "       'Naturalizer', 'Mark and Maddux', 'Donald J Pliner', 'Allegra K',\n",
       "       'USA Dawgs', 'Fidji', 'Schutz', 'INC International Concepts',\n",
       "       'Merrell', 'BETANI', 'FitFlop', 'Sandal King', 'Gabor',\n",
       "       'Jessica Simpson', 'Harley-Davidson', 'CAPE ROBBIN',\n",
       "       'Rock & Candy', 'MCM', 'Sporto', 'Bernie Mev', 'NINE WEST',\n",
       "       'Charades', 'MLB', 'Infinity', 'Rocket Dog', 'The Highest Heel',\n",
       "       'Fahrenheit', 'Static Footwear', 'Flexus by Spring Step', 'BC',\n",
       "       'Comfort Ease', 'Ivanka Trump', 'Adrienne Vittadini', 'Reiker',\n",
       "       'LILIANA', 'Mia Heritage', 'Celeste', 'Academie Gear',\n",
       "       'DbDk Fashion', 'Muck Boot', 'Brooks', 'Vybe', 'Oneal', 'Soda',\n",
       "       'HOKA ONE ONE', 'Diamondback', 'Corral', 'G.H. Bass & Co.',\n",
       "       'Betani', 'Devious', 'Ryka', 'Azura', 'Naya',\n",
       "       'De Blossom Collection', 'Jambu', 'Dearfoams', \"Birki's\",\n",
       "       'Celebrity Pink', 'CORKYS FOOTWEAR, INC.',\n",
       "       'Mark Lemp By Walking Cradles', 'Grazie', 'Gotta Flurt',\n",
       "       'G Antini', 'All Black', 'ADI', 'GX by Gwen Stefani',\n",
       "       'Pearl Izumi', 'SIDEKICK', 'Carrini', 'Mezzo', 'Bandolino', 'Blue',\n",
       "       'Olivia Miller', 'I HEART COLLECTION', 'Wild Pair',\n",
       "       'Fergie Footwear', 'Rachel', 'Op', 'Dizzy', 'Luxury Rebel',\n",
       "       'FLA Orthopedics', 'Dansko', 'Bordello', 'DailyShoes', 'AdTec',\n",
       "       'Spring Step', 'Isotoner', 'Anna', 'Liz Claiborne',\n",
       "       'Patrizia by Spring Step', 'SHOES OF SOUL', 'Eileen Fisher',\n",
       "       'Diba True', 'A2 by Aerosoles', 'Moksha Imports', 'Fitflop',\n",
       "       'Bar III', 'BOOROO', 'Re-Sole', 'FERGIE', 'GROOVE', 'Beacon',\n",
       "       'Gold Toe', 'Bernie Mev.', 'Kendall + Kylie', 'Kate Spade', 'UGG',\n",
       "       'Not Rated', 'ShoeVibe', 'Miz Mooz', 'Desigual', 'Melissa',\n",
       "       'Speedo', 'Santoni', 'CORKYS', 'Lucky  Brand', '1 World Sarongs',\n",
       "       'Diba', 'Ami', 'Carlos by Carlos Santana',\n",
       "       'Lauren By Ralph Lauren', 'Australia Luxe', 'Dr. Martens', 'Zoot',\n",
       "       'LifeStride', 'Kenneth Cole Unlisted', 'Superga', 'Hades',\n",
       "       'New Directions', 'VALUE BRAND', 'Fergalicious', 'Keds',\n",
       "       'Papillio', 'Ozark Trail', 'IMAN', 'Bucco Capensis', 'Enimay',\n",
       "       'ROCK & CANDY', 'David Tate', 'Annie Shoes', 'Volcom', 'Durango',\n",
       "       'LEVIS', 'Me Too', 'Simplicity', 'PLEASER', 'Unlisted',\n",
       "       'The Walking Cradle Company', 'Cape Robbin', 'FUNTASMA', 'Spenco',\n",
       "       'SLM', 'Wanted', 'Anne Klein AK', 'Forever', 'Juicy Couture',\n",
       "       'Vision Street Wear', 'Natural Soul', 'Benjamin Walk', 'CR',\n",
       "       'Vince', 'Dollhouse', 'Paprika', 'Louise et Cie', 'Hounds',\n",
       "       'Bobs by Skechers', 'Avia', 'Juil', 'Dance Class', 'Havaianas',\n",
       "       'Altra Footwear', 'Tecnica', 'Vionic with Orthaheel Technology',\n",
       "       'Oka Bee', 'Unisa', 'Unlisted Kenneth Cole', 'Daniel Green',\n",
       "       'Morris Costumes', 'Kim Rogers', 'Matiko', 'French Sole',\n",
       "       'DE BLOSSOM COLLECTION', 'A2 By Aerosoles', 'Coach',\n",
       "       'Italian Shoe Makers', 'G.C. Shoes', 'Soft Science',\n",
       "       '90 Degree by Reflex', 'Twisted X', 'Minibasics',\n",
       "       'E! Live From The Red Carpet', 'Superfit', 'Telic', 'Sole Society',\n",
       "       'Pajar', 'OTBT', 'mobils by Mephisto', 'Britchel', 'Corso Como',\n",
       "       'Luichiny', 'Ugg', 'La Plume', 'Derek Lam', 'Roxy',\n",
       "       \"L'Artiste by Spring Step\", 'Dana Davis', 'B.O.C.',\n",
       "       'IS-Shirley of Hollywood', 'Mossy Oak', 'Emozioni', 'Victoria K.',\n",
       "       'Diesel', 'Bronx', 'Pleaser', 'Rider', 'Top Moda',\n",
       "       'Loeffler Randall', 'Jones New York', 'Rieker', 'SPRING',\n",
       "       'Cobb Hill by New Balance', 'Danskin Now', 'Taos', 'Taryn Rose',\n",
       "       'Dan Post', 'Chelsea & Zoe', 'Ilse Jacobsen', 'Bella Vita',\n",
       "       'Eastland', 'Eight Second Angel', 'B. Makowsky', 'OM', 'Drew Shoe',\n",
       "       'Rieker-Antistress', 'Sloggers', 'Arider', 'Mozo',\n",
       "       'Rainbow Sandals', 'DV By Dolce Vita', 'Paul Green', 'Ara',\n",
       "       'Ralph Lauren', 'STEVEN by Steve Madden', \"A'rcopedico\", 'Adriana',\n",
       "       'Frye', 'C LABEL', 'Norm Thompson', 'Flogg', 'LuoLuo', 'Drew',\n",
       "       'Lila SureGrip', 'Dingo', 'Madden Girl', 'Lacoste',\n",
       "       'Emu Australia', 'BCBGeneration', 'a.x.n.y.', \"L'Artiste\",\n",
       "       'Bella Marie', 'Latigo', 'Report', 'Tory Burch', 'BearPaw',\n",
       "       'Fly London', 'Fashion Focus', 'BeautiFeel', 'Chaco', \"Joe's\",\n",
       "       'Sebago', 'Korks', 'Impo', 'Anne Klein Sport', 'CTM',\n",
       "       'Charles David', 'Auditions', 'NCAA', 'Chaps', 'Fila',\n",
       "       'Madeline Girl', 'Legendary Whitetails', 'Calvin Klein Jeans',\n",
       "       'Yellow Box', 'J/Slides', 'Life Stride', 'Wild Diva Lounge',\n",
       "       'Dolce Vita', 'Leg Avenue', 'La Canadienne', 'Dune London',\n",
       "       'Marc By Marc Jacobs', 'Jeffrey Campbell', 'Riverberry',\n",
       "       'H by Halston', 'Modit', 'Dolce & Gabbana', 'Red Valentino',\n",
       "       'Aldo', 'Earth Spirit', 'Jack Rogers', 'Heart Soul', 'Yoki',\n",
       "       'Classique', 'Dawgs', 'Valentino Noir', 'Sanuk', 'Spira',\n",
       "       'Pokemon', 'Clarks', 'Chelsea Crew', 'Circa Joan & David',\n",
       "       'Delicious', 'Alegria', 'Praerie', 'Ariat', 'Nomad',\n",
       "       'Luxury Divas', 'S.C.', 'Sebastian Milano', 'GUPPY LOVE',\n",
       "       'Kenneth Cole', 'Calvin Klein CK', 'Madeline', 'JAMBU', 'OKABASHI',\n",
       "       'totes', 'Justin Blair', 'DV by Dolce Vita', 'Manolo Blahnik',\n",
       "       'Spirit Moda', 'Avanti', 'Sloosh', 'French Connection', 'Funtasma',\n",
       "       'Intaglia', 'Boutique 9', 'Emu', 'Audrey Brooke', 'Capezio',\n",
       "       'eighty4', 'BELLE by Sigerson Morrison', 'City Classified',\n",
       "       'P&W New York', 'J. Renee', 'Helle Comfort', 'NON-BRANDED',\n",
       "       'Arturo Chiang', 'Judith Ripka', 'J`S AWAKE',\n",
       "       'Storm Bowling Shoes', 'Ferrini', 'PACIFIC TRAIL',\n",
       "       'Carlos Santana', 'Tidewater', 'Camper Together',\n",
       "       'Fireside Casuals', 'NEW BALANCE', 'Sesto Meucci', 'George',\n",
       "       'Cougar', 'RocSoc', 'Principle Plastics', 'Strand Import',\n",
       "       'Bamboo54', 'Joie', 'LFL', 'Charles by Charles David', 'SeaVees',\n",
       "       'Xtratuf', 'WISHPETS', 'VANELi', 'Deluxe Comfort', 'Sugar',\n",
       "       'Restricted', 'Nautica', 'Very Volatile', 'Bonnibel',\n",
       "       'summitfashions', 'Nufoot���', \"Breckelle's\", 'MI.IM', 'Sunville',\n",
       "       'Kelsi Dagger', 'GRASSHOPPERS', 'SUGAR', 'Earth', 'UGG Australia',\n",
       "       'UNITED NUDE', 'Babe', 'CityClassified', 'DV8 by Dolce Vita',\n",
       "       'Report Signature', 'Big Buddha', 'OH!', 'T.S.', 'Sbicca',\n",
       "       'Naughty Monkey', 'Static Fashion', 'Timberland', 'Gravity Defyer',\n",
       "       'Klub Nico', 'Mephisto', 'NeoSport', 'Remonte', 'Keen', 'Ipanema',\n",
       "       'Generic Surplus', 'Fergie', \"RJ's Fuzzies\", 'Jacobies',\n",
       "       'Elizabeth and James', 'Andrew Geller', 'Vionic by Orthaheel',\n",
       "       'Circus by Sam Edelman', 'B.O.C', 'Joy & Mario', 'Rebels',\n",
       "       'Ed Hardy', 'CL By Laundry', 'The North Face', 'Transpack',\n",
       "       'Demonia', 'La Sportiva', 'Rockport', 'Pink & Pepper',\n",
       "       'Under Armour', 'Yosi Samra', 'Brahma', 'ECCO', 'DimeCity',\n",
       "       'Footzyrolls', 'MJUS', 'Aeropostale', 'Lola Cruz', 'RSVP',\n",
       "       'Soft Style by Hush Puppies', 'Amalfi By Rangoni', 'Haflinger',\n",
       "       'DG Hill', 'SKIDDERS', 'Burnetie', 'LA GEAR', 'ONGUARD', 'Sorel',\n",
       "       'Bernie', 'Proxy', 'Dromedaris', 'Natural World', 'Chase & Chloe',\n",
       "       'Tactical 5.11', 'Easy USA', 'Mercanti Fiorentini', 'Elites',\n",
       "       'EASY SPIRIT E360', 'Alice & Olivia', 'Cold Front',\n",
       "       'MUK LUKS A LA MODE', 'BCBG', 'Romantic Soles', 'Hello Kitty',\n",
       "       'Judith', 'Diba.True', 'Icebug', 'Max Mara',\n",
       "       'Diane von Furstenberg', 'Montrail', 'FootJoy', 'Dearforms',\n",
       "       'Lola Sabbia', \"Parent's Choice\", 'Anne Michelle',\n",
       "       'IB EVA Slippers', 'Geox', 'Troentorp Bastad Clogs', 'Golfstream',\n",
       "       'Comfy Feet', 'Fabulous Footwear', 'No Rules', 'Kelly & Katie',\n",
       "       'Roper', 'Sperry Top-Sider', 'new@titude', 'Nufoot',\n",
       "       'Life Is Good', 'Volatile', 'LUO LUO', 'Montana', 'Saachi',\n",
       "       'Indian Selections', 'Shellys London', 'Toi et Moi', 'Toe Warmers',\n",
       "       'Ferragamo', 'GC Shoes', 'Tesh', 'Domba', 'Fiel',\n",
       "       'Pink Paradox London', 'Antigravity By Easy Spirit', 'Staheekum',\n",
       "       'Old Friend', \"Joe's Jeans\", 'Pin Up', 'Modzori', 'Apex', 'flojos',\n",
       "       'Gola', 'Barefooters', 'Grendene', 'SPERRY', 'NAYA', 'La Blanca',\n",
       "       'FFC New York', 'TOMS Shoes', 'Vicenzo Leather', 'Lauren Lorraine',\n",
       "       'Athena', 'Valentino', 'INC INTERNATIONAL CONCEPTS', 'MARC FISHER',\n",
       "       'Betty Boop Signature Product', 'JACOBIES', 'Wolverine',\n",
       "       'Onitsuka Tiger', 'Red Circle', 'Naot Footwear', 'Victoria',\n",
       "       'Prince', 'PINUP COUTURE', 'Amalfi by Rangoni', 'Soft Style'],\n",
       "      dtype=object)"
      ]
     },
     "execution_count": 88,
     "metadata": {},
     "output_type": "execute_result"
    }
   ],
   "source": [
    "df_cpy_norm['brand'].unique()"
   ]
  },
  {
   "cell_type": "code",
   "execution_count": 89,
   "metadata": {},
   "outputs": [
    {
     "name": "stdout",
     "output_type": "stream",
     "text": [
      "ANOVA results: F= 43.027825653350035 , P = 0.0\n"
     ]
    }
   ],
   "source": [
    "df_grouped = df_cpy_norm[['brand', 'prices.amount']].groupby(['brand'])\n",
    "\n",
    "e = {}\n",
    "for b in df_cpy_norm['brand'].unique():\n",
    "    e[b] = df_grouped.get_group(b)['prices.amount']\n",
    "\n",
    "f_value, p_value = stats.f_oneway(*e.values())\n",
    "print(\"ANOVA results: F=\", f_value, \", P =\", p_value)"
   ]
  },
  {
   "cell_type": "markdown",
   "metadata": {},
   "source": [
    "Top 20 colors"
   ]
  },
  {
   "cell_type": "code",
   "execution_count": 90,
   "metadata": {},
   "outputs": [
    {
     "data": {
      "text/plain": [
       "<AxesSubplot: xlabel='count', ylabel='colors'>"
      ]
     },
     "execution_count": 90,
     "metadata": {},
     "output_type": "execute_result"
    },
    {
     "data": {
      "image/png": "[encoded data removed]",
      "text/plain": [
       "<Figure size 432x288 with 1 Axes>"
      ]
     },
     "metadata": {},
     "output_type": "display_data"
    }
   ],
   "source": [
    "#show only top colors\n",
    "sns.countplot(y='colors', data=df_cpy_norm, order=df_cpy_norm['colors'].value_counts().iloc[:20].index)"
   ]
  },
  {
   "cell_type": "code",
   "execution_count": 91,
   "metadata": {},
   "outputs": [
    {
     "data": {
      "text/plain": [
       "<AxesSubplot: xlabel='colors', ylabel='prices.amount'>"
      ]
     },
     "execution_count": 91,
     "metadata": {},
     "output_type": "execute_result"
    },
    {
     "data": {
      "image/png": "[encoded data removed]",
      "text/plain": [
       "<Figure size 432x288 with 1 Axes>"
      ]
     },
     "metadata": {},
     "output_type": "display_data"
    }
   ],
   "source": [
    "plt.xticks(rotation=90)\n",
    "sns.boxplot(x='colors', y='prices.amount', data=df_cpy_norm, order=df_cpy_norm['colors'].value_counts().iloc[:30].index)"
   ]
  },
  {
   "cell_type": "markdown",
   "metadata": {},
   "source": [
    "IsSale"
   ]
  },
  {
   "cell_type": "code",
   "execution_count": 92,
   "metadata": {},
   "outputs": [
    {
     "data": {
      "text/plain": [
       "<AxesSubplot: xlabel='prices.isSale', ylabel='prices.amount'>"
      ]
     },
     "execution_count": 92,
     "metadata": {},
     "output_type": "execute_result"
    },
    {
     "data": {
      "image/png": "[encoded data removed]",
      "text/plain": [
       "<Figure size 432x288 with 1 Axes>"
      ]
     },
     "metadata": {},
     "output_type": "display_data"
    }
   ],
   "source": [
    "plt.xticks(rotation=90)\n",
    "sns.boxplot(x='prices.isSale', y='prices.amount', data=df_cpy_norm)"
   ]
  },
  {
   "cell_type": "code",
   "execution_count": 93,
   "metadata": {},
   "outputs": [
    {
     "data": {
      "text/html": [
       "<div>\n",
       "<style scoped>\n",
       "    .dataframe tbody tr th:only-of-type {\n",
       "        vertical-align: middle;\n",
       "    }\n",
       "\n",
       "    .dataframe tbody tr th {\n",
       "        vertical-align: top;\n",
       "    }\n",
       "\n",
       "    .dataframe thead th {\n",
       "        text-align: right;\n",
       "    }\n",
       "</style>\n",
       "<table border=\"1\" class=\"dataframe\">\n",
       "  <thead>\n",
       "    <tr style=\"text-align: right;\">\n",
       "      <th></th>\n",
       "      <th>dateAdded</th>\n",
       "      <th>dateUpdated</th>\n",
       "      <th>ean</th>\n",
       "      <th>prices.amountMin</th>\n",
       "      <th>prices.amountMax</th>\n",
       "      <th>prices.dateAdded</th>\n",
       "      <th>quantities</th>\n",
       "      <th>reviews</th>\n",
       "      <th>upc</th>\n",
       "      <th>prices.amount</th>\n",
       "    </tr>\n",
       "  </thead>\n",
       "  <tbody>\n",
       "    <tr>\n",
       "      <th>count</th>\n",
       "      <td>16450.000000</td>\n",
       "      <td>16450.000000</td>\n",
       "      <td>16450.000000</td>\n",
       "      <td>16450.000000</td>\n",
       "      <td>16450.000000</td>\n",
       "      <td>16450.000000</td>\n",
       "      <td>16450.000000</td>\n",
       "      <td>16450.000000</td>\n",
       "      <td>16450.000000</td>\n",
       "      <td>16450.000000</td>\n",
       "    </tr>\n",
       "    <tr>\n",
       "      <th>mean</th>\n",
       "      <td>0.999664</td>\n",
       "      <td>0.999908</td>\n",
       "      <td>0.078954</td>\n",
       "      <td>0.057877</td>\n",
       "      <td>0.058130</td>\n",
       "      <td>0.999857</td>\n",
       "      <td>0.452668</td>\n",
       "      <td>0.802490</td>\n",
       "      <td>0.746200</td>\n",
       "      <td>0.058003</td>\n",
       "    </tr>\n",
       "    <tr>\n",
       "      <th>std</th>\n",
       "      <td>0.000307</td>\n",
       "      <td>0.000090</td>\n",
       "      <td>0.021316</td>\n",
       "      <td>0.046611</td>\n",
       "      <td>0.046883</td>\n",
       "      <td>0.000195</td>\n",
       "      <td>0.298302</td>\n",
       "      <td>0.063342</td>\n",
       "      <td>0.191007</td>\n",
       "      <td>0.046682</td>\n",
       "    </tr>\n",
       "    <tr>\n",
       "      <th>min</th>\n",
       "      <td>0.998463</td>\n",
       "      <td>0.999390</td>\n",
       "      <td>0.001483</td>\n",
       "      <td>0.000995</td>\n",
       "      <td>0.000995</td>\n",
       "      <td>0.998441</td>\n",
       "      <td>0.000000</td>\n",
       "      <td>0.200000</td>\n",
       "      <td>0.000910</td>\n",
       "      <td>0.000995</td>\n",
       "    </tr>\n",
       "    <tr>\n",
       "      <th>25%</th>\n",
       "      <td>0.999498</td>\n",
       "      <td>0.999792</td>\n",
       "      <td>0.079394</td>\n",
       "      <td>0.031749</td>\n",
       "      <td>0.031892</td>\n",
       "      <td>0.999784</td>\n",
       "      <td>0.150000</td>\n",
       "      <td>0.803593</td>\n",
       "      <td>0.747789</td>\n",
       "      <td>0.031784</td>\n",
       "    </tr>\n",
       "    <tr>\n",
       "      <th>50%</th>\n",
       "      <td>0.999804</td>\n",
       "      <td>0.999948</td>\n",
       "      <td>0.079394</td>\n",
       "      <td>0.045216</td>\n",
       "      <td>0.045216</td>\n",
       "      <td>0.999978</td>\n",
       "      <td>0.492501</td>\n",
       "      <td>0.803593</td>\n",
       "      <td>0.747789</td>\n",
       "      <td>0.045216</td>\n",
       "    </tr>\n",
       "    <tr>\n",
       "      <th>75%</th>\n",
       "      <td>0.999920</td>\n",
       "      <td>0.999978</td>\n",
       "      <td>0.079394</td>\n",
       "      <td>0.070302</td>\n",
       "      <td>0.070302</td>\n",
       "      <td>0.999978</td>\n",
       "      <td>0.500000</td>\n",
       "      <td>0.803593</td>\n",
       "      <td>0.769557</td>\n",
       "      <td>0.070302</td>\n",
       "    </tr>\n",
       "    <tr>\n",
       "      <th>max</th>\n",
       "      <td>1.000000</td>\n",
       "      <td>1.000000</td>\n",
       "      <td>1.000000</td>\n",
       "      <td>1.000000</td>\n",
       "      <td>1.000000</td>\n",
       "      <td>1.000000</td>\n",
       "      <td>1.000000</td>\n",
       "      <td>1.000000</td>\n",
       "      <td>1.000000</td>\n",
       "      <td>1.000000</td>\n",
       "    </tr>\n",
       "  </tbody>\n",
       "</table>\n",
       "</div>"
      ],
      "text/plain": [
       "          dateAdded   dateUpdated           ean  prices.amountMin  \\\n",
       "count  16450.000000  16450.000000  16450.000000      16450.000000   \n",
       "mean       0.999664      0.999908      0.078954          0.057877   \n",
       "std        0.000307      0.000090      0.021316          0.046611   \n",
       "min        0.998463      0.999390      0.001483          0.000995   \n",
       "25%        0.999498      0.999792      0.079394          0.031749   \n",
       "50%        0.999804      0.999948      0.079394          0.045216   \n",
       "75%        0.999920      0.999978      0.079394          0.070302   \n",
       "max        1.000000      1.000000      1.000000          1.000000   \n",
       "\n",
       "       prices.amountMax  prices.dateAdded    quantities       reviews  \\\n",
       "count      16450.000000      16450.000000  16450.000000  16450.000000   \n",
       "mean           0.058130          0.999857      0.452668      0.802490   \n",
       "std            0.046883          0.000195      0.298302      0.063342   \n",
       "min            0.000995          0.998441      0.000000      0.200000   \n",
       "25%            0.031892          0.999784      0.150000      0.803593   \n",
       "50%            0.045216          0.999978      0.492501      0.803593   \n",
       "75%            0.070302          0.999978      0.500000      0.803593   \n",
       "max            1.000000          1.000000      1.000000      1.000000   \n",
       "\n",
       "                upc  prices.amount  \n",
       "count  16450.000000   16450.000000  \n",
       "mean       0.746200       0.058003  \n",
       "std        0.191007       0.046682  \n",
       "min        0.000910       0.000995  \n",
       "25%        0.747789       0.031784  \n",
       "50%        0.747789       0.045216  \n",
       "75%        0.769557       0.070302  \n",
       "max        1.000000       1.000000  "
      ]
     },
     "execution_count": 93,
     "metadata": {},
     "output_type": "execute_result"
    }
   ],
   "source": [
    "df_cpy_norm.describe()"
   ]
  },
  {
   "cell_type": "code",
   "execution_count": 94,
   "metadata": {},
   "outputs": [
    {
     "data": {
      "text/html": [
       "<div>\n",
       "<style scoped>\n",
       "    .dataframe tbody tr th:only-of-type {\n",
       "        vertical-align: middle;\n",
       "    }\n",
       "\n",
       "    .dataframe tbody tr th {\n",
       "        vertical-align: top;\n",
       "    }\n",
       "\n",
       "    .dataframe thead th {\n",
       "        text-align: right;\n",
       "    }\n",
       "</style>\n",
       "<table border=\"1\" class=\"dataframe\">\n",
       "  <thead>\n",
       "    <tr style=\"text-align: right;\">\n",
       "      <th></th>\n",
       "      <th>id</th>\n",
       "      <th>brand</th>\n",
       "      <th>categories</th>\n",
       "      <th>colors</th>\n",
       "      <th>descriptions</th>\n",
       "      <th>features</th>\n",
       "      <th>keys</th>\n",
       "      <th>name</th>\n",
       "      <th>prices.dateSeen</th>\n",
       "      <th>prices.sourceURLs</th>\n",
       "      <th>sourceURLs</th>\n",
       "    </tr>\n",
       "  </thead>\n",
       "  <tbody>\n",
       "    <tr>\n",
       "      <th>count</th>\n",
       "      <td>16450</td>\n",
       "      <td>16450</td>\n",
       "      <td>16450</td>\n",
       "      <td>16450</td>\n",
       "      <td>16450</td>\n",
       "      <td>16450</td>\n",
       "      <td>16450</td>\n",
       "      <td>16450</td>\n",
       "      <td>16194</td>\n",
       "      <td>16450</td>\n",
       "      <td>16450</td>\n",
       "    </tr>\n",
       "    <tr>\n",
       "      <th>unique</th>\n",
       "      <td>3932</td>\n",
       "      <td>758</td>\n",
       "      <td>476</td>\n",
       "      <td>1459</td>\n",
       "      <td>3932</td>\n",
       "      <td>3916</td>\n",
       "      <td>3928</td>\n",
       "      <td>3825</td>\n",
       "      <td>327</td>\n",
       "      <td>5886</td>\n",
       "      <td>3932</td>\n",
       "    </tr>\n",
       "    <tr>\n",
       "      <th>top</th>\n",
       "      <td>AVqP4tLYQMlgsOJE6dfJ</td>\n",
       "      <td>Journee Collection</td>\n",
       "      <td>Shoes,Women's Shoes,Clothing,All Women's Shoes</td>\n",
       "      <td>black</td>\n",
       "      <td>[{\"dateSeen\":[\"2017-03-25T09:34:20.165Z\"],\"sou...</td>\n",
       "      <td>[{\"key\":\"Heel Height\",\"value\":[\"High Heel\"]},{...</td>\n",
       "      <td>lilianawomensef63velvetpompomheels/20669369,li...</td>\n",
       "      <td>Women's Easy Spirit Traveltime Light Natural/W...</td>\n",
       "      <td>736413</td>\n",
       "      <td>https://www.overstock.com/Clothing-Shoes/Lilia...</td>\n",
       "      <td>https://www.overstock.com/Clothing-Shoes/Lilia...</td>\n",
       "    </tr>\n",
       "    <tr>\n",
       "      <th>freq</th>\n",
       "      <td>67</td>\n",
       "      <td>1397</td>\n",
       "      <td>1541</td>\n",
       "      <td>2361</td>\n",
       "      <td>67</td>\n",
       "      <td>67</td>\n",
       "      <td>67</td>\n",
       "      <td>130</td>\n",
       "      <td>7821</td>\n",
       "      <td>67</td>\n",
       "      <td>67</td>\n",
       "    </tr>\n",
       "  </tbody>\n",
       "</table>\n",
       "</div>"
      ],
      "text/plain": [
       "                          id               brand  \\\n",
       "count                  16450               16450   \n",
       "unique                  3932                 758   \n",
       "top     AVqP4tLYQMlgsOJE6dfJ  Journee Collection   \n",
       "freq                      67                1397   \n",
       "\n",
       "                                            categories colors  \\\n",
       "count                                            16450  16450   \n",
       "unique                                             476   1459   \n",
       "top     Shoes,Women's Shoes,Clothing,All Women's Shoes  black   \n",
       "freq                                              1541   2361   \n",
       "\n",
       "                                             descriptions  \\\n",
       "count                                               16450   \n",
       "unique                                               3932   \n",
       "top     [{\"dateSeen\":[\"2017-03-25T09:34:20.165Z\"],\"sou...   \n",
       "freq                                                   67   \n",
       "\n",
       "                                                 features  \\\n",
       "count                                               16450   \n",
       "unique                                               3916   \n",
       "top     [{\"key\":\"Heel Height\",\"value\":[\"High Heel\"]},{...   \n",
       "freq                                                   67   \n",
       "\n",
       "                                                     keys  \\\n",
       "count                                               16450   \n",
       "unique                                               3928   \n",
       "top     lilianawomensef63velvetpompomheels/20669369,li...   \n",
       "freq                                                   67   \n",
       "\n",
       "                                                     name  prices.dateSeen  \\\n",
       "count                                               16450            16194   \n",
       "unique                                               3825              327   \n",
       "top     Women's Easy Spirit Traveltime Light Natural/W...           736413   \n",
       "freq                                                  130             7821   \n",
       "\n",
       "                                        prices.sourceURLs  \\\n",
       "count                                               16450   \n",
       "unique                                               5886   \n",
       "top     https://www.overstock.com/Clothing-Shoes/Lilia...   \n",
       "freq                                                   67   \n",
       "\n",
       "                                               sourceURLs  \n",
       "count                                               16450  \n",
       "unique                                               3932  \n",
       "top     https://www.overstock.com/Clothing-Shoes/Lilia...  \n",
       "freq                                                   67  "
      ]
     },
     "execution_count": 94,
     "metadata": {},
     "output_type": "execute_result"
    }
   ],
   "source": [
    "df_cpy_norm.describe(include=['object'])"
   ]
  },
  {
   "cell_type": "code",
   "execution_count": 95,
   "metadata": {},
   "outputs": [
    {
     "data": {
      "text/html": [
       "<div>\n",
       "<style scoped>\n",
       "    .dataframe tbody tr th:only-of-type {\n",
       "        vertical-align: middle;\n",
       "    }\n",
       "\n",
       "    .dataframe tbody tr th {\n",
       "        vertical-align: top;\n",
       "    }\n",
       "\n",
       "    .dataframe thead th {\n",
       "        text-align: right;\n",
       "    }\n",
       "</style>\n",
       "<table border=\"1\" class=\"dataframe\">\n",
       "  <thead>\n",
       "    <tr style=\"text-align: right;\">\n",
       "      <th></th>\n",
       "      <th>brand</th>\n",
       "      <th>colors</th>\n",
       "      <th>prices.amount</th>\n",
       "    </tr>\n",
       "  </thead>\n",
       "  <tbody>\n",
       "    <tr>\n",
       "      <th>0</th>\n",
       "      <td>1 World Sarongs</td>\n",
       "      <td>black,blue,brown</td>\n",
       "      <td>855.736548</td>\n",
       "    </tr>\n",
       "    <tr>\n",
       "      <th>1</th>\n",
       "      <td>1 World Sarongs</td>\n",
       "      <td>black,purple,white</td>\n",
       "      <td>1185.397132</td>\n",
       "    </tr>\n",
       "    <tr>\n",
       "      <th>2</th>\n",
       "      <td>1 World Sarongs</td>\n",
       "      <td>blue</td>\n",
       "      <td>992.714113</td>\n",
       "    </tr>\n",
       "    <tr>\n",
       "      <th>3</th>\n",
       "      <td>1 World Sarongs</td>\n",
       "      <td>other,pink,white,yellow</td>\n",
       "      <td>917.600394</td>\n",
       "    </tr>\n",
       "    <tr>\n",
       "      <th>4</th>\n",
       "      <td>1 World Sarongs</td>\n",
       "      <td>white</td>\n",
       "      <td>1412.111266</td>\n",
       "    </tr>\n",
       "    <tr>\n",
       "      <th>...</th>\n",
       "      <td>...</td>\n",
       "      <td>...</td>\n",
       "      <td>...</td>\n",
       "    </tr>\n",
       "    <tr>\n",
       "      <th>2892</th>\n",
       "      <td>mobils by Mephisto</td>\n",
       "      <td>denim leather,steel leather</td>\n",
       "      <td>14553.399775</td>\n",
       "    </tr>\n",
       "    <tr>\n",
       "      <th>2893</th>\n",
       "      <td>new@titude</td>\n",
       "      <td>brown</td>\n",
       "      <td>958.259776</td>\n",
       "    </tr>\n",
       "    <tr>\n",
       "      <th>2894</th>\n",
       "      <td>r.b.l.s.</td>\n",
       "      <td>black</td>\n",
       "      <td>1455.246669</td>\n",
       "    </tr>\n",
       "    <tr>\n",
       "      <th>2895</th>\n",
       "      <td>summitfashions</td>\n",
       "      <td>green</td>\n",
       "      <td>3217.199916</td>\n",
       "    </tr>\n",
       "    <tr>\n",
       "      <th>2896</th>\n",
       "      <td>totes</td>\n",
       "      <td>off-white</td>\n",
       "      <td>2010.435030</td>\n",
       "    </tr>\n",
       "  </tbody>\n",
       "</table>\n",
       "<p>2897 rows × 3 columns</p>\n",
       "</div>"
      ],
      "text/plain": [
       "                   brand                       colors  prices.amount\n",
       "0        1 World Sarongs             black,blue,brown     855.736548\n",
       "1        1 World Sarongs           black,purple,white    1185.397132\n",
       "2        1 World Sarongs                         blue     992.714113\n",
       "3        1 World Sarongs      other,pink,white,yellow     917.600394\n",
       "4        1 World Sarongs                        white    1412.111266\n",
       "...                  ...                          ...            ...\n",
       "2892  mobils by Mephisto  denim leather,steel leather   14553.399775\n",
       "2893          new@titude                        brown     958.259776\n",
       "2894            r.b.l.s.                        black    1455.246669\n",
       "2895      summitfashions                        green    3217.199916\n",
       "2896               totes                    off-white    2010.435030\n",
       "\n",
       "[2897 rows x 3 columns]"
      ]
     },
     "execution_count": 95,
     "metadata": {},
     "output_type": "execute_result"
    }
   ],
   "source": [
    "df_group = df_cpy[['brand', 'colors', 'prices.amount']]\n",
    "\n",
    "group_test = df_group.groupby(['brand', 'colors'], as_index=False).mean(['prices.amount'])\n",
    "group_test"
   ]
  },
  {
   "cell_type": "code",
   "execution_count": 96,
   "metadata": {},
   "outputs": [
    {
     "data": {
      "text/html": [
       "<div>\n",
       "<style scoped>\n",
       "    .dataframe tbody tr th:only-of-type {\n",
       "        vertical-align: middle;\n",
       "    }\n",
       "\n",
       "    .dataframe tbody tr th {\n",
       "        vertical-align: top;\n",
       "    }\n",
       "\n",
       "    .dataframe thead tr th {\n",
       "        text-align: left;\n",
       "    }\n",
       "\n",
       "    .dataframe thead tr:last-of-type th {\n",
       "        text-align: right;\n",
       "    }\n",
       "</style>\n",
       "<table border=\"1\" class=\"dataframe\">\n",
       "  <thead>\n",
       "    <tr>\n",
       "      <th></th>\n",
       "      <th colspan=\"21\" halign=\"left\">prices.amount</th>\n",
       "    </tr>\n",
       "    <tr>\n",
       "      <th>brand</th>\n",
       "      <th>1 World Sarongs</th>\n",
       "      <th>2 Lips Too</th>\n",
       "      <th>90 Degree by Reflex</th>\n",
       "      <th>A'rcopedico</th>\n",
       "      <th>A2 By Aerosoles</th>\n",
       "      <th>A2 by Aerosoles</th>\n",
       "      <th>ADI</th>\n",
       "      <th>ASICS</th>\n",
       "      <th>Academie Gear</th>\n",
       "      <th>Acorn</th>\n",
       "      <th>...</th>\n",
       "      <th>a.x.n.y.</th>\n",
       "      <th>bar III</th>\n",
       "      <th>eighty4</th>\n",
       "      <th>flojos</th>\n",
       "      <th>kate spade</th>\n",
       "      <th>mobils by Mephisto</th>\n",
       "      <th>new@titude</th>\n",
       "      <th>r.b.l.s.</th>\n",
       "      <th>summitfashions</th>\n",
       "      <th>totes</th>\n",
       "    </tr>\n",
       "    <tr>\n",
       "      <th>colors</th>\n",
       "      <th></th>\n",
       "      <th></th>\n",
       "      <th></th>\n",
       "      <th></th>\n",
       "      <th></th>\n",
       "      <th></th>\n",
       "      <th></th>\n",
       "      <th></th>\n",
       "      <th></th>\n",
       "      <th></th>\n",
       "      <th></th>\n",
       "      <th></th>\n",
       "      <th></th>\n",
       "      <th></th>\n",
       "      <th></th>\n",
       "      <th></th>\n",
       "      <th></th>\n",
       "      <th></th>\n",
       "      <th></th>\n",
       "      <th></th>\n",
       "      <th></th>\n",
       "    </tr>\n",
       "  </thead>\n",
       "  <tbody>\n",
       "    <tr>\n",
       "      <th>,</th>\n",
       "      <td>NaN</td>\n",
       "      <td>NaN</td>\n",
       "      <td>NaN</td>\n",
       "      <td>NaN</td>\n",
       "      <td>NaN</td>\n",
       "      <td>NaN</td>\n",
       "      <td>NaN</td>\n",
       "      <td>NaN</td>\n",
       "      <td>NaN</td>\n",
       "      <td>NaN</td>\n",
       "      <td>...</td>\n",
       "      <td>NaN</td>\n",
       "      <td>NaN</td>\n",
       "      <td>NaN</td>\n",
       "      <td>NaN</td>\n",
       "      <td>NaN</td>\n",
       "      <td>NaN</td>\n",
       "      <td>NaN</td>\n",
       "      <td>NaN</td>\n",
       "      <td>NaN</td>\n",
       "      <td>NaN</td>\n",
       "    </tr>\n",
       "    <tr>\n",
       "      <th>10</th>\n",
       "      <td>NaN</td>\n",
       "      <td>NaN</td>\n",
       "      <td>NaN</td>\n",
       "      <td>NaN</td>\n",
       "      <td>NaN</td>\n",
       "      <td>NaN</td>\n",
       "      <td>NaN</td>\n",
       "      <td>NaN</td>\n",
       "      <td>NaN</td>\n",
       "      <td>NaN</td>\n",
       "      <td>...</td>\n",
       "      <td>NaN</td>\n",
       "      <td>NaN</td>\n",
       "      <td>NaN</td>\n",
       "      <td>NaN</td>\n",
       "      <td>NaN</td>\n",
       "      <td>NaN</td>\n",
       "      <td>NaN</td>\n",
       "      <td>NaN</td>\n",
       "      <td>NaN</td>\n",
       "      <td>NaN</td>\n",
       "    </tr>\n",
       "    <tr>\n",
       "      <th>5</th>\n",
       "      <td>NaN</td>\n",
       "      <td>NaN</td>\n",
       "      <td>NaN</td>\n",
       "      <td>NaN</td>\n",
       "      <td>NaN</td>\n",
       "      <td>NaN</td>\n",
       "      <td>NaN</td>\n",
       "      <td>NaN</td>\n",
       "      <td>NaN</td>\n",
       "      <td>NaN</td>\n",
       "      <td>...</td>\n",
       "      <td>NaN</td>\n",
       "      <td>NaN</td>\n",
       "      <td>NaN</td>\n",
       "      <td>NaN</td>\n",
       "      <td>NaN</td>\n",
       "      <td>NaN</td>\n",
       "      <td>NaN</td>\n",
       "      <td>NaN</td>\n",
       "      <td>NaN</td>\n",
       "      <td>NaN</td>\n",
       "    </tr>\n",
       "    <tr>\n",
       "      <th>5.5</th>\n",
       "      <td>NaN</td>\n",
       "      <td>NaN</td>\n",
       "      <td>NaN</td>\n",
       "      <td>NaN</td>\n",
       "      <td>NaN</td>\n",
       "      <td>NaN</td>\n",
       "      <td>NaN</td>\n",
       "      <td>NaN</td>\n",
       "      <td>NaN</td>\n",
       "      <td>NaN</td>\n",
       "      <td>...</td>\n",
       "      <td>NaN</td>\n",
       "      <td>NaN</td>\n",
       "      <td>NaN</td>\n",
       "      <td>NaN</td>\n",
       "      <td>NaN</td>\n",
       "      <td>NaN</td>\n",
       "      <td>NaN</td>\n",
       "      <td>NaN</td>\n",
       "      <td>NaN</td>\n",
       "      <td>NaN</td>\n",
       "    </tr>\n",
       "    <tr>\n",
       "      <th>6</th>\n",
       "      <td>NaN</td>\n",
       "      <td>NaN</td>\n",
       "      <td>NaN</td>\n",
       "      <td>NaN</td>\n",
       "      <td>NaN</td>\n",
       "      <td>NaN</td>\n",
       "      <td>NaN</td>\n",
       "      <td>NaN</td>\n",
       "      <td>NaN</td>\n",
       "      <td>NaN</td>\n",
       "      <td>...</td>\n",
       "      <td>NaN</td>\n",
       "      <td>NaN</td>\n",
       "      <td>NaN</td>\n",
       "      <td>NaN</td>\n",
       "      <td>NaN</td>\n",
       "      <td>NaN</td>\n",
       "      <td>NaN</td>\n",
       "      <td>NaN</td>\n",
       "      <td>NaN</td>\n",
       "      <td>NaN</td>\n",
       "    </tr>\n",
       "    <tr>\n",
       "      <th>...</th>\n",
       "      <td>...</td>\n",
       "      <td>...</td>\n",
       "      <td>...</td>\n",
       "      <td>...</td>\n",
       "      <td>...</td>\n",
       "      <td>...</td>\n",
       "      <td>...</td>\n",
       "      <td>...</td>\n",
       "      <td>...</td>\n",
       "      <td>...</td>\n",
       "      <td>...</td>\n",
       "      <td>...</td>\n",
       "      <td>...</td>\n",
       "      <td>...</td>\n",
       "      <td>...</td>\n",
       "      <td>...</td>\n",
       "      <td>...</td>\n",
       "      <td>...</td>\n",
       "      <td>...</td>\n",
       "      <td>...</td>\n",
       "      <td>...</td>\n",
       "    </tr>\n",
       "    <tr>\n",
       "      <th>yellow</th>\n",
       "      <td>NaN</td>\n",
       "      <td>NaN</td>\n",
       "      <td>NaN</td>\n",
       "      <td>NaN</td>\n",
       "      <td>NaN</td>\n",
       "      <td>NaN</td>\n",
       "      <td>NaN</td>\n",
       "      <td>NaN</td>\n",
       "      <td>NaN</td>\n",
       "      <td>NaN</td>\n",
       "      <td>...</td>\n",
       "      <td>NaN</td>\n",
       "      <td>NaN</td>\n",
       "      <td>NaN</td>\n",
       "      <td>NaN</td>\n",
       "      <td>NaN</td>\n",
       "      <td>NaN</td>\n",
       "      <td>NaN</td>\n",
       "      <td>NaN</td>\n",
       "      <td>NaN</td>\n",
       "      <td>NaN</td>\n",
       "    </tr>\n",
       "    <tr>\n",
       "      <th>yellow,cornsilk</th>\n",
       "      <td>NaN</td>\n",
       "      <td>NaN</td>\n",
       "      <td>NaN</td>\n",
       "      <td>NaN</td>\n",
       "      <td>NaN</td>\n",
       "      <td>NaN</td>\n",
       "      <td>NaN</td>\n",
       "      <td>NaN</td>\n",
       "      <td>NaN</td>\n",
       "      <td>NaN</td>\n",
       "      <td>...</td>\n",
       "      <td>NaN</td>\n",
       "      <td>NaN</td>\n",
       "      <td>NaN</td>\n",
       "      <td>NaN</td>\n",
       "      <td>NaN</td>\n",
       "      <td>NaN</td>\n",
       "      <td>NaN</td>\n",
       "      <td>NaN</td>\n",
       "      <td>NaN</td>\n",
       "      <td>NaN</td>\n",
       "    </tr>\n",
       "    <tr>\n",
       "      <th>yellow,lt yllw</th>\n",
       "      <td>NaN</td>\n",
       "      <td>NaN</td>\n",
       "      <td>NaN</td>\n",
       "      <td>NaN</td>\n",
       "      <td>NaN</td>\n",
       "      <td>NaN</td>\n",
       "      <td>NaN</td>\n",
       "      <td>NaN</td>\n",
       "      <td>NaN</td>\n",
       "      <td>NaN</td>\n",
       "      <td>...</td>\n",
       "      <td>NaN</td>\n",
       "      <td>NaN</td>\n",
       "      <td>NaN</td>\n",
       "      <td>NaN</td>\n",
       "      <td>NaN</td>\n",
       "      <td>NaN</td>\n",
       "      <td>NaN</td>\n",
       "      <td>NaN</td>\n",
       "      <td>NaN</td>\n",
       "      <td>NaN</td>\n",
       "    </tr>\n",
       "    <tr>\n",
       "      <th>zebra,of</th>\n",
       "      <td>NaN</td>\n",
       "      <td>NaN</td>\n",
       "      <td>NaN</td>\n",
       "      <td>NaN</td>\n",
       "      <td>NaN</td>\n",
       "      <td>NaN</td>\n",
       "      <td>NaN</td>\n",
       "      <td>NaN</td>\n",
       "      <td>NaN</td>\n",
       "      <td>NaN</td>\n",
       "      <td>...</td>\n",
       "      <td>NaN</td>\n",
       "      <td>NaN</td>\n",
       "      <td>NaN</td>\n",
       "      <td>NaN</td>\n",
       "      <td>NaN</td>\n",
       "      <td>NaN</td>\n",
       "      <td>NaN</td>\n",
       "      <td>NaN</td>\n",
       "      <td>NaN</td>\n",
       "      <td>NaN</td>\n",
       "    </tr>\n",
       "    <tr>\n",
       "      <th>zig zag,coral pat</th>\n",
       "      <td>NaN</td>\n",
       "      <td>NaN</td>\n",
       "      <td>NaN</td>\n",
       "      <td>NaN</td>\n",
       "      <td>NaN</td>\n",
       "      <td>NaN</td>\n",
       "      <td>NaN</td>\n",
       "      <td>NaN</td>\n",
       "      <td>NaN</td>\n",
       "      <td>NaN</td>\n",
       "      <td>...</td>\n",
       "      <td>NaN</td>\n",
       "      <td>NaN</td>\n",
       "      <td>NaN</td>\n",
       "      <td>NaN</td>\n",
       "      <td>NaN</td>\n",
       "      <td>NaN</td>\n",
       "      <td>NaN</td>\n",
       "      <td>NaN</td>\n",
       "      <td>NaN</td>\n",
       "      <td>NaN</td>\n",
       "    </tr>\n",
       "  </tbody>\n",
       "</table>\n",
       "<p>1459 rows × 758 columns</p>\n",
       "</div>"
      ],
      "text/plain": [
       "                    prices.amount                                             \\\n",
       "brand             1 World Sarongs 2 Lips Too 90 Degree by Reflex A'rcopedico   \n",
       "colors                                                                         \n",
       ",                             NaN        NaN                 NaN         NaN   \n",
       "10                            NaN        NaN                 NaN         NaN   \n",
       "5                             NaN        NaN                 NaN         NaN   \n",
       "5.5                           NaN        NaN                 NaN         NaN   \n",
       "6                             NaN        NaN                 NaN         NaN   \n",
       "...                           ...        ...                 ...         ...   \n",
       "yellow                        NaN        NaN                 NaN         NaN   \n",
       "yellow,cornsilk               NaN        NaN                 NaN         NaN   \n",
       "yellow,lt yllw                NaN        NaN                 NaN         NaN   \n",
       "zebra,of                      NaN        NaN                 NaN         NaN   \n",
       "zig zag,coral pat             NaN        NaN                 NaN         NaN   \n",
       "\n",
       "                                                                           \\\n",
       "brand             A2 By Aerosoles A2 by Aerosoles ADI ASICS Academie Gear   \n",
       "colors                                                                      \n",
       ",                             NaN             NaN NaN   NaN           NaN   \n",
       "10                            NaN             NaN NaN   NaN           NaN   \n",
       "5                             NaN             NaN NaN   NaN           NaN   \n",
       "5.5                           NaN             NaN NaN   NaN           NaN   \n",
       "6                             NaN             NaN NaN   NaN           NaN   \n",
       "...                           ...             ...  ..   ...           ...   \n",
       "yellow                        NaN             NaN NaN   NaN           NaN   \n",
       "yellow,cornsilk               NaN             NaN NaN   NaN           NaN   \n",
       "yellow,lt yllw                NaN             NaN NaN   NaN           NaN   \n",
       "zebra,of                      NaN             NaN NaN   NaN           NaN   \n",
       "zig zag,coral pat             NaN             NaN NaN   NaN           NaN   \n",
       "\n",
       "                         ...                                             \\\n",
       "brand             Acorn  ... a.x.n.y. bar III eighty4 flojos kate spade   \n",
       "colors                   ...                                              \n",
       ",                   NaN  ...      NaN     NaN     NaN    NaN        NaN   \n",
       "10                  NaN  ...      NaN     NaN     NaN    NaN        NaN   \n",
       "5                   NaN  ...      NaN     NaN     NaN    NaN        NaN   \n",
       "5.5                 NaN  ...      NaN     NaN     NaN    NaN        NaN   \n",
       "6                   NaN  ...      NaN     NaN     NaN    NaN        NaN   \n",
       "...                 ...  ...      ...     ...     ...    ...        ...   \n",
       "yellow              NaN  ...      NaN     NaN     NaN    NaN        NaN   \n",
       "yellow,cornsilk     NaN  ...      NaN     NaN     NaN    NaN        NaN   \n",
       "yellow,lt yllw      NaN  ...      NaN     NaN     NaN    NaN        NaN   \n",
       "zebra,of            NaN  ...      NaN     NaN     NaN    NaN        NaN   \n",
       "zig zag,coral pat   NaN  ...      NaN     NaN     NaN    NaN        NaN   \n",
       "\n",
       "                                                                               \n",
       "brand             mobils by Mephisto new@titude r.b.l.s. summitfashions totes  \n",
       "colors                                                                         \n",
       ",                                NaN        NaN      NaN            NaN   NaN  \n",
       "10                               NaN        NaN      NaN            NaN   NaN  \n",
       "5                                NaN        NaN      NaN            NaN   NaN  \n",
       "5.5                              NaN        NaN      NaN            NaN   NaN  \n",
       "6                                NaN        NaN      NaN            NaN   NaN  \n",
       "...                              ...        ...      ...            ...   ...  \n",
       "yellow                           NaN        NaN      NaN            NaN   NaN  \n",
       "yellow,cornsilk                  NaN        NaN      NaN            NaN   NaN  \n",
       "yellow,lt yllw                   NaN        NaN      NaN            NaN   NaN  \n",
       "zebra,of                         NaN        NaN      NaN            NaN   NaN  \n",
       "zig zag,coral pat                NaN        NaN      NaN            NaN   NaN  \n",
       "\n",
       "[1459 rows x 758 columns]"
      ]
     },
     "execution_count": 96,
     "metadata": {},
     "output_type": "execute_result"
    }
   ],
   "source": [
    "group_pivot = group_test.pivot(index='colors', columns='brand')\n",
    "group_pivot\n"
   ]
  },
  {
   "cell_type": "code",
   "execution_count": 98,
   "metadata": {},
   "outputs": [
    {
     "data": {
      "text/plain": [
       "Index(['dateAdded', 'dateUpdated', 'ean', 'prices.amountMin',\n",
       "       'prices.amountMax', 'prices.dateAdded', 'quantities', 'reviews', 'upc',\n",
       "       'prices.amount', 'id', 'brand', 'categories', 'colors', 'descriptions',\n",
       "       'features', 'keys', 'name', 'prices.dateSeen', 'prices.isSale',\n",
       "       'prices.sourceURLs', 'sourceURLs'],\n",
       "      dtype='object')"
      ]
     },
     "execution_count": 98,
     "metadata": {},
     "output_type": "execute_result"
    }
   ],
   "source": [
    "df_cpy_norm.columns"
   ]
  },
  {
   "cell_type": "code",
   "execution_count": 97,
   "metadata": {},
   "outputs": [
    {
     "data": {
      "text/plain": [
       "[]"
      ]
     },
     "execution_count": 97,
     "metadata": {},
     "output_type": "execute_result"
    },
    {
     "data": {
      "image/png": "[encoded data removed]",
      "text/plain": [
       "<Figure size 432x288 with 2 Axes>"
      ]
     },
     "metadata": {},
     "output_type": "display_data"
    }
   ],
   "source": [
    "group_pivot_top30 = group_pivot.iloc[:, :30]\n",
    "\n",
    "plt.pcolor(group_pivot_top30.fillna(0), cmap='RdBu')\n",
    "plt.colorbar()\n",
    "plt.plot()"
   ]
  },
  {
   "cell_type": "code",
   "execution_count": 101,
   "metadata": {},
   "outputs": [
    {
     "data": {
      "text/plain": [
       "0        1.000000\n",
       "1        1.000000\n",
       "2        1.000000\n",
       "3        1.000000\n",
       "4        1.000000\n",
       "           ...   \n",
       "33794    0.803593\n",
       "33795    0.803593\n",
       "33796    0.803593\n",
       "33797    0.803593\n",
       "33798    0.803593\n",
       "Name: reviews, Length: 16450, dtype: float64"
      ]
     },
     "execution_count": 101,
     "metadata": {},
     "output_type": "execute_result"
    }
   ],
   "source": []
  },
  {
   "cell_type": "code",
   "execution_count": null,
   "metadata": {},
   "outputs": [],
   "source": []
  }
 ],
 "metadata": {
  "kernelspec": {
   "display_name": "base",
   "language": "python",
   "name": "python3"
  },
  "language_info": {
   "codemirror_mode": {
    "name": "ipython",
    "version": 3
   },
   "file_extension": ".py",
   "mimetype": "text/x-python",
   "name": "python",
   "nbconvert_exporter": "python",
   "pygments_lexer": "ipython3",
   "version": "3.10.0"
  }
 },
 "nbformat": 4,
 "nbformat_minor": 2
}
