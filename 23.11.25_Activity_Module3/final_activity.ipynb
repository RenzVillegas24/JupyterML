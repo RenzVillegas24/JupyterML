{
 "cells": [
  {
   "cell_type": "markdown",
   "metadata": {},
   "source": [
    "Import the required libraries"
   ]
  },
  {
   "cell_type": "code",
   "execution_count": 644,
   "metadata": {},
   "outputs": [
    {
     "name": "stdout",
     "output_type": "stream",
     "text": [
      "Requirement already satisfied: currencyconverter in c:\\users\\renzcute\\anaconda3\\lib\\site-packages (0.17.13)\n",
      "Note: you may need to restart the kernel to use updated packages.\n"
     ]
    }
   ],
   "source": [
    "import numpy as np\n",
    "import pandas as pd\n",
    "import matplotlib.pyplot as plt\n",
    "from scipy import stats\n",
    "import json\n",
    "import seaborn as sns\n",
    "\n",
    "\n",
    "\n",
    "%pip install currencyconverter\n",
    "from currency_converter import CurrencyConverter"
   ]
  },
  {
   "cell_type": "markdown",
   "metadata": {},
   "source": [
    "Import the dataset"
   ]
  },
  {
   "cell_type": "code",
   "execution_count": 2,
   "metadata": {},
   "outputs": [],
   "source": [
    "# df = pd.read_csv('https://query.data.world/s/4hitawaxckoxcgheh3mdxb5tafsmq6?dws=00000')\n",
    "df = pd.read_csv('7210_1.csv', low_memory=False)"
   ]
  },
  {
   "cell_type": "markdown",
   "metadata": {},
   "source": [
    "Copy the dataset for comparing the cleaned and non cleaned"
   ]
  },
  {
   "cell_type": "code",
   "execution_count": 930,
   "metadata": {},
   "outputs": [],
   "source": [
    "df_cpy = df.copy()"
   ]
  },
  {
   "cell_type": "markdown",
   "metadata": {},
   "source": [
    "Get the first 10 rows"
   ]
  },
  {
   "cell_type": "code",
   "execution_count": 931,
   "metadata": {},
   "outputs": [
    {
     "data": {
      "text/html": [
       "<div>\n",
       "<style scoped>\n",
       "    .dataframe tbody tr th:only-of-type {\n",
       "        vertical-align: middle;\n",
       "    }\n",
       "\n",
       "    .dataframe tbody tr th {\n",
       "        vertical-align: top;\n",
       "    }\n",
       "\n",
       "    .dataframe thead th {\n",
       "        text-align: right;\n",
       "    }\n",
       "</style>\n",
       "<table border=\"1\" class=\"dataframe\">\n",
       "  <thead>\n",
       "    <tr style=\"text-align: right;\">\n",
       "      <th></th>\n",
       "      <th>id</th>\n",
       "      <th>asins</th>\n",
       "      <th>brand</th>\n",
       "      <th>categories</th>\n",
       "      <th>colors</th>\n",
       "      <th>count</th>\n",
       "      <th>dateAdded</th>\n",
       "      <th>dateUpdated</th>\n",
       "      <th>descriptions</th>\n",
       "      <th>dimension</th>\n",
       "      <th>...</th>\n",
       "      <th>skus</th>\n",
       "      <th>sourceURLs</th>\n",
       "      <th>upc</th>\n",
       "      <th>vin</th>\n",
       "      <th>websiteIDs</th>\n",
       "      <th>weight</th>\n",
       "      <th>Unnamed: 48</th>\n",
       "      <th>Unnamed: 49</th>\n",
       "      <th>Unnamed: 50</th>\n",
       "      <th>Unnamed: 51</th>\n",
       "    </tr>\n",
       "  </thead>\n",
       "  <tbody>\n",
       "    <tr>\n",
       "      <th>0</th>\n",
       "      <td>AVpe__eOilAPnD_xSt-H</td>\n",
       "      <td>NaN</td>\n",
       "      <td>Novica</td>\n",
       "      <td>Access.,Clothing,Shoes,Women's Clothing</td>\n",
       "      <td>Purple</td>\n",
       "      <td>NaN</td>\n",
       "      <td>2017-02-03T22:06:24Z</td>\n",
       "      <td>2017-03-28T11:53:51Z</td>\n",
       "      <td>[{\"dateSeen\":[\"2017-03-26T05:04:46.539Z\",\"2017...</td>\n",
       "      <td>NaN</td>\n",
       "      <td>...</td>\n",
       "      <td>[{\"sourceURLs\":[\"https://www.overstock.com/Wor...</td>\n",
       "      <td>https://www.overstock.com/Worldstock-Fair-Trad...</td>\n",
       "      <td>NaN</td>\n",
       "      <td>NaN</td>\n",
       "      <td>NaN</td>\n",
       "      <td>NaN</td>\n",
       "      <td>NaN</td>\n",
       "      <td>NaN</td>\n",
       "      <td>NaN</td>\n",
       "      <td>NaN</td>\n",
       "    </tr>\n",
       "    <tr>\n",
       "      <th>1</th>\n",
       "      <td>AVpe__eOilAPnD_xSt-H</td>\n",
       "      <td>NaN</td>\n",
       "      <td>Novica</td>\n",
       "      <td>Access.,Clothing,Shoes,Women's Clothing</td>\n",
       "      <td>Purple</td>\n",
       "      <td>NaN</td>\n",
       "      <td>2017-02-03T22:06:24Z</td>\n",
       "      <td>2017-03-28T11:53:51Z</td>\n",
       "      <td>[{\"dateSeen\":[\"2017-03-26T05:04:46.539Z\",\"2017...</td>\n",
       "      <td>NaN</td>\n",
       "      <td>...</td>\n",
       "      <td>[{\"sourceURLs\":[\"https://www.overstock.com/Wor...</td>\n",
       "      <td>https://www.overstock.com/Worldstock-Fair-Trad...</td>\n",
       "      <td>NaN</td>\n",
       "      <td>NaN</td>\n",
       "      <td>NaN</td>\n",
       "      <td>NaN</td>\n",
       "      <td>NaN</td>\n",
       "      <td>NaN</td>\n",
       "      <td>NaN</td>\n",
       "      <td>NaN</td>\n",
       "    </tr>\n",
       "    <tr>\n",
       "      <th>2</th>\n",
       "      <td>AVpe__eOilAPnD_xSt-H</td>\n",
       "      <td>NaN</td>\n",
       "      <td>Novica</td>\n",
       "      <td>Access.,Clothing,Shoes,Women's Clothing</td>\n",
       "      <td>Purple</td>\n",
       "      <td>NaN</td>\n",
       "      <td>2017-02-03T22:06:24Z</td>\n",
       "      <td>2017-03-28T11:53:51Z</td>\n",
       "      <td>[{\"dateSeen\":[\"2017-03-26T05:04:46.539Z\",\"2017...</td>\n",
       "      <td>NaN</td>\n",
       "      <td>...</td>\n",
       "      <td>[{\"sourceURLs\":[\"https://www.overstock.com/Wor...</td>\n",
       "      <td>https://www.overstock.com/Worldstock-Fair-Trad...</td>\n",
       "      <td>NaN</td>\n",
       "      <td>NaN</td>\n",
       "      <td>NaN</td>\n",
       "      <td>NaN</td>\n",
       "      <td>NaN</td>\n",
       "      <td>NaN</td>\n",
       "      <td>NaN</td>\n",
       "      <td>NaN</td>\n",
       "    </tr>\n",
       "    <tr>\n",
       "      <th>3</th>\n",
       "      <td>AVpe__eOilAPnD_xSt-H</td>\n",
       "      <td>NaN</td>\n",
       "      <td>Novica</td>\n",
       "      <td>Access.,Clothing,Shoes,Women's Clothing</td>\n",
       "      <td>Purple</td>\n",
       "      <td>NaN</td>\n",
       "      <td>2017-02-03T22:06:24Z</td>\n",
       "      <td>2017-03-28T11:53:51Z</td>\n",
       "      <td>[{\"dateSeen\":[\"2017-03-26T05:04:46.539Z\",\"2017...</td>\n",
       "      <td>NaN</td>\n",
       "      <td>...</td>\n",
       "      <td>[{\"sourceURLs\":[\"https://www.overstock.com/Wor...</td>\n",
       "      <td>https://www.overstock.com/Worldstock-Fair-Trad...</td>\n",
       "      <td>NaN</td>\n",
       "      <td>NaN</td>\n",
       "      <td>NaN</td>\n",
       "      <td>NaN</td>\n",
       "      <td>NaN</td>\n",
       "      <td>NaN</td>\n",
       "      <td>NaN</td>\n",
       "      <td>NaN</td>\n",
       "    </tr>\n",
       "    <tr>\n",
       "      <th>4</th>\n",
       "      <td>AVpe__eOilAPnD_xSt-H</td>\n",
       "      <td>NaN</td>\n",
       "      <td>Novica</td>\n",
       "      <td>Access.,Clothing,Shoes,Women's Clothing</td>\n",
       "      <td>Purple</td>\n",
       "      <td>NaN</td>\n",
       "      <td>2017-02-03T22:06:24Z</td>\n",
       "      <td>2017-03-28T11:53:51Z</td>\n",
       "      <td>[{\"dateSeen\":[\"2017-03-26T05:04:46.539Z\",\"2017...</td>\n",
       "      <td>NaN</td>\n",
       "      <td>...</td>\n",
       "      <td>[{\"sourceURLs\":[\"https://www.overstock.com/Wor...</td>\n",
       "      <td>https://www.overstock.com/Worldstock-Fair-Trad...</td>\n",
       "      <td>NaN</td>\n",
       "      <td>NaN</td>\n",
       "      <td>NaN</td>\n",
       "      <td>NaN</td>\n",
       "      <td>NaN</td>\n",
       "      <td>NaN</td>\n",
       "      <td>NaN</td>\n",
       "      <td>NaN</td>\n",
       "    </tr>\n",
       "    <tr>\n",
       "      <th>5</th>\n",
       "      <td>AVpe__eOilAPnD_xSt-H</td>\n",
       "      <td>NaN</td>\n",
       "      <td>Novica</td>\n",
       "      <td>Access.,Clothing,Shoes,Women's Clothing</td>\n",
       "      <td>Purple</td>\n",
       "      <td>NaN</td>\n",
       "      <td>2017-02-03T22:06:24Z</td>\n",
       "      <td>2017-03-28T11:53:51Z</td>\n",
       "      <td>[{\"dateSeen\":[\"2017-03-26T05:04:46.539Z\",\"2017...</td>\n",
       "      <td>NaN</td>\n",
       "      <td>...</td>\n",
       "      <td>[{\"sourceURLs\":[\"https://www.overstock.com/Wor...</td>\n",
       "      <td>https://www.overstock.com/Worldstock-Fair-Trad...</td>\n",
       "      <td>NaN</td>\n",
       "      <td>NaN</td>\n",
       "      <td>NaN</td>\n",
       "      <td>NaN</td>\n",
       "      <td>NaN</td>\n",
       "      <td>NaN</td>\n",
       "      <td>NaN</td>\n",
       "      <td>NaN</td>\n",
       "    </tr>\n",
       "    <tr>\n",
       "      <th>6</th>\n",
       "      <td>AVpe__eOilAPnD_xSt-H</td>\n",
       "      <td>NaN</td>\n",
       "      <td>Novica</td>\n",
       "      <td>Access.,Clothing,Shoes,Women's Clothing</td>\n",
       "      <td>Purple</td>\n",
       "      <td>NaN</td>\n",
       "      <td>2017-02-03T22:06:24Z</td>\n",
       "      <td>2017-03-28T11:53:51Z</td>\n",
       "      <td>[{\"dateSeen\":[\"2017-03-26T05:04:46.539Z\",\"2017...</td>\n",
       "      <td>NaN</td>\n",
       "      <td>...</td>\n",
       "      <td>[{\"sourceURLs\":[\"https://www.overstock.com/Wor...</td>\n",
       "      <td>https://www.overstock.com/Worldstock-Fair-Trad...</td>\n",
       "      <td>NaN</td>\n",
       "      <td>NaN</td>\n",
       "      <td>NaN</td>\n",
       "      <td>NaN</td>\n",
       "      <td>NaN</td>\n",
       "      <td>NaN</td>\n",
       "      <td>NaN</td>\n",
       "      <td>NaN</td>\n",
       "    </tr>\n",
       "    <tr>\n",
       "      <th>7</th>\n",
       "      <td>AVpe__JXilAPnD_xSt3F</td>\n",
       "      <td>NaN</td>\n",
       "      <td>Pedi Couture</td>\n",
       "      <td>Clothing,Shoes,Women's Shoes,All Women's Shoes</td>\n",
       "      <td>NaN</td>\n",
       "      <td>NaN</td>\n",
       "      <td>2016-11-10T09:13:23Z</td>\n",
       "      <td>2016-11-10T09:13:23Z</td>\n",
       "      <td>[{\"dateSeen\":[\"2016-11-10T09:13:23Z\"],\"sourceU...</td>\n",
       "      <td>NaN</td>\n",
       "      <td>...</td>\n",
       "      <td>NaN</td>\n",
       "      <td>https://www.walmart.com/ip/PEDI-COUTURE-Women-...</td>\n",
       "      <td>8.396132e+10</td>\n",
       "      <td>NaN</td>\n",
       "      <td>NaN</td>\n",
       "      <td>NaN</td>\n",
       "      <td>NaN</td>\n",
       "      <td>NaN</td>\n",
       "      <td>NaN</td>\n",
       "      <td>NaN</td>\n",
       "    </tr>\n",
       "    <tr>\n",
       "      <th>8</th>\n",
       "      <td>AVpe_0mrilAPnD_xSqI7</td>\n",
       "      <td>NaN</td>\n",
       "      <td>ANNE KLEIN SPORT</td>\n",
       "      <td>Clothing,Shoes,Women's Shoes,All Women's Shoes</td>\n",
       "      <td>NaN</td>\n",
       "      <td>NaN</td>\n",
       "      <td>2016-08-02T08:29:11Z</td>\n",
       "      <td>2016-08-02T08:29:11Z</td>\n",
       "      <td>[{\"dateSeen\":[\"2016-08-02T08:29:11Z\"],\"sourceU...</td>\n",
       "      <td>NaN</td>\n",
       "      <td>...</td>\n",
       "      <td>NaN</td>\n",
       "      <td>http://www.walmart.com/ip/Anne-Klein-Sport-Per...</td>\n",
       "      <td>NaN</td>\n",
       "      <td>NaN</td>\n",
       "      <td>NaN</td>\n",
       "      <td>NaN</td>\n",
       "      <td>NaN</td>\n",
       "      <td>NaN</td>\n",
       "      <td>NaN</td>\n",
       "      <td>NaN</td>\n",
       "    </tr>\n",
       "    <tr>\n",
       "      <th>9</th>\n",
       "      <td>AVpe_0mrilAPnD_xSqI7</td>\n",
       "      <td>NaN</td>\n",
       "      <td>ANNE KLEIN SPORT</td>\n",
       "      <td>Clothing,Shoes,Women's Shoes,All Women's Shoes</td>\n",
       "      <td>NaN</td>\n",
       "      <td>NaN</td>\n",
       "      <td>2016-08-02T08:29:11Z</td>\n",
       "      <td>2016-08-02T08:29:11Z</td>\n",
       "      <td>[{\"dateSeen\":[\"2016-08-02T08:29:11Z\"],\"sourceU...</td>\n",
       "      <td>NaN</td>\n",
       "      <td>...</td>\n",
       "      <td>NaN</td>\n",
       "      <td>http://www.walmart.com/ip/Anne-Klein-Sport-Per...</td>\n",
       "      <td>NaN</td>\n",
       "      <td>NaN</td>\n",
       "      <td>NaN</td>\n",
       "      <td>NaN</td>\n",
       "      <td>NaN</td>\n",
       "      <td>NaN</td>\n",
       "      <td>NaN</td>\n",
       "      <td>NaN</td>\n",
       "    </tr>\n",
       "  </tbody>\n",
       "</table>\n",
       "<p>10 rows × 52 columns</p>\n",
       "</div>"
      ],
      "text/plain": [
       "                     id asins             brand  \\\n",
       "0  AVpe__eOilAPnD_xSt-H   NaN            Novica   \n",
       "1  AVpe__eOilAPnD_xSt-H   NaN            Novica   \n",
       "2  AVpe__eOilAPnD_xSt-H   NaN            Novica   \n",
       "3  AVpe__eOilAPnD_xSt-H   NaN            Novica   \n",
       "4  AVpe__eOilAPnD_xSt-H   NaN            Novica   \n",
       "5  AVpe__eOilAPnD_xSt-H   NaN            Novica   \n",
       "6  AVpe__eOilAPnD_xSt-H   NaN            Novica   \n",
       "7  AVpe__JXilAPnD_xSt3F   NaN      Pedi Couture   \n",
       "8  AVpe_0mrilAPnD_xSqI7   NaN  ANNE KLEIN SPORT   \n",
       "9  AVpe_0mrilAPnD_xSqI7   NaN  ANNE KLEIN SPORT   \n",
       "\n",
       "                                       categories  colors  count  \\\n",
       "0         Access.,Clothing,Shoes,Women's Clothing  Purple    NaN   \n",
       "1         Access.,Clothing,Shoes,Women's Clothing  Purple    NaN   \n",
       "2         Access.,Clothing,Shoes,Women's Clothing  Purple    NaN   \n",
       "3         Access.,Clothing,Shoes,Women's Clothing  Purple    NaN   \n",
       "4         Access.,Clothing,Shoes,Women's Clothing  Purple    NaN   \n",
       "5         Access.,Clothing,Shoes,Women's Clothing  Purple    NaN   \n",
       "6         Access.,Clothing,Shoes,Women's Clothing  Purple    NaN   \n",
       "7  Clothing,Shoes,Women's Shoes,All Women's Shoes     NaN    NaN   \n",
       "8  Clothing,Shoes,Women's Shoes,All Women's Shoes     NaN    NaN   \n",
       "9  Clothing,Shoes,Women's Shoes,All Women's Shoes     NaN    NaN   \n",
       "\n",
       "              dateAdded           dateUpdated  \\\n",
       "0  2017-02-03T22:06:24Z  2017-03-28T11:53:51Z   \n",
       "1  2017-02-03T22:06:24Z  2017-03-28T11:53:51Z   \n",
       "2  2017-02-03T22:06:24Z  2017-03-28T11:53:51Z   \n",
       "3  2017-02-03T22:06:24Z  2017-03-28T11:53:51Z   \n",
       "4  2017-02-03T22:06:24Z  2017-03-28T11:53:51Z   \n",
       "5  2017-02-03T22:06:24Z  2017-03-28T11:53:51Z   \n",
       "6  2017-02-03T22:06:24Z  2017-03-28T11:53:51Z   \n",
       "7  2016-11-10T09:13:23Z  2016-11-10T09:13:23Z   \n",
       "8  2016-08-02T08:29:11Z  2016-08-02T08:29:11Z   \n",
       "9  2016-08-02T08:29:11Z  2016-08-02T08:29:11Z   \n",
       "\n",
       "                                        descriptions dimension  ...  \\\n",
       "0  [{\"dateSeen\":[\"2017-03-26T05:04:46.539Z\",\"2017...       NaN  ...   \n",
       "1  [{\"dateSeen\":[\"2017-03-26T05:04:46.539Z\",\"2017...       NaN  ...   \n",
       "2  [{\"dateSeen\":[\"2017-03-26T05:04:46.539Z\",\"2017...       NaN  ...   \n",
       "3  [{\"dateSeen\":[\"2017-03-26T05:04:46.539Z\",\"2017...       NaN  ...   \n",
       "4  [{\"dateSeen\":[\"2017-03-26T05:04:46.539Z\",\"2017...       NaN  ...   \n",
       "5  [{\"dateSeen\":[\"2017-03-26T05:04:46.539Z\",\"2017...       NaN  ...   \n",
       "6  [{\"dateSeen\":[\"2017-03-26T05:04:46.539Z\",\"2017...       NaN  ...   \n",
       "7  [{\"dateSeen\":[\"2016-11-10T09:13:23Z\"],\"sourceU...       NaN  ...   \n",
       "8  [{\"dateSeen\":[\"2016-08-02T08:29:11Z\"],\"sourceU...       NaN  ...   \n",
       "9  [{\"dateSeen\":[\"2016-08-02T08:29:11Z\"],\"sourceU...       NaN  ...   \n",
       "\n",
       "                                                skus  \\\n",
       "0  [{\"sourceURLs\":[\"https://www.overstock.com/Wor...   \n",
       "1  [{\"sourceURLs\":[\"https://www.overstock.com/Wor...   \n",
       "2  [{\"sourceURLs\":[\"https://www.overstock.com/Wor...   \n",
       "3  [{\"sourceURLs\":[\"https://www.overstock.com/Wor...   \n",
       "4  [{\"sourceURLs\":[\"https://www.overstock.com/Wor...   \n",
       "5  [{\"sourceURLs\":[\"https://www.overstock.com/Wor...   \n",
       "6  [{\"sourceURLs\":[\"https://www.overstock.com/Wor...   \n",
       "7                                                NaN   \n",
       "8                                                NaN   \n",
       "9                                                NaN   \n",
       "\n",
       "                                          sourceURLs           upc vin  \\\n",
       "0  https://www.overstock.com/Worldstock-Fair-Trad...           NaN NaN   \n",
       "1  https://www.overstock.com/Worldstock-Fair-Trad...           NaN NaN   \n",
       "2  https://www.overstock.com/Worldstock-Fair-Trad...           NaN NaN   \n",
       "3  https://www.overstock.com/Worldstock-Fair-Trad...           NaN NaN   \n",
       "4  https://www.overstock.com/Worldstock-Fair-Trad...           NaN NaN   \n",
       "5  https://www.overstock.com/Worldstock-Fair-Trad...           NaN NaN   \n",
       "6  https://www.overstock.com/Worldstock-Fair-Trad...           NaN NaN   \n",
       "7  https://www.walmart.com/ip/PEDI-COUTURE-Women-...  8.396132e+10 NaN   \n",
       "8  http://www.walmart.com/ip/Anne-Klein-Sport-Per...           NaN NaN   \n",
       "9  http://www.walmart.com/ip/Anne-Klein-Sport-Per...           NaN NaN   \n",
       "\n",
       "   websiteIDs weight Unnamed: 48 Unnamed: 49 Unnamed: 50 Unnamed: 51  \n",
       "0         NaN    NaN         NaN         NaN         NaN         NaN  \n",
       "1         NaN    NaN         NaN         NaN         NaN         NaN  \n",
       "2         NaN    NaN         NaN         NaN         NaN         NaN  \n",
       "3         NaN    NaN         NaN         NaN         NaN         NaN  \n",
       "4         NaN    NaN         NaN         NaN         NaN         NaN  \n",
       "5         NaN    NaN         NaN         NaN         NaN         NaN  \n",
       "6         NaN    NaN         NaN         NaN         NaN         NaN  \n",
       "7         NaN    NaN         NaN         NaN         NaN         NaN  \n",
       "8         NaN    NaN         NaN         NaN         NaN         NaN  \n",
       "9         NaN    NaN         NaN         NaN         NaN         NaN  \n",
       "\n",
       "[10 rows x 52 columns]"
      ]
     },
     "execution_count": 931,
     "metadata": {},
     "output_type": "execute_result"
    }
   ],
   "source": [
    "df_cpy.head(10)"
   ]
  },
  {
   "cell_type": "markdown",
   "metadata": {},
   "source": [
    "Get the columns"
   ]
  },
  {
   "cell_type": "code",
   "execution_count": 932,
   "metadata": {},
   "outputs": [
    {
     "data": {
      "text/plain": [
       "Index(['id', 'asins', 'brand', 'categories', 'colors', 'count', 'dateAdded',\n",
       "       'dateUpdated', 'descriptions', 'dimension', 'ean', 'features',\n",
       "       'flavors', 'imageURLs', 'isbn', 'keys', 'manufacturer',\n",
       "       'manufacturerNumber', 'merchants', 'name', 'prices.amountMin',\n",
       "       'prices.amountMax', 'prices.availability', 'prices.color',\n",
       "       'prices.condition', 'prices.count', 'prices.currency',\n",
       "       'prices.dateAdded', 'prices.dateSeen', 'prices.flavor', 'prices.isSale',\n",
       "       'prices.merchant', 'prices.offer', 'prices.returnPolicy',\n",
       "       'prices.shipping', 'prices.size', 'prices.source', 'prices.sourceURLs',\n",
       "       'prices.warranty', 'quantities', 'reviews', 'sizes', 'skus',\n",
       "       'sourceURLs', 'upc', 'vin', 'websiteIDs', 'weight', 'Unnamed: 48',\n",
       "       'Unnamed: 49', 'Unnamed: 50', 'Unnamed: 51'],\n",
       "      dtype='object')"
      ]
     },
     "execution_count": 932,
     "metadata": {},
     "output_type": "execute_result"
    }
   ],
   "source": [
    "df_cpy.columns"
   ]
  },
  {
   "cell_type": "markdown",
   "metadata": {},
   "source": [
    "Get the info"
   ]
  },
  {
   "cell_type": "code",
   "execution_count": 933,
   "metadata": {},
   "outputs": [
    {
     "name": "stdout",
     "output_type": "stream",
     "text": [
      "<class 'pandas.core.frame.DataFrame'>\n",
      "RangeIndex: 33801 entries, 0 to 33800\n",
      "Data columns (total 52 columns):\n",
      " #   Column               Non-Null Count  Dtype  \n",
      "---  ------               --------------  -----  \n",
      " 0   id                   33801 non-null  object \n",
      " 1   asins                2422 non-null   object \n",
      " 2   brand                32817 non-null  object \n",
      " 3   categories           33801 non-null  object \n",
      " 4   colors               19844 non-null  object \n",
      " 5   count                0 non-null      float64\n",
      " 6   dateAdded            33801 non-null  object \n",
      " 7   dateUpdated          33801 non-null  object \n",
      " 8   descriptions         28425 non-null  object \n",
      " 9   dimension            1177 non-null   object \n",
      " 10  ean                  9778 non-null   float64\n",
      " 11  features             27181 non-null  object \n",
      " 12  flavors              0 non-null      float64\n",
      " 13  imageURLs            22309 non-null  object \n",
      " 14  isbn                 0 non-null      float64\n",
      " 15  keys                 33801 non-null  object \n",
      " 16  manufacturer         9279 non-null   object \n",
      " 17  manufacturerNumber   31434 non-null  object \n",
      " 18  merchants            15382 non-null  object \n",
      " 19  name                 33801 non-null  object \n",
      " 20  prices.amountMin     33801 non-null  float64\n",
      " 21  prices.amountMax     33801 non-null  float64\n",
      " 22  prices.availability  307 non-null    object \n",
      " 23  prices.color         17421 non-null  object \n",
      " 24  prices.condition     12015 non-null  object \n",
      " 25  prices.count         0 non-null      float64\n",
      " 26  prices.currency      33801 non-null  object \n",
      " 27  prices.dateAdded     33801 non-null  object \n",
      " 28  prices.dateSeen      33801 non-null  object \n",
      " 29  prices.flavor        0 non-null      float64\n",
      " 30  prices.isSale        33801 non-null  bool   \n",
      " 31  prices.merchant      29926 non-null  object \n",
      " 32  prices.offer         6798 non-null   object \n",
      " 33  prices.returnPolicy  1374 non-null   object \n",
      " 34  prices.shipping      3948 non-null   object \n",
      " 35  prices.size          15391 non-null  object \n",
      " 36  prices.source        0 non-null      float64\n",
      " 37  prices.sourceURLs    33801 non-null  object \n",
      " 38  prices.warranty      0 non-null      float64\n",
      " 39  quantities           18490 non-null  object \n",
      " 40  reviews              4188 non-null   object \n",
      " 41  sizes                8602 non-null   object \n",
      " 42  skus                 22135 non-null  object \n",
      " 43  sourceURLs           33801 non-null  object \n",
      " 44  upc                  10724 non-null  float64\n",
      " 45  vin                  0 non-null      float64\n",
      " 46  websiteIDs           0 non-null      float64\n",
      " 47  weight               1263 non-null   object \n",
      " 48  Unnamed: 48          0 non-null      float64\n",
      " 49  Unnamed: 49          0 non-null      float64\n",
      " 50  Unnamed: 50          0 non-null      float64\n",
      " 51  Unnamed: 51          1 non-null      object \n",
      "dtypes: bool(1), float64(16), object(35)\n",
      "memory usage: 13.2+ MB\n"
     ]
    }
   ],
   "source": [
    "df_cpy.info()"
   ]
  },
  {
   "cell_type": "markdown",
   "metadata": {},
   "source": [
    "Describe all the columns"
   ]
  },
  {
   "cell_type": "code",
   "execution_count": 934,
   "metadata": {},
   "outputs": [
    {
     "data": {
      "text/html": [
       "<div>\n",
       "<style scoped>\n",
       "    .dataframe tbody tr th:only-of-type {\n",
       "        vertical-align: middle;\n",
       "    }\n",
       "\n",
       "    .dataframe tbody tr th {\n",
       "        vertical-align: top;\n",
       "    }\n",
       "\n",
       "    .dataframe thead th {\n",
       "        text-align: right;\n",
       "    }\n",
       "</style>\n",
       "<table border=\"1\" class=\"dataframe\">\n",
       "  <thead>\n",
       "    <tr style=\"text-align: right;\">\n",
       "      <th></th>\n",
       "      <th>id</th>\n",
       "      <th>asins</th>\n",
       "      <th>brand</th>\n",
       "      <th>categories</th>\n",
       "      <th>colors</th>\n",
       "      <th>count</th>\n",
       "      <th>dateAdded</th>\n",
       "      <th>dateUpdated</th>\n",
       "      <th>descriptions</th>\n",
       "      <th>dimension</th>\n",
       "      <th>...</th>\n",
       "      <th>skus</th>\n",
       "      <th>sourceURLs</th>\n",
       "      <th>upc</th>\n",
       "      <th>vin</th>\n",
       "      <th>websiteIDs</th>\n",
       "      <th>weight</th>\n",
       "      <th>Unnamed: 48</th>\n",
       "      <th>Unnamed: 49</th>\n",
       "      <th>Unnamed: 50</th>\n",
       "      <th>Unnamed: 51</th>\n",
       "    </tr>\n",
       "  </thead>\n",
       "  <tbody>\n",
       "    <tr>\n",
       "      <th>count</th>\n",
       "      <td>33801</td>\n",
       "      <td>2422</td>\n",
       "      <td>32817</td>\n",
       "      <td>33801</td>\n",
       "      <td>19844</td>\n",
       "      <td>0.0</td>\n",
       "      <td>33801</td>\n",
       "      <td>33801</td>\n",
       "      <td>28425</td>\n",
       "      <td>1177</td>\n",
       "      <td>...</td>\n",
       "      <td>22135</td>\n",
       "      <td>33801</td>\n",
       "      <td>1.072400e+04</td>\n",
       "      <td>0.0</td>\n",
       "      <td>0.0</td>\n",
       "      <td>1263</td>\n",
       "      <td>0.0</td>\n",
       "      <td>0.0</td>\n",
       "      <td>0.0</td>\n",
       "      <td>1</td>\n",
       "    </tr>\n",
       "    <tr>\n",
       "      <th>unique</th>\n",
       "      <td>9996</td>\n",
       "      <td>1245</td>\n",
       "      <td>1360</td>\n",
       "      <td>894</td>\n",
       "      <td>2065</td>\n",
       "      <td>NaN</td>\n",
       "      <td>7006</td>\n",
       "      <td>6506</td>\n",
       "      <td>7186</td>\n",
       "      <td>100</td>\n",
       "      <td>...</td>\n",
       "      <td>3808</td>\n",
       "      <td>9993</td>\n",
       "      <td>NaN</td>\n",
       "      <td>NaN</td>\n",
       "      <td>NaN</td>\n",
       "      <td>69</td>\n",
       "      <td>NaN</td>\n",
       "      <td>NaN</td>\n",
       "      <td>NaN</td>\n",
       "      <td>1</td>\n",
       "    </tr>\n",
       "    <tr>\n",
       "      <th>top</th>\n",
       "      <td>AVpfiLB71cnluZ0-mdRy</td>\n",
       "      <td>B002MUU6JG,B017MXDUZY,B002MUSAQW,B002MUSAQC,B0...</td>\n",
       "      <td>Journee Collection</td>\n",
       "      <td>Clothing,Shoes,Women's Shoes,All Women's Shoes</td>\n",
       "      <td>Black</td>\n",
       "      <td>NaN</td>\n",
       "      <td>2017-03-28T11:43:08Z</td>\n",
       "      <td>2017-03-28T11:42:28Z</td>\n",
       "      <td>[{\"dateSeen\":[\"2017-03-25T09:34:20.165Z\"],\"sou...</td>\n",
       "      <td>6.0 in x 6.0 in x 1.0 in</td>\n",
       "      <td>...</td>\n",
       "      <td>[{\"sourceURLs\":[\"http://www.ralphlauren.com/pr...</td>\n",
       "      <td>http://www.ralphlauren.com/product/index.jsp?p...</td>\n",
       "      <td>NaN</td>\n",
       "      <td>NaN</td>\n",
       "      <td>NaN</td>\n",
       "      <td>499 g</td>\n",
       "      <td>NaN</td>\n",
       "      <td>NaN</td>\n",
       "      <td>NaN</td>\n",
       "      <td>9 g</td>\n",
       "    </tr>\n",
       "    <tr>\n",
       "      <th>freq</th>\n",
       "      <td>79</td>\n",
       "      <td>57</td>\n",
       "      <td>1401</td>\n",
       "      <td>3156</td>\n",
       "      <td>2928</td>\n",
       "      <td>NaN</td>\n",
       "      <td>253</td>\n",
       "      <td>415</td>\n",
       "      <td>67</td>\n",
       "      <td>238</td>\n",
       "      <td>...</td>\n",
       "      <td>79</td>\n",
       "      <td>79</td>\n",
       "      <td>NaN</td>\n",
       "      <td>NaN</td>\n",
       "      <td>NaN</td>\n",
       "      <td>559</td>\n",
       "      <td>NaN</td>\n",
       "      <td>NaN</td>\n",
       "      <td>NaN</td>\n",
       "      <td>1</td>\n",
       "    </tr>\n",
       "    <tr>\n",
       "      <th>mean</th>\n",
       "      <td>NaN</td>\n",
       "      <td>NaN</td>\n",
       "      <td>NaN</td>\n",
       "      <td>NaN</td>\n",
       "      <td>NaN</td>\n",
       "      <td>NaN</td>\n",
       "      <td>NaN</td>\n",
       "      <td>NaN</td>\n",
       "      <td>NaN</td>\n",
       "      <td>NaN</td>\n",
       "      <td>...</td>\n",
       "      <td>NaN</td>\n",
       "      <td>NaN</td>\n",
       "      <td>6.808845e+11</td>\n",
       "      <td>NaN</td>\n",
       "      <td>NaN</td>\n",
       "      <td>NaN</td>\n",
       "      <td>NaN</td>\n",
       "      <td>NaN</td>\n",
       "      <td>NaN</td>\n",
       "      <td>NaN</td>\n",
       "    </tr>\n",
       "    <tr>\n",
       "      <th>std</th>\n",
       "      <td>NaN</td>\n",
       "      <td>NaN</td>\n",
       "      <td>NaN</td>\n",
       "      <td>NaN</td>\n",
       "      <td>NaN</td>\n",
       "      <td>NaN</td>\n",
       "      <td>NaN</td>\n",
       "      <td>NaN</td>\n",
       "      <td>NaN</td>\n",
       "      <td>NaN</td>\n",
       "      <td>...</td>\n",
       "      <td>NaN</td>\n",
       "      <td>NaN</td>\n",
       "      <td>2.836908e+11</td>\n",
       "      <td>NaN</td>\n",
       "      <td>NaN</td>\n",
       "      <td>NaN</td>\n",
       "      <td>NaN</td>\n",
       "      <td>NaN</td>\n",
       "      <td>NaN</td>\n",
       "      <td>NaN</td>\n",
       "    </tr>\n",
       "    <tr>\n",
       "      <th>min</th>\n",
       "      <td>NaN</td>\n",
       "      <td>NaN</td>\n",
       "      <td>NaN</td>\n",
       "      <td>NaN</td>\n",
       "      <td>NaN</td>\n",
       "      <td>NaN</td>\n",
       "      <td>NaN</td>\n",
       "      <td>NaN</td>\n",
       "      <td>NaN</td>\n",
       "      <td>NaN</td>\n",
       "      <td>...</td>\n",
       "      <td>NaN</td>\n",
       "      <td>NaN</td>\n",
       "      <td>4.151870e+05</td>\n",
       "      <td>NaN</td>\n",
       "      <td>NaN</td>\n",
       "      <td>NaN</td>\n",
       "      <td>NaN</td>\n",
       "      <td>NaN</td>\n",
       "      <td>NaN</td>\n",
       "      <td>NaN</td>\n",
       "    </tr>\n",
       "    <tr>\n",
       "      <th>25%</th>\n",
       "      <td>NaN</td>\n",
       "      <td>NaN</td>\n",
       "      <td>NaN</td>\n",
       "      <td>NaN</td>\n",
       "      <td>NaN</td>\n",
       "      <td>NaN</td>\n",
       "      <td>NaN</td>\n",
       "      <td>NaN</td>\n",
       "      <td>NaN</td>\n",
       "      <td>NaN</td>\n",
       "      <td>...</td>\n",
       "      <td>NaN</td>\n",
       "      <td>NaN</td>\n",
       "      <td>6.410790e+11</td>\n",
       "      <td>NaN</td>\n",
       "      <td>NaN</td>\n",
       "      <td>NaN</td>\n",
       "      <td>NaN</td>\n",
       "      <td>NaN</td>\n",
       "      <td>NaN</td>\n",
       "      <td>NaN</td>\n",
       "    </tr>\n",
       "    <tr>\n",
       "      <th>50%</th>\n",
       "      <td>NaN</td>\n",
       "      <td>NaN</td>\n",
       "      <td>NaN</td>\n",
       "      <td>NaN</td>\n",
       "      <td>NaN</td>\n",
       "      <td>NaN</td>\n",
       "      <td>NaN</td>\n",
       "      <td>NaN</td>\n",
       "      <td>NaN</td>\n",
       "      <td>NaN</td>\n",
       "      <td>...</td>\n",
       "      <td>NaN</td>\n",
       "      <td>NaN</td>\n",
       "      <td>8.026160e+11</td>\n",
       "      <td>NaN</td>\n",
       "      <td>NaN</td>\n",
       "      <td>NaN</td>\n",
       "      <td>NaN</td>\n",
       "      <td>NaN</td>\n",
       "      <td>NaN</td>\n",
       "      <td>NaN</td>\n",
       "    </tr>\n",
       "    <tr>\n",
       "      <th>75%</th>\n",
       "      <td>NaN</td>\n",
       "      <td>NaN</td>\n",
       "      <td>NaN</td>\n",
       "      <td>NaN</td>\n",
       "      <td>NaN</td>\n",
       "      <td>NaN</td>\n",
       "      <td>NaN</td>\n",
       "      <td>NaN</td>\n",
       "      <td>NaN</td>\n",
       "      <td>NaN</td>\n",
       "      <td>...</td>\n",
       "      <td>NaN</td>\n",
       "      <td>NaN</td>\n",
       "      <td>8.865210e+11</td>\n",
       "      <td>NaN</td>\n",
       "      <td>NaN</td>\n",
       "      <td>NaN</td>\n",
       "      <td>NaN</td>\n",
       "      <td>NaN</td>\n",
       "      <td>NaN</td>\n",
       "      <td>NaN</td>\n",
       "    </tr>\n",
       "    <tr>\n",
       "      <th>max</th>\n",
       "      <td>NaN</td>\n",
       "      <td>NaN</td>\n",
       "      <td>NaN</td>\n",
       "      <td>NaN</td>\n",
       "      <td>NaN</td>\n",
       "      <td>NaN</td>\n",
       "      <td>NaN</td>\n",
       "      <td>NaN</td>\n",
       "      <td>NaN</td>\n",
       "      <td>NaN</td>\n",
       "      <td>...</td>\n",
       "      <td>NaN</td>\n",
       "      <td>NaN</td>\n",
       "      <td>9.105300e+11</td>\n",
       "      <td>NaN</td>\n",
       "      <td>NaN</td>\n",
       "      <td>NaN</td>\n",
       "      <td>NaN</td>\n",
       "      <td>NaN</td>\n",
       "      <td>NaN</td>\n",
       "      <td>NaN</td>\n",
       "    </tr>\n",
       "  </tbody>\n",
       "</table>\n",
       "<p>11 rows × 52 columns</p>\n",
       "</div>"
      ],
      "text/plain": [
       "                          id  \\\n",
       "count                  33801   \n",
       "unique                  9996   \n",
       "top     AVpfiLB71cnluZ0-mdRy   \n",
       "freq                      79   \n",
       "mean                     NaN   \n",
       "std                      NaN   \n",
       "min                      NaN   \n",
       "25%                      NaN   \n",
       "50%                      NaN   \n",
       "75%                      NaN   \n",
       "max                      NaN   \n",
       "\n",
       "                                                    asins               brand  \\\n",
       "count                                                2422               32817   \n",
       "unique                                               1245                1360   \n",
       "top     B002MUU6JG,B017MXDUZY,B002MUSAQW,B002MUSAQC,B0...  Journee Collection   \n",
       "freq                                                   57                1401   \n",
       "mean                                                  NaN                 NaN   \n",
       "std                                                   NaN                 NaN   \n",
       "min                                                   NaN                 NaN   \n",
       "25%                                                   NaN                 NaN   \n",
       "50%                                                   NaN                 NaN   \n",
       "75%                                                   NaN                 NaN   \n",
       "max                                                   NaN                 NaN   \n",
       "\n",
       "                                            categories colors  count  \\\n",
       "count                                            33801  19844    0.0   \n",
       "unique                                             894   2065    NaN   \n",
       "top     Clothing,Shoes,Women's Shoes,All Women's Shoes  Black    NaN   \n",
       "freq                                              3156   2928    NaN   \n",
       "mean                                               NaN    NaN    NaN   \n",
       "std                                                NaN    NaN    NaN   \n",
       "min                                                NaN    NaN    NaN   \n",
       "25%                                                NaN    NaN    NaN   \n",
       "50%                                                NaN    NaN    NaN   \n",
       "75%                                                NaN    NaN    NaN   \n",
       "max                                                NaN    NaN    NaN   \n",
       "\n",
       "                   dateAdded           dateUpdated  \\\n",
       "count                  33801                 33801   \n",
       "unique                  7006                  6506   \n",
       "top     2017-03-28T11:43:08Z  2017-03-28T11:42:28Z   \n",
       "freq                     253                   415   \n",
       "mean                     NaN                   NaN   \n",
       "std                      NaN                   NaN   \n",
       "min                      NaN                   NaN   \n",
       "25%                      NaN                   NaN   \n",
       "50%                      NaN                   NaN   \n",
       "75%                      NaN                   NaN   \n",
       "max                      NaN                   NaN   \n",
       "\n",
       "                                             descriptions  \\\n",
       "count                                               28425   \n",
       "unique                                               7186   \n",
       "top     [{\"dateSeen\":[\"2017-03-25T09:34:20.165Z\"],\"sou...   \n",
       "freq                                                   67   \n",
       "mean                                                  NaN   \n",
       "std                                                   NaN   \n",
       "min                                                   NaN   \n",
       "25%                                                   NaN   \n",
       "50%                                                   NaN   \n",
       "75%                                                   NaN   \n",
       "max                                                   NaN   \n",
       "\n",
       "                       dimension  ...  \\\n",
       "count                       1177  ...   \n",
       "unique                       100  ...   \n",
       "top     6.0 in x 6.0 in x 1.0 in  ...   \n",
       "freq                         238  ...   \n",
       "mean                         NaN  ...   \n",
       "std                          NaN  ...   \n",
       "min                          NaN  ...   \n",
       "25%                          NaN  ...   \n",
       "50%                          NaN  ...   \n",
       "75%                          NaN  ...   \n",
       "max                          NaN  ...   \n",
       "\n",
       "                                                     skus  \\\n",
       "count                                               22135   \n",
       "unique                                               3808   \n",
       "top     [{\"sourceURLs\":[\"http://www.ralphlauren.com/pr...   \n",
       "freq                                                   79   \n",
       "mean                                                  NaN   \n",
       "std                                                   NaN   \n",
       "min                                                   NaN   \n",
       "25%                                                   NaN   \n",
       "50%                                                   NaN   \n",
       "75%                                                   NaN   \n",
       "max                                                   NaN   \n",
       "\n",
       "                                               sourceURLs           upc  vin  \\\n",
       "count                                               33801  1.072400e+04  0.0   \n",
       "unique                                               9993           NaN  NaN   \n",
       "top     http://www.ralphlauren.com/product/index.jsp?p...           NaN  NaN   \n",
       "freq                                                   79           NaN  NaN   \n",
       "mean                                                  NaN  6.808845e+11  NaN   \n",
       "std                                                   NaN  2.836908e+11  NaN   \n",
       "min                                                   NaN  4.151870e+05  NaN   \n",
       "25%                                                   NaN  6.410790e+11  NaN   \n",
       "50%                                                   NaN  8.026160e+11  NaN   \n",
       "75%                                                   NaN  8.865210e+11  NaN   \n",
       "max                                                   NaN  9.105300e+11  NaN   \n",
       "\n",
       "        websiteIDs weight Unnamed: 48 Unnamed: 49 Unnamed: 50 Unnamed: 51  \n",
       "count          0.0   1263         0.0         0.0         0.0           1  \n",
       "unique         NaN     69         NaN         NaN         NaN           1  \n",
       "top            NaN  499 g         NaN         NaN         NaN         9 g  \n",
       "freq           NaN    559         NaN         NaN         NaN           1  \n",
       "mean           NaN    NaN         NaN         NaN         NaN         NaN  \n",
       "std            NaN    NaN         NaN         NaN         NaN         NaN  \n",
       "min            NaN    NaN         NaN         NaN         NaN         NaN  \n",
       "25%            NaN    NaN         NaN         NaN         NaN         NaN  \n",
       "50%            NaN    NaN         NaN         NaN         NaN         NaN  \n",
       "75%            NaN    NaN         NaN         NaN         NaN         NaN  \n",
       "max            NaN    NaN         NaN         NaN         NaN         NaN  \n",
       "\n",
       "[11 rows x 52 columns]"
      ]
     },
     "execution_count": 934,
     "metadata": {},
     "output_type": "execute_result"
    }
   ],
   "source": [
    "df_cpy.describe(include='all')"
   ]
  },
  {
   "cell_type": "markdown",
   "metadata": {},
   "source": [
    "Get all the missing values"
   ]
  },
  {
   "cell_type": "code",
   "execution_count": 935,
   "metadata": {},
   "outputs": [
    {
     "data": {
      "text/plain": [
       "id                         0\n",
       "asins                  31379\n",
       "brand                    984\n",
       "categories                 0\n",
       "colors                 13957\n",
       "count                  33801\n",
       "dateAdded                  0\n",
       "dateUpdated                0\n",
       "descriptions            5376\n",
       "dimension              32624\n",
       "ean                    24023\n",
       "features                6620\n",
       "flavors                33801\n",
       "imageURLs              11492\n",
       "isbn                   33801\n",
       "keys                       0\n",
       "manufacturer           24522\n",
       "manufacturerNumber      2367\n",
       "merchants              18419\n",
       "name                       0\n",
       "prices.amountMin           0\n",
       "prices.amountMax           0\n",
       "prices.availability    33494\n",
       "prices.color           16380\n",
       "prices.condition       21786\n",
       "prices.count           33801\n",
       "prices.currency            0\n",
       "prices.dateAdded           0\n",
       "prices.dateSeen            0\n",
       "prices.flavor          33801\n",
       "prices.isSale              0\n",
       "prices.merchant         3875\n",
       "prices.offer           27003\n",
       "prices.returnPolicy    32427\n",
       "prices.shipping        29853\n",
       "prices.size            18410\n",
       "prices.source          33801\n",
       "prices.sourceURLs          0\n",
       "prices.warranty        33801\n",
       "quantities             15311\n",
       "reviews                29613\n",
       "sizes                  25199\n",
       "skus                   11666\n",
       "sourceURLs                 0\n",
       "upc                    23077\n",
       "vin                    33801\n",
       "websiteIDs             33801\n",
       "weight                 32538\n",
       "Unnamed: 48            33801\n",
       "Unnamed: 49            33801\n",
       "Unnamed: 50            33801\n",
       "Unnamed: 51            33800\n",
       "dtype: int64"
      ]
     },
     "execution_count": 935,
     "metadata": {},
     "output_type": "execute_result"
    }
   ],
   "source": [
    "df_cpy.isna().sum()"
   ]
  },
  {
   "cell_type": "markdown",
   "metadata": {},
   "source": [
    "As we can see, there are a lot of values to be removed, from here we will analyze all the columns with missing values."
   ]
  },
  {
   "cell_type": "markdown",
   "metadata": {},
   "source": [
    "First now check the data types of missing datas"
   ]
  },
  {
   "cell_type": "code",
   "execution_count": 936,
   "metadata": {},
   "outputs": [
    {
     "data": {
      "text/plain": [
       "asins                   object\n",
       "brand                   object\n",
       "colors                  object\n",
       "count                  float64\n",
       "descriptions            object\n",
       "dimension               object\n",
       "ean                    float64\n",
       "features                object\n",
       "flavors                float64\n",
       "imageURLs               object\n",
       "isbn                   float64\n",
       "manufacturer            object\n",
       "manufacturerNumber      object\n",
       "merchants               object\n",
       "prices.availability     object\n",
       "prices.color            object\n",
       "prices.condition        object\n",
       "prices.count           float64\n",
       "prices.flavor          float64\n",
       "prices.merchant         object\n",
       "prices.offer            object\n",
       "prices.returnPolicy     object\n",
       "prices.shipping         object\n",
       "prices.size             object\n",
       "prices.source          float64\n",
       "prices.warranty        float64\n",
       "quantities              object\n",
       "reviews                 object\n",
       "sizes                   object\n",
       "skus                    object\n",
       "upc                    float64\n",
       "vin                    float64\n",
       "websiteIDs             float64\n",
       "weight                  object\n",
       "Unnamed: 48            float64\n",
       "Unnamed: 49            float64\n",
       "Unnamed: 50            float64\n",
       "Unnamed: 51             object\n",
       "dtype: object"
      ]
     },
     "execution_count": 936,
     "metadata": {},
     "output_type": "execute_result"
    }
   ],
   "source": [
    "df_cpy.loc[:, df_cpy.isna().any(axis=0)].dtypes"
   ]
  },
  {
   "cell_type": "markdown",
   "metadata": {},
   "source": [
    "Check all the columns that the entire rows are null"
   ]
  },
  {
   "cell_type": "code",
   "execution_count": 937,
   "metadata": {},
   "outputs": [
    {
     "data": {
      "text/plain": [
       "Index(['count', 'flavors', 'isbn', 'prices.count', 'prices.flavor',\n",
       "       'prices.source', 'prices.warranty', 'vin', 'websiteIDs', 'Unnamed: 48',\n",
       "       'Unnamed: 49', 'Unnamed: 50'],\n",
       "      dtype='object')"
      ]
     },
     "execution_count": 937,
     "metadata": {},
     "output_type": "execute_result"
    }
   ],
   "source": [
    "# get the columns that have all null values\n",
    "(nulled_col := df_cpy.columns[df_cpy.isnull().all(axis=0)])"
   ]
  },
  {
   "cell_type": "markdown",
   "metadata": {},
   "source": [
    "Remove the columns that the entire rows are null"
   ]
  },
  {
   "cell_type": "code",
   "execution_count": 938,
   "metadata": {},
   "outputs": [
    {
     "data": {
      "text/plain": [
       "Index(['id', 'asins', 'brand', 'categories', 'colors', 'dateAdded',\n",
       "       'dateUpdated', 'descriptions', 'dimension', 'ean', 'features',\n",
       "       'imageURLs', 'keys', 'manufacturer', 'manufacturerNumber', 'merchants',\n",
       "       'name', 'prices.amountMin', 'prices.amountMax', 'prices.availability',\n",
       "       'prices.color', 'prices.condition', 'prices.currency',\n",
       "       'prices.dateAdded', 'prices.dateSeen', 'prices.isSale',\n",
       "       'prices.merchant', 'prices.offer', 'prices.returnPolicy',\n",
       "       'prices.shipping', 'prices.size', 'prices.sourceURLs', 'quantities',\n",
       "       'reviews', 'sizes', 'skus', 'sourceURLs', 'upc', 'weight',\n",
       "       'Unnamed: 51'],\n",
       "      dtype='object')"
      ]
     },
     "execution_count": 938,
     "metadata": {},
     "output_type": "execute_result"
    }
   ],
   "source": [
    "# drop the null columns\n",
    "df_cpy.drop(nulled_col, axis=1, inplace=True)\n",
    "df_cpy.columns"
   ]
  },
  {
   "cell_type": "markdown",
   "metadata": {},
   "source": [
    "The <code>quantities</code> and <code>skus</code> column consists of json formatted strings, therefore we should get the 'value' key"
   ]
  },
  {
   "cell_type": "code",
   "execution_count": 939,
   "metadata": {},
   "outputs": [],
   "source": [
    "# parse the json string to a python dictionary if it's not NaN\n",
    "data_qty = df_cpy['quantities'].map(lambda x: json.loads(x) if pd.notnull(x) else x)\n",
    "\n",
    "for i, v in data_qty.items():\n",
    "    try:\n",
    "        if len(v) > 1:\n",
    "            # get the max value of the list\n",
    "            v = max(v, key=lambda x: x['value'])['value']\n",
    "        else:\n",
    "            v = v[0]['value']\n",
    "            \n",
    "        # set the max value to the column\n",
    "        df_cpy.loc[i, 'quantities'] = v\n",
    "    except TypeError:\n",
    "        df_cpy.loc[i, 'quantities'] = np.nan\n",
    "\n",
    "\n",
    "# set the column to float\n",
    "df_cpy['quantities'] = df_cpy['quantities'].astype(float)\n"
   ]
  },
  {
   "cell_type": "markdown",
   "metadata": {},
   "source": [
    "Get all the data numerical data types that has missing values"
   ]
  },
  {
   "cell_type": "code",
   "execution_count": 940,
   "metadata": {},
   "outputs": [
    {
     "data": {
      "text/plain": [
       "Index(['ean', 'quantities', 'upc'], dtype='object')"
      ]
     },
     "execution_count": 940,
     "metadata": {},
     "output_type": "execute_result"
    }
   ],
   "source": [
    "(nulled_num := df_cpy.loc[:, df_cpy.isna().any(axis=0)].select_dtypes(include=['float64', 'int64']).columns)"
   ]
  },
  {
   "cell_type": "markdown",
   "metadata": {},
   "source": [
    "Handle all the missing data for numerical values by using the mean"
   ]
  },
  {
   "cell_type": "code",
   "execution_count": 941,
   "metadata": {},
   "outputs": [
    {
     "data": {
      "text/plain": [
       "ean           0\n",
       "quantities    0\n",
       "upc           0\n",
       "dtype: int64"
      ]
     },
     "execution_count": 941,
     "metadata": {},
     "output_type": "execute_result"
    }
   ],
   "source": [
    "df_cpy[nulled_num] = df_cpy[nulled_num].fillna(df_cpy[nulled_num].mean())\n",
    "df_cpy[nulled_num].isna().sum() # check"
   ]
  },
  {
   "cell_type": "markdown",
   "metadata": {},
   "source": [
    "Check all the columns that was 50% of its data are missing"
   ]
  },
  {
   "cell_type": "code",
   "execution_count": 942,
   "metadata": {},
   "outputs": [
    {
     "data": {
      "text/plain": [
       "Index(['asins', 'dimension', 'manufacturer', 'merchants',\n",
       "       'prices.availability', 'prices.condition', 'prices.offer',\n",
       "       'prices.returnPolicy', 'prices.shipping', 'prices.size', 'reviews',\n",
       "       'sizes', 'weight', 'Unnamed: 51'],\n",
       "      dtype='object')"
      ]
     },
     "execution_count": 942,
     "metadata": {},
     "output_type": "execute_result"
    }
   ],
   "source": [
    "# Check all the columns that was 50% of its data are missing\n",
    "(nulled_50 := \n",
    " df_cpy.loc[\n",
    "     :, \n",
    "     df_cpy.drop(\n",
    "        df_cpy.dropna(\n",
    "            axis=1, \n",
    "            thresh=df.shape[0] * 0.50, \n",
    "            inplace=False), \n",
    "        axis=1)\n",
    "        .columns].columns)\n"
   ]
  },
  {
   "cell_type": "markdown",
   "metadata": {},
   "source": [
    "Remove all the nulled columns and nulled 50% columns"
   ]
  },
  {
   "cell_type": "code",
   "execution_count": 943,
   "metadata": {},
   "outputs": [
    {
     "data": {
      "text/plain": [
       "Index(['id', 'brand', 'categories', 'colors', 'dateAdded', 'dateUpdated',\n",
       "       'descriptions', 'ean', 'features', 'imageURLs', 'keys',\n",
       "       'manufacturerNumber', 'name', 'prices.amountMin', 'prices.amountMax',\n",
       "       'prices.color', 'prices.currency', 'prices.dateAdded',\n",
       "       'prices.dateSeen', 'prices.isSale', 'prices.merchant',\n",
       "       'prices.sourceURLs', 'quantities', 'skus', 'sourceURLs', 'upc'],\n",
       "      dtype='object')"
      ]
     },
     "execution_count": 943,
     "metadata": {},
     "output_type": "execute_result"
    }
   ],
   "source": [
    "df_cpy.drop(nulled_50, axis=1, inplace=True)\n",
    "df_cpy.columns"
   ]
  },
  {
   "cell_type": "markdown",
   "metadata": {},
   "source": [
    "Check the nulls"
   ]
  },
  {
   "cell_type": "code",
   "execution_count": 944,
   "metadata": {},
   "outputs": [
    {
     "data": {
      "text/plain": [
       "id                        0\n",
       "brand                   984\n",
       "categories                0\n",
       "colors                13957\n",
       "dateAdded                 0\n",
       "dateUpdated               0\n",
       "descriptions           5376\n",
       "ean                       0\n",
       "features               6620\n",
       "imageURLs             11492\n",
       "keys                      0\n",
       "manufacturerNumber     2367\n",
       "name                      0\n",
       "prices.amountMin          0\n",
       "prices.amountMax          0\n",
       "prices.color          16380\n",
       "prices.currency           0\n",
       "prices.dateAdded          0\n",
       "prices.dateSeen           0\n",
       "prices.isSale             0\n",
       "prices.merchant        3875\n",
       "prices.sourceURLs         0\n",
       "quantities                0\n",
       "skus                  11666\n",
       "sourceURLs                0\n",
       "upc                       0\n",
       "dtype: int64"
      ]
     },
     "execution_count": 944,
     "metadata": {},
     "output_type": "execute_result"
    }
   ],
   "source": [
    "df_cpy.isna().sum()"
   ]
  },
  {
   "cell_type": "markdown",
   "metadata": {},
   "source": [
    "The most important columns are the <code>brand</code>, <code>colors / prices.color</code>, <code>features</code>, and <code>description</code> so clean the rows that does not have values in this columns"
   ]
  },
  {
   "cell_type": "code",
   "execution_count": 945,
   "metadata": {},
   "outputs": [
    {
     "name": "stdout",
     "output_type": "stream",
     "text": [
      "Index(['id', 'brand', 'categories', 'colors', 'dateAdded', 'dateUpdated',\n",
      "       'descriptions', 'ean', 'features', 'imageURLs', 'keys',\n",
      "       'manufacturerNumber', 'name', 'prices.amountMin', 'prices.amountMax',\n",
      "       'prices.color', 'prices.currency', 'prices.dateAdded',\n",
      "       'prices.dateSeen', 'prices.isSale', 'prices.merchant',\n",
      "       'prices.sourceURLs', 'quantities', 'skus', 'sourceURLs', 'upc'],\n",
      "      dtype='object')\n"
     ]
    }
   ],
   "source": [
    "# clean the rows that does not have values in columns colors, features and descriptions\n",
    "prev_shape = df_cpy.shape[0]\n",
    "df_cpy.dropna(subset=['features', 'descriptions', 'brand'], inplace=True)\n",
    "print(df_cpy.columns)"
   ]
  },
  {
   "cell_type": "markdown",
   "metadata": {},
   "source": [
    "Special case for <code>colors</code> and <code>prices.color</code>"
   ]
  },
  {
   "cell_type": "code",
   "execution_count": 946,
   "metadata": {},
   "outputs": [
    {
     "name": "stdout",
     "output_type": "stream",
     "text": [
      "25.88% of the rows were dropped\n",
      "Index(['id', 'brand', 'categories', 'colors', 'dateAdded', 'dateUpdated',\n",
      "       'descriptions', 'ean', 'features', 'imageURLs', 'keys',\n",
      "       'manufacturerNumber', 'name', 'prices.amountMin', 'prices.amountMax',\n",
      "       'prices.currency', 'prices.dateAdded', 'prices.dateSeen',\n",
      "       'prices.isSale', 'prices.merchant', 'prices.sourceURLs', 'quantities',\n",
      "       'skus', 'sourceURLs', 'upc'],\n",
      "      dtype='object')\n"
     ]
    }
   ],
   "source": [
    "#combine the colors and prices.color\n",
    "\n",
    "df_cpy['colors'] = df_cpy['colors'].fillna(df_cpy['prices.color'])\n",
    "\n",
    "# drop the prices.color column\n",
    "df_cpy.drop('prices.color', axis=1, inplace=True)\n",
    "\n",
    "# drop the nulls on colors\n",
    "\n",
    "\n",
    "print(f'{((prev_shape - df_cpy.shape[0]) / prev_shape)*100:.2f}% of the rows were dropped') \n",
    "print(df_cpy.columns)"
   ]
  },
  {
   "cell_type": "markdown",
   "metadata": {},
   "source": [
    "Remove the colors missing values"
   ]
  },
  {
   "cell_type": "code",
   "execution_count": 947,
   "metadata": {},
   "outputs": [],
   "source": [
    "# remove colors rows with missing values\n",
    "df_cpy.dropna(subset=['colors'], inplace=True)\n"
   ]
  },
  {
   "cell_type": "code",
   "execution_count": 948,
   "metadata": {},
   "outputs": [
    {
     "data": {
      "text/plain": [
       "id                       0\n",
       "brand                    0\n",
       "categories               0\n",
       "colors                   0\n",
       "dateAdded                0\n",
       "dateUpdated              0\n",
       "descriptions             0\n",
       "ean                      0\n",
       "features                 0\n",
       "imageURLs             7068\n",
       "keys                     0\n",
       "manufacturerNumber     906\n",
       "name                     0\n",
       "prices.amountMin         0\n",
       "prices.amountMax         0\n",
       "prices.currency          0\n",
       "prices.dateAdded         0\n",
       "prices.dateSeen          0\n",
       "prices.isSale            0\n",
       "prices.merchant       1252\n",
       "prices.sourceURLs        0\n",
       "quantities               0\n",
       "skus                  4632\n",
       "sourceURLs               0\n",
       "upc                      0\n",
       "dtype: int64"
      ]
     },
     "execution_count": 948,
     "metadata": {},
     "output_type": "execute_result"
    }
   ],
   "source": [
    "df_cpy.isna().sum()"
   ]
  },
  {
   "cell_type": "markdown",
   "metadata": {},
   "source": [
    "Remove the remaining columns that has missing values"
   ]
  },
  {
   "cell_type": "code",
   "execution_count": 949,
   "metadata": {},
   "outputs": [
    {
     "data": {
      "text/plain": [
       "id                   0\n",
       "brand                0\n",
       "categories           0\n",
       "colors               0\n",
       "dateAdded            0\n",
       "dateUpdated          0\n",
       "descriptions         0\n",
       "ean                  0\n",
       "features             0\n",
       "keys                 0\n",
       "name                 0\n",
       "prices.amountMin     0\n",
       "prices.amountMax     0\n",
       "prices.currency      0\n",
       "prices.dateAdded     0\n",
       "prices.dateSeen      0\n",
       "prices.isSale        0\n",
       "prices.sourceURLs    0\n",
       "quantities           0\n",
       "sourceURLs           0\n",
       "upc                  0\n",
       "dtype: int64"
      ]
     },
     "execution_count": 949,
     "metadata": {},
     "output_type": "execute_result"
    }
   ],
   "source": [
    "df_cpy.dropna(axis=1, inplace=True)\n",
    "df_cpy.isna().sum()"
   ]
  },
  {
   "cell_type": "markdown",
   "metadata": {},
   "source": [
    "Converts the date into epoch"
   ]
  },
  {
   "cell_type": "code",
   "execution_count": 950,
   "metadata": {},
   "outputs": [],
   "source": [
    "#convert date to epoch\n",
    "for feature in  ['dateAdded', 'dateUpdated', 'prices.dateAdded', 'prices.dateSeen']:\n",
    "    df_cpy[feature] = pd.to_datetime(df_cpy[feature], errors='coerce')\n",
    "    \n",
    "    \n",
    "    # if the value is not NaN, convert to epoch using lambda\n",
    "    df_cpy[feature] = df_cpy[feature].map(lambda x: x if pd.isnull(x) else int(x.toordinal()))\n",
    "\n"
   ]
  },
  {
   "cell_type": "markdown",
   "metadata": {},
   "source": [
    "Change the price currency into PHP"
   ]
  },
  {
   "cell_type": "code",
   "execution_count": 951,
   "metadata": {},
   "outputs": [],
   "source": [
    "curs = {}\n",
    "# get all the currency\n",
    "for x in df_cpy['prices.currency'].unique():\n",
    "    curs[x] = CurrencyConverter().convert(1, x, 'PHP')\n",
    "\n",
    "# convert all the prices to PHP  \n",
    "for x in curs.keys():\n",
    "    df_cpy.loc[df_cpy['prices.currency'] == x, 'prices.amountMax'] = df_cpy.loc[df_cpy['prices.currency'] == x, 'prices.amountMax'].map(lambda y: y * curs[x])  \n",
    "    df_cpy.loc[df_cpy['prices.currency'] == x, 'prices.amountMin'] = df_cpy.loc[df_cpy['prices.currency'] == x, 'prices.amountMin'].map(lambda y: y * curs[x])\n",
    "\n",
    "# drop the prices.currency column (as all values will be converted to PHP)\n",
    "df_cpy.drop('prices.currency', axis=1, inplace=True)\n"
   ]
  },
  {
   "cell_type": "code",
   "execution_count": 952,
   "metadata": {},
   "outputs": [],
   "source": [
    "df_cpy['prices.amount'] = df_cpy[['prices.amountMax', 'prices.amountMin']].mean(axis=1)"
   ]
  },
  {
   "cell_type": "markdown",
   "metadata": {},
   "source": [
    "Normalize data"
   ]
  },
  {
   "cell_type": "code",
   "execution_count": 953,
   "metadata": {},
   "outputs": [
    {
     "data": {
      "text/html": [
       "<div>\n",
       "<style scoped>\n",
       "    .dataframe tbody tr th:only-of-type {\n",
       "        vertical-align: middle;\n",
       "    }\n",
       "\n",
       "    .dataframe tbody tr th {\n",
       "        vertical-align: top;\n",
       "    }\n",
       "\n",
       "    .dataframe thead th {\n",
       "        text-align: right;\n",
       "    }\n",
       "</style>\n",
       "<table border=\"1\" class=\"dataframe\">\n",
       "  <thead>\n",
       "    <tr style=\"text-align: right;\">\n",
       "      <th></th>\n",
       "      <th>dateAdded</th>\n",
       "      <th>dateUpdated</th>\n",
       "      <th>ean</th>\n",
       "      <th>prices.amountMin</th>\n",
       "      <th>prices.amountMax</th>\n",
       "      <th>prices.dateAdded</th>\n",
       "      <th>quantities</th>\n",
       "      <th>upc</th>\n",
       "      <th>prices.amount</th>\n",
       "      <th>id</th>\n",
       "      <th>...</th>\n",
       "      <th>categories</th>\n",
       "      <th>colors</th>\n",
       "      <th>descriptions</th>\n",
       "      <th>features</th>\n",
       "      <th>keys</th>\n",
       "      <th>name</th>\n",
       "      <th>prices.dateSeen</th>\n",
       "      <th>prices.isSale</th>\n",
       "      <th>prices.sourceURLs</th>\n",
       "      <th>sourceURLs</th>\n",
       "    </tr>\n",
       "  </thead>\n",
       "  <tbody>\n",
       "    <tr>\n",
       "      <th>0</th>\n",
       "      <td>0.999928</td>\n",
       "      <td>0.999978</td>\n",
       "      <td>0.079394</td>\n",
       "      <td>0.063307</td>\n",
       "      <td>0.063307</td>\n",
       "      <td>0.999978</td>\n",
       "      <td>0.15</td>\n",
       "      <td>0.747789</td>\n",
       "      <td>0.063307</td>\n",
       "      <td>AVpe__eOilAPnD_xSt-H</td>\n",
       "      <td>...</td>\n",
       "      <td>Access.,Clothing,Shoes,Women's Clothing</td>\n",
       "      <td>Purple</td>\n",
       "      <td>[{\"dateSeen\":[\"2017-03-26T05:04:46.539Z\",\"2017...</td>\n",
       "      <td>[{\"key\":\"Pattern\",\"value\":[\"Solid\"]},{\"key\":\"W...</td>\n",
       "      <td>handcraftedalpacablendpurplecharismasweaterper...</td>\n",
       "      <td>Handcrafted Alpaca Blend 'Purple Charisma' Swe...</td>\n",
       "      <td>736414</td>\n",
       "      <td>False</td>\n",
       "      <td>https://www.overstock.com/Worldstock-Fair-Trad...</td>\n",
       "      <td>https://www.overstock.com/Worldstock-Fair-Trad...</td>\n",
       "    </tr>\n",
       "    <tr>\n",
       "      <th>1</th>\n",
       "      <td>0.999928</td>\n",
       "      <td>0.999978</td>\n",
       "      <td>0.079394</td>\n",
       "      <td>0.063307</td>\n",
       "      <td>0.063307</td>\n",
       "      <td>0.999978</td>\n",
       "      <td>0.15</td>\n",
       "      <td>0.747789</td>\n",
       "      <td>0.063307</td>\n",
       "      <td>AVpe__eOilAPnD_xSt-H</td>\n",
       "      <td>...</td>\n",
       "      <td>Access.,Clothing,Shoes,Women's Clothing</td>\n",
       "      <td>Purple</td>\n",
       "      <td>[{\"dateSeen\":[\"2017-03-26T05:04:46.539Z\",\"2017...</td>\n",
       "      <td>[{\"key\":\"Pattern\",\"value\":[\"Solid\"]},{\"key\":\"W...</td>\n",
       "      <td>handcraftedalpacablendpurplecharismasweaterper...</td>\n",
       "      <td>Handcrafted Alpaca Blend 'Purple Charisma' Swe...</td>\n",
       "      <td>736414</td>\n",
       "      <td>False</td>\n",
       "      <td>https://www.overstock.com/Worldstock-Fair-Trad...</td>\n",
       "      <td>https://www.overstock.com/Worldstock-Fair-Trad...</td>\n",
       "    </tr>\n",
       "    <tr>\n",
       "      <th>2</th>\n",
       "      <td>0.999928</td>\n",
       "      <td>0.999978</td>\n",
       "      <td>0.079394</td>\n",
       "      <td>0.063307</td>\n",
       "      <td>0.063307</td>\n",
       "      <td>0.999978</td>\n",
       "      <td>0.15</td>\n",
       "      <td>0.747789</td>\n",
       "      <td>0.063307</td>\n",
       "      <td>AVpe__eOilAPnD_xSt-H</td>\n",
       "      <td>...</td>\n",
       "      <td>Access.,Clothing,Shoes,Women's Clothing</td>\n",
       "      <td>Purple</td>\n",
       "      <td>[{\"dateSeen\":[\"2017-03-26T05:04:46.539Z\",\"2017...</td>\n",
       "      <td>[{\"key\":\"Pattern\",\"value\":[\"Solid\"]},{\"key\":\"W...</td>\n",
       "      <td>handcraftedalpacablendpurplecharismasweaterper...</td>\n",
       "      <td>Handcrafted Alpaca Blend 'Purple Charisma' Swe...</td>\n",
       "      <td>736414</td>\n",
       "      <td>False</td>\n",
       "      <td>https://www.overstock.com/Worldstock-Fair-Trad...</td>\n",
       "      <td>https://www.overstock.com/Worldstock-Fair-Trad...</td>\n",
       "    </tr>\n",
       "    <tr>\n",
       "      <th>3</th>\n",
       "      <td>0.999928</td>\n",
       "      <td>0.999978</td>\n",
       "      <td>0.079394</td>\n",
       "      <td>0.063307</td>\n",
       "      <td>0.063307</td>\n",
       "      <td>0.999978</td>\n",
       "      <td>0.15</td>\n",
       "      <td>0.747789</td>\n",
       "      <td>0.063307</td>\n",
       "      <td>AVpe__eOilAPnD_xSt-H</td>\n",
       "      <td>...</td>\n",
       "      <td>Access.,Clothing,Shoes,Women's Clothing</td>\n",
       "      <td>Purple</td>\n",
       "      <td>[{\"dateSeen\":[\"2017-03-26T05:04:46.539Z\",\"2017...</td>\n",
       "      <td>[{\"key\":\"Pattern\",\"value\":[\"Solid\"]},{\"key\":\"W...</td>\n",
       "      <td>handcraftedalpacablendpurplecharismasweaterper...</td>\n",
       "      <td>Handcrafted Alpaca Blend 'Purple Charisma' Swe...</td>\n",
       "      <td>736414</td>\n",
       "      <td>False</td>\n",
       "      <td>https://www.overstock.com/Worldstock-Fair-Trad...</td>\n",
       "      <td>https://www.overstock.com/Worldstock-Fair-Trad...</td>\n",
       "    </tr>\n",
       "    <tr>\n",
       "      <th>4</th>\n",
       "      <td>0.999928</td>\n",
       "      <td>0.999978</td>\n",
       "      <td>0.079394</td>\n",
       "      <td>0.063307</td>\n",
       "      <td>0.063307</td>\n",
       "      <td>0.999943</td>\n",
       "      <td>0.15</td>\n",
       "      <td>0.747789</td>\n",
       "      <td>0.063307</td>\n",
       "      <td>AVpe__eOilAPnD_xSt-H</td>\n",
       "      <td>...</td>\n",
       "      <td>Access.,Clothing,Shoes,Women's Clothing</td>\n",
       "      <td>Purple</td>\n",
       "      <td>[{\"dateSeen\":[\"2017-03-26T05:04:46.539Z\",\"2017...</td>\n",
       "      <td>[{\"key\":\"Pattern\",\"value\":[\"Solid\"]},{\"key\":\"W...</td>\n",
       "      <td>handcraftedalpacablendpurplecharismasweaterper...</td>\n",
       "      <td>Handcrafted Alpaca Blend 'Purple Charisma' Swe...</td>\n",
       "      <td>736368</td>\n",
       "      <td>True</td>\n",
       "      <td>https://www.overstock.com/Worldstock-Fair-Trad...</td>\n",
       "      <td>https://www.overstock.com/Worldstock-Fair-Trad...</td>\n",
       "    </tr>\n",
       "  </tbody>\n",
       "</table>\n",
       "<p>5 rows × 21 columns</p>\n",
       "</div>"
      ],
      "text/plain": [
       "   dateAdded  dateUpdated       ean  prices.amountMin  prices.amountMax  \\\n",
       "0   0.999928     0.999978  0.079394          0.063307          0.063307   \n",
       "1   0.999928     0.999978  0.079394          0.063307          0.063307   \n",
       "2   0.999928     0.999978  0.079394          0.063307          0.063307   \n",
       "3   0.999928     0.999978  0.079394          0.063307          0.063307   \n",
       "4   0.999928     0.999978  0.079394          0.063307          0.063307   \n",
       "\n",
       "   prices.dateAdded  quantities       upc  prices.amount  \\\n",
       "0          0.999978        0.15  0.747789       0.063307   \n",
       "1          0.999978        0.15  0.747789       0.063307   \n",
       "2          0.999978        0.15  0.747789       0.063307   \n",
       "3          0.999978        0.15  0.747789       0.063307   \n",
       "4          0.999943        0.15  0.747789       0.063307   \n",
       "\n",
       "                     id  ...                               categories  colors  \\\n",
       "0  AVpe__eOilAPnD_xSt-H  ...  Access.,Clothing,Shoes,Women's Clothing  Purple   \n",
       "1  AVpe__eOilAPnD_xSt-H  ...  Access.,Clothing,Shoes,Women's Clothing  Purple   \n",
       "2  AVpe__eOilAPnD_xSt-H  ...  Access.,Clothing,Shoes,Women's Clothing  Purple   \n",
       "3  AVpe__eOilAPnD_xSt-H  ...  Access.,Clothing,Shoes,Women's Clothing  Purple   \n",
       "4  AVpe__eOilAPnD_xSt-H  ...  Access.,Clothing,Shoes,Women's Clothing  Purple   \n",
       "\n",
       "                                        descriptions  \\\n",
       "0  [{\"dateSeen\":[\"2017-03-26T05:04:46.539Z\",\"2017...   \n",
       "1  [{\"dateSeen\":[\"2017-03-26T05:04:46.539Z\",\"2017...   \n",
       "2  [{\"dateSeen\":[\"2017-03-26T05:04:46.539Z\",\"2017...   \n",
       "3  [{\"dateSeen\":[\"2017-03-26T05:04:46.539Z\",\"2017...   \n",
       "4  [{\"dateSeen\":[\"2017-03-26T05:04:46.539Z\",\"2017...   \n",
       "\n",
       "                                            features  \\\n",
       "0  [{\"key\":\"Pattern\",\"value\":[\"Solid\"]},{\"key\":\"W...   \n",
       "1  [{\"key\":\"Pattern\",\"value\":[\"Solid\"]},{\"key\":\"W...   \n",
       "2  [{\"key\":\"Pattern\",\"value\":[\"Solid\"]},{\"key\":\"W...   \n",
       "3  [{\"key\":\"Pattern\",\"value\":[\"Solid\"]},{\"key\":\"W...   \n",
       "4  [{\"key\":\"Pattern\",\"value\":[\"Solid\"]},{\"key\":\"W...   \n",
       "\n",
       "                                                keys  \\\n",
       "0  handcraftedalpacablendpurplecharismasweaterper...   \n",
       "1  handcraftedalpacablendpurplecharismasweaterper...   \n",
       "2  handcraftedalpacablendpurplecharismasweaterper...   \n",
       "3  handcraftedalpacablendpurplecharismasweaterper...   \n",
       "4  handcraftedalpacablendpurplecharismasweaterper...   \n",
       "\n",
       "                                                name prices.dateSeen  \\\n",
       "0  Handcrafted Alpaca Blend 'Purple Charisma' Swe...          736414   \n",
       "1  Handcrafted Alpaca Blend 'Purple Charisma' Swe...          736414   \n",
       "2  Handcrafted Alpaca Blend 'Purple Charisma' Swe...          736414   \n",
       "3  Handcrafted Alpaca Blend 'Purple Charisma' Swe...          736414   \n",
       "4  Handcrafted Alpaca Blend 'Purple Charisma' Swe...          736368   \n",
       "\n",
       "  prices.isSale                                  prices.sourceURLs  \\\n",
       "0         False  https://www.overstock.com/Worldstock-Fair-Trad...   \n",
       "1         False  https://www.overstock.com/Worldstock-Fair-Trad...   \n",
       "2         False  https://www.overstock.com/Worldstock-Fair-Trad...   \n",
       "3         False  https://www.overstock.com/Worldstock-Fair-Trad...   \n",
       "4          True  https://www.overstock.com/Worldstock-Fair-Trad...   \n",
       "\n",
       "                                          sourceURLs  \n",
       "0  https://www.overstock.com/Worldstock-Fair-Trad...  \n",
       "1  https://www.overstock.com/Worldstock-Fair-Trad...  \n",
       "2  https://www.overstock.com/Worldstock-Fair-Trad...  \n",
       "3  https://www.overstock.com/Worldstock-Fair-Trad...  \n",
       "4  https://www.overstock.com/Worldstock-Fair-Trad...  \n",
       "\n",
       "[5 rows x 21 columns]"
      ]
     },
     "execution_count": 953,
     "metadata": {},
     "output_type": "execute_result"
    }
   ],
   "source": [
    "# normalize the data numerical only\n",
    "df_cpy_norm = df_cpy.select_dtypes(include=['float64', 'int64']).apply(lambda x: x  / x.max())\n",
    "df_cpy_norm = pd.concat([df_cpy_norm, df_cpy.select_dtypes(exclude=['float64', 'int64'])], axis=1)\n",
    "df_cpy_norm.head()"
   ]
  },
  {
   "cell_type": "markdown",
   "metadata": {},
   "source": [
    "Correlation"
   ]
  },
  {
   "cell_type": "code",
   "execution_count": 954,
   "metadata": {},
   "outputs": [
    {
     "data": {
      "text/html": [
       "<div>\n",
       "<style scoped>\n",
       "    .dataframe tbody tr th:only-of-type {\n",
       "        vertical-align: middle;\n",
       "    }\n",
       "\n",
       "    .dataframe tbody tr th {\n",
       "        vertical-align: top;\n",
       "    }\n",
       "\n",
       "    .dataframe thead th {\n",
       "        text-align: right;\n",
       "    }\n",
       "</style>\n",
       "<table border=\"1\" class=\"dataframe\">\n",
       "  <thead>\n",
       "    <tr style=\"text-align: right;\">\n",
       "      <th></th>\n",
       "      <th>dateAdded</th>\n",
       "      <th>dateUpdated</th>\n",
       "      <th>ean</th>\n",
       "      <th>prices.amountMin</th>\n",
       "      <th>prices.amountMax</th>\n",
       "      <th>prices.dateAdded</th>\n",
       "      <th>quantities</th>\n",
       "      <th>upc</th>\n",
       "      <th>prices.amount</th>\n",
       "      <th>prices.isSale</th>\n",
       "    </tr>\n",
       "  </thead>\n",
       "  <tbody>\n",
       "    <tr>\n",
       "      <th>dateAdded</th>\n",
       "      <td>1.000000</td>\n",
       "      <td>0.027506</td>\n",
       "      <td>-0.033294</td>\n",
       "      <td>0.070507</td>\n",
       "      <td>0.063452</td>\n",
       "      <td>0.315958</td>\n",
       "      <td>-0.096673</td>\n",
       "      <td>-0.029833</td>\n",
       "      <td>0.067043</td>\n",
       "      <td>0.027109</td>\n",
       "    </tr>\n",
       "    <tr>\n",
       "      <th>dateUpdated</th>\n",
       "      <td>0.027506</td>\n",
       "      <td>1.000000</td>\n",
       "      <td>-0.043381</td>\n",
       "      <td>0.086585</td>\n",
       "      <td>0.086350</td>\n",
       "      <td>0.428806</td>\n",
       "      <td>-0.034275</td>\n",
       "      <td>-0.055429</td>\n",
       "      <td>0.086559</td>\n",
       "      <td>-0.408867</td>\n",
       "    </tr>\n",
       "    <tr>\n",
       "      <th>ean</th>\n",
       "      <td>-0.033294</td>\n",
       "      <td>-0.043381</td>\n",
       "      <td>1.000000</td>\n",
       "      <td>0.071695</td>\n",
       "      <td>0.071835</td>\n",
       "      <td>-0.023028</td>\n",
       "      <td>0.014504</td>\n",
       "      <td>0.845115</td>\n",
       "      <td>0.071841</td>\n",
       "      <td>0.006343</td>\n",
       "    </tr>\n",
       "    <tr>\n",
       "      <th>prices.amountMin</th>\n",
       "      <td>0.070507</td>\n",
       "      <td>0.086585</td>\n",
       "      <td>0.071695</td>\n",
       "      <td>1.000000</td>\n",
       "      <td>0.995792</td>\n",
       "      <td>0.039586</td>\n",
       "      <td>0.020879</td>\n",
       "      <td>0.073486</td>\n",
       "      <td>0.998943</td>\n",
       "      <td>-0.172739</td>\n",
       "    </tr>\n",
       "    <tr>\n",
       "      <th>prices.amountMax</th>\n",
       "      <td>0.063452</td>\n",
       "      <td>0.086350</td>\n",
       "      <td>0.071835</td>\n",
       "      <td>0.995792</td>\n",
       "      <td>1.000000</td>\n",
       "      <td>0.026880</td>\n",
       "      <td>0.021658</td>\n",
       "      <td>0.073578</td>\n",
       "      <td>0.998952</td>\n",
       "      <td>-0.172770</td>\n",
       "    </tr>\n",
       "    <tr>\n",
       "      <th>prices.dateAdded</th>\n",
       "      <td>0.315958</td>\n",
       "      <td>0.428806</td>\n",
       "      <td>-0.023028</td>\n",
       "      <td>0.039586</td>\n",
       "      <td>0.026880</td>\n",
       "      <td>1.000000</td>\n",
       "      <td>0.035712</td>\n",
       "      <td>-0.025538</td>\n",
       "      <td>0.033256</td>\n",
       "      <td>-0.225414</td>\n",
       "    </tr>\n",
       "    <tr>\n",
       "      <th>quantities</th>\n",
       "      <td>-0.096673</td>\n",
       "      <td>-0.034275</td>\n",
       "      <td>0.014504</td>\n",
       "      <td>0.020879</td>\n",
       "      <td>0.021658</td>\n",
       "      <td>0.035712</td>\n",
       "      <td>1.000000</td>\n",
       "      <td>0.017427</td>\n",
       "      <td>0.021292</td>\n",
       "      <td>0.000599</td>\n",
       "    </tr>\n",
       "    <tr>\n",
       "      <th>upc</th>\n",
       "      <td>-0.029833</td>\n",
       "      <td>-0.055429</td>\n",
       "      <td>0.845115</td>\n",
       "      <td>0.073486</td>\n",
       "      <td>0.073578</td>\n",
       "      <td>-0.025538</td>\n",
       "      <td>0.017427</td>\n",
       "      <td>1.000000</td>\n",
       "      <td>0.073610</td>\n",
       "      <td>0.012025</td>\n",
       "    </tr>\n",
       "    <tr>\n",
       "      <th>prices.amount</th>\n",
       "      <td>0.067043</td>\n",
       "      <td>0.086559</td>\n",
       "      <td>0.071841</td>\n",
       "      <td>0.998943</td>\n",
       "      <td>0.998952</td>\n",
       "      <td>0.033256</td>\n",
       "      <td>0.021292</td>\n",
       "      <td>0.073610</td>\n",
       "      <td>1.000000</td>\n",
       "      <td>-0.172937</td>\n",
       "    </tr>\n",
       "    <tr>\n",
       "      <th>prices.isSale</th>\n",
       "      <td>0.027109</td>\n",
       "      <td>-0.408867</td>\n",
       "      <td>0.006343</td>\n",
       "      <td>-0.172739</td>\n",
       "      <td>-0.172770</td>\n",
       "      <td>-0.225414</td>\n",
       "      <td>0.000599</td>\n",
       "      <td>0.012025</td>\n",
       "      <td>-0.172937</td>\n",
       "      <td>1.000000</td>\n",
       "    </tr>\n",
       "  </tbody>\n",
       "</table>\n",
       "</div>"
      ],
      "text/plain": [
       "                  dateAdded  dateUpdated       ean  prices.amountMin  \\\n",
       "dateAdded          1.000000     0.027506 -0.033294          0.070507   \n",
       "dateUpdated        0.027506     1.000000 -0.043381          0.086585   \n",
       "ean               -0.033294    -0.043381  1.000000          0.071695   \n",
       "prices.amountMin   0.070507     0.086585  0.071695          1.000000   \n",
       "prices.amountMax   0.063452     0.086350  0.071835          0.995792   \n",
       "prices.dateAdded   0.315958     0.428806 -0.023028          0.039586   \n",
       "quantities        -0.096673    -0.034275  0.014504          0.020879   \n",
       "upc               -0.029833    -0.055429  0.845115          0.073486   \n",
       "prices.amount      0.067043     0.086559  0.071841          0.998943   \n",
       "prices.isSale      0.027109    -0.408867  0.006343         -0.172739   \n",
       "\n",
       "                  prices.amountMax  prices.dateAdded  quantities       upc  \\\n",
       "dateAdded                 0.063452          0.315958   -0.096673 -0.029833   \n",
       "dateUpdated               0.086350          0.428806   -0.034275 -0.055429   \n",
       "ean                       0.071835         -0.023028    0.014504  0.845115   \n",
       "prices.amountMin          0.995792          0.039586    0.020879  0.073486   \n",
       "prices.amountMax          1.000000          0.026880    0.021658  0.073578   \n",
       "prices.dateAdded          0.026880          1.000000    0.035712 -0.025538   \n",
       "quantities                0.021658          0.035712    1.000000  0.017427   \n",
       "upc                       0.073578         -0.025538    0.017427  1.000000   \n",
       "prices.amount             0.998952          0.033256    0.021292  0.073610   \n",
       "prices.isSale            -0.172770         -0.225414    0.000599  0.012025   \n",
       "\n",
       "                  prices.amount  prices.isSale  \n",
       "dateAdded              0.067043       0.027109  \n",
       "dateUpdated            0.086559      -0.408867  \n",
       "ean                    0.071841       0.006343  \n",
       "prices.amountMin       0.998943      -0.172739  \n",
       "prices.amountMax       0.998952      -0.172770  \n",
       "prices.dateAdded       0.033256      -0.225414  \n",
       "quantities             0.021292       0.000599  \n",
       "upc                    0.073610       0.012025  \n",
       "prices.amount          1.000000      -0.172937  \n",
       "prices.isSale         -0.172937       1.000000  "
      ]
     },
     "execution_count": 954,
     "metadata": {},
     "output_type": "execute_result"
    }
   ],
   "source": [
    "df_cpy_norm.corr(numeric_only=True)"
   ]
  },
  {
   "cell_type": "code",
   "execution_count": 955,
   "metadata": {},
   "outputs": [
    {
     "data": {
      "text/plain": [
       "(0.0, 1.0499502512562815)"
      ]
     },
     "execution_count": 955,
     "metadata": {},
     "output_type": "execute_result"
    },
    {
     "data": {
      "image/png": "[encoded data removed]",
      "text/plain": [
       "<Figure size 640x480 with 1 Axes>"
      ]
     },
     "metadata": {},
     "output_type": "display_data"
    }
   ],
   "source": [
    "sns.regplot(x='prices.amountMax', y='prices.amountMin', data=df_cpy_norm)\n",
    "plt.ylim(0,)"
   ]
  },
  {
   "cell_type": "code",
   "execution_count": 956,
   "metadata": {},
   "outputs": [
    {
     "data": {
      "text/plain": [
       "(0.0, 1.0503480307826265)"
      ]
     },
     "execution_count": 956,
     "metadata": {},
     "output_type": "execute_result"
    },
    {
     "data": {
      "image/png": "[encoded data removed]",
      "text/plain": [
       "<Figure size 640x480 with 1 Axes>"
      ]
     },
     "metadata": {},
     "output_type": "display_data"
    }
   ],
   "source": [
    "sns.regplot(x='prices.amountMin', y='prices.amount', data=df_cpy_norm)\n",
    "plt.ylim(0,)"
   ]
  },
  {
   "cell_type": "code",
   "execution_count": 957,
   "metadata": {},
   "outputs": [
    {
     "data": {
      "text/plain": [
       "(0.0, 1.0499502512562815)"
      ]
     },
     "execution_count": 957,
     "metadata": {},
     "output_type": "execute_result"
    },
    {
     "data": {
      "image/png": "[encoded data removed]",
      "text/plain": [
       "<Figure size 640x480 with 1 Axes>"
      ]
     },
     "metadata": {},
     "output_type": "display_data"
    }
   ],
   "source": [
    "sns.regplot(x='prices.amountMax', y='prices.amount', data=df_cpy_norm)\n",
    "plt.ylim(0,)"
   ]
  },
  {
   "cell_type": "code",
   "execution_count": 973,
   "metadata": {},
   "outputs": [
    {
     "data": {
      "text/plain": [
       "(0.0, 58487.95545965702)"
      ]
     },
     "execution_count": 973,
     "metadata": {},
     "output_type": "execute_result"
    },
    {
     "data": {
      "image/png": "[encoded data removed]",
      "text/plain": [
       "<Figure size 640x480 with 1 Axes>"
      ]
     },
     "metadata": {},
     "output_type": "display_data"
    }
   ],
   "source": [
    "sns.regplot(x='quantities', y='prices.amount', data=df_cpy_norm)\n",
    "plt.ylim(0,)\n"
   ]
  },
  {
   "cell_type": "code",
   "execution_count": 959,
   "metadata": {},
   "outputs": [
    {
     "data": {
      "text/plain": [
       "(0.0, 1.0499502512562815)"
      ]
     },
     "execution_count": 959,
     "metadata": {},
     "output_type": "execute_result"
    },
    {
     "data": {
      "image/png": "[encoded data removed]",
      "text/plain": [
       "<Figure size 640x480 with 1 Axes>"
      ]
     },
     "metadata": {},
     "output_type": "display_data"
    }
   ],
   "source": [
    "sns.regplot(x='prices.dateAdded', y='prices.amount', data=df_cpy_norm)\n",
    "plt.ylim(0,)"
   ]
  },
  {
   "cell_type": "code",
   "execution_count": 960,
   "metadata": {},
   "outputs": [
    {
     "data": {
      "text/plain": [
       "(0.0, 1.0499502512562815)"
      ]
     },
     "execution_count": 960,
     "metadata": {},
     "output_type": "execute_result"
    },
    {
     "data": {
      "image/png": "[encoded data removed]",
      "text/plain": [
       "<Figure size 640x480 with 1 Axes>"
      ]
     },
     "metadata": {},
     "output_type": "display_data"
    }
   ],
   "source": [
    "sns.regplot(x='dateAdded', y='prices.amount', data=df_cpy_norm)\n",
    "plt.ylim(0,)"
   ]
  },
  {
   "cell_type": "code",
   "execution_count": null,
   "metadata": {},
   "outputs": [],
   "source": []
  },
  {
   "cell_type": "code",
   "execution_count": null,
   "metadata": {},
   "outputs": [],
   "source": []
  }
 ],
 "metadata": {
  "kernelspec": {
   "display_name": "base",
   "language": "python",
   "name": "python3"
  },
  "language_info": {
   "codemirror_mode": {
    "name": "ipython",
    "version": 3
   },
   "file_extension": ".py",
   "mimetype": "text/x-python",
   "name": "python",
   "nbconvert_exporter": "python",
   "pygments_lexer": "ipython3",
   "version": "3.11.5"
  }
 },
 "nbformat": 4,
 "nbformat_minor": 2
}
