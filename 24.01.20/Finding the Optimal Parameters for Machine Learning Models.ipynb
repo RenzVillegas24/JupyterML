{
 "cells": [
  {
   "cell_type": "markdown",
   "metadata": {},
   "source": [
    "## Finding the Optimal Parameters for Machine Learning Models\n",
    "### Dr. Robert G. de Luna, PECE"
   ]
  },
  {
   "cell_type": "markdown",
   "metadata": {},
   "source": [
    "## Agenda\n",
    "\n",
    "- How to search for an **optimal tuning parameter**?\n",
    "- How do you search for **multiple tuning parameters** at once?\n",
    "- What do you do with those tuning parameters before making **real predictions**?"
   ]
  },
  {
   "cell_type": "markdown",
   "metadata": {},
   "source": [
    "TO CHECK THE VERSION OF LIBRARIES"
   ]
  },
  {
   "cell_type": "code",
   "execution_count": 1,
   "metadata": {},
   "outputs": [
    {
     "name": "stdout",
     "output_type": "stream",
     "text": [
      "Python: 3.11.5 | packaged by Anaconda, Inc. | (main, Sep 11 2023, 13:26:23) [MSC v.1916 64 bit (AMD64)]\n",
      "scipy: 1.11.1\n",
      "numpy: 1.24.3\n",
      "matplotlib: 3.7.2\n"
     ]
    },
    {
     "name": "stdout",
     "output_type": "stream",
     "text": [
      "pandas: 2.0.3\n",
      "sklearn: 1.3.0\n"
     ]
    }
   ],
   "source": [
    "import sys\n",
    "print('Python: {}'.format(sys.version))\n",
    "# scipy\n",
    "import scipy\n",
    "print('scipy: {}'.format(scipy.__version__))\n",
    "# numpy\n",
    "import numpy\n",
    "print('numpy: {}'.format(numpy.__version__))\n",
    "# matplotlib\n",
    "import matplotlib\n",
    "print('matplotlib: {}'.format(matplotlib.__version__))\n",
    "# pandas\n",
    "import pandas\n",
    "print('pandas: {}'.format(pandas.__version__))\n",
    "# scikit-learn\n",
    "import sklearn\n",
    "print('sklearn: {}'.format(sklearn.__version__))"
   ]
  },
  {
   "cell_type": "markdown",
   "metadata": {},
   "source": [
    "TO IMPORT LIBRARIES"
   ]
  },
  {
   "cell_type": "code",
   "execution_count": 2,
   "metadata": {},
   "outputs": [],
   "source": [
    "import numpy as np\n",
    "import matplotlib.pyplot as plt\n",
    "import pandas as pd\n",
    "\n",
    "%matplotlib inline"
   ]
  },
  {
   "cell_type": "markdown",
   "metadata": {},
   "source": [
    "TO LOAD THE DATASET"
   ]
  },
  {
   "cell_type": "code",
   "execution_count": 3,
   "metadata": {},
   "outputs": [],
   "source": [
    "dataset = pandas.read_csv('Herbal_Plants.csv')"
   ]
  },
  {
   "cell_type": "markdown",
   "metadata": {},
   "source": [
    "TO DETERMINE THE DIMENSIONS OF THE DATASET"
   ]
  },
  {
   "cell_type": "code",
   "execution_count": 4,
   "metadata": {},
   "outputs": [
    {
     "name": "stdout",
     "output_type": "stream",
     "text": [
      "(600, 6)\n"
     ]
    }
   ],
   "source": [
    "print(dataset.shape)"
   ]
  },
  {
   "cell_type": "markdown",
   "metadata": {},
   "source": [
    "TO PEEK AT THE DATA"
   ]
  },
  {
   "cell_type": "code",
   "execution_count": 5,
   "metadata": {},
   "outputs": [
    {
     "name": "stdout",
     "output_type": "stream",
     "text": [
      "    Aspect Ratio  Circularity  Convexity  Solidity  Rectangularity   Herbal\n",
      "0       0.372222     0.414548   1.048038  0.986465        1.371268  Bayabas\n",
      "1       0.433645     0.447313   1.045098  0.988799        1.363776  Bayabas\n",
      "2       0.401473     0.443101   1.053360  0.989714        1.313005  Bayabas\n",
      "3       0.375887     0.427894   1.048450  0.988571        1.333066  Bayabas\n",
      "4       0.405680     0.428203   1.057887  0.987781        1.353763  Bayabas\n",
      "5       0.398747     0.388079   1.110448  0.984394        1.337989  Bayabas\n",
      "6       0.384966     0.368406   1.126030  0.984969        1.354246  Bayabas\n",
      "7       0.383948     0.403739   1.072327  0.984015        1.365069  Bayabas\n",
      "8       0.384120     0.398618   1.079316  0.979155        1.364937  Bayabas\n",
      "9       0.397500     0.460066   1.000896  0.990245        1.392325  Bayabas\n",
      "10      0.349057     0.383387   1.089474  0.985241        1.333390  Bayabas\n",
      "11      0.349010     0.430671   1.029466  0.985642        1.329785  Bayabas\n",
      "12      0.395238     0.421732   1.056410  0.985582        1.359860  Bayabas\n",
      "13      0.345372     0.374131   1.089226  0.982151        1.359604  Bayabas\n",
      "14      0.374510     0.443082   1.020714  0.989841        1.352898  Bayabas\n",
      "15      0.343860     0.372842   1.082677  0.969979        1.383084  Bayabas\n",
      "16      0.434164     0.463533   1.013716  0.984892        1.406095  Bayabas\n",
      "17      0.354098     0.427954   1.042579  0.983408        1.316968  Bayabas\n",
      "18      0.353535     0.409852   1.041147  0.981399        1.371372  Bayabas\n",
      "19      0.376623     0.423809   1.042553  0.984946        1.361793  Bayabas\n"
     ]
    }
   ],
   "source": [
    "print(dataset.head(20))"
   ]
  },
  {
   "cell_type": "markdown",
   "metadata": {},
   "source": [
    "TO SEE THE STATISTICAL SUMMARY"
   ]
  },
  {
   "cell_type": "code",
   "execution_count": 6,
   "metadata": {},
   "outputs": [
    {
     "name": "stdout",
     "output_type": "stream",
     "text": [
      "       Aspect Ratio  Circularity   Convexity    Solidity  Rectangularity\n",
      "count    600.000000   600.000000  600.000000  600.000000      600.000000\n",
      "mean       0.662799     0.391058    1.192591    0.891880        1.699739\n",
      "std        0.262202     0.161577    0.309784    0.165721        0.759142\n",
      "min        0.325866     0.059155    0.994565    0.349010        1.143436\n",
      "25%        0.428571     0.320607    1.018466    0.920465        1.352759\n",
      "50%        0.625000     0.431172    1.050733    0.962758        1.433250\n",
      "75%        0.878558     0.523812    1.163160    0.981336        1.653815\n",
      "max        1.266323     0.623762    2.289787    0.991640        5.163947\n"
     ]
    }
   ],
   "source": [
    "print(dataset.describe())"
   ]
  },
  {
   "cell_type": "markdown",
   "metadata": {},
   "source": [
    "TO SEE THE CLASS DISTRIBUTION"
   ]
  },
  {
   "cell_type": "code",
   "execution_count": 7,
   "metadata": {},
   "outputs": [
    {
     "name": "stdout",
     "output_type": "stream",
     "text": [
      "Herbal\n",
      "Akapulko          50\n",
      "Ampalaya          50\n",
      "Balbas-pusa       50\n",
      "Bayabas           50\n",
      "Lagundi           50\n",
      "Malunggay         50\n",
      "Niyog-Niyogan     50\n",
      "Oregano           50\n",
      "Sambong           50\n",
      "Tsaang-Gubat      50\n",
      "Ulasimang-Bato    50\n",
      "Yerba-Buena       50\n",
      "dtype: int64\n"
     ]
    }
   ],
   "source": [
    "print(dataset.groupby('Herbal').size())"
   ]
  },
  {
   "cell_type": "markdown",
   "metadata": {},
   "source": [
    "TO SHOW THE UNIVARIATE PLOT (BOX and WHISKER PLOTS)"
   ]
  },
  {
   "cell_type": "code",
   "execution_count": 8,
   "metadata": {},
   "outputs": [
    {
     "data": {
      "image/png": "[encoded data removed]",
      "text/plain": [
       "<Figure size 640x480 with 1 Axes>"
      ]
     },
     "metadata": {},
     "output_type": "display_data"
    }
   ],
   "source": [
    "dataset.plot(kind='box', subplots=False, layout=(1,5), sharex=False, sharey=False)\n",
    "plt.show()"
   ]
  },
  {
   "cell_type": "markdown",
   "metadata": {},
   "source": [
    "##### TO SHOW THE HISTOGRAM FOR THE DISTRIBUTION"
   ]
  },
  {
   "cell_type": "code",
   "execution_count": 9,
   "metadata": {},
   "outputs": [
    {
     "data": {
      "image/png": "[encoded data removed]",
      "text/plain": [
       "<Figure size 640x480 with 6 Axes>"
      ]
     },
     "metadata": {},
     "output_type": "display_data"
    }
   ],
   "source": [
    "dataset.hist()\n",
    "plt.show()"
   ]
  },
  {
   "cell_type": "markdown",
   "metadata": {},
   "source": [
    "FOR THE MULTIVARIATE PLOT"
   ]
  },
  {
   "cell_type": "code",
   "execution_count": 10,
   "metadata": {},
   "outputs": [
    {
     "data": {
      "image/png": "[encoded data removed]",
      "text/plain": [
       "<Figure size 640x480 with 25 Axes>"
      ]
     },
     "metadata": {},
     "output_type": "display_data"
    }
   ],
   "source": [
    "# For the Scatter Plot Matrix\n",
    "from pandas.plotting import scatter_matrix\n",
    "scatter_matrix(dataset)\n",
    "plt.show()"
   ]
  },
  {
   "cell_type": "markdown",
   "metadata": {},
   "source": [
    "TO CREATE THE MATRIX OF INDEPENDENT VARIABLE, X"
   ]
  },
  {
   "cell_type": "code",
   "execution_count": 11,
   "metadata": {},
   "outputs": [
    {
     "data": {
      "text/plain": [
       "array([[0.37222222, 0.4145476 , 1.04803789, 0.98646543, 1.3712683 ],\n",
       "       [0.43364486, 0.44731308, 1.04509804, 0.98879871, 1.3637762 ],\n",
       "       [0.4014733 , 0.44310102, 1.05335968, 0.9897137 , 1.31300538],\n",
       "       ...,\n",
       "       [0.86548223, 0.33983061, 1.25306958, 0.92209603, 1.47224353],\n",
       "       [0.80092593, 0.30198726, 1.31274131, 0.93084448, 1.49458549],\n",
       "       [0.85037407, 0.31418971, 1.28234501, 0.91956451, 1.51021603]])"
      ]
     },
     "execution_count": 11,
     "metadata": {},
     "output_type": "execute_result"
    }
   ],
   "source": [
    "X = dataset.iloc[:, :-1].values\n",
    "X"
   ]
  },
  {
   "cell_type": "markdown",
   "metadata": {},
   "source": [
    "TO CREATE THE MATRIX OF DEPENDENT VARIABLE, Y"
   ]
  },
  {
   "cell_type": "code",
   "execution_count": 12,
   "metadata": {},
   "outputs": [
    {
     "data": {
      "text/plain": [
       "array(['Bayabas', 'Bayabas', 'Bayabas', 'Bayabas', 'Bayabas', 'Bayabas',\n",
       "       'Bayabas', 'Bayabas', 'Bayabas', 'Bayabas', 'Bayabas', 'Bayabas',\n",
       "       'Bayabas', 'Bayabas', 'Bayabas', 'Bayabas', 'Bayabas', 'Bayabas',\n",
       "       'Bayabas', 'Bayabas', 'Ampalaya', 'Ampalaya', 'Ampalaya',\n",
       "       'Ampalaya', 'Ampalaya', 'Ampalaya', 'Ampalaya', 'Ampalaya',\n",
       "       'Ampalaya', 'Ampalaya', 'Malunggay', 'Malunggay', 'Malunggay',\n",
       "       'Malunggay', 'Malunggay', 'Malunggay', 'Malunggay', 'Malunggay',\n",
       "       'Malunggay', 'Malunggay', 'Sambong', 'Sambong', 'Sambong',\n",
       "       'Sambong', 'Sambong', 'Sambong', 'Sambong', 'Sambong', 'Sambong',\n",
       "       'Sambong', 'Sambong', 'Sambong', 'Sambong', 'Sambong', 'Sambong',\n",
       "       'Sambong', 'Sambong', 'Sambong', 'Sambong', 'Sambong', 'Sambong',\n",
       "       'Sambong', 'Sambong', 'Sambong', 'Sambong', 'Tsaang-Gubat',\n",
       "       'Tsaang-Gubat', 'Tsaang-Gubat', 'Tsaang-Gubat', 'Tsaang-Gubat',\n",
       "       'Tsaang-Gubat', 'Tsaang-Gubat', 'Tsaang-Gubat', 'Tsaang-Gubat',\n",
       "       'Tsaang-Gubat', 'Tsaang-Gubat', 'Tsaang-Gubat', 'Tsaang-Gubat',\n",
       "       'Tsaang-Gubat', 'Tsaang-Gubat', 'Tsaang-Gubat', 'Tsaang-Gubat',\n",
       "       'Tsaang-Gubat', 'Tsaang-Gubat', 'Tsaang-Gubat', 'Tsaang-Gubat',\n",
       "       'Tsaang-Gubat', 'Tsaang-Gubat', 'Tsaang-Gubat', 'Tsaang-Gubat',\n",
       "       'Niyog-Niyogan', 'Niyog-Niyogan', 'Niyog-Niyogan', 'Niyog-Niyogan',\n",
       "       'Niyog-Niyogan', 'Niyog-Niyogan', 'Niyog-Niyogan', 'Niyog-Niyogan',\n",
       "       'Niyog-Niyogan', 'Niyog-Niyogan', 'Niyog-Niyogan', 'Niyog-Niyogan',\n",
       "       'Niyog-Niyogan', 'Niyog-Niyogan', 'Niyog-Niyogan', 'Niyog-Niyogan',\n",
       "       'Niyog-Niyogan', 'Niyog-Niyogan', 'Niyog-Niyogan', 'Niyog-Niyogan',\n",
       "       'Niyog-Niyogan', 'Niyog-Niyogan', 'Niyog-Niyogan', 'Niyog-Niyogan',\n",
       "       'Niyog-Niyogan', 'Ampalaya', 'Ampalaya', 'Ampalaya', 'Ampalaya',\n",
       "       'Ampalaya', 'Ampalaya', 'Ampalaya', 'Ampalaya', 'Ampalaya',\n",
       "       'Ampalaya', 'Ampalaya', 'Ampalaya', 'Ampalaya', 'Ampalaya',\n",
       "       'Ampalaya', 'Ampalaya', 'Ampalaya', 'Ampalaya', 'Ampalaya',\n",
       "       'Ampalaya', 'Ampalaya', 'Ampalaya', 'Ampalaya', 'Ampalaya',\n",
       "       'Ampalaya', 'Ampalaya', 'Ampalaya', 'Ampalaya', 'Ampalaya',\n",
       "       'Ampalaya', 'Ampalaya', 'Ampalaya', 'Ampalaya', 'Ampalaya',\n",
       "       'Ampalaya', 'Ampalaya', 'Ampalaya', 'Ampalaya', 'Ampalaya',\n",
       "       'Ampalaya', 'Akapulko', 'Akapulko', 'Akapulko', 'Akapulko',\n",
       "       'Akapulko', 'Akapulko', 'Akapulko', 'Akapulko', 'Akapulko',\n",
       "       'Akapulko', 'Akapulko', 'Akapulko', 'Akapulko', 'Akapulko',\n",
       "       'Akapulko', 'Akapulko', 'Akapulko', 'Akapulko', 'Akapulko',\n",
       "       'Akapulko', 'Akapulko', 'Akapulko', 'Akapulko', 'Akapulko',\n",
       "       'Akapulko', 'Akapulko', 'Akapulko', 'Akapulko', 'Akapulko',\n",
       "       'Akapulko', 'Akapulko', 'Akapulko', 'Akapulko', 'Akapulko',\n",
       "       'Akapulko', 'Akapulko', 'Akapulko', 'Akapulko', 'Akapulko',\n",
       "       'Akapulko', 'Akapulko', 'Akapulko', 'Akapulko', 'Akapulko',\n",
       "       'Akapulko', 'Akapulko', 'Akapulko', 'Akapulko', 'Akapulko',\n",
       "       'Akapulko', 'Bayabas', 'Bayabas', 'Bayabas', 'Bayabas', 'Bayabas',\n",
       "       'Bayabas', 'Bayabas', 'Bayabas', 'Bayabas', 'Bayabas', 'Bayabas',\n",
       "       'Bayabas', 'Bayabas', 'Bayabas', 'Bayabas', 'Bayabas', 'Bayabas',\n",
       "       'Bayabas', 'Bayabas', 'Bayabas', 'Bayabas', 'Bayabas', 'Bayabas',\n",
       "       'Bayabas', 'Bayabas', 'Bayabas', 'Bayabas', 'Bayabas', 'Bayabas',\n",
       "       'Bayabas', 'Niyog-Niyogan', 'Niyog-Niyogan', 'Niyog-Niyogan',\n",
       "       'Niyog-Niyogan', 'Niyog-Niyogan', 'Niyog-Niyogan', 'Niyog-Niyogan',\n",
       "       'Niyog-Niyogan', 'Niyog-Niyogan', 'Niyog-Niyogan', 'Niyog-Niyogan',\n",
       "       'Niyog-Niyogan', 'Niyog-Niyogan', 'Niyog-Niyogan', 'Niyog-Niyogan',\n",
       "       'Niyog-Niyogan', 'Niyog-Niyogan', 'Niyog-Niyogan', 'Niyog-Niyogan',\n",
       "       'Niyog-Niyogan', 'Niyog-Niyogan', 'Niyog-Niyogan', 'Niyog-Niyogan',\n",
       "       'Niyog-Niyogan', 'Niyog-Niyogan', 'Oregano', 'Oregano', 'Oregano',\n",
       "       'Oregano', 'Oregano', 'Oregano', 'Oregano', 'Oregano', 'Oregano',\n",
       "       'Oregano', 'Oregano', 'Oregano', 'Oregano', 'Oregano', 'Oregano',\n",
       "       'Oregano', 'Oregano', 'Oregano', 'Oregano', 'Oregano', 'Oregano',\n",
       "       'Lagundi', 'Lagundi', 'Lagundi', 'Lagundi', 'Lagundi', 'Lagundi',\n",
       "       'Lagundi', 'Lagundi', 'Lagundi', 'Lagundi', 'Lagundi', 'Lagundi',\n",
       "       'Lagundi', 'Lagundi', 'Lagundi', 'Lagundi', 'Lagundi', 'Lagundi',\n",
       "       'Lagundi', 'Lagundi', 'Lagundi', 'Lagundi', 'Lagundi', 'Lagundi',\n",
       "       'Lagundi', 'Lagundi', 'Lagundi', 'Lagundi', 'Lagundi', 'Lagundi',\n",
       "       'Lagundi', 'Lagundi', 'Lagundi', 'Lagundi', 'Lagundi', 'Lagundi',\n",
       "       'Lagundi', 'Lagundi', 'Lagundi', 'Lagundi', 'Lagundi', 'Lagundi',\n",
       "       'Lagundi', 'Lagundi', 'Lagundi', 'Lagundi', 'Lagundi', 'Lagundi',\n",
       "       'Lagundi', 'Lagundi', 'Balbas-pusa', 'Balbas-pusa', 'Balbas-pusa',\n",
       "       'Balbas-pusa', 'Balbas-pusa', 'Balbas-pusa', 'Balbas-pusa',\n",
       "       'Balbas-pusa', 'Balbas-pusa', 'Balbas-pusa', 'Balbas-pusa',\n",
       "       'Balbas-pusa', 'Balbas-pusa', 'Balbas-pusa', 'Balbas-pusa',\n",
       "       'Balbas-pusa', 'Balbas-pusa', 'Balbas-pusa', 'Balbas-pusa',\n",
       "       'Balbas-pusa', 'Balbas-pusa', 'Balbas-pusa', 'Balbas-pusa',\n",
       "       'Balbas-pusa', 'Balbas-pusa', 'Balbas-pusa', 'Balbas-pusa',\n",
       "       'Balbas-pusa', 'Balbas-pusa', 'Balbas-pusa', 'Balbas-pusa',\n",
       "       'Balbas-pusa', 'Balbas-pusa', 'Balbas-pusa', 'Balbas-pusa',\n",
       "       'Balbas-pusa', 'Balbas-pusa', 'Balbas-pusa', 'Balbas-pusa',\n",
       "       'Balbas-pusa', 'Balbas-pusa', 'Balbas-pusa', 'Balbas-pusa',\n",
       "       'Balbas-pusa', 'Balbas-pusa', 'Balbas-pusa', 'Balbas-pusa',\n",
       "       'Balbas-pusa', 'Balbas-pusa', 'Balbas-pusa', 'Yerba-Buena',\n",
       "       'Yerba-Buena', 'Yerba-Buena', 'Yerba-Buena', 'Yerba-Buena',\n",
       "       'Yerba-Buena', 'Yerba-Buena', 'Yerba-Buena', 'Yerba-Buena',\n",
       "       'Yerba-Buena', 'Yerba-Buena', 'Yerba-Buena', 'Yerba-Buena',\n",
       "       'Yerba-Buena', 'Yerba-Buena', 'Yerba-Buena', 'Yerba-Buena',\n",
       "       'Yerba-Buena', 'Yerba-Buena', 'Yerba-Buena', 'Yerba-Buena',\n",
       "       'Yerba-Buena', 'Yerba-Buena', 'Yerba-Buena', 'Yerba-Buena',\n",
       "       'Yerba-Buena', 'Yerba-Buena', 'Yerba-Buena', 'Yerba-Buena',\n",
       "       'Yerba-Buena', 'Yerba-Buena', 'Yerba-Buena', 'Yerba-Buena',\n",
       "       'Yerba-Buena', 'Yerba-Buena', 'Yerba-Buena', 'Yerba-Buena',\n",
       "       'Yerba-Buena', 'Yerba-Buena', 'Yerba-Buena', 'Yerba-Buena',\n",
       "       'Yerba-Buena', 'Yerba-Buena', 'Yerba-Buena', 'Yerba-Buena',\n",
       "       'Yerba-Buena', 'Yerba-Buena', 'Yerba-Buena', 'Yerba-Buena',\n",
       "       'Yerba-Buena', 'Ulasimang-Bato', 'Ulasimang-Bato',\n",
       "       'Ulasimang-Bato', 'Ulasimang-Bato', 'Ulasimang-Bato',\n",
       "       'Ulasimang-Bato', 'Ulasimang-Bato', 'Ulasimang-Bato',\n",
       "       'Ulasimang-Bato', 'Ulasimang-Bato', 'Ulasimang-Bato',\n",
       "       'Ulasimang-Bato', 'Ulasimang-Bato', 'Ulasimang-Bato',\n",
       "       'Ulasimang-Bato', 'Ulasimang-Bato', 'Ulasimang-Bato',\n",
       "       'Ulasimang-Bato', 'Ulasimang-Bato', 'Ulasimang-Bato',\n",
       "       'Ulasimang-Bato', 'Ulasimang-Bato', 'Ulasimang-Bato',\n",
       "       'Ulasimang-Bato', 'Ulasimang-Bato', 'Ulasimang-Bato',\n",
       "       'Ulasimang-Bato', 'Ulasimang-Bato', 'Ulasimang-Bato',\n",
       "       'Ulasimang-Bato', 'Ulasimang-Bato', 'Ulasimang-Bato',\n",
       "       'Ulasimang-Bato', 'Ulasimang-Bato', 'Ulasimang-Bato',\n",
       "       'Ulasimang-Bato', 'Ulasimang-Bato', 'Ulasimang-Bato',\n",
       "       'Ulasimang-Bato', 'Ulasimang-Bato', 'Ulasimang-Bato',\n",
       "       'Ulasimang-Bato', 'Ulasimang-Bato', 'Ulasimang-Bato',\n",
       "       'Ulasimang-Bato', 'Ulasimang-Bato', 'Ulasimang-Bato',\n",
       "       'Ulasimang-Bato', 'Ulasimang-Bato', 'Ulasimang-Bato', 'Malunggay',\n",
       "       'Malunggay', 'Malunggay', 'Malunggay', 'Malunggay', 'Malunggay',\n",
       "       'Malunggay', 'Malunggay', 'Malunggay', 'Malunggay', 'Malunggay',\n",
       "       'Malunggay', 'Malunggay', 'Malunggay', 'Malunggay', 'Malunggay',\n",
       "       'Malunggay', 'Malunggay', 'Malunggay', 'Malunggay', 'Malunggay',\n",
       "       'Malunggay', 'Malunggay', 'Malunggay', 'Malunggay', 'Malunggay',\n",
       "       'Malunggay', 'Malunggay', 'Malunggay', 'Malunggay', 'Malunggay',\n",
       "       'Malunggay', 'Malunggay', 'Malunggay', 'Malunggay', 'Malunggay',\n",
       "       'Malunggay', 'Malunggay', 'Malunggay', 'Malunggay', 'Sambong',\n",
       "       'Sambong', 'Sambong', 'Sambong', 'Sambong', 'Sambong', 'Sambong',\n",
       "       'Sambong', 'Sambong', 'Sambong', 'Sambong', 'Sambong', 'Sambong',\n",
       "       'Sambong', 'Sambong', 'Sambong', 'Sambong', 'Sambong', 'Sambong',\n",
       "       'Sambong', 'Sambong', 'Sambong', 'Sambong', 'Sambong', 'Sambong',\n",
       "       'Tsaang-Gubat', 'Tsaang-Gubat', 'Tsaang-Gubat', 'Tsaang-Gubat',\n",
       "       'Tsaang-Gubat', 'Tsaang-Gubat', 'Tsaang-Gubat', 'Tsaang-Gubat',\n",
       "       'Tsaang-Gubat', 'Tsaang-Gubat', 'Tsaang-Gubat', 'Tsaang-Gubat',\n",
       "       'Tsaang-Gubat', 'Tsaang-Gubat', 'Tsaang-Gubat', 'Tsaang-Gubat',\n",
       "       'Tsaang-Gubat', 'Tsaang-Gubat', 'Tsaang-Gubat', 'Tsaang-Gubat',\n",
       "       'Tsaang-Gubat', 'Tsaang-Gubat', 'Tsaang-Gubat', 'Tsaang-Gubat',\n",
       "       'Tsaang-Gubat', 'Oregano', 'Oregano', 'Oregano', 'Oregano',\n",
       "       'Oregano', 'Oregano', 'Oregano', 'Oregano', 'Oregano', 'Oregano',\n",
       "       'Oregano', 'Oregano', 'Oregano', 'Oregano', 'Oregano', 'Oregano',\n",
       "       'Oregano', 'Oregano', 'Oregano', 'Oregano', 'Oregano', 'Oregano',\n",
       "       'Oregano', 'Oregano', 'Oregano', 'Oregano', 'Oregano', 'Oregano',\n",
       "       'Oregano'], dtype=object)"
      ]
     },
     "execution_count": 12,
     "metadata": {},
     "output_type": "execute_result"
    }
   ],
   "source": [
    "Y = dataset.iloc[:, 5].values\n",
    "Y"
   ]
  },
  {
   "cell_type": "markdown",
   "metadata": {},
   "source": [
    "TO ENCODE THE CATEGORICAL DATA IN THE DEPENDENT VARIABLE, Y"
   ]
  },
  {
   "cell_type": "code",
   "execution_count": 13,
   "metadata": {},
   "outputs": [
    {
     "data": {
      "text/plain": [
       "array([ 3,  3,  3,  3,  3,  3,  3,  3,  3,  3,  3,  3,  3,  3,  3,  3,  3,\n",
       "        3,  3,  3,  1,  1,  1,  1,  1,  1,  1,  1,  1,  1,  5,  5,  5,  5,\n",
       "        5,  5,  5,  5,  5,  5,  8,  8,  8,  8,  8,  8,  8,  8,  8,  8,  8,\n",
       "        8,  8,  8,  8,  8,  8,  8,  8,  8,  8,  8,  8,  8,  8,  9,  9,  9,\n",
       "        9,  9,  9,  9,  9,  9,  9,  9,  9,  9,  9,  9,  9,  9,  9,  9,  9,\n",
       "        9,  9,  9,  9,  9,  6,  6,  6,  6,  6,  6,  6,  6,  6,  6,  6,  6,\n",
       "        6,  6,  6,  6,  6,  6,  6,  6,  6,  6,  6,  6,  6,  1,  1,  1,  1,\n",
       "        1,  1,  1,  1,  1,  1,  1,  1,  1,  1,  1,  1,  1,  1,  1,  1,  1,\n",
       "        1,  1,  1,  1,  1,  1,  1,  1,  1,  1,  1,  1,  1,  1,  1,  1,  1,\n",
       "        1,  1,  0,  0,  0,  0,  0,  0,  0,  0,  0,  0,  0,  0,  0,  0,  0,\n",
       "        0,  0,  0,  0,  0,  0,  0,  0,  0,  0,  0,  0,  0,  0,  0,  0,  0,\n",
       "        0,  0,  0,  0,  0,  0,  0,  0,  0,  0,  0,  0,  0,  0,  0,  0,  0,\n",
       "        0,  3,  3,  3,  3,  3,  3,  3,  3,  3,  3,  3,  3,  3,  3,  3,  3,\n",
       "        3,  3,  3,  3,  3,  3,  3,  3,  3,  3,  3,  3,  3,  3,  6,  6,  6,\n",
       "        6,  6,  6,  6,  6,  6,  6,  6,  6,  6,  6,  6,  6,  6,  6,  6,  6,\n",
       "        6,  6,  6,  6,  6,  7,  7,  7,  7,  7,  7,  7,  7,  7,  7,  7,  7,\n",
       "        7,  7,  7,  7,  7,  7,  7,  7,  7,  4,  4,  4,  4,  4,  4,  4,  4,\n",
       "        4,  4,  4,  4,  4,  4,  4,  4,  4,  4,  4,  4,  4,  4,  4,  4,  4,\n",
       "        4,  4,  4,  4,  4,  4,  4,  4,  4,  4,  4,  4,  4,  4,  4,  4,  4,\n",
       "        4,  4,  4,  4,  4,  4,  4,  4,  2,  2,  2,  2,  2,  2,  2,  2,  2,\n",
       "        2,  2,  2,  2,  2,  2,  2,  2,  2,  2,  2,  2,  2,  2,  2,  2,  2,\n",
       "        2,  2,  2,  2,  2,  2,  2,  2,  2,  2,  2,  2,  2,  2,  2,  2,  2,\n",
       "        2,  2,  2,  2,  2,  2,  2, 11, 11, 11, 11, 11, 11, 11, 11, 11, 11,\n",
       "       11, 11, 11, 11, 11, 11, 11, 11, 11, 11, 11, 11, 11, 11, 11, 11, 11,\n",
       "       11, 11, 11, 11, 11, 11, 11, 11, 11, 11, 11, 11, 11, 11, 11, 11, 11,\n",
       "       11, 11, 11, 11, 11, 11, 10, 10, 10, 10, 10, 10, 10, 10, 10, 10, 10,\n",
       "       10, 10, 10, 10, 10, 10, 10, 10, 10, 10, 10, 10, 10, 10, 10, 10, 10,\n",
       "       10, 10, 10, 10, 10, 10, 10, 10, 10, 10, 10, 10, 10, 10, 10, 10, 10,\n",
       "       10, 10, 10, 10, 10,  5,  5,  5,  5,  5,  5,  5,  5,  5,  5,  5,  5,\n",
       "        5,  5,  5,  5,  5,  5,  5,  5,  5,  5,  5,  5,  5,  5,  5,  5,  5,\n",
       "        5,  5,  5,  5,  5,  5,  5,  5,  5,  5,  5,  8,  8,  8,  8,  8,  8,\n",
       "        8,  8,  8,  8,  8,  8,  8,  8,  8,  8,  8,  8,  8,  8,  8,  8,  8,\n",
       "        8,  8,  9,  9,  9,  9,  9,  9,  9,  9,  9,  9,  9,  9,  9,  9,  9,\n",
       "        9,  9,  9,  9,  9,  9,  9,  9,  9,  9,  7,  7,  7,  7,  7,  7,  7,\n",
       "        7,  7,  7,  7,  7,  7,  7,  7,  7,  7,  7,  7,  7,  7,  7,  7,  7,\n",
       "        7,  7,  7,  7,  7])"
      ]
     },
     "execution_count": 13,
     "metadata": {},
     "output_type": "execute_result"
    }
   ],
   "source": [
    "from sklearn.preprocessing import LabelEncoder \n",
    "labelencoder_Y = LabelEncoder()\n",
    "Y = labelencoder_Y.fit_transform(Y)\n",
    "Y"
   ]
  },
  {
   "cell_type": "markdown",
   "metadata": {},
   "source": [
    "#### TO SPLIT THE DATASET INTO TRAINING DATASET AND TESTING DATASET"
   ]
  },
  {
   "cell_type": "code",
   "execution_count": 14,
   "metadata": {},
   "outputs": [],
   "source": [
    "from sklearn.model_selection import train_test_split\n",
    "X_train, X_test, Y_train, Y_test = train_test_split(X, Y, test_size=0.20, random_state=0)"
   ]
  },
  {
   "cell_type": "code",
   "execution_count": 15,
   "metadata": {},
   "outputs": [
    {
     "name": "stdout",
     "output_type": "stream",
     "text": [
      "(600, 5)\n",
      "(600,)\n"
     ]
    }
   ],
   "source": [
    "# To Show the Shapes of X and Y Data\n",
    "print(X.shape)\n",
    "print(Y.shape)"
   ]
  },
  {
   "cell_type": "code",
   "execution_count": 16,
   "metadata": {},
   "outputs": [
    {
     "name": "stdout",
     "output_type": "stream",
     "text": [
      "(480, 5)\n",
      "(120, 5)\n"
     ]
    }
   ],
   "source": [
    "# To Show the Shapes of the New X Objects\n",
    "print(X_train.shape)\n",
    "print(X_test.shape)"
   ]
  },
  {
   "cell_type": "code",
   "execution_count": 17,
   "metadata": {},
   "outputs": [
    {
     "name": "stdout",
     "output_type": "stream",
     "text": [
      "(480,)\n",
      "(120,)\n"
     ]
    }
   ],
   "source": [
    "# To Show the Shapes of the New Y Objects\n",
    "print(Y_train.shape)\n",
    "print(Y_test.shape)"
   ]
  },
  {
   "cell_type": "markdown",
   "metadata": {},
   "source": [
    "#### TO IMPORT DIFFERENT MACHINE LEARNING MODELS"
   ]
  },
  {
   "cell_type": "code",
   "execution_count": 18,
   "metadata": {},
   "outputs": [],
   "source": [
    "from sklearn.linear_model import LogisticRegression\n",
    "from sklearn.tree import DecisionTreeClassifier\n",
    "from sklearn.neighbors import KNeighborsClassifier\n",
    "from sklearn.discriminant_analysis import LinearDiscriminantAnalysis\n",
    "from sklearn.naive_bayes import GaussianNB\n",
    "from sklearn.svm import SVC\n",
    "from sklearn.neural_network import MLPClassifier"
   ]
  },
  {
   "cell_type": "markdown",
   "metadata": {},
   "source": [
    "###### To Build Different Machine Learning Models"
   ]
  },
  {
   "cell_type": "code",
   "execution_count": 19,
   "metadata": {},
   "outputs": [
    {
     "data": {
      "text/plain": [
       "[('LR', LogisticRegression(max_iter=1000000)),\n",
       " ('LDA', LinearDiscriminantAnalysis()),\n",
       " ('KNN', KNeighborsClassifier()),\n",
       " ('CART', DecisionTreeClassifier()),\n",
       " ('NB', GaussianNB()),\n",
       " ('SVM', SVC()),\n",
       " ('NN', MLPClassifier())]"
      ]
     },
     "execution_count": 19,
     "metadata": {},
     "output_type": "execute_result"
    }
   ],
   "source": [
    "models = []\n",
    "models.append(('LR', LogisticRegression(max_iter=1000000)))\n",
    "models.append(('LDA', LinearDiscriminantAnalysis()))\n",
    "models.append(('KNN', KNeighborsClassifier()))\n",
    "models.append(('CART', DecisionTreeClassifier()))\n",
    "models.append(('NB', GaussianNB()))\n",
    "models.append(('SVM', SVC()))\n",
    "models.append(('NN', MLPClassifier()))\n",
    "models"
   ]
  },
  {
   "cell_type": "markdown",
   "metadata": {},
   "source": [
    "#### To Evaluate Each Model in Turn Using Default Parameters of All Models"
   ]
  },
  {
   "cell_type": "code",
   "execution_count": 20,
   "metadata": {},
   "outputs": [
    {
     "name": "stdout",
     "output_type": "stream",
     "text": [
      "LR: 0.805000 (0.045369)\n",
      "LDA: 0.891667 (0.039616)\n",
      "KNN: 0.883333 (0.040139)\n",
      "CART: 0.908333 (0.034359)\n",
      "NB: 0.910000 (0.029059)\n",
      "SVM: 0.848333 (0.021667)\n"
     ]
    },
    {
     "name": "stderr",
     "output_type": "stream",
     "text": [
      "c:\\Users\\RenzCute\\anaconda3\\Lib\\site-packages\\sklearn\\neural_network\\_multilayer_perceptron.py:691: ConvergenceWarning: Stochastic Optimizer: Maximum iterations (200) reached and the optimization hasn't converged yet.\n",
      "  warnings.warn(\n",
      "c:\\Users\\RenzCute\\anaconda3\\Lib\\site-packages\\sklearn\\neural_network\\_multilayer_perceptron.py:691: ConvergenceWarning: Stochastic Optimizer: Maximum iterations (200) reached and the optimization hasn't converged yet.\n",
      "  warnings.warn(\n",
      "c:\\Users\\RenzCute\\anaconda3\\Lib\\site-packages\\sklearn\\neural_network\\_multilayer_perceptron.py:691: ConvergenceWarning: Stochastic Optimizer: Maximum iterations (200) reached and the optimization hasn't converged yet.\n",
      "  warnings.warn(\n",
      "c:\\Users\\RenzCute\\anaconda3\\Lib\\site-packages\\sklearn\\neural_network\\_multilayer_perceptron.py:691: ConvergenceWarning: Stochastic Optimizer: Maximum iterations (200) reached and the optimization hasn't converged yet.\n",
      "  warnings.warn(\n",
      "c:\\Users\\RenzCute\\anaconda3\\Lib\\site-packages\\sklearn\\neural_network\\_multilayer_perceptron.py:691: ConvergenceWarning: Stochastic Optimizer: Maximum iterations (200) reached and the optimization hasn't converged yet.\n",
      "  warnings.warn(\n",
      "c:\\Users\\RenzCute\\anaconda3\\Lib\\site-packages\\sklearn\\neural_network\\_multilayer_perceptron.py:691: ConvergenceWarning: Stochastic Optimizer: Maximum iterations (200) reached and the optimization hasn't converged yet.\n",
      "  warnings.warn(\n",
      "c:\\Users\\RenzCute\\anaconda3\\Lib\\site-packages\\sklearn\\neural_network\\_multilayer_perceptron.py:691: ConvergenceWarning: Stochastic Optimizer: Maximum iterations (200) reached and the optimization hasn't converged yet.\n",
      "  warnings.warn(\n",
      "c:\\Users\\RenzCute\\anaconda3\\Lib\\site-packages\\sklearn\\neural_network\\_multilayer_perceptron.py:691: ConvergenceWarning: Stochastic Optimizer: Maximum iterations (200) reached and the optimization hasn't converged yet.\n",
      "  warnings.warn(\n",
      "c:\\Users\\RenzCute\\anaconda3\\Lib\\site-packages\\sklearn\\neural_network\\_multilayer_perceptron.py:691: ConvergenceWarning: Stochastic Optimizer: Maximum iterations (200) reached and the optimization hasn't converged yet.\n",
      "  warnings.warn(\n"
     ]
    },
    {
     "name": "stdout",
     "output_type": "stream",
     "text": [
      "NN: 0.851667 (0.040449)\n"
     ]
    },
    {
     "name": "stderr",
     "output_type": "stream",
     "text": [
      "c:\\Users\\RenzCute\\anaconda3\\Lib\\site-packages\\sklearn\\neural_network\\_multilayer_perceptron.py:691: ConvergenceWarning: Stochastic Optimizer: Maximum iterations (200) reached and the optimization hasn't converged yet.\n",
      "  warnings.warn(\n"
     ]
    }
   ],
   "source": [
    "# For Test Options and Evaluation Metric\n",
    "from sklearn.model_selection import KFold\n",
    "from sklearn.model_selection import StratifiedKFold\n",
    "from sklearn.model_selection import cross_val_score\n",
    "\n",
    "results = []\n",
    "names = []\n",
    "\n",
    "for name, model in models:\n",
    "\tk_Fold = StratifiedKFold(n_splits=10, shuffle=True, random_state=None)\n",
    "\tcv_results = cross_val_score(model, X, Y, cv=k_Fold, scoring='accuracy')\n",
    "\tresults.append(cv_results)\n",
    "\tnames.append(name)\n",
    "\tprinted_results = \"%s: %f (%f)\" % (name, cv_results.mean(), cv_results.std())\n",
    "\tprint(printed_results)"
   ]
  },
  {
   "cell_type": "markdown",
   "metadata": {},
   "source": [
    "#### To Select the Best Machine Learning Model"
   ]
  },
  {
   "cell_type": "code",
   "execution_count": 21,
   "metadata": {},
   "outputs": [
    {
     "data": {
      "image/png": "[encoded data removed]",
      "text/plain": [
       "<Figure size 640x480 with 1 Axes>"
      ]
     },
     "metadata": {},
     "output_type": "display_data"
    }
   ],
   "source": [
    "figure = plt.figure()\n",
    "figure.suptitle('Algorithm Comparison')\n",
    "axis = figure.add_subplot(111)\n",
    "plt.boxplot(results)\n",
    "axis.set_xticklabels(names)\n",
    "plt.show()\n"
   ]
  },
  {
   "cell_type": "markdown",
   "metadata": {},
   "source": [
    "#### A. To Create the Logistic Regression Model "
   ]
  },
  {
   "cell_type": "code",
   "execution_count": 59,
   "metadata": {},
   "outputs": [
    {
     "data": {
      "text/html": [
       "<div>\n",
       "<style scoped>\n",
       "    .dataframe tbody tr th:only-of-type {\n",
       "        vertical-align: middle;\n",
       "    }\n",
       "\n",
       "    .dataframe tbody tr th {\n",
       "        vertical-align: top;\n",
       "    }\n",
       "\n",
       "    .dataframe thead th {\n",
       "        text-align: right;\n",
       "    }\n",
       "</style>\n",
       "<table border=\"1\" class=\"dataframe\">\n",
       "  <thead>\n",
       "    <tr style=\"text-align: right;\">\n",
       "      <th></th>\n",
       "      <th>Actual</th>\n",
       "      <th>Predicted</th>\n",
       "    </tr>\n",
       "  </thead>\n",
       "  <tbody>\n",
       "    <tr>\n",
       "      <th>0</th>\n",
       "      <td>10</td>\n",
       "      <td>10</td>\n",
       "    </tr>\n",
       "    <tr>\n",
       "      <th>1</th>\n",
       "      <td>1</td>\n",
       "      <td>1</td>\n",
       "    </tr>\n",
       "    <tr>\n",
       "      <th>2</th>\n",
       "      <td>3</td>\n",
       "      <td>0</td>\n",
       "    </tr>\n",
       "    <tr>\n",
       "      <th>3</th>\n",
       "      <td>10</td>\n",
       "      <td>10</td>\n",
       "    </tr>\n",
       "    <tr>\n",
       "      <th>4</th>\n",
       "      <td>3</td>\n",
       "      <td>3</td>\n",
       "    </tr>\n",
       "    <tr>\n",
       "      <th>5</th>\n",
       "      <td>9</td>\n",
       "      <td>6</td>\n",
       "    </tr>\n",
       "    <tr>\n",
       "      <th>6</th>\n",
       "      <td>10</td>\n",
       "      <td>10</td>\n",
       "    </tr>\n",
       "    <tr>\n",
       "      <th>7</th>\n",
       "      <td>8</td>\n",
       "      <td>8</td>\n",
       "    </tr>\n",
       "    <tr>\n",
       "      <th>8</th>\n",
       "      <td>10</td>\n",
       "      <td>10</td>\n",
       "    </tr>\n",
       "    <tr>\n",
       "      <th>9</th>\n",
       "      <td>0</td>\n",
       "      <td>0</td>\n",
       "    </tr>\n",
       "    <tr>\n",
       "      <th>10</th>\n",
       "      <td>4</td>\n",
       "      <td>4</td>\n",
       "    </tr>\n",
       "    <tr>\n",
       "      <th>11</th>\n",
       "      <td>11</td>\n",
       "      <td>11</td>\n",
       "    </tr>\n",
       "    <tr>\n",
       "      <th>12</th>\n",
       "      <td>0</td>\n",
       "      <td>0</td>\n",
       "    </tr>\n",
       "    <tr>\n",
       "      <th>13</th>\n",
       "      <td>4</td>\n",
       "      <td>4</td>\n",
       "    </tr>\n",
       "    <tr>\n",
       "      <th>14</th>\n",
       "      <td>8</td>\n",
       "      <td>8</td>\n",
       "    </tr>\n",
       "    <tr>\n",
       "      <th>15</th>\n",
       "      <td>10</td>\n",
       "      <td>10</td>\n",
       "    </tr>\n",
       "    <tr>\n",
       "      <th>16</th>\n",
       "      <td>5</td>\n",
       "      <td>5</td>\n",
       "    </tr>\n",
       "    <tr>\n",
       "      <th>17</th>\n",
       "      <td>9</td>\n",
       "      <td>9</td>\n",
       "    </tr>\n",
       "    <tr>\n",
       "      <th>18</th>\n",
       "      <td>0</td>\n",
       "      <td>0</td>\n",
       "    </tr>\n",
       "    <tr>\n",
       "      <th>19</th>\n",
       "      <td>2</td>\n",
       "      <td>2</td>\n",
       "    </tr>\n",
       "  </tbody>\n",
       "</table>\n",
       "</div>"
      ],
      "text/plain": [
       "    Actual  Predicted\n",
       "0       10         10\n",
       "1        1          1\n",
       "2        3          0\n",
       "3       10         10\n",
       "4        3          3\n",
       "5        9          6\n",
       "6       10         10\n",
       "7        8          8\n",
       "8       10         10\n",
       "9        0          0\n",
       "10       4          4\n",
       "11      11         11\n",
       "12       0          0\n",
       "13       4          4\n",
       "14       8          8\n",
       "15      10         10\n",
       "16       5          5\n",
       "17       9          9\n",
       "18       0          0\n",
       "19       2          2"
      ]
     },
     "execution_count": 59,
     "metadata": {},
     "output_type": "execute_result"
    }
   ],
   "source": [
    "# To Instantiate the Model (Using the Default Parameters)\n",
    "logistic_regression = LogisticRegression(max_iter=100000, random_state=0)\n",
    "\n",
    "# To Fit the Training Dataset into Logistic Regression Model\n",
    "logistic_regression.fit(X_train, Y_train)\n",
    "\n",
    "# To Predict the Output of the Testing Dataset\n",
    "Y_predict_LogReg = logistic_regression.predict(X_test)\n",
    "Y_predict_LogReg\n",
    "\n",
    "# show the comparison between the actual and predicted values\n",
    "pd.DataFrame({'Actual': Y_test, 'Predicted': Y_predict_LogReg}).head(20)"
   ]
  },
  {
   "cell_type": "markdown",
   "metadata": {},
   "source": [
    "###### To Evaluate the Performance of the Logistic Regression Model"
   ]
  },
  {
   "cell_type": "code",
   "execution_count": 23,
   "metadata": {},
   "outputs": [
    {
     "data": {
      "text/plain": [
       "Text(95.72222222222221, 0.5, 'Actual Value')"
      ]
     },
     "execution_count": 23,
     "metadata": {},
     "output_type": "execute_result"
    },
    {
     "data": {
      "image/png": "[encoded data removed]",
      "text/plain": [
       "<Figure size 1000x700 with 2 Axes>"
      ]
     },
     "metadata": {},
     "output_type": "display_data"
    }
   ],
   "source": [
    "# To Show the Confusion Matrix\n",
    "from sklearn.metrics import confusion_matrix\n",
    "confusion_matrix = confusion_matrix(Y_test, Y_predict_LogReg)\n",
    "\n",
    "import seaborn as sns\n",
    "plt.figure(figsize=(10,7))\n",
    "sns.heatmap(confusion_matrix, annot=True)\n",
    "plt.xlabel(\"Predicted Value\")\n",
    "plt.ylabel(\"Actual Value\")"
   ]
  },
  {
   "cell_type": "code",
   "execution_count": 24,
   "metadata": {},
   "outputs": [
    {
     "name": "stdout",
     "output_type": "stream",
     "text": [
      "Classification Accuracy: 0.8417\n",
      "\n"
     ]
    }
   ],
   "source": [
    "# For the Classification Accuracy\n",
    "from sklearn.metrics import accuracy_score\n",
    "classification_accuracy = accuracy_score(Y_test, Y_predict_LogReg)\n",
    "print('Classification Accuracy: %.4f'\n",
    "      % classification_accuracy)\n",
    "print('')"
   ]
  },
  {
   "cell_type": "code",
   "execution_count": 25,
   "metadata": {},
   "outputs": [
    {
     "name": "stdout",
     "output_type": "stream",
     "text": [
      "CLASSIFICATION REPORT:\n",
      "              precision    recall  f1-score   support\n",
      "\n",
      "           0       0.91      0.91      0.91        11\n",
      "           1       1.00      1.00      1.00         5\n",
      "           2       0.86      1.00      0.92        12\n",
      "           3       1.00      0.71      0.83        14\n",
      "           4       1.00      1.00      1.00         7\n",
      "           5       0.73      1.00      0.84         8\n",
      "           6       0.33      0.43      0.38         7\n",
      "           7       1.00      1.00      1.00        11\n",
      "           8       0.82      0.82      0.82        11\n",
      "           9       0.43      0.33      0.38         9\n",
      "          10       0.93      1.00      0.97        14\n",
      "          11       1.00      0.82      0.90        11\n",
      "\n",
      "    accuracy                           0.84       120\n",
      "   macro avg       0.83      0.84      0.83       120\n",
      "weighted avg       0.85      0.84      0.84       120\n",
      "\n"
     ]
    }
   ],
   "source": [
    "# For the Classification Report\n",
    "from sklearn.metrics import classification_report\n",
    "print(\"CLASSIFICATION REPORT:\")\n",
    "print(classification_report(Y_test, Y_predict_LogReg))"
   ]
  },
  {
   "cell_type": "markdown",
   "metadata": {},
   "source": [
    "#### Applying GridSearchCV to find the Best Parameters for the Logistic Regression Model"
   ]
  },
  {
   "cell_type": "markdown",
   "metadata": {},
   "source": [
    "Grid Search can be thought of as an exhaustive search for selecting a model. In Grid Search, the data scientist sets up a grid of hyperparameter values and for each combination, trains a model and scores on the testing data. In this approach, every combination of hyperparameter values is tried which can be very inefficient. For example, searching 20 different parameter values for each of 4 parameters will require 160,000 trials of cross-validation. This equates to 1,600,000 model fits and 1,600,000 predictions if 10-fold cross validation is used. While Scikit Learn offers the GridSearchCV function to simplify the process, it would be an extremely costly execution both in computing power and time."
   ]
  },
  {
   "cell_type": "code",
   "execution_count": 26,
   "metadata": {},
   "outputs": [
    {
     "name": "stdout",
     "output_type": "stream",
     "text": [
      "GridSearchCV(cv=StratifiedKFold(n_splits=10, random_state=0, shuffle=True),\n",
      "             estimator=LogisticRegression(max_iter=100000, random_state=0),\n",
      "             n_jobs=-1,\n",
      "             param_grid=[{'C': [0.001, 0.01, 0.1, 1, 10, 100, 1000],\n",
      "                          'penalty': ['l1'], 'solver': ['liblinear', 'saga']},\n",
      "                         {'C': [0.001, 0.01, 0.1, 1, 10, 100, 1000],\n",
      "                          'penalty': ['l1', 'l2'],\n",
      "                          'solver': ['newton-cg', 'lbfgs', 'saga', 'sag']}],\n",
      "             scoring='accuracy')\n"
     ]
    },
    {
     "name": "stderr",
     "output_type": "stream",
     "text": [
      "c:\\Users\\RenzCute\\anaconda3\\Lib\\site-packages\\sklearn\\model_selection\\_validation.py:425: FitFailedWarning: \n",
      "210 fits failed out of a total of 700.\n",
      "The score on these train-test partitions for these parameters will be set to nan.\n",
      "If these failures are not expected, you can try to debug them by setting error_score='raise'.\n",
      "\n",
      "Below are more details about the failures:\n",
      "--------------------------------------------------------------------------------\n",
      "70 fits failed with the following error:\n",
      "Traceback (most recent call last):\n",
      "  File \"c:\\Users\\RenzCute\\anaconda3\\Lib\\site-packages\\sklearn\\model_selection\\_validation.py\", line 732, in _fit_and_score\n",
      "    estimator.fit(X_train, y_train, **fit_params)\n",
      "  File \"c:\\Users\\RenzCute\\anaconda3\\Lib\\site-packages\\sklearn\\base.py\", line 1151, in wrapper\n",
      "    return fit_method(estimator, *args, **kwargs)\n",
      "           ^^^^^^^^^^^^^^^^^^^^^^^^^^^^^^^^^^^^^^\n",
      "  File \"c:\\Users\\RenzCute\\anaconda3\\Lib\\site-packages\\sklearn\\linear_model\\_logistic.py\", line 1168, in fit\n",
      "    solver = _check_solver(self.solver, self.penalty, self.dual)\n",
      "             ^^^^^^^^^^^^^^^^^^^^^^^^^^^^^^^^^^^^^^^^^^^^^^^^^^^\n",
      "  File \"c:\\Users\\RenzCute\\anaconda3\\Lib\\site-packages\\sklearn\\linear_model\\_logistic.py\", line 56, in _check_solver\n",
      "    raise ValueError(\n",
      "ValueError: Solver newton-cg supports only 'l2' or 'none' penalties, got l1 penalty.\n",
      "\n",
      "--------------------------------------------------------------------------------\n",
      "70 fits failed with the following error:\n",
      "Traceback (most recent call last):\n",
      "  File \"c:\\Users\\RenzCute\\anaconda3\\Lib\\site-packages\\sklearn\\model_selection\\_validation.py\", line 732, in _fit_and_score\n",
      "    estimator.fit(X_train, y_train, **fit_params)\n",
      "  File \"c:\\Users\\RenzCute\\anaconda3\\Lib\\site-packages\\sklearn\\base.py\", line 1151, in wrapper\n",
      "    return fit_method(estimator, *args, **kwargs)\n",
      "           ^^^^^^^^^^^^^^^^^^^^^^^^^^^^^^^^^^^^^^\n",
      "  File \"c:\\Users\\RenzCute\\anaconda3\\Lib\\site-packages\\sklearn\\linear_model\\_logistic.py\", line 1168, in fit\n",
      "    solver = _check_solver(self.solver, self.penalty, self.dual)\n",
      "             ^^^^^^^^^^^^^^^^^^^^^^^^^^^^^^^^^^^^^^^^^^^^^^^^^^^\n",
      "  File \"c:\\Users\\RenzCute\\anaconda3\\Lib\\site-packages\\sklearn\\linear_model\\_logistic.py\", line 56, in _check_solver\n",
      "    raise ValueError(\n",
      "ValueError: Solver lbfgs supports only 'l2' or 'none' penalties, got l1 penalty.\n",
      "\n",
      "--------------------------------------------------------------------------------\n",
      "70 fits failed with the following error:\n",
      "Traceback (most recent call last):\n",
      "  File \"c:\\Users\\RenzCute\\anaconda3\\Lib\\site-packages\\sklearn\\model_selection\\_validation.py\", line 732, in _fit_and_score\n",
      "    estimator.fit(X_train, y_train, **fit_params)\n",
      "  File \"c:\\Users\\RenzCute\\anaconda3\\Lib\\site-packages\\sklearn\\base.py\", line 1151, in wrapper\n",
      "    return fit_method(estimator, *args, **kwargs)\n",
      "           ^^^^^^^^^^^^^^^^^^^^^^^^^^^^^^^^^^^^^^\n",
      "  File \"c:\\Users\\RenzCute\\anaconda3\\Lib\\site-packages\\sklearn\\linear_model\\_logistic.py\", line 1168, in fit\n",
      "    solver = _check_solver(self.solver, self.penalty, self.dual)\n",
      "             ^^^^^^^^^^^^^^^^^^^^^^^^^^^^^^^^^^^^^^^^^^^^^^^^^^^\n",
      "  File \"c:\\Users\\RenzCute\\anaconda3\\Lib\\site-packages\\sklearn\\linear_model\\_logistic.py\", line 56, in _check_solver\n",
      "    raise ValueError(\n",
      "ValueError: Solver sag supports only 'l2' or 'none' penalties, got l1 penalty.\n",
      "\n",
      "  warnings.warn(some_fits_failed_message, FitFailedWarning)\n",
      "c:\\Users\\RenzCute\\anaconda3\\Lib\\site-packages\\sklearn\\model_selection\\_search.py:976: UserWarning: One or more of the test scores are non-finite: [0.08333333 0.08333333 0.08333333 0.08666667 0.40833333 0.41833333\n",
      " 0.835      0.87       0.89333333 0.91333333 0.91333333 0.93833333\n",
      " 0.91333333 0.93666667        nan        nan 0.08333333        nan\n",
      " 0.31166667 0.31333333 0.31333333 0.31166667        nan        nan\n",
      " 0.08666667        nan 0.49       0.49       0.48833333 0.48833333\n",
      "        nan        nan 0.41833333        nan 0.61666667 0.61666667\n",
      " 0.61666667 0.61666667        nan        nan 0.87              nan\n",
      " 0.805      0.805      0.805      0.805             nan        nan\n",
      " 0.91333333        nan 0.88333333 0.88333333 0.88333333 0.88333333\n",
      "        nan        nan 0.93833333        nan 0.91833333 0.91833333\n",
      " 0.91333333 0.91666667        nan        nan 0.93666667        nan\n",
      " 0.94166667 0.94166667 0.93166667 0.93666667]\n",
      "  warnings.warn(\n"
     ]
    }
   ],
   "source": [
    "# To Import the StratifiedKFold Class\n",
    "from sklearn.model_selection import StratifiedKFold\n",
    "k_Fold = StratifiedKFold (n_splits=10, shuffle=True, random_state=0)\n",
    "\n",
    "# To Import the GridSearch Class\n",
    "from sklearn.model_selection import GridSearchCV\n",
    "\n",
    "# To Set Parameters to be Optimized Under the Logistic Regression Model\n",
    "parameters = [{'C': [0.001, 0.01, 0.1, 1, 10, 100, 1000], 'penalty': ['l1'], 'solver': ['liblinear','saga']},\n",
    "              {'C': [0.001, 0.01, 0.1, 1, 10, 100, 1000], 'penalty': ['l1', 'l2'], 'solver': ['newton-cg', 'lbfgs', 'saga', 'sag']}]\n",
    "\n",
    "grid_search = GridSearchCV(estimator = logistic_regression,\n",
    "                           param_grid = parameters,\n",
    "                           scoring = 'accuracy',\n",
    "                           cv = k_Fold,\n",
    "                           n_jobs = -1)\n",
    "grid_search = grid_search.fit(X, Y)\n",
    "print(grid_search)"
   ]
  },
  {
   "cell_type": "code",
   "execution_count": 27,
   "metadata": {
    "scrolled": true
   },
   "outputs": [
    {
     "data": {
      "text/html": [
       "<div>\n",
       "<style scoped>\n",
       "    .dataframe tbody tr th:only-of-type {\n",
       "        vertical-align: middle;\n",
       "    }\n",
       "\n",
       "    .dataframe tbody tr th {\n",
       "        vertical-align: top;\n",
       "    }\n",
       "\n",
       "    .dataframe thead th {\n",
       "        text-align: right;\n",
       "    }\n",
       "</style>\n",
       "<table border=\"1\" class=\"dataframe\">\n",
       "  <thead>\n",
       "    <tr style=\"text-align: right;\">\n",
       "      <th></th>\n",
       "      <th>mean_test_score</th>\n",
       "      <th>std_test_score</th>\n",
       "      <th>params</th>\n",
       "    </tr>\n",
       "  </thead>\n",
       "  <tbody>\n",
       "    <tr>\n",
       "      <th>0</th>\n",
       "      <td>0.083333</td>\n",
       "      <td>1.387779e-17</td>\n",
       "      <td>{'C': 0.001, 'penalty': 'l1', 'solver': 'libli...</td>\n",
       "    </tr>\n",
       "    <tr>\n",
       "      <th>1</th>\n",
       "      <td>0.083333</td>\n",
       "      <td>1.387779e-17</td>\n",
       "      <td>{'C': 0.001, 'penalty': 'l1', 'solver': 'saga'}</td>\n",
       "    </tr>\n",
       "    <tr>\n",
       "      <th>2</th>\n",
       "      <td>0.083333</td>\n",
       "      <td>1.387779e-17</td>\n",
       "      <td>{'C': 0.01, 'penalty': 'l1', 'solver': 'liblin...</td>\n",
       "    </tr>\n",
       "    <tr>\n",
       "      <th>3</th>\n",
       "      <td>0.086667</td>\n",
       "      <td>6.666667e-03</td>\n",
       "      <td>{'C': 0.01, 'penalty': 'l1', 'solver': 'saga'}</td>\n",
       "    </tr>\n",
       "    <tr>\n",
       "      <th>4</th>\n",
       "      <td>0.408333</td>\n",
       "      <td>4.031129e-02</td>\n",
       "      <td>{'C': 0.1, 'penalty': 'l1', 'solver': 'libline...</td>\n",
       "    </tr>\n",
       "    <tr>\n",
       "      <th>...</th>\n",
       "      <td>...</td>\n",
       "      <td>...</td>\n",
       "      <td>...</td>\n",
       "    </tr>\n",
       "    <tr>\n",
       "      <th>65</th>\n",
       "      <td>NaN</td>\n",
       "      <td>NaN</td>\n",
       "      <td>{'C': 1000, 'penalty': 'l1', 'solver': 'sag'}</td>\n",
       "    </tr>\n",
       "    <tr>\n",
       "      <th>66</th>\n",
       "      <td>0.941667</td>\n",
       "      <td>2.713137e-02</td>\n",
       "      <td>{'C': 1000, 'penalty': 'l2', 'solver': 'newton...</td>\n",
       "    </tr>\n",
       "    <tr>\n",
       "      <th>67</th>\n",
       "      <td>0.941667</td>\n",
       "      <td>2.713137e-02</td>\n",
       "      <td>{'C': 1000, 'penalty': 'l2', 'solver': 'lbfgs'}</td>\n",
       "    </tr>\n",
       "    <tr>\n",
       "      <th>68</th>\n",
       "      <td>0.931667</td>\n",
       "      <td>2.034426e-02</td>\n",
       "      <td>{'C': 1000, 'penalty': 'l2', 'solver': 'saga'}</td>\n",
       "    </tr>\n",
       "    <tr>\n",
       "      <th>69</th>\n",
       "      <td>0.936667</td>\n",
       "      <td>2.081666e-02</td>\n",
       "      <td>{'C': 1000, 'penalty': 'l2', 'solver': 'sag'}</td>\n",
       "    </tr>\n",
       "  </tbody>\n",
       "</table>\n",
       "<p>70 rows × 3 columns</p>\n",
       "</div>"
      ],
      "text/plain": [
       "    mean_test_score  std_test_score  \\\n",
       "0          0.083333    1.387779e-17   \n",
       "1          0.083333    1.387779e-17   \n",
       "2          0.083333    1.387779e-17   \n",
       "3          0.086667    6.666667e-03   \n",
       "4          0.408333    4.031129e-02   \n",
       "..              ...             ...   \n",
       "65              NaN             NaN   \n",
       "66         0.941667    2.713137e-02   \n",
       "67         0.941667    2.713137e-02   \n",
       "68         0.931667    2.034426e-02   \n",
       "69         0.936667    2.081666e-02   \n",
       "\n",
       "                                               params  \n",
       "0   {'C': 0.001, 'penalty': 'l1', 'solver': 'libli...  \n",
       "1     {'C': 0.001, 'penalty': 'l1', 'solver': 'saga'}  \n",
       "2   {'C': 0.01, 'penalty': 'l1', 'solver': 'liblin...  \n",
       "3      {'C': 0.01, 'penalty': 'l1', 'solver': 'saga'}  \n",
       "4   {'C': 0.1, 'penalty': 'l1', 'solver': 'libline...  \n",
       "..                                                ...  \n",
       "65      {'C': 1000, 'penalty': 'l1', 'solver': 'sag'}  \n",
       "66  {'C': 1000, 'penalty': 'l2', 'solver': 'newton...  \n",
       "67    {'C': 1000, 'penalty': 'l2', 'solver': 'lbfgs'}  \n",
       "68     {'C': 1000, 'penalty': 'l2', 'solver': 'saga'}  \n",
       "69      {'C': 1000, 'penalty': 'l2', 'solver': 'sag'}  \n",
       "\n",
       "[70 rows x 3 columns]"
      ]
     },
     "execution_count": 27,
     "metadata": {},
     "output_type": "execute_result"
    }
   ],
   "source": [
    "# To View the Results of the GridSearch\n",
    "pd.DataFrame(grid_search.cv_results_)[['mean_test_score', 'std_test_score', 'params']]"
   ]
  },
  {
   "cell_type": "code",
   "execution_count": 28,
   "metadata": {
    "scrolled": true
   },
   "outputs": [
    {
     "name": "stdout",
     "output_type": "stream",
     "text": [
      "BEST ACCURACY SCORE:\n",
      "0.9416666666666667\n",
      "\n",
      "BEST PARAMETERS:\n",
      "{'C': 1000, 'penalty': 'l2', 'solver': 'newton-cg'}\n"
     ]
    }
   ],
   "source": [
    "# To Identify the Best Accuracy and Best Features\n",
    "\n",
    "best_accuracy = grid_search.best_score_\n",
    "best_parameters = grid_search.best_params_\n",
    "\n",
    "print(\"BEST ACCURACY SCORE:\")\n",
    "print(best_accuracy)\n",
    "print('')\n",
    "\n",
    "print(\"BEST PARAMETERS:\")\n",
    "print(best_parameters)"
   ]
  },
  {
   "cell_type": "markdown",
   "metadata": {},
   "source": [
    "#### Applying RandomizedSearchCV to find the Best Parameters for the Logistic Regression Model"
   ]
  },
  {
   "cell_type": "markdown",
   "metadata": {},
   "source": [
    "By contrast, Random Search sets up a grid of hyperparameter values and selects random combinations to train the model and score. This allows you to explicitly control the number of parameter combinations that are attempted. The number of search iterations is set based on time or resources. Scikit Learn offers the RandomizedSearchCV function for this process.\n",
    "\n",
    "While it’s possible that RandomizedSearchCV will not find as accurate of a result as GridSearchCV, it surprisingly picks the best result more often than not and in a fraction of the time it takes GridSearchCV would have taken. Given the same resources, Randomized Search can even outperform Grid Search."
   ]
  },
  {
   "cell_type": "code",
   "execution_count": 29,
   "metadata": {},
   "outputs": [
    {
     "name": "stderr",
     "output_type": "stream",
     "text": [
      "c:\\Users\\RenzCute\\anaconda3\\Lib\\site-packages\\sklearn\\model_selection\\_validation.py:425: FitFailedWarning: \n",
      "140 fits failed out of a total of 500.\n",
      "The score on these train-test partitions for these parameters will be set to nan.\n",
      "If these failures are not expected, you can try to debug them by setting error_score='raise'.\n",
      "\n",
      "Below are more details about the failures:\n",
      "--------------------------------------------------------------------------------\n",
      "50 fits failed with the following error:\n",
      "Traceback (most recent call last):\n",
      "  File \"c:\\Users\\RenzCute\\anaconda3\\Lib\\site-packages\\sklearn\\model_selection\\_validation.py\", line 732, in _fit_and_score\n",
      "    estimator.fit(X_train, y_train, **fit_params)\n",
      "  File \"c:\\Users\\RenzCute\\anaconda3\\Lib\\site-packages\\sklearn\\base.py\", line 1151, in wrapper\n",
      "    return fit_method(estimator, *args, **kwargs)\n",
      "           ^^^^^^^^^^^^^^^^^^^^^^^^^^^^^^^^^^^^^^\n",
      "  File \"c:\\Users\\RenzCute\\anaconda3\\Lib\\site-packages\\sklearn\\linear_model\\_logistic.py\", line 1168, in fit\n",
      "    solver = _check_solver(self.solver, self.penalty, self.dual)\n",
      "             ^^^^^^^^^^^^^^^^^^^^^^^^^^^^^^^^^^^^^^^^^^^^^^^^^^^\n",
      "  File \"c:\\Users\\RenzCute\\anaconda3\\Lib\\site-packages\\sklearn\\linear_model\\_logistic.py\", line 56, in _check_solver\n",
      "    raise ValueError(\n",
      "ValueError: Solver newton-cg supports only 'l2' or 'none' penalties, got l1 penalty.\n",
      "\n",
      "--------------------------------------------------------------------------------\n",
      "30 fits failed with the following error:\n",
      "Traceback (most recent call last):\n",
      "  File \"c:\\Users\\RenzCute\\anaconda3\\Lib\\site-packages\\sklearn\\model_selection\\_validation.py\", line 732, in _fit_and_score\n",
      "    estimator.fit(X_train, y_train, **fit_params)\n",
      "  File \"c:\\Users\\RenzCute\\anaconda3\\Lib\\site-packages\\sklearn\\base.py\", line 1151, in wrapper\n",
      "    return fit_method(estimator, *args, **kwargs)\n",
      "           ^^^^^^^^^^^^^^^^^^^^^^^^^^^^^^^^^^^^^^\n",
      "  File \"c:\\Users\\RenzCute\\anaconda3\\Lib\\site-packages\\sklearn\\linear_model\\_logistic.py\", line 1168, in fit\n",
      "    solver = _check_solver(self.solver, self.penalty, self.dual)\n",
      "             ^^^^^^^^^^^^^^^^^^^^^^^^^^^^^^^^^^^^^^^^^^^^^^^^^^^\n",
      "  File \"c:\\Users\\RenzCute\\anaconda3\\Lib\\site-packages\\sklearn\\linear_model\\_logistic.py\", line 56, in _check_solver\n",
      "    raise ValueError(\n",
      "ValueError: Solver lbfgs supports only 'l2' or 'none' penalties, got l1 penalty.\n",
      "\n",
      "--------------------------------------------------------------------------------\n",
      "60 fits failed with the following error:\n",
      "Traceback (most recent call last):\n",
      "  File \"c:\\Users\\RenzCute\\anaconda3\\Lib\\site-packages\\sklearn\\model_selection\\_validation.py\", line 732, in _fit_and_score\n",
      "    estimator.fit(X_train, y_train, **fit_params)\n",
      "  File \"c:\\Users\\RenzCute\\anaconda3\\Lib\\site-packages\\sklearn\\base.py\", line 1151, in wrapper\n",
      "    return fit_method(estimator, *args, **kwargs)\n",
      "           ^^^^^^^^^^^^^^^^^^^^^^^^^^^^^^^^^^^^^^\n",
      "  File \"c:\\Users\\RenzCute\\anaconda3\\Lib\\site-packages\\sklearn\\linear_model\\_logistic.py\", line 1168, in fit\n",
      "    solver = _check_solver(self.solver, self.penalty, self.dual)\n",
      "             ^^^^^^^^^^^^^^^^^^^^^^^^^^^^^^^^^^^^^^^^^^^^^^^^^^^\n",
      "  File \"c:\\Users\\RenzCute\\anaconda3\\Lib\\site-packages\\sklearn\\linear_model\\_logistic.py\", line 56, in _check_solver\n",
      "    raise ValueError(\n",
      "ValueError: Solver sag supports only 'l2' or 'none' penalties, got l1 penalty.\n",
      "\n",
      "  warnings.warn(some_fits_failed_message, FitFailedWarning)\n",
      "c:\\Users\\RenzCute\\anaconda3\\Lib\\site-packages\\sklearn\\model_selection\\_search.py:976: UserWarning: One or more of the test scores are non-finite: [0.49       0.49       0.91333333        nan        nan 0.88333333\n",
      " 0.87       0.91833333 0.61666667 0.93666667 0.93833333 0.48833333\n",
      "        nan 0.805             nan        nan 0.93166667        nan\n",
      " 0.805      0.40833333        nan 0.88333333 0.08333333 0.87\n",
      " 0.93833333 0.08666667        nan 0.805      0.91333333        nan\n",
      "        nan 0.88333333        nan 0.41833333        nan 0.94166667\n",
      " 0.31333333 0.48833333 0.88333333 0.61666667 0.31166667 0.08333333\n",
      "        nan 0.41833333 0.08333333 0.31333333 0.94166667 0.89333333\n",
      " 0.93666667        nan]\n",
      "  warnings.warn(\n"
     ]
    },
    {
     "name": "stdout",
     "output_type": "stream",
     "text": [
      "RandomizedSearchCV(cv=StratifiedKFold(n_splits=10, random_state=0, shuffle=True),\n",
      "                   estimator=LogisticRegression(max_iter=100000,\n",
      "                                                random_state=0),\n",
      "                   n_iter=50, n_jobs=-1,\n",
      "                   param_distributions=[{'C': [0.001, 0.01, 0.1, 1, 10, 100,\n",
      "                                               1000],\n",
      "                                         'penalty': ['l1'],\n",
      "                                         'solver': ['liblinear', 'saga']},\n",
      "                                        {'C': [0.001, 0.01, 0.1, 1, 10, 100,\n",
      "                                               1000],\n",
      "                                         'penalty': ['l1', 'l2'],\n",
      "                                         'solver': ['newton-cg', 'lbfgs',\n",
      "                                                    'saga', 'sag']}],\n",
      "                   random_state=0, scoring='accuracy')\n"
     ]
    }
   ],
   "source": [
    "# To Import the StratifiedKFold Class\n",
    "from sklearn.model_selection import StratifiedKFold\n",
    "k_Fold = StratifiedKFold(n_splits=10, shuffle=True, random_state=0)\n",
    "\n",
    "# To Import the RandomizedSearchCV Class\n",
    "from sklearn.model_selection import RandomizedSearchCV\n",
    "\n",
    "# To Set Parameters to be Optimized Under the Logistic Regression Model\n",
    "parameters = [{'C': [0.001, 0.01, 0.1, 1, 10, 100, 1000], 'penalty': ['l1'], 'solver': ['liblinear','saga']},\n",
    "              {'C': [0.001, 0.01, 0.1, 1, 10, 100, 1000], 'penalty': ['l1', 'l2'], 'solver': ['newton-cg', 'lbfgs', 'saga', 'sag']}]\n",
    "\n",
    "#C = [0.001, 0.01, 0.1, 1, 10, 100, 1000]\n",
    "#penalty = ['l1', 'l2']\n",
    "#solver = ['newton-cg', 'lbfgs', 'saga', 'sag']\n",
    "#parameters = dict(C=C, penalty=penalty, solver=solver)\n",
    "\n",
    "randomized_search = RandomizedSearchCV(estimator = logistic_regression,\n",
    "                                       param_distributions = parameters,\n",
    "                                       n_iter = 50,\n",
    "                                       scoring = 'accuracy',\n",
    "                                       cv = k_Fold,\n",
    "                                       n_jobs = -1,\n",
    "                                       random_state = 0)\n",
    "best_fit = randomized_search.fit(X, Y)\n",
    "print(randomized_search)"
   ]
  },
  {
   "cell_type": "code",
   "execution_count": 30,
   "metadata": {
    "scrolled": true
   },
   "outputs": [
    {
     "data": {
      "text/html": [
       "<div>\n",
       "<style scoped>\n",
       "    .dataframe tbody tr th:only-of-type {\n",
       "        vertical-align: middle;\n",
       "    }\n",
       "\n",
       "    .dataframe tbody tr th {\n",
       "        vertical-align: top;\n",
       "    }\n",
       "\n",
       "    .dataframe thead th {\n",
       "        text-align: right;\n",
       "    }\n",
       "</style>\n",
       "<table border=\"1\" class=\"dataframe\">\n",
       "  <thead>\n",
       "    <tr style=\"text-align: right;\">\n",
       "      <th></th>\n",
       "      <th>mean_test_score</th>\n",
       "      <th>std_test_score</th>\n",
       "      <th>params</th>\n",
       "    </tr>\n",
       "  </thead>\n",
       "  <tbody>\n",
       "    <tr>\n",
       "      <th>0</th>\n",
       "      <td>0.490000</td>\n",
       "      <td>3.958114e-02</td>\n",
       "      <td>{'solver': 'newton-cg', 'penalty': 'l2', 'C': ...</td>\n",
       "    </tr>\n",
       "    <tr>\n",
       "      <th>1</th>\n",
       "      <td>0.490000</td>\n",
       "      <td>3.958114e-02</td>\n",
       "      <td>{'solver': 'lbfgs', 'penalty': 'l2', 'C': 0.01}</td>\n",
       "    </tr>\n",
       "    <tr>\n",
       "      <th>2</th>\n",
       "      <td>0.913333</td>\n",
       "      <td>3.480102e-02</td>\n",
       "      <td>{'solver': 'saga', 'penalty': 'l1', 'C': 10}</td>\n",
       "    </tr>\n",
       "    <tr>\n",
       "      <th>3</th>\n",
       "      <td>NaN</td>\n",
       "      <td>NaN</td>\n",
       "      <td>{'solver': 'newton-cg', 'penalty': 'l1', 'C': ...</td>\n",
       "    </tr>\n",
       "    <tr>\n",
       "      <th>4</th>\n",
       "      <td>NaN</td>\n",
       "      <td>NaN</td>\n",
       "      <td>{'solver': 'newton-cg', 'penalty': 'l1', 'C': ...</td>\n",
       "    </tr>\n",
       "    <tr>\n",
       "      <th>5</th>\n",
       "      <td>0.883333</td>\n",
       "      <td>3.162278e-02</td>\n",
       "      <td>{'solver': 'lbfgs', 'penalty': 'l2', 'C': 10}</td>\n",
       "    </tr>\n",
       "    <tr>\n",
       "      <th>6</th>\n",
       "      <td>0.870000</td>\n",
       "      <td>2.962731e-02</td>\n",
       "      <td>{'solver': 'saga', 'penalty': 'l1', 'C': 1}</td>\n",
       "    </tr>\n",
       "    <tr>\n",
       "      <th>7</th>\n",
       "      <td>0.918333</td>\n",
       "      <td>2.833333e-02</td>\n",
       "      <td>{'solver': 'lbfgs', 'penalty': 'l2', 'C': 100}</td>\n",
       "    </tr>\n",
       "    <tr>\n",
       "      <th>8</th>\n",
       "      <td>0.616667</td>\n",
       "      <td>4.533824e-02</td>\n",
       "      <td>{'solver': 'newton-cg', 'penalty': 'l2', 'C': ...</td>\n",
       "    </tr>\n",
       "    <tr>\n",
       "      <th>9</th>\n",
       "      <td>0.936667</td>\n",
       "      <td>2.081666e-02</td>\n",
       "      <td>{'solver': 'sag', 'penalty': 'l2', 'C': 1000}</td>\n",
       "    </tr>\n",
       "    <tr>\n",
       "      <th>10</th>\n",
       "      <td>0.938333</td>\n",
       "      <td>1.979057e-02</td>\n",
       "      <td>{'solver': 'saga', 'penalty': 'l1', 'C': 100}</td>\n",
       "    </tr>\n",
       "    <tr>\n",
       "      <th>11</th>\n",
       "      <td>0.488333</td>\n",
       "      <td>3.947573e-02</td>\n",
       "      <td>{'solver': 'saga', 'penalty': 'l2', 'C': 0.01}</td>\n",
       "    </tr>\n",
       "    <tr>\n",
       "      <th>12</th>\n",
       "      <td>NaN</td>\n",
       "      <td>NaN</td>\n",
       "      <td>{'solver': 'lbfgs', 'penalty': 'l1', 'C': 0.1}</td>\n",
       "    </tr>\n",
       "    <tr>\n",
       "      <th>13</th>\n",
       "      <td>0.805000</td>\n",
       "      <td>3.655285e-02</td>\n",
       "      <td>{'solver': 'newton-cg', 'penalty': 'l2', 'C': 1}</td>\n",
       "    </tr>\n",
       "    <tr>\n",
       "      <th>14</th>\n",
       "      <td>NaN</td>\n",
       "      <td>NaN</td>\n",
       "      <td>{'solver': 'sag', 'penalty': 'l1', 'C': 0.1}</td>\n",
       "    </tr>\n",
       "    <tr>\n",
       "      <th>15</th>\n",
       "      <td>NaN</td>\n",
       "      <td>NaN</td>\n",
       "      <td>{'solver': 'lbfgs', 'penalty': 'l1', 'C': 100}</td>\n",
       "    </tr>\n",
       "    <tr>\n",
       "      <th>16</th>\n",
       "      <td>0.931667</td>\n",
       "      <td>2.034426e-02</td>\n",
       "      <td>{'solver': 'saga', 'penalty': 'l2', 'C': 1000}</td>\n",
       "    </tr>\n",
       "    <tr>\n",
       "      <th>17</th>\n",
       "      <td>NaN</td>\n",
       "      <td>NaN</td>\n",
       "      <td>{'solver': 'newton-cg', 'penalty': 'l1', 'C': ...</td>\n",
       "    </tr>\n",
       "    <tr>\n",
       "      <th>18</th>\n",
       "      <td>0.805000</td>\n",
       "      <td>3.655285e-02</td>\n",
       "      <td>{'solver': 'lbfgs', 'penalty': 'l2', 'C': 1}</td>\n",
       "    </tr>\n",
       "    <tr>\n",
       "      <th>19</th>\n",
       "      <td>0.408333</td>\n",
       "      <td>4.031129e-02</td>\n",
       "      <td>{'solver': 'liblinear', 'penalty': 'l1', 'C': ...</td>\n",
       "    </tr>\n",
       "    <tr>\n",
       "      <th>20</th>\n",
       "      <td>NaN</td>\n",
       "      <td>NaN</td>\n",
       "      <td>{'solver': 'sag', 'penalty': 'l1', 'C': 1000}</td>\n",
       "    </tr>\n",
       "    <tr>\n",
       "      <th>21</th>\n",
       "      <td>0.883333</td>\n",
       "      <td>3.162278e-02</td>\n",
       "      <td>{'solver': 'newton-cg', 'penalty': 'l2', 'C': 10}</td>\n",
       "    </tr>\n",
       "    <tr>\n",
       "      <th>22</th>\n",
       "      <td>0.083333</td>\n",
       "      <td>1.387779e-17</td>\n",
       "      <td>{'solver': 'liblinear', 'penalty': 'l1', 'C': ...</td>\n",
       "    </tr>\n",
       "    <tr>\n",
       "      <th>23</th>\n",
       "      <td>0.870000</td>\n",
       "      <td>2.962731e-02</td>\n",
       "      <td>{'solver': 'saga', 'penalty': 'l1', 'C': 1}</td>\n",
       "    </tr>\n",
       "    <tr>\n",
       "      <th>24</th>\n",
       "      <td>0.938333</td>\n",
       "      <td>1.979057e-02</td>\n",
       "      <td>{'solver': 'saga', 'penalty': 'l1', 'C': 100}</td>\n",
       "    </tr>\n",
       "    <tr>\n",
       "      <th>25</th>\n",
       "      <td>0.086667</td>\n",
       "      <td>6.666667e-03</td>\n",
       "      <td>{'solver': 'saga', 'penalty': 'l1', 'C': 0.01}</td>\n",
       "    </tr>\n",
       "    <tr>\n",
       "      <th>26</th>\n",
       "      <td>NaN</td>\n",
       "      <td>NaN</td>\n",
       "      <td>{'solver': 'newton-cg', 'penalty': 'l1', 'C': ...</td>\n",
       "    </tr>\n",
       "    <tr>\n",
       "      <th>27</th>\n",
       "      <td>0.805000</td>\n",
       "      <td>3.655285e-02</td>\n",
       "      <td>{'solver': 'sag', 'penalty': 'l2', 'C': 1}</td>\n",
       "    </tr>\n",
       "    <tr>\n",
       "      <th>28</th>\n",
       "      <td>0.913333</td>\n",
       "      <td>2.768875e-02</td>\n",
       "      <td>{'solver': 'liblinear', 'penalty': 'l1', 'C': ...</td>\n",
       "    </tr>\n",
       "    <tr>\n",
       "      <th>29</th>\n",
       "      <td>NaN</td>\n",
       "      <td>NaN</td>\n",
       "      <td>{'solver': 'sag', 'penalty': 'l1', 'C': 1}</td>\n",
       "    </tr>\n",
       "    <tr>\n",
       "      <th>30</th>\n",
       "      <td>NaN</td>\n",
       "      <td>NaN</td>\n",
       "      <td>{'solver': 'sag', 'penalty': 'l1', 'C': 10}</td>\n",
       "    </tr>\n",
       "    <tr>\n",
       "      <th>31</th>\n",
       "      <td>0.883333</td>\n",
       "      <td>3.162278e-02</td>\n",
       "      <td>{'solver': 'sag', 'penalty': 'l2', 'C': 10}</td>\n",
       "    </tr>\n",
       "    <tr>\n",
       "      <th>32</th>\n",
       "      <td>NaN</td>\n",
       "      <td>NaN</td>\n",
       "      <td>{'solver': 'sag', 'penalty': 'l1', 'C': 100}</td>\n",
       "    </tr>\n",
       "    <tr>\n",
       "      <th>33</th>\n",
       "      <td>0.418333</td>\n",
       "      <td>5.000000e-03</td>\n",
       "      <td>{'solver': 'saga', 'penalty': 'l1', 'C': 0.1}</td>\n",
       "    </tr>\n",
       "    <tr>\n",
       "      <th>34</th>\n",
       "      <td>NaN</td>\n",
       "      <td>NaN</td>\n",
       "      <td>{'solver': 'newton-cg', 'penalty': 'l1', 'C': ...</td>\n",
       "    </tr>\n",
       "    <tr>\n",
       "      <th>35</th>\n",
       "      <td>0.941667</td>\n",
       "      <td>2.713137e-02</td>\n",
       "      <td>{'solver': 'lbfgs', 'penalty': 'l2', 'C': 1000}</td>\n",
       "    </tr>\n",
       "    <tr>\n",
       "      <th>36</th>\n",
       "      <td>0.313333</td>\n",
       "      <td>2.211083e-02</td>\n",
       "      <td>{'solver': 'lbfgs', 'penalty': 'l2', 'C': 0.001}</td>\n",
       "    </tr>\n",
       "    <tr>\n",
       "      <th>37</th>\n",
       "      <td>0.488333</td>\n",
       "      <td>3.947573e-02</td>\n",
       "      <td>{'solver': 'sag', 'penalty': 'l2', 'C': 0.01}</td>\n",
       "    </tr>\n",
       "    <tr>\n",
       "      <th>38</th>\n",
       "      <td>0.883333</td>\n",
       "      <td>3.162278e-02</td>\n",
       "      <td>{'solver': 'saga', 'penalty': 'l2', 'C': 10}</td>\n",
       "    </tr>\n",
       "    <tr>\n",
       "      <th>39</th>\n",
       "      <td>0.616667</td>\n",
       "      <td>4.533824e-02</td>\n",
       "      <td>{'solver': 'lbfgs', 'penalty': 'l2', 'C': 0.1}</td>\n",
       "    </tr>\n",
       "    <tr>\n",
       "      <th>40</th>\n",
       "      <td>0.311667</td>\n",
       "      <td>2.362908e-02</td>\n",
       "      <td>{'solver': 'newton-cg', 'penalty': 'l2', 'C': ...</td>\n",
       "    </tr>\n",
       "    <tr>\n",
       "      <th>41</th>\n",
       "      <td>0.083333</td>\n",
       "      <td>1.387779e-17</td>\n",
       "      <td>{'solver': 'liblinear', 'penalty': 'l1', 'C': ...</td>\n",
       "    </tr>\n",
       "    <tr>\n",
       "      <th>42</th>\n",
       "      <td>NaN</td>\n",
       "      <td>NaN</td>\n",
       "      <td>{'solver': 'lbfgs', 'penalty': 'l1', 'C': 0.001}</td>\n",
       "    </tr>\n",
       "    <tr>\n",
       "      <th>43</th>\n",
       "      <td>0.418333</td>\n",
       "      <td>5.000000e-03</td>\n",
       "      <td>{'solver': 'saga', 'penalty': 'l1', 'C': 0.1}</td>\n",
       "    </tr>\n",
       "    <tr>\n",
       "      <th>44</th>\n",
       "      <td>0.083333</td>\n",
       "      <td>1.387779e-17</td>\n",
       "      <td>{'solver': 'saga', 'penalty': 'l1', 'C': 0.001}</td>\n",
       "    </tr>\n",
       "    <tr>\n",
       "      <th>45</th>\n",
       "      <td>0.313333</td>\n",
       "      <td>2.449490e-02</td>\n",
       "      <td>{'solver': 'saga', 'penalty': 'l2', 'C': 0.001}</td>\n",
       "    </tr>\n",
       "    <tr>\n",
       "      <th>46</th>\n",
       "      <td>0.941667</td>\n",
       "      <td>2.713137e-02</td>\n",
       "      <td>{'solver': 'newton-cg', 'penalty': 'l2', 'C': ...</td>\n",
       "    </tr>\n",
       "    <tr>\n",
       "      <th>47</th>\n",
       "      <td>0.893333</td>\n",
       "      <td>3.590110e-02</td>\n",
       "      <td>{'solver': 'liblinear', 'penalty': 'l1', 'C': 10}</td>\n",
       "    </tr>\n",
       "    <tr>\n",
       "      <th>48</th>\n",
       "      <td>0.936667</td>\n",
       "      <td>2.081666e-02</td>\n",
       "      <td>{'solver': 'saga', 'penalty': 'l1', 'C': 1000}</td>\n",
       "    </tr>\n",
       "    <tr>\n",
       "      <th>49</th>\n",
       "      <td>NaN</td>\n",
       "      <td>NaN</td>\n",
       "      <td>{'solver': 'sag', 'penalty': 'l1', 'C': 0.01}</td>\n",
       "    </tr>\n",
       "  </tbody>\n",
       "</table>\n",
       "</div>"
      ],
      "text/plain": [
       "    mean_test_score  std_test_score  \\\n",
       "0          0.490000    3.958114e-02   \n",
       "1          0.490000    3.958114e-02   \n",
       "2          0.913333    3.480102e-02   \n",
       "3               NaN             NaN   \n",
       "4               NaN             NaN   \n",
       "5          0.883333    3.162278e-02   \n",
       "6          0.870000    2.962731e-02   \n",
       "7          0.918333    2.833333e-02   \n",
       "8          0.616667    4.533824e-02   \n",
       "9          0.936667    2.081666e-02   \n",
       "10         0.938333    1.979057e-02   \n",
       "11         0.488333    3.947573e-02   \n",
       "12              NaN             NaN   \n",
       "13         0.805000    3.655285e-02   \n",
       "14              NaN             NaN   \n",
       "15              NaN             NaN   \n",
       "16         0.931667    2.034426e-02   \n",
       "17              NaN             NaN   \n",
       "18         0.805000    3.655285e-02   \n",
       "19         0.408333    4.031129e-02   \n",
       "20              NaN             NaN   \n",
       "21         0.883333    3.162278e-02   \n",
       "22         0.083333    1.387779e-17   \n",
       "23         0.870000    2.962731e-02   \n",
       "24         0.938333    1.979057e-02   \n",
       "25         0.086667    6.666667e-03   \n",
       "26              NaN             NaN   \n",
       "27         0.805000    3.655285e-02   \n",
       "28         0.913333    2.768875e-02   \n",
       "29              NaN             NaN   \n",
       "30              NaN             NaN   \n",
       "31         0.883333    3.162278e-02   \n",
       "32              NaN             NaN   \n",
       "33         0.418333    5.000000e-03   \n",
       "34              NaN             NaN   \n",
       "35         0.941667    2.713137e-02   \n",
       "36         0.313333    2.211083e-02   \n",
       "37         0.488333    3.947573e-02   \n",
       "38         0.883333    3.162278e-02   \n",
       "39         0.616667    4.533824e-02   \n",
       "40         0.311667    2.362908e-02   \n",
       "41         0.083333    1.387779e-17   \n",
       "42              NaN             NaN   \n",
       "43         0.418333    5.000000e-03   \n",
       "44         0.083333    1.387779e-17   \n",
       "45         0.313333    2.449490e-02   \n",
       "46         0.941667    2.713137e-02   \n",
       "47         0.893333    3.590110e-02   \n",
       "48         0.936667    2.081666e-02   \n",
       "49              NaN             NaN   \n",
       "\n",
       "                                               params  \n",
       "0   {'solver': 'newton-cg', 'penalty': 'l2', 'C': ...  \n",
       "1     {'solver': 'lbfgs', 'penalty': 'l2', 'C': 0.01}  \n",
       "2        {'solver': 'saga', 'penalty': 'l1', 'C': 10}  \n",
       "3   {'solver': 'newton-cg', 'penalty': 'l1', 'C': ...  \n",
       "4   {'solver': 'newton-cg', 'penalty': 'l1', 'C': ...  \n",
       "5       {'solver': 'lbfgs', 'penalty': 'l2', 'C': 10}  \n",
       "6         {'solver': 'saga', 'penalty': 'l1', 'C': 1}  \n",
       "7      {'solver': 'lbfgs', 'penalty': 'l2', 'C': 100}  \n",
       "8   {'solver': 'newton-cg', 'penalty': 'l2', 'C': ...  \n",
       "9       {'solver': 'sag', 'penalty': 'l2', 'C': 1000}  \n",
       "10      {'solver': 'saga', 'penalty': 'l1', 'C': 100}  \n",
       "11     {'solver': 'saga', 'penalty': 'l2', 'C': 0.01}  \n",
       "12     {'solver': 'lbfgs', 'penalty': 'l1', 'C': 0.1}  \n",
       "13   {'solver': 'newton-cg', 'penalty': 'l2', 'C': 1}  \n",
       "14       {'solver': 'sag', 'penalty': 'l1', 'C': 0.1}  \n",
       "15     {'solver': 'lbfgs', 'penalty': 'l1', 'C': 100}  \n",
       "16     {'solver': 'saga', 'penalty': 'l2', 'C': 1000}  \n",
       "17  {'solver': 'newton-cg', 'penalty': 'l1', 'C': ...  \n",
       "18       {'solver': 'lbfgs', 'penalty': 'l2', 'C': 1}  \n",
       "19  {'solver': 'liblinear', 'penalty': 'l1', 'C': ...  \n",
       "20      {'solver': 'sag', 'penalty': 'l1', 'C': 1000}  \n",
       "21  {'solver': 'newton-cg', 'penalty': 'l2', 'C': 10}  \n",
       "22  {'solver': 'liblinear', 'penalty': 'l1', 'C': ...  \n",
       "23        {'solver': 'saga', 'penalty': 'l1', 'C': 1}  \n",
       "24      {'solver': 'saga', 'penalty': 'l1', 'C': 100}  \n",
       "25     {'solver': 'saga', 'penalty': 'l1', 'C': 0.01}  \n",
       "26  {'solver': 'newton-cg', 'penalty': 'l1', 'C': ...  \n",
       "27         {'solver': 'sag', 'penalty': 'l2', 'C': 1}  \n",
       "28  {'solver': 'liblinear', 'penalty': 'l1', 'C': ...  \n",
       "29         {'solver': 'sag', 'penalty': 'l1', 'C': 1}  \n",
       "30        {'solver': 'sag', 'penalty': 'l1', 'C': 10}  \n",
       "31        {'solver': 'sag', 'penalty': 'l2', 'C': 10}  \n",
       "32       {'solver': 'sag', 'penalty': 'l1', 'C': 100}  \n",
       "33      {'solver': 'saga', 'penalty': 'l1', 'C': 0.1}  \n",
       "34  {'solver': 'newton-cg', 'penalty': 'l1', 'C': ...  \n",
       "35    {'solver': 'lbfgs', 'penalty': 'l2', 'C': 1000}  \n",
       "36   {'solver': 'lbfgs', 'penalty': 'l2', 'C': 0.001}  \n",
       "37      {'solver': 'sag', 'penalty': 'l2', 'C': 0.01}  \n",
       "38       {'solver': 'saga', 'penalty': 'l2', 'C': 10}  \n",
       "39     {'solver': 'lbfgs', 'penalty': 'l2', 'C': 0.1}  \n",
       "40  {'solver': 'newton-cg', 'penalty': 'l2', 'C': ...  \n",
       "41  {'solver': 'liblinear', 'penalty': 'l1', 'C': ...  \n",
       "42   {'solver': 'lbfgs', 'penalty': 'l1', 'C': 0.001}  \n",
       "43      {'solver': 'saga', 'penalty': 'l1', 'C': 0.1}  \n",
       "44    {'solver': 'saga', 'penalty': 'l1', 'C': 0.001}  \n",
       "45    {'solver': 'saga', 'penalty': 'l2', 'C': 0.001}  \n",
       "46  {'solver': 'newton-cg', 'penalty': 'l2', 'C': ...  \n",
       "47  {'solver': 'liblinear', 'penalty': 'l1', 'C': 10}  \n",
       "48     {'solver': 'saga', 'penalty': 'l1', 'C': 1000}  \n",
       "49      {'solver': 'sag', 'penalty': 'l1', 'C': 0.01}  "
      ]
     },
     "execution_count": 30,
     "metadata": {},
     "output_type": "execute_result"
    }
   ],
   "source": [
    "# To View the Results of the GridSearch\n",
    "pd.DataFrame(randomized_search.cv_results_)[['mean_test_score', 'std_test_score', 'params']]"
   ]
  },
  {
   "cell_type": "code",
   "execution_count": 31,
   "metadata": {
    "scrolled": true
   },
   "outputs": [
    {
     "name": "stdout",
     "output_type": "stream",
     "text": [
      "BEST ACCURACY SCORE:\n",
      "0.9416666666666667\n",
      "\n",
      "BEST PARAMETERS:\n",
      "{'solver': 'lbfgs', 'penalty': 'l2', 'C': 1000}\n"
     ]
    }
   ],
   "source": [
    "# To Identify the Best Accuracy and Best Features\n",
    "\n",
    "best_accuracy = randomized_search.best_score_\n",
    "best_parameters = randomized_search.best_params_\n",
    "\n",
    "print(\"BEST ACCURACY SCORE:\")\n",
    "print(best_accuracy)\n",
    "print('')\n",
    "\n",
    "print(\"BEST PARAMETERS:\")\n",
    "print(best_parameters)"
   ]
  },
  {
   "cell_type": "markdown",
   "metadata": {},
   "source": [
    "###### To Create New Logistic Regression Model Using the Optimal Parameters"
   ]
  },
  {
   "cell_type": "code",
   "execution_count": 32,
   "metadata": {},
   "outputs": [
    {
     "data": {
      "text/plain": [
       "array([10,  1,  3, 10,  3,  9, 10,  8, 10,  0,  4, 11,  0,  4,  8, 10,  5,\n",
       "        9,  0,  2,  8, 10,  2,  0, 10,  0,  4,  5, 10,  7,  2,  5,  2,  3,\n",
       "        1,  7,  6,  2,  0,  3,  2,  4,  4,  0,  9,  8,  2,  3, 11,  2,  3,\n",
       "        3,  1,  6,  6, 11,  7,  0,  8,  5,  5,  8,  7,  2,  9, 10,  9,  9,\n",
       "       11,  5,  9,  0,  5, 10,  8,  6,  2,  7,  8,  7, 11,  5,  3,  8,  3,\n",
       "        8,  5,  9,  9,  1, 11,  7,  9,  3, 11,  4, 10,  3,  9,  8,  3,  7,\n",
       "       11,  7,  8,  3, 10, 11,  7,  6,  2, 11,  2,  0,  7,  1, 11, 10,  4,\n",
       "       10])"
      ]
     },
     "execution_count": 32,
     "metadata": {},
     "output_type": "execute_result"
    }
   ],
   "source": [
    "# To Instantiate the Model (Using the Optimized Parameters)\n",
    "logistic_regression = LogisticRegression(C=1000, penalty='l2', solver='newton-cg', random_state=0)\n",
    "\n",
    "# To Fit the Training Dataset into Logistic Regression Model\n",
    "logistic_regression.fit(X_train, Y_train)\n",
    "\n",
    "# To Predict the Output of the Testing Dataset\n",
    "Y_predict_LogReg = logistic_regression.predict(X_test)\n",
    "Y_predict_LogReg"
   ]
  },
  {
   "cell_type": "markdown",
   "metadata": {},
   "source": [
    "###### To Evaluate the Performance of the Logistic Regression Model"
   ]
  },
  {
   "cell_type": "code",
   "execution_count": 33,
   "metadata": {},
   "outputs": [
    {
     "data": {
      "text/plain": [
       "Text(95.72222222222221, 0.5, 'Actual Value')"
      ]
     },
     "execution_count": 33,
     "metadata": {},
     "output_type": "execute_result"
    },
    {
     "data": {
      "image/png": "[encoded data removed]",
      "text/plain": [
       "<Figure size 1000x700 with 2 Axes>"
      ]
     },
     "metadata": {},
     "output_type": "display_data"
    }
   ],
   "source": [
    "# To Show the Confusion Matrix\n",
    "from sklearn.metrics import confusion_matrix\n",
    "confusion_matrix = confusion_matrix(Y_test, Y_predict_LogReg)\n",
    "\n",
    "import seaborn as sns\n",
    "plt.figure(figsize=(10,7))\n",
    "sns.heatmap(confusion_matrix, annot=True)\n",
    "plt.xlabel(\"Predicted Value\")\n",
    "plt.ylabel(\"Actual Value\")"
   ]
  },
  {
   "cell_type": "code",
   "execution_count": 34,
   "metadata": {},
   "outputs": [
    {
     "name": "stdout",
     "output_type": "stream",
     "text": [
      "Classification Accuracy: 0.9333\n",
      "\n"
     ]
    }
   ],
   "source": [
    "# For the Classification Accuracy\n",
    "from sklearn.metrics import accuracy_score\n",
    "classification_accuracy = accuracy_score(Y_test, Y_predict_LogReg)\n",
    "print('Classification Accuracy: %.4f'\n",
    "      % classification_accuracy)\n",
    "print('')"
   ]
  },
  {
   "cell_type": "code",
   "execution_count": 35,
   "metadata": {},
   "outputs": [
    {
     "name": "stdout",
     "output_type": "stream",
     "text": [
      "CLASSIFICATION REPORT:\n",
      "              precision    recall  f1-score   support\n",
      "\n",
      "           0       1.00      0.91      0.95        11\n",
      "           1       1.00      1.00      1.00         5\n",
      "           2       1.00      1.00      1.00        12\n",
      "           3       1.00      0.93      0.96        14\n",
      "           4       1.00      1.00      1.00         7\n",
      "           5       0.89      1.00      0.94         8\n",
      "           6       0.60      0.43      0.50         7\n",
      "           7       1.00      1.00      1.00        11\n",
      "           8       0.92      1.00      0.96        11\n",
      "           9       0.64      0.78      0.70         9\n",
      "          10       1.00      1.00      1.00        14\n",
      "          11       1.00      1.00      1.00        11\n",
      "\n",
      "    accuracy                           0.93       120\n",
      "   macro avg       0.92      0.92      0.92       120\n",
      "weighted avg       0.93      0.93      0.93       120\n",
      "\n"
     ]
    }
   ],
   "source": [
    "# For the Classification Report\n",
    "from sklearn.metrics import classification_report\n",
    "print(\"CLASSIFICATION REPORT:\")\n",
    "print(classification_report(Y_test, Y_predict_LogReg))"
   ]
  },
  {
   "cell_type": "markdown",
   "metadata": {},
   "source": [
    "#### B. To Create the K-Nearest Neighbors Model "
   ]
  },
  {
   "cell_type": "code",
   "execution_count": 36,
   "metadata": {
    "scrolled": true
   },
   "outputs": [
    {
     "data": {
      "text/plain": [
       "array([10,  1,  6, 10,  3,  3, 10,  8, 10,  0,  4, 11,  0,  4,  8, 10,  5,\n",
       "        9,  0,  2,  8, 10,  2,  0, 10,  0,  4,  5, 10,  7,  2,  5,  2,  3,\n",
       "        1,  7,  6,  2,  0,  6,  2,  4,  4,  0,  9,  8,  2,  3, 11,  2,  3,\n",
       "        3,  1,  6,  6, 11,  7,  0,  8,  5,  5,  8,  7,  2,  9, 10,  9,  6,\n",
       "       11,  5,  9,  0,  5, 10,  8,  6,  8,  7,  8,  7, 11,  5,  3,  8,  3,\n",
       "        8,  5,  9,  9,  1, 11,  7,  6,  3,  5,  4, 10,  3,  6,  8,  3,  7,\n",
       "       11,  7,  8,  3, 10, 11,  7,  6,  2, 11,  2,  0,  7,  1, 11, 10,  4,\n",
       "       10])"
      ]
     },
     "execution_count": 36,
     "metadata": {},
     "output_type": "execute_result"
    }
   ],
   "source": [
    "# To Instantiate the Model (Using the Default Parameters)\n",
    "k_nearest_neighbors = KNeighborsClassifier()\n",
    "\n",
    "# To Fit the Training Dataset into K Nearest Neighbors Model\n",
    "k_nearest_neighbors.fit(X_train, Y_train)\n",
    "\n",
    "# To Predict the Output of the Testing Dataset\n",
    "Y_predict_KNN = k_nearest_neighbors.predict(X_test)\n",
    "Y_predict_KNN\n"
   ]
  },
  {
   "cell_type": "markdown",
   "metadata": {},
   "source": [
    "###### To Evaluate the Performance of the K-Nearest Neighbors Machine Model"
   ]
  },
  {
   "cell_type": "code",
   "execution_count": 37,
   "metadata": {
    "scrolled": true
   },
   "outputs": [
    {
     "data": {
      "text/plain": [
       "Text(95.72222222222221, 0.5, 'Actual Value')"
      ]
     },
     "execution_count": 37,
     "metadata": {},
     "output_type": "execute_result"
    },
    {
     "data": {
      "image/png": "[encoded data removed]",
      "text/plain": [
       "<Figure size 1000x700 with 2 Axes>"
      ]
     },
     "metadata": {},
     "output_type": "display_data"
    }
   ],
   "source": [
    "# To Show the Confusion Matrix\n",
    "from sklearn.metrics import confusion_matrix\n",
    "confusion_matrix = confusion_matrix(Y_test, Y_predict_KNN)\n",
    "\n",
    "import seaborn as sns\n",
    "plt.figure(figsize=(10,7))\n",
    "sns.heatmap(confusion_matrix, annot=True)\n",
    "plt.xlabel(\"Predicted Value\")\n",
    "plt.ylabel(\"Actual Value\")"
   ]
  },
  {
   "cell_type": "code",
   "execution_count": 38,
   "metadata": {},
   "outputs": [
    {
     "name": "stdout",
     "output_type": "stream",
     "text": [
      "Classification Accuracy: 0.8833\n",
      "\n"
     ]
    }
   ],
   "source": [
    "# For the Classification Accuracy\n",
    "from sklearn.metrics import accuracy_score\n",
    "classification_accuracy = accuracy_score(Y_test, Y_predict_KNN)\n",
    "print('Classification Accuracy: %.4f'\n",
    "      % classification_accuracy)\n",
    "print('')"
   ]
  },
  {
   "cell_type": "code",
   "execution_count": 39,
   "metadata": {
    "scrolled": false
   },
   "outputs": [
    {
     "name": "stdout",
     "output_type": "stream",
     "text": [
      "CLASSIFICATION REPORT:\n",
      "              precision    recall  f1-score   support\n",
      "\n",
      "           0       1.00      0.91      0.95        11\n",
      "           1       1.00      1.00      1.00         5\n",
      "           2       1.00      0.92      0.96        12\n",
      "           3       0.92      0.79      0.85        14\n",
      "           4       1.00      1.00      1.00         7\n",
      "           5       0.80      1.00      0.89         8\n",
      "           6       0.40      0.57      0.47         7\n",
      "           7       1.00      1.00      1.00        11\n",
      "           8       0.85      1.00      0.92        11\n",
      "           9       0.57      0.44      0.50         9\n",
      "          10       1.00      1.00      1.00        14\n",
      "          11       1.00      0.91      0.95        11\n",
      "\n",
      "    accuracy                           0.88       120\n",
      "   macro avg       0.88      0.88      0.87       120\n",
      "weighted avg       0.90      0.88      0.89       120\n",
      "\n"
     ]
    }
   ],
   "source": [
    "# For the Classification Report\n",
    "from sklearn.metrics import classification_report\n",
    "print(\"CLASSIFICATION REPORT:\")\n",
    "print(classification_report(Y_test, Y_predict_KNN))"
   ]
  },
  {
   "cell_type": "markdown",
   "metadata": {},
   "source": [
    "#### Applying GridSearch to find the Best Parameters for the K-Nearest Neighbors Machine Model"
   ]
  },
  {
   "cell_type": "code",
   "execution_count": 40,
   "metadata": {},
   "outputs": [
    {
     "name": "stdout",
     "output_type": "stream",
     "text": [
      "GridSearchCV(cv=StratifiedKFold(n_splits=10, random_state=0, shuffle=True),\n",
      "             estimator=KNeighborsClassifier(), n_jobs=-1,\n",
      "             param_grid={'algorithm': ['auto', 'ball_tree', 'kd_tree', 'brute'],\n",
      "                         'leaf_size': [10, 20, 30, 40, 50, 60, 70, 80, 100],\n",
      "                         'n_neighbors': [1, 2, 3, 4, 5, 6, 7, 8, 9, 10, 11, 12,\n",
      "                                         13, 14, 15, 16, 17, 18, 19, 20, 21, 22,\n",
      "                                         23, 24, 25, 26, 27, 28, 29, 30, ...],\n",
      "                         'weights': ['uniform', 'distance']},\n",
      "             scoring='accuracy')\n"
     ]
    }
   ],
   "source": [
    "# To Import the kFold Class\n",
    "from sklearn.model_selection import StratifiedKFold\n",
    "k_Fold = StratifiedKFold (n_splits=10, shuffle=True, random_state=0)\n",
    "\n",
    "# To Import the GridSearch Class\n",
    "from sklearn.model_selection import GridSearchCV\n",
    "\n",
    "# To Set Parameters to be Optimized Under the K Nearest Neighbors Model\n",
    "k_range = list(range(1, 51))\n",
    "weight = ['uniform', 'distance']\n",
    "algorithm = ['auto', 'ball_tree', 'kd_tree', 'brute']\n",
    "leaf_size = [10, 20, 30, 40, 50, 60, 70, 80, 100]\n",
    "parameters = dict(n_neighbors=k_range, weights=weight, algorithm=algorithm, leaf_size=leaf_size)\n",
    "grid_search = GridSearchCV(estimator = k_nearest_neighbors,\n",
    "                           param_grid = parameters,\n",
    "                           scoring = 'accuracy',\n",
    "                           cv = k_Fold,\n",
    "                           n_jobs = -1)\n",
    "grid_search = grid_search.fit(X, Y)\n",
    "print(grid_search)"
   ]
  },
  {
   "cell_type": "code",
   "execution_count": 41,
   "metadata": {},
   "outputs": [
    {
     "data": {
      "text/html": [
       "<div>\n",
       "<style scoped>\n",
       "    .dataframe tbody tr th:only-of-type {\n",
       "        vertical-align: middle;\n",
       "    }\n",
       "\n",
       "    .dataframe tbody tr th {\n",
       "        vertical-align: top;\n",
       "    }\n",
       "\n",
       "    .dataframe thead th {\n",
       "        text-align: right;\n",
       "    }\n",
       "</style>\n",
       "<table border=\"1\" class=\"dataframe\">\n",
       "  <thead>\n",
       "    <tr style=\"text-align: right;\">\n",
       "      <th></th>\n",
       "      <th>mean_test_score</th>\n",
       "      <th>std_test_score</th>\n",
       "      <th>params</th>\n",
       "    </tr>\n",
       "  </thead>\n",
       "  <tbody>\n",
       "    <tr>\n",
       "      <th>0</th>\n",
       "      <td>0.900000</td>\n",
       "      <td>0.023570</td>\n",
       "      <td>{'algorithm': 'auto', 'leaf_size': 10, 'n_neig...</td>\n",
       "    </tr>\n",
       "    <tr>\n",
       "      <th>1</th>\n",
       "      <td>0.900000</td>\n",
       "      <td>0.023570</td>\n",
       "      <td>{'algorithm': 'auto', 'leaf_size': 10, 'n_neig...</td>\n",
       "    </tr>\n",
       "    <tr>\n",
       "      <th>2</th>\n",
       "      <td>0.876667</td>\n",
       "      <td>0.031798</td>\n",
       "      <td>{'algorithm': 'auto', 'leaf_size': 10, 'n_neig...</td>\n",
       "    </tr>\n",
       "    <tr>\n",
       "      <th>3</th>\n",
       "      <td>0.900000</td>\n",
       "      <td>0.023570</td>\n",
       "      <td>{'algorithm': 'auto', 'leaf_size': 10, 'n_neig...</td>\n",
       "    </tr>\n",
       "    <tr>\n",
       "      <th>4</th>\n",
       "      <td>0.900000</td>\n",
       "      <td>0.047726</td>\n",
       "      <td>{'algorithm': 'auto', 'leaf_size': 10, 'n_neig...</td>\n",
       "    </tr>\n",
       "    <tr>\n",
       "      <th>...</th>\n",
       "      <td>...</td>\n",
       "      <td>...</td>\n",
       "      <td>...</td>\n",
       "    </tr>\n",
       "    <tr>\n",
       "      <th>3595</th>\n",
       "      <td>0.883333</td>\n",
       "      <td>0.018257</td>\n",
       "      <td>{'algorithm': 'brute', 'leaf_size': 100, 'n_ne...</td>\n",
       "    </tr>\n",
       "    <tr>\n",
       "      <th>3596</th>\n",
       "      <td>0.870000</td>\n",
       "      <td>0.016330</td>\n",
       "      <td>{'algorithm': 'brute', 'leaf_size': 100, 'n_ne...</td>\n",
       "    </tr>\n",
       "    <tr>\n",
       "      <th>3597</th>\n",
       "      <td>0.883333</td>\n",
       "      <td>0.018257</td>\n",
       "      <td>{'algorithm': 'brute', 'leaf_size': 100, 'n_ne...</td>\n",
       "    </tr>\n",
       "    <tr>\n",
       "      <th>3598</th>\n",
       "      <td>0.871667</td>\n",
       "      <td>0.018333</td>\n",
       "      <td>{'algorithm': 'brute', 'leaf_size': 100, 'n_ne...</td>\n",
       "    </tr>\n",
       "    <tr>\n",
       "      <th>3599</th>\n",
       "      <td>0.886667</td>\n",
       "      <td>0.019437</td>\n",
       "      <td>{'algorithm': 'brute', 'leaf_size': 100, 'n_ne...</td>\n",
       "    </tr>\n",
       "  </tbody>\n",
       "</table>\n",
       "<p>3600 rows × 3 columns</p>\n",
       "</div>"
      ],
      "text/plain": [
       "      mean_test_score  std_test_score  \\\n",
       "0            0.900000        0.023570   \n",
       "1            0.900000        0.023570   \n",
       "2            0.876667        0.031798   \n",
       "3            0.900000        0.023570   \n",
       "4            0.900000        0.047726   \n",
       "...               ...             ...   \n",
       "3595         0.883333        0.018257   \n",
       "3596         0.870000        0.016330   \n",
       "3597         0.883333        0.018257   \n",
       "3598         0.871667        0.018333   \n",
       "3599         0.886667        0.019437   \n",
       "\n",
       "                                                 params  \n",
       "0     {'algorithm': 'auto', 'leaf_size': 10, 'n_neig...  \n",
       "1     {'algorithm': 'auto', 'leaf_size': 10, 'n_neig...  \n",
       "2     {'algorithm': 'auto', 'leaf_size': 10, 'n_neig...  \n",
       "3     {'algorithm': 'auto', 'leaf_size': 10, 'n_neig...  \n",
       "4     {'algorithm': 'auto', 'leaf_size': 10, 'n_neig...  \n",
       "...                                                 ...  \n",
       "3595  {'algorithm': 'brute', 'leaf_size': 100, 'n_ne...  \n",
       "3596  {'algorithm': 'brute', 'leaf_size': 100, 'n_ne...  \n",
       "3597  {'algorithm': 'brute', 'leaf_size': 100, 'n_ne...  \n",
       "3598  {'algorithm': 'brute', 'leaf_size': 100, 'n_ne...  \n",
       "3599  {'algorithm': 'brute', 'leaf_size': 100, 'n_ne...  \n",
       "\n",
       "[3600 rows x 3 columns]"
      ]
     },
     "execution_count": 41,
     "metadata": {},
     "output_type": "execute_result"
    }
   ],
   "source": [
    "# To View the Results of the GridSearch\n",
    "pd.DataFrame(grid_search.cv_results_)[['mean_test_score', 'std_test_score', 'params']]"
   ]
  },
  {
   "cell_type": "code",
   "execution_count": 42,
   "metadata": {
    "scrolled": true
   },
   "outputs": [
    {
     "name": "stdout",
     "output_type": "stream",
     "text": [
      "BEST ACCURACY SCORE:\n",
      "0.9099999999999999\n",
      "\n",
      "BEST PARAMETERS:\n",
      "{'algorithm': 'auto', 'leaf_size': 10, 'n_neighbors': 4, 'weights': 'distance'}\n"
     ]
    }
   ],
   "source": [
    "# To Identify the Best Accuracy and Best Features\n",
    "\n",
    "best_accuracy = grid_search.best_score_\n",
    "best_parameters = grid_search.best_params_\n",
    "\n",
    "print(\"BEST ACCURACY SCORE:\")\n",
    "print(best_accuracy)\n",
    "print('')\n",
    "\n",
    "print(\"BEST PARAMETERS:\")\n",
    "print(best_parameters)"
   ]
  },
  {
   "cell_type": "markdown",
   "metadata": {},
   "source": [
    "###### To Create New K-Nearest Neighbors Model Using the Optimal Parameters"
   ]
  },
  {
   "cell_type": "code",
   "execution_count": 43,
   "metadata": {},
   "outputs": [
    {
     "data": {
      "text/plain": [
       "array([10,  1,  3, 10,  3,  3, 10,  8, 10,  0,  4, 11,  0,  4,  8, 10,  5,\n",
       "        9,  0,  2,  8, 10,  2,  0, 10,  0,  4,  5, 10,  7,  2,  5,  2,  3,\n",
       "        1,  7,  6,  2,  0,  3,  2,  4,  4,  0,  9,  8,  2,  3, 11,  2,  3,\n",
       "        3,  1,  6,  6, 11,  7,  0,  8,  5,  5,  8,  7,  2,  9, 10,  9,  6,\n",
       "       11,  5,  9,  0,  5, 10,  8,  3,  8,  7,  8,  7, 11,  5,  3,  8,  3,\n",
       "        8,  5,  9,  9,  1, 11,  7,  6,  3,  5,  4, 10,  3,  9,  8,  3,  7,\n",
       "       11,  7,  8,  3, 10, 11,  7,  6,  2, 11,  2,  0,  7,  1, 11, 10,  4,\n",
       "       10])"
      ]
     },
     "execution_count": 43,
     "metadata": {},
     "output_type": "execute_result"
    }
   ],
   "source": [
    "# To Instantiate the Model\n",
    "k_nearest_neighbors = KNeighborsClassifier(n_neighbors=4, weights='distance', algorithm='auto', leaf_size=10)\n",
    "\n",
    "# To Fit the Training Dataset into K Nearest Neighbors Model\n",
    "k_nearest_neighbors.fit(X_train, Y_train)\n",
    "\n",
    "# To Predict the Output of the Training Dataset\n",
    "Y_predict_KNN = k_nearest_neighbors.predict(X_test)\n",
    "Y_predict_KNN"
   ]
  },
  {
   "cell_type": "markdown",
   "metadata": {},
   "source": [
    "###### To Evaluate the Performance of the K-Nearest Neighbors Machine Model"
   ]
  },
  {
   "cell_type": "code",
   "execution_count": 44,
   "metadata": {
    "scrolled": true
   },
   "outputs": [
    {
     "data": {
      "text/plain": [
       "Text(95.72222222222221, 0.5, 'Actual Value')"
      ]
     },
     "execution_count": 44,
     "metadata": {},
     "output_type": "execute_result"
    },
    {
     "data": {
      "image/png": "[encoded data removed]",
      "text/plain": [
       "<Figure size 1000x700 with 2 Axes>"
      ]
     },
     "metadata": {},
     "output_type": "display_data"
    }
   ],
   "source": [
    "# To Show the Confusion Matrix\n",
    "from sklearn.metrics import confusion_matrix\n",
    "confusion_matrix = confusion_matrix(Y_test, Y_predict_KNN)\n",
    "\n",
    "import seaborn as sns\n",
    "plt.figure(figsize=(10,7))\n",
    "sns.heatmap(confusion_matrix, annot=True)\n",
    "plt.xlabel(\"Predicted Value\")\n",
    "plt.ylabel(\"Actual Value\")"
   ]
  },
  {
   "cell_type": "code",
   "execution_count": 45,
   "metadata": {},
   "outputs": [
    {
     "name": "stdout",
     "output_type": "stream",
     "text": [
      "Classification Accuracy: 0.9000\n",
      "\n"
     ]
    }
   ],
   "source": [
    "# For the Classification Accuracy\n",
    "from sklearn.metrics import accuracy_score\n",
    "classification_accuracy = accuracy_score(Y_test, Y_predict_KNN)\n",
    "print('Classification Accuracy: %.4f'\n",
    "      % classification_accuracy)\n",
    "print('')"
   ]
  },
  {
   "cell_type": "code",
   "execution_count": 46,
   "metadata": {
    "scrolled": true
   },
   "outputs": [
    {
     "name": "stdout",
     "output_type": "stream",
     "text": [
      "CLASSIFICATION REPORT:\n",
      "              precision    recall  f1-score   support\n",
      "\n",
      "           0       1.00      0.91      0.95        11\n",
      "           1       1.00      1.00      1.00         5\n",
      "           2       1.00      0.92      0.96        12\n",
      "           3       0.93      1.00      0.97        14\n",
      "           4       1.00      1.00      1.00         7\n",
      "           5       0.80      1.00      0.89         8\n",
      "           6       0.50      0.43      0.46         7\n",
      "           7       1.00      1.00      1.00        11\n",
      "           8       0.85      1.00      0.92        11\n",
      "           9       0.50      0.44      0.47         9\n",
      "          10       1.00      1.00      1.00        14\n",
      "          11       1.00      0.91      0.95        11\n",
      "\n",
      "    accuracy                           0.90       120\n",
      "   macro avg       0.88      0.88      0.88       120\n",
      "weighted avg       0.90      0.90      0.90       120\n",
      "\n"
     ]
    }
   ],
   "source": [
    "# For the Classification Report\n",
    "from sklearn.metrics import classification_report\n",
    "print(\"CLASSIFICATION REPORT:\")\n",
    "print(classification_report(Y_test, Y_predict_KNN))"
   ]
  },
  {
   "cell_type": "markdown",
   "metadata": {},
   "source": [
    "#### C. To Create the Support Vector Machine Model "
   ]
  },
  {
   "cell_type": "code",
   "execution_count": 47,
   "metadata": {},
   "outputs": [
    {
     "data": {
      "text/plain": [
       "array([10,  1,  6, 10,  6,  6, 10,  8, 10,  0,  4,  5,  0,  4,  8, 10,  5,\n",
       "        6,  0,  2,  8, 10,  2,  0, 10,  0,  4,  5, 10,  7,  2,  5,  8,  6,\n",
       "        1,  7,  6,  2,  0,  6,  2,  4,  4,  0,  6,  8,  2,  6,  5,  2,  6,\n",
       "        6,  1,  6,  6,  5,  7,  0,  8,  5,  5,  8,  7,  2,  6, 10,  6,  6,\n",
       "        5,  5,  6,  0,  5, 10,  8,  6,  8,  7,  8,  7,  5,  5,  6,  8,  6,\n",
       "        8,  5,  6,  6,  1,  5,  7,  6,  6,  5,  4, 10,  6,  6,  8,  6,  7,\n",
       "        5,  7,  8,  6, 10,  5,  7,  6,  2, 11,  2,  0,  7,  1, 11, 10,  4,\n",
       "       10])"
      ]
     },
     "execution_count": 47,
     "metadata": {},
     "output_type": "execute_result"
    }
   ],
   "source": [
    "# To Instantiate the Model (Using the Default Parameters)\n",
    "support_vector_machine = SVC(random_state=0)\n",
    "\n",
    "# To Fit the Training Dataset into Support Vector Machine Model\n",
    "support_vector_machine.fit(X_train, Y_train)\n",
    "\n",
    "# To Predict the Output of the Testing Dataset\n",
    "Y_predict_SVM = support_vector_machine.predict(X_test)\n",
    "Y_predict_SVM"
   ]
  },
  {
   "cell_type": "markdown",
   "metadata": {},
   "source": [
    "###### To Evaluate the Performance of the Support Vector Machine Model"
   ]
  },
  {
   "cell_type": "code",
   "execution_count": 48,
   "metadata": {},
   "outputs": [
    {
     "data": {
      "text/plain": [
       "Text(95.72222222222221, 0.5, 'Actual Value')"
      ]
     },
     "execution_count": 48,
     "metadata": {},
     "output_type": "execute_result"
    },
    {
     "data": {
      "image/png": "[encoded data removed]",
      "text/plain": [
       "<Figure size 1000x700 with 2 Axes>"
      ]
     },
     "metadata": {},
     "output_type": "display_data"
    }
   ],
   "source": [
    "# To Show the Confusion Matrix\n",
    "from sklearn.metrics import confusion_matrix\n",
    "confusion_matrix = confusion_matrix(Y_test, Y_predict_SVM)\n",
    "\n",
    "import seaborn as sns\n",
    "plt.figure(figsize=(10,7))\n",
    "sns.heatmap(confusion_matrix, annot=True)\n",
    "plt.xlabel(\"Predicted Value\")\n",
    "plt.ylabel(\"Actual Value\")"
   ]
  },
  {
   "cell_type": "code",
   "execution_count": 49,
   "metadata": {
    "scrolled": false
   },
   "outputs": [
    {
     "name": "stdout",
     "output_type": "stream",
     "text": [
      "Classification Accuracy: 0.7083\n",
      "\n"
     ]
    }
   ],
   "source": [
    "# For the Classification Accuracy\n",
    "from sklearn.metrics import accuracy_score\n",
    "classification_accuracy = accuracy_score(Y_test, Y_predict_SVM)\n",
    "print('Classification Accuracy: %.4f'\n",
    "      % classification_accuracy)\n",
    "print('')"
   ]
  },
  {
   "cell_type": "code",
   "execution_count": 50,
   "metadata": {},
   "outputs": [
    {
     "name": "stdout",
     "output_type": "stream",
     "text": [
      "CLASSIFICATION REPORT:\n",
      "              precision    recall  f1-score   support\n",
      "\n",
      "           0       1.00      0.91      0.95        11\n",
      "           1       1.00      1.00      1.00         5\n",
      "           2       1.00      0.83      0.91        12\n",
      "           3       0.00      0.00      0.00        14\n",
      "           4       1.00      1.00      1.00         7\n",
      "           5       0.44      1.00      0.62         8\n",
      "           6       0.24      1.00      0.39         7\n",
      "           7       1.00      1.00      1.00        11\n",
      "           8       0.79      1.00      0.88        11\n",
      "           9       0.00      0.00      0.00         9\n",
      "          10       1.00      1.00      1.00        14\n",
      "          11       1.00      0.18      0.31        11\n",
      "\n",
      "    accuracy                           0.71       120\n",
      "   macro avg       0.71      0.74      0.67       120\n",
      "weighted avg       0.71      0.71      0.66       120\n",
      "\n"
     ]
    },
    {
     "name": "stderr",
     "output_type": "stream",
     "text": [
      "c:\\Users\\RenzCute\\anaconda3\\Lib\\site-packages\\sklearn\\metrics\\_classification.py:1469: UndefinedMetricWarning: Precision and F-score are ill-defined and being set to 0.0 in labels with no predicted samples. Use `zero_division` parameter to control this behavior.\n",
      "  _warn_prf(average, modifier, msg_start, len(result))\n",
      "c:\\Users\\RenzCute\\anaconda3\\Lib\\site-packages\\sklearn\\metrics\\_classification.py:1469: UndefinedMetricWarning: Precision and F-score are ill-defined and being set to 0.0 in labels with no predicted samples. Use `zero_division` parameter to control this behavior.\n",
      "  _warn_prf(average, modifier, msg_start, len(result))\n",
      "c:\\Users\\RenzCute\\anaconda3\\Lib\\site-packages\\sklearn\\metrics\\_classification.py:1469: UndefinedMetricWarning: Precision and F-score are ill-defined and being set to 0.0 in labels with no predicted samples. Use `zero_division` parameter to control this behavior.\n",
      "  _warn_prf(average, modifier, msg_start, len(result))\n"
     ]
    }
   ],
   "source": [
    "# For the Classification Report\n",
    "from sklearn.metrics import classification_report\n",
    "print(\"CLASSIFICATION REPORT:\")\n",
    "print(classification_report(Y_test, Y_predict_SVM))\n"
   ]
  },
  {
   "cell_type": "markdown",
   "metadata": {},
   "source": [
    "#### Applying GridSearch to find the Best Parameters for the Support Vector Machine Model"
   ]
  },
  {
   "cell_type": "code",
   "execution_count": 51,
   "metadata": {},
   "outputs": [
    {
     "name": "stdout",
     "output_type": "stream",
     "text": [
      "GridSearchCV(cv=StratifiedKFold(n_splits=10, random_state=0, shuffle=True),\n",
      "             estimator=SVC(random_state=0), n_jobs=-1,\n",
      "             param_grid=[{'C': [0.001, 0.01, 0.1, 10, 100, 1000],\n",
      "                          'decision_function_shape': ['ovo', 'ovr'],\n",
      "                          'kernel': ['linear']},\n",
      "                         {'C': [0.001, 0.01, 0.1, 10, 100, 1000],\n",
      "                          'decision_function_shape': ['ovo', 'ovr'],\n",
      "                          'gamma': [0.1, 0.5, 1, 5, 10], 'kernel': ['rbf']},\n",
      "                         {'C': [0.001, 0.01, 0.1, 10, 100, 1000],\n",
      "                          'decision_function_shape': ['ovo', 'ovr'],\n",
      "                          'degree': [2, 3, 4, 5], 'gamma': [0.1, 0.5, 1, 5, 10],\n",
      "                          'kernel': ['poly']},\n",
      "                         {'C': [0.001, 0.01, 0.1, 10, 100, 1000],\n",
      "                          'gamma': [0.1, 0.5, 1, 5, 10],\n",
      "                          'kernel': ['sigmoid']}],\n",
      "             scoring='accuracy')\n"
     ]
    }
   ],
   "source": [
    "# To Import the kFold Class\n",
    "from sklearn.model_selection import StratifiedKFold\n",
    "k_Fold = StratifiedKFold(n_splits=10, shuffle=True, random_state=0)\n",
    "\n",
    "# To Import the GridSearch Class\n",
    "from sklearn.model_selection import GridSearchCV\n",
    "\n",
    "# To Set Parameters to be Optimized Under the Support Vector Machine Model\n",
    "parameters = [{'C': [0.001, 0.01, 0.1, 10, 100, 1000], 'kernel': ['linear'], 'decision_function_shape' : ['ovo', 'ovr']},\n",
    "              {'C': [0.001, 0.01, 0.1, 10, 100, 1000], 'kernel': ['rbf'], 'gamma': [0.1, 0.5, 1, 5, 10], 'decision_function_shape' : ['ovo', 'ovr']},\n",
    "              {'C': [0.001, 0.01, 0.1, 10, 100, 1000], 'kernel': ['poly'], 'gamma': [0.1, 0.5, 1, 5, 10], 'degree': [2, 3, 4, 5], 'decision_function_shape' : ['ovo', 'ovr']},\n",
    "              {'C': [0.001, 0.01, 0.1, 10, 100, 1000], 'kernel': ['sigmoid'], 'gamma': [0.1, 0.5, 1, 5, 10]}]\n",
    "grid_search = GridSearchCV(estimator = support_vector_machine,\n",
    "                           param_grid = parameters,\n",
    "                           scoring = 'accuracy',\n",
    "                           cv = k_Fold,\n",
    "                           n_jobs = -1)\n",
    "grid_search = grid_search.fit(X, Y)\n",
    "print(grid_search)"
   ]
  },
  {
   "cell_type": "code",
   "execution_count": 52,
   "metadata": {},
   "outputs": [],
   "source": [
    "# Other Parameters for SVM\n",
    "# To Set Parameters to be Optimized Under the Support Vector Machine Model\n",
    "#parameters = [{'C': [1, 10, 100, 1000], 'kernel': ['linear'], 'decision_function_shape' : ['ovo', 'ovr']},\n",
    "              #{'C': [1, 10, 100, 1000], 'kernel': ['rbf'], 'gamma': [0.1, 0.2, 0.25, 0.3, 0.35, 0.4, 0.45, 0.5, 1, 5, 10], 'decision_function_shape' : ['ovo', 'ovr']},\n",
    "              #{'C': [1, 10, 100, 1000], 'kernel': ['poly'], 'gamma': [0.1, 0.2, 0.25, 0.3, 0.35, 0.4, 0.45, 0.5, 1, 5, 10], 'degree': [2, 3, 4, 5, 6, 7, 8, 9, 10, 11, 12, 13, 14, 15], 'decision_function_shape' : ['ovo', 'ovr']},\n",
    "              #{'C': [1, 10, 100, 1000], 'kernel': ['sigmoid'], 'gamma': [0.1, 0.2, 0.25, 0.3, 0.35, 0.4, 0.45, 0.5, 1, 5, 10], 'decision_function_shape' : ['ovo', 'ovr']}]"
   ]
  },
  {
   "cell_type": "code",
   "execution_count": 53,
   "metadata": {},
   "outputs": [
    {
     "data": {
      "text/html": [
       "<div>\n",
       "<style scoped>\n",
       "    .dataframe tbody tr th:only-of-type {\n",
       "        vertical-align: middle;\n",
       "    }\n",
       "\n",
       "    .dataframe tbody tr th {\n",
       "        vertical-align: top;\n",
       "    }\n",
       "\n",
       "    .dataframe thead th {\n",
       "        text-align: right;\n",
       "    }\n",
       "</style>\n",
       "<table border=\"1\" class=\"dataframe\">\n",
       "  <thead>\n",
       "    <tr style=\"text-align: right;\">\n",
       "      <th></th>\n",
       "      <th>mean_test_score</th>\n",
       "      <th>std_test_score</th>\n",
       "      <th>params</th>\n",
       "    </tr>\n",
       "  </thead>\n",
       "  <tbody>\n",
       "    <tr>\n",
       "      <th>0</th>\n",
       "      <td>0.836667</td>\n",
       "      <td>2.666667e-02</td>\n",
       "      <td>{'C': 0.001, 'decision_function_shape': 'ovo',...</td>\n",
       "    </tr>\n",
       "    <tr>\n",
       "      <th>1</th>\n",
       "      <td>0.836667</td>\n",
       "      <td>2.666667e-02</td>\n",
       "      <td>{'C': 0.001, 'decision_function_shape': 'ovr',...</td>\n",
       "    </tr>\n",
       "    <tr>\n",
       "      <th>2</th>\n",
       "      <td>0.840000</td>\n",
       "      <td>2.905933e-02</td>\n",
       "      <td>{'C': 0.01, 'decision_function_shape': 'ovo', ...</td>\n",
       "    </tr>\n",
       "    <tr>\n",
       "      <th>3</th>\n",
       "      <td>0.840000</td>\n",
       "      <td>2.905933e-02</td>\n",
       "      <td>{'C': 0.01, 'decision_function_shape': 'ovr', ...</td>\n",
       "    </tr>\n",
       "    <tr>\n",
       "      <th>4</th>\n",
       "      <td>0.841667</td>\n",
       "      <td>3.270236e-02</td>\n",
       "      <td>{'C': 0.1, 'decision_function_shape': 'ovo', '...</td>\n",
       "    </tr>\n",
       "    <tr>\n",
       "      <th>...</th>\n",
       "      <td>...</td>\n",
       "      <td>...</td>\n",
       "      <td>...</td>\n",
       "    </tr>\n",
       "    <tr>\n",
       "      <th>337</th>\n",
       "      <td>0.506667</td>\n",
       "      <td>5.280993e-02</td>\n",
       "      <td>{'C': 1000, 'gamma': 0.1, 'kernel': 'sigmoid'}</td>\n",
       "    </tr>\n",
       "    <tr>\n",
       "      <th>338</th>\n",
       "      <td>0.000000</td>\n",
       "      <td>0.000000e+00</td>\n",
       "      <td>{'C': 1000, 'gamma': 0.5, 'kernel': 'sigmoid'}</td>\n",
       "    </tr>\n",
       "    <tr>\n",
       "      <th>339</th>\n",
       "      <td>0.000000</td>\n",
       "      <td>0.000000e+00</td>\n",
       "      <td>{'C': 1000, 'gamma': 1, 'kernel': 'sigmoid'}</td>\n",
       "    </tr>\n",
       "    <tr>\n",
       "      <th>340</th>\n",
       "      <td>0.083333</td>\n",
       "      <td>1.387779e-17</td>\n",
       "      <td>{'C': 1000, 'gamma': 5, 'kernel': 'sigmoid'}</td>\n",
       "    </tr>\n",
       "    <tr>\n",
       "      <th>341</th>\n",
       "      <td>0.083333</td>\n",
       "      <td>1.387779e-17</td>\n",
       "      <td>{'C': 1000, 'gamma': 10, 'kernel': 'sigmoid'}</td>\n",
       "    </tr>\n",
       "  </tbody>\n",
       "</table>\n",
       "<p>342 rows × 3 columns</p>\n",
       "</div>"
      ],
      "text/plain": [
       "     mean_test_score  std_test_score  \\\n",
       "0           0.836667    2.666667e-02   \n",
       "1           0.836667    2.666667e-02   \n",
       "2           0.840000    2.905933e-02   \n",
       "3           0.840000    2.905933e-02   \n",
       "4           0.841667    3.270236e-02   \n",
       "..               ...             ...   \n",
       "337         0.506667    5.280993e-02   \n",
       "338         0.000000    0.000000e+00   \n",
       "339         0.000000    0.000000e+00   \n",
       "340         0.083333    1.387779e-17   \n",
       "341         0.083333    1.387779e-17   \n",
       "\n",
       "                                                params  \n",
       "0    {'C': 0.001, 'decision_function_shape': 'ovo',...  \n",
       "1    {'C': 0.001, 'decision_function_shape': 'ovr',...  \n",
       "2    {'C': 0.01, 'decision_function_shape': 'ovo', ...  \n",
       "3    {'C': 0.01, 'decision_function_shape': 'ovr', ...  \n",
       "4    {'C': 0.1, 'decision_function_shape': 'ovo', '...  \n",
       "..                                                 ...  \n",
       "337     {'C': 1000, 'gamma': 0.1, 'kernel': 'sigmoid'}  \n",
       "338     {'C': 1000, 'gamma': 0.5, 'kernel': 'sigmoid'}  \n",
       "339       {'C': 1000, 'gamma': 1, 'kernel': 'sigmoid'}  \n",
       "340       {'C': 1000, 'gamma': 5, 'kernel': 'sigmoid'}  \n",
       "341      {'C': 1000, 'gamma': 10, 'kernel': 'sigmoid'}  \n",
       "\n",
       "[342 rows x 3 columns]"
      ]
     },
     "execution_count": 53,
     "metadata": {},
     "output_type": "execute_result"
    }
   ],
   "source": [
    "# To View the Results of the GridSearch\n",
    "pd.DataFrame(grid_search.cv_results_)[['mean_test_score', 'std_test_score', 'params']]"
   ]
  },
  {
   "cell_type": "code",
   "execution_count": 54,
   "metadata": {},
   "outputs": [
    {
     "name": "stdout",
     "output_type": "stream",
     "text": [
      "BEST ACCURACY SCORE:\n",
      "0.9516666666666665\n",
      "\n",
      "BEST PARAMETERS:\n",
      "{'C': 0.001, 'decision_function_shape': 'ovo', 'degree': 4, 'gamma': 10, 'kernel': 'poly'}\n"
     ]
    }
   ],
   "source": [
    "best_accuracy = grid_search.best_score_\n",
    "best_parameters = grid_search.best_params_\n",
    "\n",
    "print(\"BEST ACCURACY SCORE:\")\n",
    "print(best_accuracy)\n",
    "print('')\n",
    "\n",
    "print(\"BEST PARAMETERS:\")\n",
    "print(best_parameters)"
   ]
  },
  {
   "cell_type": "markdown",
   "metadata": {},
   "source": [
    "###### To Create New Support Vector Machine Model Using the Optimized Parameters"
   ]
  },
  {
   "cell_type": "code",
   "execution_count": 55,
   "metadata": {},
   "outputs": [
    {
     "data": {
      "text/plain": [
       "array([10,  1,  3, 10,  3,  9, 10,  8, 10,  0,  4, 11,  0,  4,  8, 10,  5,\n",
       "        9,  0,  2,  8, 10,  2,  0, 10,  0,  4,  5, 10,  7,  2,  5,  2,  3,\n",
       "        1,  7,  6,  2,  0,  3,  2,  4,  4,  0,  9,  8,  2,  3, 11,  2,  3,\n",
       "        3,  1,  6,  6, 11,  7,  0,  8,  5,  5,  8,  7,  2,  9, 10,  9,  9,\n",
       "       11,  5,  9,  0,  5, 10,  8,  3,  2,  7,  8,  7, 11,  5,  3,  8,  3,\n",
       "        8,  5,  9,  9,  1, 11,  7,  9,  3,  5,  4, 10,  3,  9,  8,  3,  7,\n",
       "       11,  7,  8,  3, 10, 11,  7,  6,  2, 11,  2,  0,  7,  1, 11, 10,  4,\n",
       "        7])"
      ]
     },
     "execution_count": 55,
     "metadata": {},
     "output_type": "execute_result"
    }
   ],
   "source": [
    "# To Instantiate the Model (Using the Optimized Parameters)\n",
    "state_vector_machine = SVC(C=0.001, decision_function_shape='ovo', gamma=10, kernel='poly', degree=4, random_state=0)\n",
    "\n",
    "# To Fit the Training Dataset into Support Vector Machine Model\n",
    "state_vector_machine.fit(X_train, Y_train)\n",
    "\n",
    "# To Predict the Output of the Training Dataset\n",
    "Y_predict_SVM = state_vector_machine.predict(X_test)\n",
    "Y_predict_SVM\n"
   ]
  },
  {
   "cell_type": "code",
   "execution_count": 56,
   "metadata": {},
   "outputs": [
    {
     "data": {
      "text/plain": [
       "Text(95.72222222222221, 0.5, 'Actual Value')"
      ]
     },
     "execution_count": 56,
     "metadata": {},
     "output_type": "execute_result"
    },
    {
     "data": {
      "image/png": "[encoded data removed]",
      "text/plain": [
       "<Figure size 1000x700 with 2 Axes>"
      ]
     },
     "metadata": {},
     "output_type": "display_data"
    }
   ],
   "source": [
    "# To Show the Confusion Matrix\n",
    "from sklearn.metrics import confusion_matrix\n",
    "confusion_matrix = confusion_matrix(Y_test, Y_predict_SVM)\n",
    "\n",
    "import seaborn as sns\n",
    "plt.figure(figsize=(10,7))\n",
    "sns.heatmap(confusion_matrix, annot=True)\n",
    "plt.xlabel(\"Predicted Value\")\n",
    "plt.ylabel(\"Actual Value\")"
   ]
  },
  {
   "cell_type": "code",
   "execution_count": 57,
   "metadata": {},
   "outputs": [
    {
     "name": "stdout",
     "output_type": "stream",
     "text": [
      "Classification Accuracy: 0.9250\n",
      "\n"
     ]
    }
   ],
   "source": [
    "# For the Classification Accuracy\n",
    "from sklearn.metrics import accuracy_score\n",
    "classification_accuracy = accuracy_score(Y_test, Y_predict_SVM)\n",
    "print('Classification Accuracy: %.4f'\n",
    "      % classification_accuracy)\n",
    "print('')"
   ]
  },
  {
   "cell_type": "code",
   "execution_count": 58,
   "metadata": {},
   "outputs": [
    {
     "name": "stdout",
     "output_type": "stream",
     "text": [
      "CLASSIFICATION REPORT:\n",
      "              precision    recall  f1-score   support\n",
      "\n",
      "           0       1.00      0.91      0.95        11\n",
      "           1       1.00      1.00      1.00         5\n",
      "           2       1.00      1.00      1.00        12\n",
      "           3       1.00      1.00      1.00        14\n",
      "           4       1.00      1.00      1.00         7\n",
      "           5       0.80      1.00      0.89         8\n",
      "           6       0.75      0.43      0.55         7\n",
      "           7       0.92      1.00      0.96        11\n",
      "           8       0.92      1.00      0.96        11\n",
      "           9       0.64      0.78      0.70         9\n",
      "          10       1.00      0.93      0.96        14\n",
      "          11       1.00      0.91      0.95        11\n",
      "\n",
      "    accuracy                           0.93       120\n",
      "   macro avg       0.92      0.91      0.91       120\n",
      "weighted avg       0.93      0.93      0.92       120\n",
      "\n"
     ]
    }
   ],
   "source": [
    "# For the Classification Report\n",
    "from sklearn.metrics import classification_report\n",
    "print(\"CLASSIFICATION REPORT:\")\n",
    "print(classification_report(Y_test, Y_predict_SVM))"
   ]
  },
  {
   "cell_type": "markdown",
   "metadata": {},
   "source": [
    "###### Dr. Robert G. de Luna, PECE\n",
    "robert.deluna@dlsl.edu.ph / robert_g_deluna@dlsu.edu.ph"
   ]
  }
 ],
 "metadata": {
  "kernelspec": {
   "display_name": "Python 3 (ipykernel)",
   "language": "python",
   "name": "python3"
  },
  "language_info": {
   "codemirror_mode": {
    "name": "ipython",
    "version": 3
   },
   "file_extension": ".py",
   "mimetype": "text/x-python",
   "name": "python",
   "nbconvert_exporter": "python",
   "pygments_lexer": "ipython3",
   "version": "3.11.5"
  }
 },
 "nbformat": 4,
 "nbformat_minor": 2
}
