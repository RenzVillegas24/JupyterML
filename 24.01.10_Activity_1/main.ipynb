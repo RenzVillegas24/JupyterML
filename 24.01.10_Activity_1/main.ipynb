{
 "cells": [
  {
   "cell_type": "markdown",
   "metadata": {},
   "source": [
    "Required libraries"
   ]
  },
  {
   "cell_type": "code",
   "execution_count": 358,
   "metadata": {},
   "outputs": [],
   "source": [
    "import numpy as np\n",
    "import pandas as pd\n",
    "import matplotlib.pyplot as plt\n",
    "from scipy import stats\n",
    "import seaborn as sns"
   ]
  },
  {
   "cell_type": "markdown",
   "metadata": {},
   "source": [
    "Import dataset"
   ]
  },
  {
   "cell_type": "code",
   "execution_count": 359,
   "metadata": {},
   "outputs": [],
   "source": [
    "df = pd.read_csv('data.csv')"
   ]
  },
  {
   "cell_type": "markdown",
   "metadata": {},
   "source": [
    "Copy the dataset and show the shape"
   ]
  },
  {
   "cell_type": "code",
   "execution_count": 360,
   "metadata": {},
   "outputs": [
    {
     "data": {
      "text/plain": [
       "(311, 14)"
      ]
     },
     "execution_count": 360,
     "metadata": {},
     "output_type": "execute_result"
    }
   ],
   "source": [
    "dfc = df.copy()\n",
    "dfc.shape"
   ]
  },
  {
   "cell_type": "markdown",
   "metadata": {},
   "source": [
    "Get the first 10 rows"
   ]
  },
  {
   "cell_type": "code",
   "execution_count": 361,
   "metadata": {},
   "outputs": [
    {
     "data": {
      "text/html": [
       "<div>\n",
       "<style scoped>\n",
       "    .dataframe tbody tr th:only-of-type {\n",
       "        vertical-align: middle;\n",
       "    }\n",
       "\n",
       "    .dataframe tbody tr th {\n",
       "        vertical-align: top;\n",
       "    }\n",
       "\n",
       "    .dataframe thead th {\n",
       "        text-align: right;\n",
       "    }\n",
       "</style>\n",
       "<table border=\"1\" class=\"dataframe\">\n",
       "  <thead>\n",
       "    <tr style=\"text-align: right;\">\n",
       "      <th></th>\n",
       "      <th>name</th>\n",
       "      <th>brand</th>\n",
       "      <th>model</th>\n",
       "      <th>memory</th>\n",
       "      <th>memory_interface</th>\n",
       "      <th>length</th>\n",
       "      <th>interface</th>\n",
       "      <th>chipset</th>\n",
       "      <th>base_clock</th>\n",
       "      <th>clock_speed</th>\n",
       "      <th>frame_sync</th>\n",
       "      <th>price</th>\n",
       "      <th>item_url</th>\n",
       "      <th>used</th>\n",
       "    </tr>\n",
       "  </thead>\n",
       "  <tbody>\n",
       "    <tr>\n",
       "      <th>0</th>\n",
       "      <td>MSI Gaming GeForce RTX 3090 24GB GDRR6X 384-Bi...</td>\n",
       "      <td>MSI</td>\n",
       "      <td>RTX 3090 GAMING X TRIO 24G</td>\n",
       "      <td>24 GB</td>\n",
       "      <td>GDRR6X</td>\n",
       "      <td>335 mm</td>\n",
       "      <td>PCIe x16</td>\n",
       "      <td>GeForce RTX 3090</td>\n",
       "      <td>1395 MHz</td>\n",
       "      <td>1785 MHz</td>\n",
       "      <td>G-Sync</td>\n",
       "      <td>$1,289.99</td>\n",
       "      <td>https://pcbuilder.net/component-details/graphi...</td>\n",
       "      <td>0</td>\n",
       "    </tr>\n",
       "    <tr>\n",
       "      <th>1</th>\n",
       "      <td>EVGA GeForce RTX 3090 FTW3 Ultra Gaming, 24GB ...</td>\n",
       "      <td>EVGA</td>\n",
       "      <td>RTX 3090 FTW3 Ultra</td>\n",
       "      <td>24 GB</td>\n",
       "      <td>GDDR6X</td>\n",
       "      <td>300 mm</td>\n",
       "      <td>PCIe x16</td>\n",
       "      <td>GeForce RTX 3090</td>\n",
       "      <td>1395 MHz</td>\n",
       "      <td>1800 MHz</td>\n",
       "      <td>G-Sync</td>\n",
       "      <td>$1,199.99</td>\n",
       "      <td>https://pcbuilder.net/component-details/graphi...</td>\n",
       "      <td>0</td>\n",
       "    </tr>\n",
       "    <tr>\n",
       "      <th>2</th>\n",
       "      <td>ASUS ROG Strix NVIDIA GeForce RTX 3090 White O...</td>\n",
       "      <td>ASUS</td>\n",
       "      <td>ROG Strix RTX 3090 OC Edition</td>\n",
       "      <td>24 GB</td>\n",
       "      <td>GDDR6X</td>\n",
       "      <td>318.5 mm</td>\n",
       "      <td>PCIe x16</td>\n",
       "      <td>GeForce RTX 3090</td>\n",
       "      <td>1395 MHz</td>\n",
       "      <td>1890 MHz</td>\n",
       "      <td>G-Sync</td>\n",
       "      <td>$1,794.99</td>\n",
       "      <td>https://pcbuilder.net/component-details/graphi...</td>\n",
       "      <td>0</td>\n",
       "    </tr>\n",
       "    <tr>\n",
       "      <th>3</th>\n",
       "      <td>MSI Gaming GeForce RTX 3090 24GB GDRR6X 384-Bi...</td>\n",
       "      <td>MSI</td>\n",
       "      <td>RTX 3090 SUPRIM X 24G</td>\n",
       "      <td>24 GB</td>\n",
       "      <td>GDDR6X</td>\n",
       "      <td>336 mm</td>\n",
       "      <td>PCIe x16</td>\n",
       "      <td>GeForce RTX 3090</td>\n",
       "      <td>1395 MHz</td>\n",
       "      <td>1875 MHz</td>\n",
       "      <td>G-Sync</td>\n",
       "      <td>$2,017.21</td>\n",
       "      <td>https://pcbuilder.net/component-details/graphi...</td>\n",
       "      <td>0</td>\n",
       "    </tr>\n",
       "    <tr>\n",
       "      <th>4</th>\n",
       "      <td>GIGABYTE AORUS GeForce RTX 3090 Xtreme 24G Gra...</td>\n",
       "      <td>Gigabyte</td>\n",
       "      <td>AORUS RTX 3090 Xtreme 24G</td>\n",
       "      <td>24 GB</td>\n",
       "      <td>GDDR6X</td>\n",
       "      <td>319 mm</td>\n",
       "      <td>PCIe x16</td>\n",
       "      <td>GeForce RTX 3090</td>\n",
       "      <td>1395 MHz</td>\n",
       "      <td>1860 MHz</td>\n",
       "      <td>G-Sync</td>\n",
       "      <td>$3,399.99</td>\n",
       "      <td>https://pcbuilder.net/component-details/graphi...</td>\n",
       "      <td>0</td>\n",
       "    </tr>\n",
       "    <tr>\n",
       "      <th>5</th>\n",
       "      <td>ASUS TUF Gaming NVIDIA GeForce RTX 3090 OC Edi...</td>\n",
       "      <td>ASUS</td>\n",
       "      <td>TUF Gaming RTX 3090 OC Edition</td>\n",
       "      <td>24 GB</td>\n",
       "      <td>GDDR6X</td>\n",
       "      <td>299.9 mm</td>\n",
       "      <td>PCIe x16</td>\n",
       "      <td>GeForce RTX 3090</td>\n",
       "      <td>1395 MHz</td>\n",
       "      <td>1770 MHz</td>\n",
       "      <td>G-Sync</td>\n",
       "      <td>$1,249</td>\n",
       "      <td>https://pcbuilder.net/component-details/graphi...</td>\n",
       "      <td>0</td>\n",
       "    </tr>\n",
       "    <tr>\n",
       "      <th>6</th>\n",
       "      <td>GIGABYTE AORUS GeForce RTX 3090 Xtreme WATERFO...</td>\n",
       "      <td>Gigabyte</td>\n",
       "      <td>AORUS RTX 3090 Xtreme Waterforce 24G</td>\n",
       "      <td>24 GB</td>\n",
       "      <td>GDDR6X</td>\n",
       "      <td>252 mm</td>\n",
       "      <td>PCIe x16</td>\n",
       "      <td>GeForce RTX 3090</td>\n",
       "      <td>1395 MHz</td>\n",
       "      <td>1785 MHz</td>\n",
       "      <td>G-Sync</td>\n",
       "      <td>$6,800</td>\n",
       "      <td>https://pcbuilder.net/component-details/graphi...</td>\n",
       "      <td>0</td>\n",
       "    </tr>\n",
       "    <tr>\n",
       "      <th>7</th>\n",
       "      <td>EVGA 24G-P5-3975-KR GeForce RTX 3090 XC3 Ultra...</td>\n",
       "      <td>EVGA</td>\n",
       "      <td>RTX 3090 XC3 Ultra</td>\n",
       "      <td>24 GB</td>\n",
       "      <td>GDDR6X</td>\n",
       "      <td>285 mm</td>\n",
       "      <td>PCIe x16</td>\n",
       "      <td>GeForce RTX 3090</td>\n",
       "      <td>1395 MHz</td>\n",
       "      <td>1725 MHz</td>\n",
       "      <td>G-Sync</td>\n",
       "      <td>$1,299</td>\n",
       "      <td>https://pcbuilder.net/component-details/graphi...</td>\n",
       "      <td>0</td>\n",
       "    </tr>\n",
       "    <tr>\n",
       "      <th>8</th>\n",
       "      <td>Gigabyte GeForce RTX 3090 GAMING OC 24G Graphi...</td>\n",
       "      <td>Gigabyte</td>\n",
       "      <td>RTX 3090 Gaming OC 24G</td>\n",
       "      <td>24 GB</td>\n",
       "      <td>GDDR6X</td>\n",
       "      <td>320 mm</td>\n",
       "      <td>PCIe x16</td>\n",
       "      <td>GeForce RTX 3090</td>\n",
       "      <td>1395 MHz</td>\n",
       "      <td>1755 MHz</td>\n",
       "      <td>G-Sync</td>\n",
       "      <td>$1,299</td>\n",
       "      <td>https://pcbuilder.net/component-details/graphi...</td>\n",
       "      <td>0</td>\n",
       "    </tr>\n",
       "    <tr>\n",
       "      <th>9</th>\n",
       "      <td>MSI Gaming GeForce RTX 3090 24GB GDRR6X 384-Bi...</td>\n",
       "      <td>MSI</td>\n",
       "      <td>RTX 3090 VENTUS 3X 24G OC</td>\n",
       "      <td>24 GB</td>\n",
       "      <td>GDDR6X</td>\n",
       "      <td>305 mm</td>\n",
       "      <td>PCIe x16</td>\n",
       "      <td>GeForce RTX 3090</td>\n",
       "      <td>1395 MHz</td>\n",
       "      <td>1725 MHz</td>\n",
       "      <td>G-Sync</td>\n",
       "      <td>$1,269.90</td>\n",
       "      <td>https://pcbuilder.net/component-details/graphi...</td>\n",
       "      <td>0</td>\n",
       "    </tr>\n",
       "  </tbody>\n",
       "</table>\n",
       "</div>"
      ],
      "text/plain": [
       "                                                name     brand  \\\n",
       "0  MSI Gaming GeForce RTX 3090 24GB GDRR6X 384-Bi...       MSI   \n",
       "1  EVGA GeForce RTX 3090 FTW3 Ultra Gaming, 24GB ...      EVGA   \n",
       "2  ASUS ROG Strix NVIDIA GeForce RTX 3090 White O...      ASUS   \n",
       "3  MSI Gaming GeForce RTX 3090 24GB GDRR6X 384-Bi...       MSI   \n",
       "4  GIGABYTE AORUS GeForce RTX 3090 Xtreme 24G Gra...  Gigabyte   \n",
       "5  ASUS TUF Gaming NVIDIA GeForce RTX 3090 OC Edi...      ASUS   \n",
       "6  GIGABYTE AORUS GeForce RTX 3090 Xtreme WATERFO...  Gigabyte   \n",
       "7  EVGA 24G-P5-3975-KR GeForce RTX 3090 XC3 Ultra...      EVGA   \n",
       "8  Gigabyte GeForce RTX 3090 GAMING OC 24G Graphi...  Gigabyte   \n",
       "9  MSI Gaming GeForce RTX 3090 24GB GDRR6X 384-Bi...       MSI   \n",
       "\n",
       "                                    model   memory memory_interface  \\\n",
       "0             RTX 3090 GAMING X TRIO 24G    24 GB           GDRR6X    \n",
       "1                    RTX 3090 FTW3 Ultra    24 GB           GDDR6X    \n",
       "2          ROG Strix RTX 3090 OC Edition    24 GB           GDDR6X    \n",
       "3                  RTX 3090 SUPRIM X 24G    24 GB           GDDR6X    \n",
       "4              AORUS RTX 3090 Xtreme 24G    24 GB           GDDR6X    \n",
       "5         TUF Gaming RTX 3090 OC Edition    24 GB           GDDR6X    \n",
       "6   AORUS RTX 3090 Xtreme Waterforce 24G    24 GB           GDDR6X    \n",
       "7                     RTX 3090 XC3 Ultra    24 GB           GDDR6X    \n",
       "8                 RTX 3090 Gaming OC 24G    24 GB           GDDR6X    \n",
       "9              RTX 3090 VENTUS 3X 24G OC    24 GB           GDDR6X    \n",
       "\n",
       "       length   interface             chipset  base_clock clock_speed  \\\n",
       "0     335 mm    PCIe x16    GeForce RTX 3090    1395 MHz    1785 MHz    \n",
       "1     300 mm    PCIe x16    GeForce RTX 3090    1395 MHz    1800 MHz    \n",
       "2   318.5 mm    PCIe x16    GeForce RTX 3090    1395 MHz    1890 MHz    \n",
       "3     336 mm    PCIe x16    GeForce RTX 3090    1395 MHz    1875 MHz    \n",
       "4     319 mm    PCIe x16    GeForce RTX 3090    1395 MHz    1860 MHz    \n",
       "5   299.9 mm    PCIe x16    GeForce RTX 3090    1395 MHz    1770 MHz    \n",
       "6     252 mm    PCIe x16    GeForce RTX 3090    1395 MHz    1785 MHz    \n",
       "7     285 mm    PCIe x16    GeForce RTX 3090    1395 MHz    1725 MHz    \n",
       "8     320 mm    PCIe x16    GeForce RTX 3090    1395 MHz    1755 MHz    \n",
       "9     305 mm    PCIe x16    GeForce RTX 3090    1395 MHz    1725 MHz    \n",
       "\n",
       "  frame_sync       price                                           item_url  \\\n",
       "0    G-Sync   $1,289.99   https://pcbuilder.net/component-details/graphi...   \n",
       "1    G-Sync   $1,199.99   https://pcbuilder.net/component-details/graphi...   \n",
       "2    G-Sync   $1,794.99   https://pcbuilder.net/component-details/graphi...   \n",
       "3    G-Sync   $2,017.21   https://pcbuilder.net/component-details/graphi...   \n",
       "4    G-Sync   $3,399.99   https://pcbuilder.net/component-details/graphi...   \n",
       "5    G-Sync      $1,249   https://pcbuilder.net/component-details/graphi...   \n",
       "6    G-Sync      $6,800   https://pcbuilder.net/component-details/graphi...   \n",
       "7    G-Sync      $1,299   https://pcbuilder.net/component-details/graphi...   \n",
       "8    G-Sync      $1,299   https://pcbuilder.net/component-details/graphi...   \n",
       "9    G-Sync   $1,269.90   https://pcbuilder.net/component-details/graphi...   \n",
       "\n",
       "   used  \n",
       "0     0  \n",
       "1     0  \n",
       "2     0  \n",
       "3     0  \n",
       "4     0  \n",
       "5     0  \n",
       "6     0  \n",
       "7     0  \n",
       "8     0  \n",
       "9     0  "
      ]
     },
     "execution_count": 361,
     "metadata": {},
     "output_type": "execute_result"
    }
   ],
   "source": [
    "dfc.head(10)"
   ]
  },
  {
   "cell_type": "markdown",
   "metadata": {},
   "source": [
    "Get the columns"
   ]
  },
  {
   "cell_type": "code",
   "execution_count": 362,
   "metadata": {},
   "outputs": [
    {
     "data": {
      "text/plain": [
       "Index(['name', 'brand', 'model', 'memory', 'memory_interface', 'length',\n",
       "       'interface', 'chipset', 'base_clock', 'clock_speed', 'frame_sync',\n",
       "       'price', 'item_url', 'used'],\n",
       "      dtype='object')"
      ]
     },
     "execution_count": 362,
     "metadata": {},
     "output_type": "execute_result"
    }
   ],
   "source": [
    "dfc.columns"
   ]
  },
  {
   "cell_type": "markdown",
   "metadata": {},
   "source": [
    "Get the dataset information"
   ]
  },
  {
   "cell_type": "code",
   "execution_count": 363,
   "metadata": {},
   "outputs": [
    {
     "name": "stdout",
     "output_type": "stream",
     "text": [
      "<class 'pandas.core.frame.DataFrame'>\n",
      "RangeIndex: 311 entries, 0 to 310\n",
      "Data columns (total 14 columns):\n",
      " #   Column            Non-Null Count  Dtype \n",
      "---  ------            --------------  ----- \n",
      " 0   name              311 non-null    object\n",
      " 1   brand             311 non-null    object\n",
      " 2   model             311 non-null    object\n",
      " 3   memory            311 non-null    object\n",
      " 4   memory_interface  311 non-null    object\n",
      " 5   length            311 non-null    object\n",
      " 6   interface         311 non-null    object\n",
      " 7   chipset           311 non-null    object\n",
      " 8   base_clock        311 non-null    object\n",
      " 9   clock_speed       311 non-null    object\n",
      " 10  frame_sync        311 non-null    object\n",
      " 11  price             311 non-null    object\n",
      " 12  item_url          311 non-null    object\n",
      " 13  used              311 non-null    int64 \n",
      "dtypes: int64(1), object(13)\n",
      "memory usage: 34.1+ KB\n"
     ]
    }
   ],
   "source": [
    "dfc.info()"
   ]
  },
  {
   "cell_type": "code",
   "execution_count": 364,
   "metadata": {},
   "outputs": [],
   "source": [
    "#replace the values with \"\" and \"N\\A\" with NaN disregarding the spaces\n",
    "dfc.replace(\" \", np.nan, inplace=True)\n",
    "dfc.replace(\"N/A \", np.nan, inplace=True)\n",
    "dfc.replace(\" N/A \", np.nan, inplace=True)\n",
    "dfc.replace(\"N/A\", np.nan, inplace=True)"
   ]
  },
  {
   "cell_type": "markdown",
   "metadata": {},
   "source": [
    "Check for the missing values"
   ]
  },
  {
   "cell_type": "code",
   "execution_count": 365,
   "metadata": {},
   "outputs": [
    {
     "data": {
      "text/plain": [
       "name                 0\n",
       "brand                0\n",
       "model                0\n",
       "memory               0\n",
       "memory_interface     0\n",
       "length               7\n",
       "interface            0\n",
       "chipset              0\n",
       "base_clock           0\n",
       "clock_speed          0\n",
       "frame_sync           2\n",
       "price               42\n",
       "item_url             0\n",
       "used                 0\n",
       "dtype: int64"
      ]
     },
     "execution_count": 365,
     "metadata": {},
     "output_type": "execute_result"
    }
   ],
   "source": [
    "dfc.isna().sum()"
   ]
  },
  {
   "cell_type": "markdown",
   "metadata": {},
   "source": [
    "Check all the columns that was greater than 10% of its data are missing"
   ]
  },
  {
   "cell_type": "code",
   "execution_count": 366,
   "metadata": {},
   "outputs": [
    {
     "data": {
      "text/plain": [
       "Index(['price'], dtype='object')"
      ]
     },
     "execution_count": 366,
     "metadata": {},
     "output_type": "execute_result"
    }
   ],
   "source": [
    "(nulled_10 := \n",
    " dfc.loc[\n",
    "     :, \n",
    "     dfc.drop(\n",
    "        dfc.dropna(\n",
    "            axis=1, \n",
    "            thresh=df.shape[0] * (1 - 0.10), \n",
    "            inplace=False), \n",
    "        axis=1)\n",
    "        .columns].columns)"
   ]
  },
  {
   "cell_type": "markdown",
   "metadata": {},
   "source": [
    "Remove all the nulled row and nulled greater than 10% columns"
   ]
  },
  {
   "cell_type": "code",
   "execution_count": 367,
   "metadata": {},
   "outputs": [
    {
     "data": {
      "text/plain": [
       "name                0\n",
       "brand               0\n",
       "model               0\n",
       "memory              0\n",
       "memory_interface    0\n",
       "length              4\n",
       "interface           0\n",
       "chipset             0\n",
       "base_clock          0\n",
       "clock_speed         0\n",
       "frame_sync          1\n",
       "price               0\n",
       "item_url            0\n",
       "used                0\n",
       "dtype: int64"
      ]
     },
     "execution_count": 367,
     "metadata": {},
     "output_type": "execute_result"
    }
   ],
   "source": [
    "for nulled in nulled_10:\n",
    "    #remove the row if the value is null\n",
    "    dfc.dropna(axis=0, subset=[nulled], inplace=True)\n",
    "\n",
    "dfc.isna().sum()"
   ]
  },
  {
   "cell_type": "markdown",
   "metadata": {},
   "source": [
    "Convert the numerical values with unit into int"
   ]
  },
  {
   "cell_type": "markdown",
   "metadata": {},
   "source": [
    "A. Memory"
   ]
  },
  {
   "cell_type": "code",
   "execution_count": 368,
   "metadata": {},
   "outputs": [
    {
     "data": {
      "text/plain": [
       "0      24.0\n",
       "1      24.0\n",
       "2      24.0\n",
       "3      24.0\n",
       "4      24.0\n",
       "       ... \n",
       "304     1.0\n",
       "305     0.5\n",
       "306     2.0\n",
       "307     1.0\n",
       "310     4.0\n",
       "Name: memory, Length: 269, dtype: float64"
      ]
     },
     "execution_count": 368,
     "metadata": {},
     "output_type": "execute_result"
    }
   ],
   "source": [
    "#convert the memory column to numeric\n",
    "dfc['memory'] = dfc['memory'].str.replace('GB', '').astype('float')\n",
    "dfc['memory']"
   ]
  },
  {
   "cell_type": "markdown",
   "metadata": {},
   "source": [
    "B. Length"
   ]
  },
  {
   "cell_type": "code",
   "execution_count": 369,
   "metadata": {},
   "outputs": [
    {
     "data": {
      "text/plain": [
       "0      335.0\n",
       "1      300.0\n",
       "2      318.5\n",
       "3      336.0\n",
       "4      319.0\n",
       "       ...  \n",
       "304    304.8\n",
       "305      NaN\n",
       "306      NaN\n",
       "307    152.0\n",
       "310    229.0\n",
       "Name: length, Length: 269, dtype: float64"
      ]
     },
     "execution_count": 369,
     "metadata": {},
     "output_type": "execute_result"
    }
   ],
   "source": [
    "#convert the length column to numeric\n",
    "dfc['length'] = dfc['length'].str.replace('W', '').str.replace('mm', '').astype('float')\n",
    "dfc['length']"
   ]
  },
  {
   "cell_type": "markdown",
   "metadata": {},
   "source": [
    "C. BaseClock"
   ]
  },
  {
   "cell_type": "code",
   "execution_count": 370,
   "metadata": {},
   "outputs": [
    {
     "data": {
      "text/plain": [
       "0      1395.0\n",
       "1      1395.0\n",
       "2      1395.0\n",
       "3      1395.0\n",
       "4      1395.0\n",
       "        ...  \n",
       "304     650.0\n",
       "305     650.0\n",
       "306     650.0\n",
       "307     650.0\n",
       "310    1665.0\n",
       "Name: base_clock, Length: 269, dtype: float64"
      ]
     },
     "execution_count": 370,
     "metadata": {},
     "output_type": "execute_result"
    }
   ],
   "source": [
    "#convert the base_clock column to numeric\n",
    "dfc['base_clock'] = dfc['base_clock'].str.replace('MHz ', '').astype('float')\n",
    "dfc['base_clock']"
   ]
  },
  {
   "cell_type": "markdown",
   "metadata": {},
   "source": [
    "D. ClockSpeed"
   ]
  },
  {
   "cell_type": "code",
   "execution_count": 371,
   "metadata": {},
   "outputs": [
    {
     "data": {
      "text/plain": [
       "0      1785.0\n",
       "1      1800.0\n",
       "2      1890.0\n",
       "3      1875.0\n",
       "4      1860.0\n",
       "        ...  \n",
       "304    1000.0\n",
       "305    1000.0\n",
       "306    1000.0\n",
       "307    1000.0\n",
       "310    1785.0\n",
       "Name: clock_speed, Length: 269, dtype: float64"
      ]
     },
     "execution_count": 371,
     "metadata": {},
     "output_type": "execute_result"
    }
   ],
   "source": [
    "#convert the clock_speed column to numeric\n",
    "dfc['clock_speed'] = dfc['clock_speed'].str.replace('MHz ', '').astype('float')\n",
    "dfc['clock_speed']"
   ]
  },
  {
   "cell_type": "markdown",
   "metadata": {},
   "source": [
    "E. Price"
   ]
  },
  {
   "cell_type": "code",
   "execution_count": 372,
   "metadata": {},
   "outputs": [
    {
     "data": {
      "text/plain": [
       "0      1289.99\n",
       "1      1199.99\n",
       "2      1794.99\n",
       "3      2017.21\n",
       "4      3399.99\n",
       "        ...   \n",
       "304      99.99\n",
       "305      64.95\n",
       "306      64.99\n",
       "307      54.99\n",
       "310     399.00\n",
       "Name: price, Length: 269, dtype: float64"
      ]
     },
     "execution_count": 372,
     "metadata": {},
     "output_type": "execute_result"
    }
   ],
   "source": [
    "#convert the price column to numeric\n",
    "dfc['price'] = dfc['price'].str.replace('$', '').str.replace(',', '').astype('float')\n",
    "dfc['price']"
   ]
  },
  {
   "cell_type": "markdown",
   "metadata": {},
   "source": [
    "F. Used"
   ]
  },
  {
   "cell_type": "code",
   "execution_count": 373,
   "metadata": {},
   "outputs": [
    {
     "data": {
      "text/plain": [
       "0      0\n",
       "1      0\n",
       "2      0\n",
       "3      0\n",
       "4      0\n",
       "      ..\n",
       "304    1\n",
       "305    0\n",
       "306    0\n",
       "307    0\n",
       "310    0\n",
       "Name: used, Length: 269, dtype: int32"
      ]
     },
     "execution_count": 373,
     "metadata": {},
     "output_type": "execute_result"
    }
   ],
   "source": [
    "dfc['used'] = dfc['used'].astype('int')\n",
    "dfc['used']"
   ]
  },
  {
   "cell_type": "markdown",
   "metadata": {},
   "source": [
    "Fill the missing data"
   ]
  },
  {
   "cell_type": "code",
   "execution_count": 374,
   "metadata": {},
   "outputs": [
    {
     "name": "stdout",
     "output_type": "stream",
     "text": [
      "269\n"
     ]
    },
    {
     "data": {
      "text/plain": [
       "name                0\n",
       "brand               0\n",
       "model               0\n",
       "memory              0\n",
       "memory_interface    0\n",
       "length              0\n",
       "interface           0\n",
       "chipset             0\n",
       "base_clock          0\n",
       "clock_speed         0\n",
       "frame_sync          0\n",
       "price               0\n",
       "item_url            0\n",
       "used                0\n",
       "dtype: int64"
      ]
     },
     "execution_count": 374,
     "metadata": {},
     "output_type": "execute_result"
    }
   ],
   "source": [
    "# fill the null values with the most frequent value\n",
    "dfc['length'].fillna(dfc['length'].mode()[0], inplace=True)\n",
    "dfc['frame_sync'].fillna(dfc['frame_sync'].mode()[0], inplace=True)\n",
    "\n",
    "print(dfc.shape[0])\n",
    "dfc.isna().sum()"
   ]
  },
  {
   "cell_type": "code",
   "execution_count": 375,
   "metadata": {},
   "outputs": [
    {
     "name": "stdout",
     "output_type": "stream",
     "text": [
      "<class 'pandas.core.frame.DataFrame'>\n",
      "Index: 269 entries, 0 to 310\n",
      "Data columns (total 14 columns):\n",
      " #   Column            Non-Null Count  Dtype  \n",
      "---  ------            --------------  -----  \n",
      " 0   name              269 non-null    object \n",
      " 1   brand             269 non-null    object \n",
      " 2   model             269 non-null    object \n",
      " 3   memory            269 non-null    float64\n",
      " 4   memory_interface  269 non-null    object \n",
      " 5   length            269 non-null    float64\n",
      " 6   interface         269 non-null    object \n",
      " 7   chipset           269 non-null    object \n",
      " 8   base_clock        269 non-null    float64\n",
      " 9   clock_speed       269 non-null    float64\n",
      " 10  frame_sync        269 non-null    object \n",
      " 11  price             269 non-null    float64\n",
      " 12  item_url          269 non-null    object \n",
      " 13  used              269 non-null    int32  \n",
      "dtypes: float64(5), int32(1), object(8)\n",
      "memory usage: 30.5+ KB\n"
     ]
    }
   ],
   "source": [
    "dfc.info()"
   ]
  },
  {
   "cell_type": "code",
   "execution_count": 376,
   "metadata": {},
   "outputs": [
    {
     "data": {
      "text/html": [
       "<div>\n",
       "<style scoped>\n",
       "    .dataframe tbody tr th:only-of-type {\n",
       "        vertical-align: middle;\n",
       "    }\n",
       "\n",
       "    .dataframe tbody tr th {\n",
       "        vertical-align: top;\n",
       "    }\n",
       "\n",
       "    .dataframe thead th {\n",
       "        text-align: right;\n",
       "    }\n",
       "</style>\n",
       "<table border=\"1\" class=\"dataframe\">\n",
       "  <thead>\n",
       "    <tr style=\"text-align: right;\">\n",
       "      <th></th>\n",
       "      <th>name</th>\n",
       "      <th>brand</th>\n",
       "      <th>model</th>\n",
       "      <th>memory</th>\n",
       "      <th>memory_interface</th>\n",
       "      <th>length</th>\n",
       "      <th>interface</th>\n",
       "      <th>chipset</th>\n",
       "      <th>base_clock</th>\n",
       "      <th>clock_speed</th>\n",
       "      <th>frame_sync</th>\n",
       "      <th>price</th>\n",
       "      <th>item_url</th>\n",
       "      <th>used</th>\n",
       "    </tr>\n",
       "  </thead>\n",
       "  <tbody>\n",
       "    <tr>\n",
       "      <th>count</th>\n",
       "      <td>269</td>\n",
       "      <td>269</td>\n",
       "      <td>269</td>\n",
       "      <td>269.000000</td>\n",
       "      <td>269</td>\n",
       "      <td>269.000000</td>\n",
       "      <td>269</td>\n",
       "      <td>269</td>\n",
       "      <td>269.000000</td>\n",
       "      <td>269.000000</td>\n",
       "      <td>269</td>\n",
       "      <td>269.000000</td>\n",
       "      <td>269</td>\n",
       "      <td>269.0000</td>\n",
       "    </tr>\n",
       "    <tr>\n",
       "      <th>unique</th>\n",
       "      <td>264</td>\n",
       "      <td>20</td>\n",
       "      <td>215</td>\n",
       "      <td>NaN</td>\n",
       "      <td>8</td>\n",
       "      <td>NaN</td>\n",
       "      <td>10</td>\n",
       "      <td>53</td>\n",
       "      <td>NaN</td>\n",
       "      <td>NaN</td>\n",
       "      <td>3</td>\n",
       "      <td>NaN</td>\n",
       "      <td>269</td>\n",
       "      <td>NaN</td>\n",
       "    </tr>\n",
       "    <tr>\n",
       "      <th>top</th>\n",
       "      <td>MSI Gaming GeForce GTX 1660 Ti 192-bit HDMI/DP...</td>\n",
       "      <td>MSI</td>\n",
       "      <td>GeForce RTX 2070 SUPER</td>\n",
       "      <td>NaN</td>\n",
       "      <td>GDDR6</td>\n",
       "      <td>NaN</td>\n",
       "      <td>PCIe x16</td>\n",
       "      <td>Radeon RX 580</td>\n",
       "      <td>NaN</td>\n",
       "      <td>NaN</td>\n",
       "      <td>G-Sync</td>\n",
       "      <td>NaN</td>\n",
       "      <td>https://pcbuilder.net/component-details/graphi...</td>\n",
       "      <td>NaN</td>\n",
       "    </tr>\n",
       "    <tr>\n",
       "      <th>freq</th>\n",
       "      <td>3</td>\n",
       "      <td>60</td>\n",
       "      <td>8</td>\n",
       "      <td>NaN</td>\n",
       "      <td>163</td>\n",
       "      <td>NaN</td>\n",
       "      <td>235</td>\n",
       "      <td>15</td>\n",
       "      <td>NaN</td>\n",
       "      <td>NaN</td>\n",
       "      <td>166</td>\n",
       "      <td>NaN</td>\n",
       "      <td>1</td>\n",
       "      <td>NaN</td>\n",
       "    </tr>\n",
       "    <tr>\n",
       "      <th>mean</th>\n",
       "      <td>NaN</td>\n",
       "      <td>NaN</td>\n",
       "      <td>NaN</td>\n",
       "      <td>8.972119</td>\n",
       "      <td>NaN</td>\n",
       "      <td>261.216680</td>\n",
       "      <td>NaN</td>\n",
       "      <td>NaN</td>\n",
       "      <td>1511.895911</td>\n",
       "      <td>1785.390335</td>\n",
       "      <td>NaN</td>\n",
       "      <td>769.238178</td>\n",
       "      <td>NaN</td>\n",
       "      <td>0.3829</td>\n",
       "    </tr>\n",
       "    <tr>\n",
       "      <th>std</th>\n",
       "      <td>NaN</td>\n",
       "      <td>NaN</td>\n",
       "      <td>NaN</td>\n",
       "      <td>5.369566</td>\n",
       "      <td>NaN</td>\n",
       "      <td>46.699757</td>\n",
       "      <td>NaN</td>\n",
       "      <td>NaN</td>\n",
       "      <td>303.278842</td>\n",
       "      <td>333.947344</td>\n",
       "      <td>NaN</td>\n",
       "      <td>792.022711</td>\n",
       "      <td>NaN</td>\n",
       "      <td>0.4870</td>\n",
       "    </tr>\n",
       "    <tr>\n",
       "      <th>min</th>\n",
       "      <td>NaN</td>\n",
       "      <td>NaN</td>\n",
       "      <td>NaN</td>\n",
       "      <td>0.500000</td>\n",
       "      <td>NaN</td>\n",
       "      <td>145.000000</td>\n",
       "      <td>NaN</td>\n",
       "      <td>NaN</td>\n",
       "      <td>168.000000</td>\n",
       "      <td>797.000000</td>\n",
       "      <td>NaN</td>\n",
       "      <td>51.210000</td>\n",
       "      <td>NaN</td>\n",
       "      <td>0.0000</td>\n",
       "    </tr>\n",
       "    <tr>\n",
       "      <th>25%</th>\n",
       "      <td>NaN</td>\n",
       "      <td>NaN</td>\n",
       "      <td>NaN</td>\n",
       "      <td>6.000000</td>\n",
       "      <td>NaN</td>\n",
       "      <td>230.000000</td>\n",
       "      <td>NaN</td>\n",
       "      <td>NaN</td>\n",
       "      <td>1365.000000</td>\n",
       "      <td>1680.000000</td>\n",
       "      <td>NaN</td>\n",
       "      <td>335.670000</td>\n",
       "      <td>NaN</td>\n",
       "      <td>0.0000</td>\n",
       "    </tr>\n",
       "    <tr>\n",
       "      <th>50%</th>\n",
       "      <td>NaN</td>\n",
       "      <td>NaN</td>\n",
       "      <td>NaN</td>\n",
       "      <td>8.000000</td>\n",
       "      <td>NaN</td>\n",
       "      <td>269.830000</td>\n",
       "      <td>NaN</td>\n",
       "      <td>NaN</td>\n",
       "      <td>1506.000000</td>\n",
       "      <td>1785.000000</td>\n",
       "      <td>NaN</td>\n",
       "      <td>515.000000</td>\n",
       "      <td>NaN</td>\n",
       "      <td>0.0000</td>\n",
       "    </tr>\n",
       "    <tr>\n",
       "      <th>75%</th>\n",
       "      <td>NaN</td>\n",
       "      <td>NaN</td>\n",
       "      <td>NaN</td>\n",
       "      <td>11.000000</td>\n",
       "      <td>NaN</td>\n",
       "      <td>300.000000</td>\n",
       "      <td>NaN</td>\n",
       "      <td>NaN</td>\n",
       "      <td>1607.000000</td>\n",
       "      <td>1860.000000</td>\n",
       "      <td>NaN</td>\n",
       "      <td>899.950000</td>\n",
       "      <td>NaN</td>\n",
       "      <td>1.0000</td>\n",
       "    </tr>\n",
       "    <tr>\n",
       "      <th>max</th>\n",
       "      <td>NaN</td>\n",
       "      <td>NaN</td>\n",
       "      <td>NaN</td>\n",
       "      <td>48.000000</td>\n",
       "      <td>NaN</td>\n",
       "      <td>340.000000</td>\n",
       "      <td>NaN</td>\n",
       "      <td>NaN</td>\n",
       "      <td>2457.000000</td>\n",
       "      <td>2622.000000</td>\n",
       "      <td>NaN</td>\n",
       "      <td>6800.000000</td>\n",
       "      <td>NaN</td>\n",
       "      <td>1.0000</td>\n",
       "    </tr>\n",
       "  </tbody>\n",
       "</table>\n",
       "</div>"
      ],
      "text/plain": [
       "                                                     name brand  \\\n",
       "count                                                 269   269   \n",
       "unique                                                264    20   \n",
       "top     MSI Gaming GeForce GTX 1660 Ti 192-bit HDMI/DP...   MSI   \n",
       "freq                                                    3    60   \n",
       "mean                                                  NaN   NaN   \n",
       "std                                                   NaN   NaN   \n",
       "min                                                   NaN   NaN   \n",
       "25%                                                   NaN   NaN   \n",
       "50%                                                   NaN   NaN   \n",
       "75%                                                   NaN   NaN   \n",
       "max                                                   NaN   NaN   \n",
       "\n",
       "                           model      memory memory_interface      length  \\\n",
       "count                        269  269.000000              269  269.000000   \n",
       "unique                       215         NaN                8         NaN   \n",
       "top      GeForce RTX 2070 SUPER          NaN           GDDR6          NaN   \n",
       "freq                           8         NaN              163         NaN   \n",
       "mean                         NaN    8.972119              NaN  261.216680   \n",
       "std                          NaN    5.369566              NaN   46.699757   \n",
       "min                          NaN    0.500000              NaN  145.000000   \n",
       "25%                          NaN    6.000000              NaN  230.000000   \n",
       "50%                          NaN    8.000000              NaN  269.830000   \n",
       "75%                          NaN   11.000000              NaN  300.000000   \n",
       "max                          NaN   48.000000              NaN  340.000000   \n",
       "\n",
       "         interface          chipset   base_clock  clock_speed frame_sync  \\\n",
       "count          269              269   269.000000   269.000000        269   \n",
       "unique          10               53          NaN          NaN          3   \n",
       "top      PCIe x16    Radeon RX 580           NaN          NaN    G-Sync    \n",
       "freq           235               15          NaN          NaN        166   \n",
       "mean           NaN              NaN  1511.895911  1785.390335        NaN   \n",
       "std            NaN              NaN   303.278842   333.947344        NaN   \n",
       "min            NaN              NaN   168.000000   797.000000        NaN   \n",
       "25%            NaN              NaN  1365.000000  1680.000000        NaN   \n",
       "50%            NaN              NaN  1506.000000  1785.000000        NaN   \n",
       "75%            NaN              NaN  1607.000000  1860.000000        NaN   \n",
       "max            NaN              NaN  2457.000000  2622.000000        NaN   \n",
       "\n",
       "              price                                           item_url  \\\n",
       "count    269.000000                                                269   \n",
       "unique          NaN                                                269   \n",
       "top             NaN  https://pcbuilder.net/component-details/graphi...   \n",
       "freq            NaN                                                  1   \n",
       "mean     769.238178                                                NaN   \n",
       "std      792.022711                                                NaN   \n",
       "min       51.210000                                                NaN   \n",
       "25%      335.670000                                                NaN   \n",
       "50%      515.000000                                                NaN   \n",
       "75%      899.950000                                                NaN   \n",
       "max     6800.000000                                                NaN   \n",
       "\n",
       "            used  \n",
       "count   269.0000  \n",
       "unique       NaN  \n",
       "top          NaN  \n",
       "freq         NaN  \n",
       "mean      0.3829  \n",
       "std       0.4870  \n",
       "min       0.0000  \n",
       "25%       0.0000  \n",
       "50%       0.0000  \n",
       "75%       1.0000  \n",
       "max       1.0000  "
      ]
     },
     "execution_count": 376,
     "metadata": {},
     "output_type": "execute_result"
    }
   ],
   "source": [
    "dfc.describe(include='all')"
   ]
  },
  {
   "cell_type": "markdown",
   "metadata": {},
   "source": [
    "Normalize Data"
   ]
  },
  {
   "cell_type": "code",
   "execution_count": 377,
   "metadata": {},
   "outputs": [
    {
     "data": {
      "text/html": [
       "<div>\n",
       "<style scoped>\n",
       "    .dataframe tbody tr th:only-of-type {\n",
       "        vertical-align: middle;\n",
       "    }\n",
       "\n",
       "    .dataframe tbody tr th {\n",
       "        vertical-align: top;\n",
       "    }\n",
       "\n",
       "    .dataframe thead th {\n",
       "        text-align: right;\n",
       "    }\n",
       "</style>\n",
       "<table border=\"1\" class=\"dataframe\">\n",
       "  <thead>\n",
       "    <tr style=\"text-align: right;\">\n",
       "      <th></th>\n",
       "      <th>name</th>\n",
       "      <th>brand</th>\n",
       "      <th>model</th>\n",
       "      <th>memory</th>\n",
       "      <th>memory_interface</th>\n",
       "      <th>length</th>\n",
       "      <th>interface</th>\n",
       "      <th>chipset</th>\n",
       "      <th>base_clock</th>\n",
       "      <th>clock_speed</th>\n",
       "      <th>frame_sync</th>\n",
       "      <th>price</th>\n",
       "      <th>item_url</th>\n",
       "      <th>used</th>\n",
       "    </tr>\n",
       "  </thead>\n",
       "  <tbody>\n",
       "    <tr>\n",
       "      <th>0</th>\n",
       "      <td>MSI Gaming GeForce RTX 3090 24GB GDRR6X 384-Bi...</td>\n",
       "      <td>MSI</td>\n",
       "      <td>RTX 3090 GAMING X TRIO 24G</td>\n",
       "      <td>0.494737</td>\n",
       "      <td>GDRR6X</td>\n",
       "      <td>0.974359</td>\n",
       "      <td>PCIe x16</td>\n",
       "      <td>GeForce RTX 3090</td>\n",
       "      <td>0.536042</td>\n",
       "      <td>0.541370</td>\n",
       "      <td>G-Sync</td>\n",
       "      <td>1289.99</td>\n",
       "      <td>https://pcbuilder.net/component-details/graphi...</td>\n",
       "      <td>0</td>\n",
       "    </tr>\n",
       "    <tr>\n",
       "      <th>1</th>\n",
       "      <td>EVGA GeForce RTX 3090 FTW3 Ultra Gaming, 24GB ...</td>\n",
       "      <td>EVGA</td>\n",
       "      <td>RTX 3090 FTW3 Ultra</td>\n",
       "      <td>0.494737</td>\n",
       "      <td>GDDR6X</td>\n",
       "      <td>0.794872</td>\n",
       "      <td>PCIe x16</td>\n",
       "      <td>GeForce RTX 3090</td>\n",
       "      <td>0.536042</td>\n",
       "      <td>0.549589</td>\n",
       "      <td>G-Sync</td>\n",
       "      <td>1199.99</td>\n",
       "      <td>https://pcbuilder.net/component-details/graphi...</td>\n",
       "      <td>0</td>\n",
       "    </tr>\n",
       "    <tr>\n",
       "      <th>2</th>\n",
       "      <td>ASUS ROG Strix NVIDIA GeForce RTX 3090 White O...</td>\n",
       "      <td>ASUS</td>\n",
       "      <td>ROG Strix RTX 3090 OC Edition</td>\n",
       "      <td>0.494737</td>\n",
       "      <td>GDDR6X</td>\n",
       "      <td>0.889744</td>\n",
       "      <td>PCIe x16</td>\n",
       "      <td>GeForce RTX 3090</td>\n",
       "      <td>0.536042</td>\n",
       "      <td>0.598904</td>\n",
       "      <td>G-Sync</td>\n",
       "      <td>1794.99</td>\n",
       "      <td>https://pcbuilder.net/component-details/graphi...</td>\n",
       "      <td>0</td>\n",
       "    </tr>\n",
       "    <tr>\n",
       "      <th>3</th>\n",
       "      <td>MSI Gaming GeForce RTX 3090 24GB GDRR6X 384-Bi...</td>\n",
       "      <td>MSI</td>\n",
       "      <td>RTX 3090 SUPRIM X 24G</td>\n",
       "      <td>0.494737</td>\n",
       "      <td>GDDR6X</td>\n",
       "      <td>0.979487</td>\n",
       "      <td>PCIe x16</td>\n",
       "      <td>GeForce RTX 3090</td>\n",
       "      <td>0.536042</td>\n",
       "      <td>0.590685</td>\n",
       "      <td>G-Sync</td>\n",
       "      <td>2017.21</td>\n",
       "      <td>https://pcbuilder.net/component-details/graphi...</td>\n",
       "      <td>0</td>\n",
       "    </tr>\n",
       "    <tr>\n",
       "      <th>4</th>\n",
       "      <td>GIGABYTE AORUS GeForce RTX 3090 Xtreme 24G Gra...</td>\n",
       "      <td>Gigabyte</td>\n",
       "      <td>AORUS RTX 3090 Xtreme 24G</td>\n",
       "      <td>0.494737</td>\n",
       "      <td>GDDR6X</td>\n",
       "      <td>0.892308</td>\n",
       "      <td>PCIe x16</td>\n",
       "      <td>GeForce RTX 3090</td>\n",
       "      <td>0.536042</td>\n",
       "      <td>0.582466</td>\n",
       "      <td>G-Sync</td>\n",
       "      <td>3399.99</td>\n",
       "      <td>https://pcbuilder.net/component-details/graphi...</td>\n",
       "      <td>0</td>\n",
       "    </tr>\n",
       "    <tr>\n",
       "      <th>...</th>\n",
       "      <td>...</td>\n",
       "      <td>...</td>\n",
       "      <td>...</td>\n",
       "      <td>...</td>\n",
       "      <td>...</td>\n",
       "      <td>...</td>\n",
       "      <td>...</td>\n",
       "      <td>...</td>\n",
       "      <td>...</td>\n",
       "      <td>...</td>\n",
       "      <td>...</td>\n",
       "      <td>...</td>\n",
       "      <td>...</td>\n",
       "      <td>...</td>\n",
       "    </tr>\n",
       "    <tr>\n",
       "      <th>304</th>\n",
       "      <td>HIS ATI Radeon HD5450 Silence 1 GB DDR3 VGA/ D...</td>\n",
       "      <td>HIS</td>\n",
       "      <td>HD5450</td>\n",
       "      <td>0.010526</td>\n",
       "      <td>DDR3</td>\n",
       "      <td>0.819487</td>\n",
       "      <td>PCIe x1</td>\n",
       "      <td>Radeon HD 5450</td>\n",
       "      <td>0.210572</td>\n",
       "      <td>0.111233</td>\n",
       "      <td>None</td>\n",
       "      <td>99.99</td>\n",
       "      <td>https://pcbuilder.net/component-details/graphi...</td>\n",
       "      <td>1</td>\n",
       "    </tr>\n",
       "    <tr>\n",
       "      <th>305</th>\n",
       "      <td>PowerColor ATI Radeon HD5450 512 MB DDR3 VGA/D...</td>\n",
       "      <td>PowerColor</td>\n",
       "      <td>ATI Radeon HD5450</td>\n",
       "      <td>0.000000</td>\n",
       "      <td>DDR3</td>\n",
       "      <td>0.641026</td>\n",
       "      <td>PCIe x16</td>\n",
       "      <td>Radeon HD 5450</td>\n",
       "      <td>0.210572</td>\n",
       "      <td>0.111233</td>\n",
       "      <td>None</td>\n",
       "      <td>64.95</td>\n",
       "      <td>https://pcbuilder.net/component-details/graphi...</td>\n",
       "      <td>0</td>\n",
       "    </tr>\n",
       "    <tr>\n",
       "      <th>306</th>\n",
       "      <td>VisionTek Radeon 5450 2GB DDR3 (DVI-I, HDMI, V...</td>\n",
       "      <td>VisionTek</td>\n",
       "      <td>Radeon 5450</td>\n",
       "      <td>0.031579</td>\n",
       "      <td>DDR3</td>\n",
       "      <td>0.641026</td>\n",
       "      <td>PCIe x16</td>\n",
       "      <td>Radeon HD 5450</td>\n",
       "      <td>0.210572</td>\n",
       "      <td>0.111233</td>\n",
       "      <td>None</td>\n",
       "      <td>64.99</td>\n",
       "      <td>https://pcbuilder.net/component-details/graphi...</td>\n",
       "      <td>0</td>\n",
       "    </tr>\n",
       "    <tr>\n",
       "      <th>307</th>\n",
       "      <td>Diamond Multimedia AMD Radeon HD 5450 PCI Expr...</td>\n",
       "      <td>DiamondMultimedia</td>\n",
       "      <td>5450PE31G</td>\n",
       "      <td>0.010526</td>\n",
       "      <td>DDR3</td>\n",
       "      <td>0.035897</td>\n",
       "      <td>PCIe x16</td>\n",
       "      <td>Radeon HD 5450</td>\n",
       "      <td>0.210572</td>\n",
       "      <td>0.111233</td>\n",
       "      <td>None</td>\n",
       "      <td>54.99</td>\n",
       "      <td>https://pcbuilder.net/component-details/graphi...</td>\n",
       "      <td>0</td>\n",
       "    </tr>\n",
       "    <tr>\n",
       "      <th>310</th>\n",
       "      <td>GIGABYTE GeForce GTX 1650 Windforce OC 4G Grap...</td>\n",
       "      <td>Gigabyte</td>\n",
       "      <td>GeForce GTX 1650 Windforce OC</td>\n",
       "      <td>0.073684</td>\n",
       "      <td>GDDR5</td>\n",
       "      <td>0.430769</td>\n",
       "      <td>PCIe x16</td>\n",
       "      <td>GeForce GTX 1650 G5</td>\n",
       "      <td>0.653997</td>\n",
       "      <td>0.541370</td>\n",
       "      <td>G-Sync</td>\n",
       "      <td>399.00</td>\n",
       "      <td>https://pcbuilder.net/component-details/graphi...</td>\n",
       "      <td>0</td>\n",
       "    </tr>\n",
       "  </tbody>\n",
       "</table>\n",
       "<p>269 rows × 14 columns</p>\n",
       "</div>"
      ],
      "text/plain": [
       "                                                  name              brand  \\\n",
       "0    MSI Gaming GeForce RTX 3090 24GB GDRR6X 384-Bi...                MSI   \n",
       "1    EVGA GeForce RTX 3090 FTW3 Ultra Gaming, 24GB ...               EVGA   \n",
       "2    ASUS ROG Strix NVIDIA GeForce RTX 3090 White O...               ASUS   \n",
       "3    MSI Gaming GeForce RTX 3090 24GB GDRR6X 384-Bi...                MSI   \n",
       "4    GIGABYTE AORUS GeForce RTX 3090 Xtreme 24G Gra...           Gigabyte   \n",
       "..                                                 ...                ...   \n",
       "304  HIS ATI Radeon HD5450 Silence 1 GB DDR3 VGA/ D...                HIS   \n",
       "305  PowerColor ATI Radeon HD5450 512 MB DDR3 VGA/D...         PowerColor   \n",
       "306  VisionTek Radeon 5450 2GB DDR3 (DVI-I, HDMI, V...          VisionTek   \n",
       "307  Diamond Multimedia AMD Radeon HD 5450 PCI Expr...  DiamondMultimedia   \n",
       "310  GIGABYTE GeForce GTX 1650 Windforce OC 4G Grap...           Gigabyte   \n",
       "\n",
       "                               model    memory memory_interface    length  \\\n",
       "0        RTX 3090 GAMING X TRIO 24G   0.494737          GDRR6X   0.974359   \n",
       "1               RTX 3090 FTW3 Ultra   0.494737          GDDR6X   0.794872   \n",
       "2     ROG Strix RTX 3090 OC Edition   0.494737          GDDR6X   0.889744   \n",
       "3             RTX 3090 SUPRIM X 24G   0.494737          GDDR6X   0.979487   \n",
       "4         AORUS RTX 3090 Xtreme 24G   0.494737          GDDR6X   0.892308   \n",
       "..                               ...       ...              ...       ...   \n",
       "304                          HD5450   0.010526            DDR3   0.819487   \n",
       "305               ATI Radeon HD5450   0.000000            DDR3   0.641026   \n",
       "306                     Radeon 5450   0.031579            DDR3   0.641026   \n",
       "307                       5450PE31G   0.010526            DDR3   0.035897   \n",
       "310   GeForce GTX 1650 Windforce OC   0.073684           GDDR5   0.430769   \n",
       "\n",
       "      interface                chipset  base_clock  clock_speed frame_sync  \\\n",
       "0     PCIe x16       GeForce RTX 3090     0.536042     0.541370    G-Sync    \n",
       "1     PCIe x16       GeForce RTX 3090     0.536042     0.549589    G-Sync    \n",
       "2     PCIe x16       GeForce RTX 3090     0.536042     0.598904    G-Sync    \n",
       "3     PCIe x16       GeForce RTX 3090     0.536042     0.590685    G-Sync    \n",
       "4     PCIe x16       GeForce RTX 3090     0.536042     0.582466    G-Sync    \n",
       "..          ...                    ...         ...          ...        ...   \n",
       "304    PCIe x1         Radeon HD 5450     0.210572     0.111233      None    \n",
       "305   PCIe x16         Radeon HD 5450     0.210572     0.111233      None    \n",
       "306   PCIe x16         Radeon HD 5450     0.210572     0.111233      None    \n",
       "307   PCIe x16         Radeon HD 5450     0.210572     0.111233      None    \n",
       "310   PCIe x16    GeForce GTX 1650 G5     0.653997     0.541370    G-Sync    \n",
       "\n",
       "       price                                           item_url  used  \n",
       "0    1289.99  https://pcbuilder.net/component-details/graphi...     0  \n",
       "1    1199.99  https://pcbuilder.net/component-details/graphi...     0  \n",
       "2    1794.99  https://pcbuilder.net/component-details/graphi...     0  \n",
       "3    2017.21  https://pcbuilder.net/component-details/graphi...     0  \n",
       "4    3399.99  https://pcbuilder.net/component-details/graphi...     0  \n",
       "..       ...                                                ...   ...  \n",
       "304    99.99  https://pcbuilder.net/component-details/graphi...     1  \n",
       "305    64.95  https://pcbuilder.net/component-details/graphi...     0  \n",
       "306    64.99  https://pcbuilder.net/component-details/graphi...     0  \n",
       "307    54.99  https://pcbuilder.net/component-details/graphi...     0  \n",
       "310   399.00  https://pcbuilder.net/component-details/graphi...     0  \n",
       "\n",
       "[269 rows x 14 columns]"
      ]
     },
     "execution_count": 377,
     "metadata": {},
     "output_type": "execute_result"
    }
   ],
   "source": [
    "# normalize the data\n",
    "dfc['length'] = (dfc['length'] - dfc['length'].min()) / (dfc['length'].max() - dfc['length'].min())\n",
    "dfc['base_clock'] = (dfc['base_clock'] - dfc['base_clock'].min()) / (dfc['base_clock'].max() - dfc['base_clock'].min())\n",
    "dfc['clock_speed'] = (dfc['clock_speed'] - dfc['clock_speed'].min()) / (dfc['clock_speed'].max() - dfc['clock_speed'].min())\n",
    "dfc['memory'] = (dfc['memory'] - dfc['memory'].min()) / (dfc['memory'].max() - dfc['memory'].min())\n",
    "\n",
    "dfc"
   ]
  },
  {
   "cell_type": "code",
   "execution_count": 356,
   "metadata": {},
   "outputs": [
    {
     "data": {
      "text/html": [
       "<div>\n",
       "<style scoped>\n",
       "    .dataframe tbody tr th:only-of-type {\n",
       "        vertical-align: middle;\n",
       "    }\n",
       "\n",
       "    .dataframe tbody tr th {\n",
       "        vertical-align: top;\n",
       "    }\n",
       "\n",
       "    .dataframe thead th {\n",
       "        text-align: right;\n",
       "    }\n",
       "</style>\n",
       "<table border=\"1\" class=\"dataframe\">\n",
       "  <thead>\n",
       "    <tr style=\"text-align: right;\">\n",
       "      <th></th>\n",
       "      <th>memory</th>\n",
       "      <th>length</th>\n",
       "      <th>base_clock</th>\n",
       "      <th>clock_speed</th>\n",
       "      <th>price</th>\n",
       "      <th>used</th>\n",
       "    </tr>\n",
       "  </thead>\n",
       "  <tbody>\n",
       "    <tr>\n",
       "      <th>memory</th>\n",
       "      <td>1.000000</td>\n",
       "      <td>0.525671</td>\n",
       "      <td>0.310691</td>\n",
       "      <td>0.440337</td>\n",
       "      <td>0.640523</td>\n",
       "      <td>-0.279858</td>\n",
       "    </tr>\n",
       "    <tr>\n",
       "      <th>length</th>\n",
       "      <td>0.525671</td>\n",
       "      <td>1.000000</td>\n",
       "      <td>0.308887</td>\n",
       "      <td>0.376463</td>\n",
       "      <td>0.390278</td>\n",
       "      <td>-0.015974</td>\n",
       "    </tr>\n",
       "    <tr>\n",
       "      <th>base_clock</th>\n",
       "      <td>0.310691</td>\n",
       "      <td>0.308887</td>\n",
       "      <td>1.000000</td>\n",
       "      <td>0.896054</td>\n",
       "      <td>0.110404</td>\n",
       "      <td>-0.080623</td>\n",
       "    </tr>\n",
       "    <tr>\n",
       "      <th>clock_speed</th>\n",
       "      <td>0.440337</td>\n",
       "      <td>0.376463</td>\n",
       "      <td>0.896054</td>\n",
       "      <td>1.000000</td>\n",
       "      <td>0.207239</td>\n",
       "      <td>-0.187452</td>\n",
       "    </tr>\n",
       "    <tr>\n",
       "      <th>price</th>\n",
       "      <td>0.640523</td>\n",
       "      <td>0.390278</td>\n",
       "      <td>0.110404</td>\n",
       "      <td>0.207239</td>\n",
       "      <td>1.000000</td>\n",
       "      <td>-0.289827</td>\n",
       "    </tr>\n",
       "    <tr>\n",
       "      <th>used</th>\n",
       "      <td>-0.279858</td>\n",
       "      <td>-0.015974</td>\n",
       "      <td>-0.080623</td>\n",
       "      <td>-0.187452</td>\n",
       "      <td>-0.289827</td>\n",
       "      <td>1.000000</td>\n",
       "    </tr>\n",
       "  </tbody>\n",
       "</table>\n",
       "</div>"
      ],
      "text/plain": [
       "               memory    length  base_clock  clock_speed     price      used\n",
       "memory       1.000000  0.525671    0.310691     0.440337  0.640523 -0.279858\n",
       "length       0.525671  1.000000    0.308887     0.376463  0.390278 -0.015974\n",
       "base_clock   0.310691  0.308887    1.000000     0.896054  0.110404 -0.080623\n",
       "clock_speed  0.440337  0.376463    0.896054     1.000000  0.207239 -0.187452\n",
       "price        0.640523  0.390278    0.110404     0.207239  1.000000 -0.289827\n",
       "used        -0.279858 -0.015974   -0.080623    -0.187452 -0.289827  1.000000"
      ]
     },
     "execution_count": 356,
     "metadata": {},
     "output_type": "execute_result"
    }
   ],
   "source": [
    "dfc.corr(numeric_only = True)"
   ]
  },
  {
   "cell_type": "code",
   "execution_count": 381,
   "metadata": {},
   "outputs": [
    {
     "data": {
      "text/plain": [
       "(0.0, 7150.205734046466)"
      ]
     },
     "execution_count": 381,
     "metadata": {},
     "output_type": "execute_result"
    },
    {
     "data": {
      "image/png": "[encoded data removed]",
      "text/plain": [
       "<Figure size 640x480 with 1 Axes>"
      ]
     },
     "metadata": {},
     "output_type": "display_data"
    }
   ],
   "source": [
    "\n",
    "sns.regplot(x = \"memory\", y = \"price\", data = dfc)\n",
    "plt.ylim(0,)"
   ]
  }
 ],
 "metadata": {
  "kernelspec": {
   "display_name": "base",
   "language": "python",
   "name": "python3"
  },
  "language_info": {
   "codemirror_mode": {
    "name": "ipython",
    "version": 3
   },
   "file_extension": ".py",
   "mimetype": "text/x-python",
   "name": "python",
   "nbconvert_exporter": "python",
   "pygments_lexer": "ipython3",
   "version": "3.11.5"
  }
 },
 "nbformat": 4,
 "nbformat_minor": 2
}
