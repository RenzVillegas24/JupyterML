{
 "cells": [
  {
   "cell_type": "markdown",
   "metadata": {},
   "source": [
    "Required libraries"
   ]
  },
  {
   "cell_type": "code",
   "execution_count": 3,
   "metadata": {},
   "outputs": [],
   "source": [
    "import numpy as np\n",
    "import pandas as pd\n",
    "import matplotlib.pyplot as plt\n",
    "from scipy import stats\n",
    "import seaborn as sns"
   ]
  },
  {
   "cell_type": "markdown",
   "metadata": {},
   "source": [
    "Import dataset"
   ]
  },
  {
   "cell_type": "code",
   "execution_count": 4,
   "metadata": {},
   "outputs": [],
   "source": [
    "df = pd.read_csv('cpu.csv')"
   ]
  },
  {
   "cell_type": "markdown",
   "metadata": {},
   "source": [
    "Copy the dataset and show the shape"
   ]
  },
  {
   "cell_type": "code",
   "execution_count": 5,
   "metadata": {},
   "outputs": [
    {
     "data": {
      "text/plain": [
       "(3825, 12)"
      ]
     },
     "execution_count": 5,
     "metadata": {},
     "output_type": "execute_result"
    }
   ],
   "source": [
    "dfc = df.copy()\n",
    "dfc.shape"
   ]
  },
  {
   "cell_type": "markdown",
   "metadata": {},
   "source": [
    "Get the first 10 rows"
   ]
  },
  {
   "cell_type": "code",
   "execution_count": 6,
   "metadata": {},
   "outputs": [
    {
     "data": {
      "text/html": [
       "<div>\n",
       "<style scoped>\n",
       "    .dataframe tbody tr th:only-of-type {\n",
       "        vertical-align: middle;\n",
       "    }\n",
       "\n",
       "    .dataframe tbody tr th {\n",
       "        vertical-align: top;\n",
       "    }\n",
       "\n",
       "    .dataframe thead th {\n",
       "        text-align: right;\n",
       "    }\n",
       "</style>\n",
       "<table border=\"1\" class=\"dataframe\">\n",
       "  <thead>\n",
       "    <tr style=\"text-align: right;\">\n",
       "      <th></th>\n",
       "      <th>cpuName</th>\n",
       "      <th>price</th>\n",
       "      <th>cpuMark</th>\n",
       "      <th>cpuValue</th>\n",
       "      <th>threadMark</th>\n",
       "      <th>threadValue</th>\n",
       "      <th>TDP</th>\n",
       "      <th>powerPerf</th>\n",
       "      <th>cores</th>\n",
       "      <th>testDate</th>\n",
       "      <th>socket</th>\n",
       "      <th>category</th>\n",
       "    </tr>\n",
       "  </thead>\n",
       "  <tbody>\n",
       "    <tr>\n",
       "      <th>0</th>\n",
       "      <td>AMD Ryzen Threadripper PRO 5995WX</td>\n",
       "      <td>NaN</td>\n",
       "      <td>108822</td>\n",
       "      <td>NaN</td>\n",
       "      <td>3330</td>\n",
       "      <td>NaN</td>\n",
       "      <td>280.0</td>\n",
       "      <td>388.65</td>\n",
       "      <td>64</td>\n",
       "      <td>2022</td>\n",
       "      <td>sWRX8</td>\n",
       "      <td>Desktop</td>\n",
       "    </tr>\n",
       "    <tr>\n",
       "      <th>1</th>\n",
       "      <td>AMD EPYC 7763</td>\n",
       "      <td>7299.99</td>\n",
       "      <td>88338</td>\n",
       "      <td>12.10</td>\n",
       "      <td>2635</td>\n",
       "      <td>0.36</td>\n",
       "      <td>280.0</td>\n",
       "      <td>315.49</td>\n",
       "      <td>64</td>\n",
       "      <td>2021</td>\n",
       "      <td>SP3</td>\n",
       "      <td>Server</td>\n",
       "    </tr>\n",
       "    <tr>\n",
       "      <th>2</th>\n",
       "      <td>AMD EPYC 7J13</td>\n",
       "      <td>NaN</td>\n",
       "      <td>86006</td>\n",
       "      <td>NaN</td>\n",
       "      <td>2387</td>\n",
       "      <td>NaN</td>\n",
       "      <td>NaN</td>\n",
       "      <td>NaN</td>\n",
       "      <td>64</td>\n",
       "      <td>2021</td>\n",
       "      <td>unknown</td>\n",
       "      <td>Server</td>\n",
       "    </tr>\n",
       "    <tr>\n",
       "      <th>3</th>\n",
       "      <td>AMD EPYC 7713</td>\n",
       "      <td>7060.00</td>\n",
       "      <td>85861</td>\n",
       "      <td>12.16</td>\n",
       "      <td>2727</td>\n",
       "      <td>0.39</td>\n",
       "      <td>225.0</td>\n",
       "      <td>381.6</td>\n",
       "      <td>64</td>\n",
       "      <td>2021</td>\n",
       "      <td>SP3</td>\n",
       "      <td>Server</td>\n",
       "    </tr>\n",
       "    <tr>\n",
       "      <th>4</th>\n",
       "      <td>AMD Ryzen Threadripper PRO 3995WX</td>\n",
       "      <td>6807.98</td>\n",
       "      <td>83971</td>\n",
       "      <td>12.33</td>\n",
       "      <td>2626</td>\n",
       "      <td>0.39</td>\n",
       "      <td>280.0</td>\n",
       "      <td>299.9</td>\n",
       "      <td>64</td>\n",
       "      <td>2020</td>\n",
       "      <td>sWRX8</td>\n",
       "      <td>Desktop</td>\n",
       "    </tr>\n",
       "    <tr>\n",
       "      <th>5</th>\n",
       "      <td>AMD Ryzen Threadripper 3990X</td>\n",
       "      <td>8399.69</td>\n",
       "      <td>81568</td>\n",
       "      <td>9.71</td>\n",
       "      <td>2569</td>\n",
       "      <td>0.31</td>\n",
       "      <td>280.0</td>\n",
       "      <td>291.31</td>\n",
       "      <td>64</td>\n",
       "      <td>2020</td>\n",
       "      <td>sTRX4</td>\n",
       "      <td>Desktop</td>\n",
       "    </tr>\n",
       "    <tr>\n",
       "      <th>6</th>\n",
       "      <td>AMD Ryzen Threadripper PRO 5975WX</td>\n",
       "      <td>NaN</td>\n",
       "      <td>80842</td>\n",
       "      <td>NaN</td>\n",
       "      <td>3340</td>\n",
       "      <td>NaN</td>\n",
       "      <td>280.0</td>\n",
       "      <td>288.72</td>\n",
       "      <td>32</td>\n",
       "      <td>2022</td>\n",
       "      <td>sWRX8</td>\n",
       "      <td>Desktop</td>\n",
       "    </tr>\n",
       "    <tr>\n",
       "      <th>7</th>\n",
       "      <td>AMD EPYC 7B13</td>\n",
       "      <td>NaN</td>\n",
       "      <td>77460</td>\n",
       "      <td>NaN</td>\n",
       "      <td>2564</td>\n",
       "      <td>NaN</td>\n",
       "      <td>NaN</td>\n",
       "      <td>NaN</td>\n",
       "      <td>60</td>\n",
       "      <td>2021</td>\n",
       "      <td>unknown</td>\n",
       "      <td>Server</td>\n",
       "    </tr>\n",
       "    <tr>\n",
       "      <th>8</th>\n",
       "      <td>AMD EPYC 7643</td>\n",
       "      <td>5424.99</td>\n",
       "      <td>76455</td>\n",
       "      <td>14.09</td>\n",
       "      <td>2695</td>\n",
       "      <td>0.50</td>\n",
       "      <td>225.0</td>\n",
       "      <td>339.8</td>\n",
       "      <td>48</td>\n",
       "      <td>2021</td>\n",
       "      <td>SP3</td>\n",
       "      <td>Server</td>\n",
       "    </tr>\n",
       "    <tr>\n",
       "      <th>9</th>\n",
       "      <td>AMD EPYC 7702</td>\n",
       "      <td>4000.00</td>\n",
       "      <td>71646</td>\n",
       "      <td>17.91</td>\n",
       "      <td>2097</td>\n",
       "      <td>0.52</td>\n",
       "      <td>200.0</td>\n",
       "      <td>358.23</td>\n",
       "      <td>64</td>\n",
       "      <td>2020</td>\n",
       "      <td>SP3</td>\n",
       "      <td>Server</td>\n",
       "    </tr>\n",
       "  </tbody>\n",
       "</table>\n",
       "</div>"
      ],
      "text/plain": [
       "                             cpuName    price  cpuMark  cpuValue  threadMark  \\\n",
       "0  AMD Ryzen Threadripper PRO 5995WX      NaN   108822       NaN        3330   \n",
       "1                      AMD EPYC 7763  7299.99    88338     12.10        2635   \n",
       "2                      AMD EPYC 7J13      NaN    86006       NaN        2387   \n",
       "3                      AMD EPYC 7713  7060.00    85861     12.16        2727   \n",
       "4  AMD Ryzen Threadripper PRO 3995WX  6807.98    83971     12.33        2626   \n",
       "5       AMD Ryzen Threadripper 3990X  8399.69    81568      9.71        2569   \n",
       "6  AMD Ryzen Threadripper PRO 5975WX      NaN    80842       NaN        3340   \n",
       "7                      AMD EPYC 7B13      NaN    77460       NaN        2564   \n",
       "8                      AMD EPYC 7643  5424.99    76455     14.09        2695   \n",
       "9                      AMD EPYC 7702  4000.00    71646     17.91        2097   \n",
       "\n",
       "   threadValue    TDP powerPerf  cores  testDate   socket category  \n",
       "0          NaN  280.0    388.65     64      2022    sWRX8  Desktop  \n",
       "1         0.36  280.0    315.49     64      2021      SP3   Server  \n",
       "2          NaN    NaN       NaN     64      2021  unknown   Server  \n",
       "3         0.39  225.0     381.6     64      2021      SP3   Server  \n",
       "4         0.39  280.0     299.9     64      2020    sWRX8  Desktop  \n",
       "5         0.31  280.0    291.31     64      2020    sTRX4  Desktop  \n",
       "6          NaN  280.0    288.72     32      2022    sWRX8  Desktop  \n",
       "7          NaN    NaN       NaN     60      2021  unknown   Server  \n",
       "8         0.50  225.0     339.8     48      2021      SP3   Server  \n",
       "9         0.52  200.0    358.23     64      2020      SP3   Server  "
      ]
     },
     "execution_count": 6,
     "metadata": {},
     "output_type": "execute_result"
    }
   ],
   "source": [
    "dfc.head(10)"
   ]
  },
  {
   "cell_type": "markdown",
   "metadata": {},
   "source": [
    "Get the columns"
   ]
  },
  {
   "cell_type": "code",
   "execution_count": 7,
   "metadata": {},
   "outputs": [
    {
     "data": {
      "text/plain": [
       "Index(['cpuName', 'price', 'cpuMark', 'cpuValue', 'threadMark', 'threadValue',\n",
       "       'TDP', 'powerPerf', 'cores', 'testDate', 'socket', 'category'],\n",
       "      dtype='object')"
      ]
     },
     "execution_count": 7,
     "metadata": {},
     "output_type": "execute_result"
    }
   ],
   "source": [
    "dfc.columns"
   ]
  },
  {
   "cell_type": "markdown",
   "metadata": {},
   "source": [
    "Get the dataset information"
   ]
  },
  {
   "cell_type": "code",
   "execution_count": 8,
   "metadata": {},
   "outputs": [
    {
     "name": "stdout",
     "output_type": "stream",
     "text": [
      "<class 'pandas.core.frame.DataFrame'>\n",
      "RangeIndex: 3825 entries, 0 to 3824\n",
      "Data columns (total 12 columns):\n",
      " #   Column       Non-Null Count  Dtype  \n",
      "---  ------       --------------  -----  \n",
      " 0   cpuName      3825 non-null   object \n",
      " 1   price        1967 non-null   float64\n",
      " 2   cpuMark      3825 non-null   int64  \n",
      " 3   cpuValue     1967 non-null   float64\n",
      " 4   threadMark   3825 non-null   int64  \n",
      " 5   threadValue  1967 non-null   float64\n",
      " 6   TDP          3140 non-null   float64\n",
      " 7   powerPerf    3140 non-null   object \n",
      " 8   cores        3825 non-null   int64  \n",
      " 9   testDate     3825 non-null   int64  \n",
      " 10  socket       3825 non-null   object \n",
      " 11  category     3825 non-null   object \n",
      "dtypes: float64(4), int64(4), object(4)\n",
      "memory usage: 358.7+ KB\n"
     ]
    }
   ],
   "source": [
    "dfc.info()"
   ]
  },
  {
   "cell_type": "markdown",
   "metadata": {},
   "source": [
    "Check for the missing values"
   ]
  },
  {
   "cell_type": "code",
   "execution_count": 9,
   "metadata": {},
   "outputs": [
    {
     "data": {
      "text/plain": [
       "cpuName           0\n",
       "price          1858\n",
       "cpuMark           0\n",
       "cpuValue       1858\n",
       "threadMark        0\n",
       "threadValue    1858\n",
       "TDP             685\n",
       "powerPerf       685\n",
       "cores             0\n",
       "testDate          0\n",
       "socket            0\n",
       "category          0\n",
       "dtype: int64"
      ]
     },
     "execution_count": 9,
     "metadata": {},
     "output_type": "execute_result"
    }
   ],
   "source": [
    "dfc.isna().sum()"
   ]
  },
  {
   "cell_type": "markdown",
   "metadata": {},
   "source": [
    "Check all the columns that was greater than 10% of its data are missing"
   ]
  },
  {
   "cell_type": "code",
   "execution_count": 10,
   "metadata": {},
   "outputs": [
    {
     "data": {
      "text/plain": [
       "Index(['price', 'cpuValue', 'threadValue'], dtype='object')"
      ]
     },
     "execution_count": 10,
     "metadata": {},
     "output_type": "execute_result"
    }
   ],
   "source": [
    "(nulled_10 := \n",
    " dfc.loc[\n",
    "     :, \n",
    "     dfc.drop(\n",
    "        dfc.dropna(\n",
    "            axis=1, \n",
    "            thresh=df.shape[0] * (1 - 0.25), \n",
    "            inplace=False), \n",
    "        axis=1)\n",
    "        .columns].columns)"
   ]
  },
  {
   "cell_type": "markdown",
   "metadata": {},
   "source": [
    "Remove all the nulled row and nulled greater than 10% columns"
   ]
  },
  {
   "cell_type": "code",
   "execution_count": 11,
   "metadata": {},
   "outputs": [
    {
     "name": "stdout",
     "output_type": "stream",
     "text": [
      "<class 'pandas.core.frame.DataFrame'>\n",
      "Index: 1967 entries, 1 to 3806\n",
      "Data columns (total 12 columns):\n",
      " #   Column       Non-Null Count  Dtype  \n",
      "---  ------       --------------  -----  \n",
      " 0   cpuName      1967 non-null   object \n",
      " 1   price        1967 non-null   float64\n",
      " 2   cpuMark      1967 non-null   int64  \n",
      " 3   cpuValue     1967 non-null   float64\n",
      " 4   threadMark   1967 non-null   int64  \n",
      " 5   threadValue  1967 non-null   float64\n",
      " 6   TDP          1938 non-null   float64\n",
      " 7   powerPerf    1938 non-null   object \n",
      " 8   cores        1967 non-null   int64  \n",
      " 9   testDate     1967 non-null   int64  \n",
      " 10  socket       1967 non-null   object \n",
      " 11  category     1967 non-null   object \n",
      "dtypes: float64(4), int64(4), object(4)\n",
      "memory usage: 199.8+ KB\n"
     ]
    }
   ],
   "source": [
    "for nulled in nulled_10:\n",
    "    #remove the row if the value is null\n",
    "    dfc.dropna(axis=0, subset=[nulled], inplace=True)\n",
    "\n",
    "dfc.info()"
   ]
  },
  {
   "cell_type": "markdown",
   "metadata": {},
   "source": [
    "Convert the numerical values with unit into int"
   ]
  },
  {
   "cell_type": "markdown",
   "metadata": {},
   "source": [
    "A. PowerPerformance"
   ]
  },
  {
   "cell_type": "code",
   "execution_count": 12,
   "metadata": {},
   "outputs": [
    {
     "data": {
      "text/plain": [
       "1       315.49\n",
       "3       381.60\n",
       "4       299.90\n",
       "5       291.31\n",
       "8       339.80\n",
       "         ...  \n",
       "3727      2.75\n",
       "3747     31.70\n",
       "3765       NaN\n",
       "3796       NaN\n",
       "3806       NaN\n",
       "Name: powerPerf, Length: 1967, dtype: float64"
      ]
     },
     "execution_count": 12,
     "metadata": {},
     "output_type": "execute_result"
    }
   ],
   "source": [
    "#convert the memory column to numeric\n",
    "dfc['powerPerf'] = dfc['powerPerf'].str.replace(',', '').astype('float')\n",
    "dfc['powerPerf']"
   ]
  },
  {
   "cell_type": "markdown",
   "metadata": {},
   "source": [
    "Replace the missing data"
   ]
  },
  {
   "cell_type": "code",
   "execution_count": 13,
   "metadata": {},
   "outputs": [
    {
     "data": {
      "text/plain": [
       "Index(['TDP', 'powerPerf'], dtype='object')"
      ]
     },
     "execution_count": 13,
     "metadata": {},
     "output_type": "execute_result"
    }
   ],
   "source": [
    "# get all the missing values\n",
    "(nulled_10 := \n",
    " dfc.loc[\n",
    "     :, \n",
    "     dfc.drop(\n",
    "        dfc.dropna(\n",
    "            axis=1, \n",
    "            inplace=False), \n",
    "        axis=1)\n",
    "        .columns].columns)"
   ]
  },
  {
   "cell_type": "code",
   "execution_count": 14,
   "metadata": {},
   "outputs": [
    {
     "name": "stdout",
     "output_type": "stream",
     "text": [
      "<class 'pandas.core.frame.DataFrame'>\n",
      "Index: 1967 entries, 1 to 3806\n",
      "Data columns (total 12 columns):\n",
      " #   Column       Non-Null Count  Dtype  \n",
      "---  ------       --------------  -----  \n",
      " 0   cpuName      1967 non-null   object \n",
      " 1   price        1967 non-null   float64\n",
      " 2   cpuMark      1967 non-null   int64  \n",
      " 3   cpuValue     1967 non-null   float64\n",
      " 4   threadMark   1967 non-null   int64  \n",
      " 5   threadValue  1967 non-null   float64\n",
      " 6   TDP          1967 non-null   float64\n",
      " 7   powerPerf    1967 non-null   float64\n",
      " 8   cores        1967 non-null   int64  \n",
      " 9   testDate     1967 non-null   int64  \n",
      " 10  socket       1967 non-null   object \n",
      " 11  category     1967 non-null   object \n",
      "dtypes: float64(5), int64(4), object(3)\n",
      "memory usage: 199.8+ KB\n"
     ]
    }
   ],
   "source": [
    "for nulled in nulled_10:\n",
    "    #remove the row if the value is null\n",
    "    dfc[nulled].fillna(dfc[nulled].mean(), inplace=True)\n",
    "\n",
    "dfc.info()"
   ]
  },
  {
   "cell_type": "code",
   "execution_count": 15,
   "metadata": {},
   "outputs": [
    {
     "data": {
      "text/html": [
       "<div>\n",
       "<style scoped>\n",
       "    .dataframe tbody tr th:only-of-type {\n",
       "        vertical-align: middle;\n",
       "    }\n",
       "\n",
       "    .dataframe tbody tr th {\n",
       "        vertical-align: top;\n",
       "    }\n",
       "\n",
       "    .dataframe thead th {\n",
       "        text-align: right;\n",
       "    }\n",
       "</style>\n",
       "<table border=\"1\" class=\"dataframe\">\n",
       "  <thead>\n",
       "    <tr style=\"text-align: right;\">\n",
       "      <th></th>\n",
       "      <th>price</th>\n",
       "      <th>cpuMark</th>\n",
       "      <th>cpuValue</th>\n",
       "      <th>threadMark</th>\n",
       "      <th>threadValue</th>\n",
       "      <th>TDP</th>\n",
       "      <th>powerPerf</th>\n",
       "      <th>cores</th>\n",
       "      <th>testDate</th>\n",
       "    </tr>\n",
       "  </thead>\n",
       "  <tbody>\n",
       "    <tr>\n",
       "      <th>price</th>\n",
       "      <td>1.000000</td>\n",
       "      <td>0.692600</td>\n",
       "      <td>-0.232707</td>\n",
       "      <td>0.253788</td>\n",
       "      <td>-0.310359</td>\n",
       "      <td>0.561950</td>\n",
       "      <td>0.241716</td>\n",
       "      <td>0.767044</td>\n",
       "      <td>0.331479</td>\n",
       "    </tr>\n",
       "    <tr>\n",
       "      <th>cpuMark</th>\n",
       "      <td>0.692600</td>\n",
       "      <td>1.000000</td>\n",
       "      <td>0.055265</td>\n",
       "      <td>0.624744</td>\n",
       "      <td>-0.299743</td>\n",
       "      <td>0.666466</td>\n",
       "      <td>0.527553</td>\n",
       "      <td>0.883971</td>\n",
       "      <td>0.611278</td>\n",
       "    </tr>\n",
       "    <tr>\n",
       "      <th>cpuValue</th>\n",
       "      <td>-0.232707</td>\n",
       "      <td>0.055265</td>\n",
       "      <td>1.000000</td>\n",
       "      <td>0.194678</td>\n",
       "      <td>0.657488</td>\n",
       "      <td>0.097428</td>\n",
       "      <td>0.042758</td>\n",
       "      <td>-0.016071</td>\n",
       "      <td>0.090790</td>\n",
       "    </tr>\n",
       "    <tr>\n",
       "      <th>threadMark</th>\n",
       "      <td>0.253788</td>\n",
       "      <td>0.624744</td>\n",
       "      <td>0.194678</td>\n",
       "      <td>1.000000</td>\n",
       "      <td>-0.201755</td>\n",
       "      <td>0.269980</td>\n",
       "      <td>0.646530</td>\n",
       "      <td>0.334870</td>\n",
       "      <td>0.779804</td>\n",
       "    </tr>\n",
       "    <tr>\n",
       "      <th>threadValue</th>\n",
       "      <td>-0.310359</td>\n",
       "      <td>-0.299743</td>\n",
       "      <td>0.657488</td>\n",
       "      <td>-0.201755</td>\n",
       "      <td>1.000000</td>\n",
       "      <td>-0.141544</td>\n",
       "      <td>-0.286619</td>\n",
       "      <td>-0.278250</td>\n",
       "      <td>-0.283609</td>\n",
       "    </tr>\n",
       "    <tr>\n",
       "      <th>TDP</th>\n",
       "      <td>0.561950</td>\n",
       "      <td>0.666466</td>\n",
       "      <td>0.097428</td>\n",
       "      <td>0.269980</td>\n",
       "      <td>-0.141544</td>\n",
       "      <td>1.000000</td>\n",
       "      <td>-0.070035</td>\n",
       "      <td>0.674119</td>\n",
       "      <td>0.132323</td>\n",
       "    </tr>\n",
       "    <tr>\n",
       "      <th>powerPerf</th>\n",
       "      <td>0.241716</td>\n",
       "      <td>0.527553</td>\n",
       "      <td>0.042758</td>\n",
       "      <td>0.646530</td>\n",
       "      <td>-0.286619</td>\n",
       "      <td>-0.070035</td>\n",
       "      <td>1.000000</td>\n",
       "      <td>0.341354</td>\n",
       "      <td>0.718021</td>\n",
       "    </tr>\n",
       "    <tr>\n",
       "      <th>cores</th>\n",
       "      <td>0.767044</td>\n",
       "      <td>0.883971</td>\n",
       "      <td>-0.016071</td>\n",
       "      <td>0.334870</td>\n",
       "      <td>-0.278250</td>\n",
       "      <td>0.674119</td>\n",
       "      <td>0.341354</td>\n",
       "      <td>1.000000</td>\n",
       "      <td>0.418999</td>\n",
       "    </tr>\n",
       "    <tr>\n",
       "      <th>testDate</th>\n",
       "      <td>0.331479</td>\n",
       "      <td>0.611278</td>\n",
       "      <td>0.090790</td>\n",
       "      <td>0.779804</td>\n",
       "      <td>-0.283609</td>\n",
       "      <td>0.132323</td>\n",
       "      <td>0.718021</td>\n",
       "      <td>0.418999</td>\n",
       "      <td>1.000000</td>\n",
       "    </tr>\n",
       "  </tbody>\n",
       "</table>\n",
       "</div>"
      ],
      "text/plain": [
       "                price   cpuMark  cpuValue  threadMark  threadValue       TDP  \\\n",
       "price        1.000000  0.692600 -0.232707    0.253788    -0.310359  0.561950   \n",
       "cpuMark      0.692600  1.000000  0.055265    0.624744    -0.299743  0.666466   \n",
       "cpuValue    -0.232707  0.055265  1.000000    0.194678     0.657488  0.097428   \n",
       "threadMark   0.253788  0.624744  0.194678    1.000000    -0.201755  0.269980   \n",
       "threadValue -0.310359 -0.299743  0.657488   -0.201755     1.000000 -0.141544   \n",
       "TDP          0.561950  0.666466  0.097428    0.269980    -0.141544  1.000000   \n",
       "powerPerf    0.241716  0.527553  0.042758    0.646530    -0.286619 -0.070035   \n",
       "cores        0.767044  0.883971 -0.016071    0.334870    -0.278250  0.674119   \n",
       "testDate     0.331479  0.611278  0.090790    0.779804    -0.283609  0.132323   \n",
       "\n",
       "             powerPerf     cores  testDate  \n",
       "price         0.241716  0.767044  0.331479  \n",
       "cpuMark       0.527553  0.883971  0.611278  \n",
       "cpuValue      0.042758 -0.016071  0.090790  \n",
       "threadMark    0.646530  0.334870  0.779804  \n",
       "threadValue  -0.286619 -0.278250 -0.283609  \n",
       "TDP          -0.070035  0.674119  0.132323  \n",
       "powerPerf     1.000000  0.341354  0.718021  \n",
       "cores         0.341354  1.000000  0.418999  \n",
       "testDate      0.718021  0.418999  1.000000  "
      ]
     },
     "execution_count": 15,
     "metadata": {},
     "output_type": "execute_result"
    }
   ],
   "source": [
    "# get the corr\n",
    "dfc.corr(numeric_only = True)"
   ]
  }
 ],
 "metadata": {
  "kernelspec": {
   "display_name": "base",
   "language": "python",
   "name": "python3"
  },
  "language_info": {
   "codemirror_mode": {
    "name": "ipython",
    "version": 3
   },
   "file_extension": ".py",
   "mimetype": "text/x-python",
   "name": "python",
   "nbconvert_exporter": "python",
   "pygments_lexer": "ipython3",
   "version": "3.11.5"
  }
 },
 "nbformat": 4,
 "nbformat_minor": 2
}
