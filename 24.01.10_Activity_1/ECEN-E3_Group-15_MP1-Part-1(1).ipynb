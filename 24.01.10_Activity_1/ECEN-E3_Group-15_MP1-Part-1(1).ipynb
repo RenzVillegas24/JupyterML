{
 "cells": [
  {
   "cell_type": "code",
   "execution_count": 1,
   "id": "1a5d3cb7",
   "metadata": {},
   "outputs": [],
   "source": [
    "import numpy as np\n",
    "import pandas as pd\n",
    "import matplotlib.pyplot as plt\n",
    "from scipy import stats\n",
    "import seaborn as sns"
   ]
  },
  {
   "cell_type": "markdown",
   "id": "1f7ff847",
   "metadata": {},
   "source": [
    "<h4>IMPORT DATASET</h4>"
   ]
  },
  {
   "cell_type": "code",
   "execution_count": 2,
   "id": "066f2554",
   "metadata": {},
   "outputs": [],
   "source": [
    "path = 'https://raw.githubusercontent.com/jebandong/dataset/main/used_device_data.csv'"
   ]
  },
  {
   "cell_type": "code",
   "execution_count": 3,
   "id": "936a53c8",
   "metadata": {},
   "outputs": [
    {
     "data": {
      "text/html": [
       "<div>\n",
       "<style scoped>\n",
       "    .dataframe tbody tr th:only-of-type {\n",
       "        vertical-align: middle;\n",
       "    }\n",
       "\n",
       "    .dataframe tbody tr th {\n",
       "        vertical-align: top;\n",
       "    }\n",
       "\n",
       "    .dataframe thead th {\n",
       "        text-align: right;\n",
       "    }\n",
       "</style>\n",
       "<table border=\"1\" class=\"dataframe\">\n",
       "  <thead>\n",
       "    <tr style=\"text-align: right;\">\n",
       "      <th></th>\n",
       "      <th>device_brand</th>\n",
       "      <th>os</th>\n",
       "      <th>screen_size</th>\n",
       "      <th>4g</th>\n",
       "      <th>5g</th>\n",
       "      <th>rear_camera_mp</th>\n",
       "      <th>front_camera_mp</th>\n",
       "      <th>internal_memory</th>\n",
       "      <th>ram</th>\n",
       "      <th>battery</th>\n",
       "      <th>weight</th>\n",
       "      <th>release_year</th>\n",
       "      <th>days_used</th>\n",
       "      <th>normalized_used_price</th>\n",
       "      <th>normalized_new_price</th>\n",
       "    </tr>\n",
       "  </thead>\n",
       "  <tbody>\n",
       "    <tr>\n",
       "      <th>0</th>\n",
       "      <td>Honor</td>\n",
       "      <td>Android</td>\n",
       "      <td>14.50</td>\n",
       "      <td>yes</td>\n",
       "      <td>no</td>\n",
       "      <td>13.0</td>\n",
       "      <td>5.0</td>\n",
       "      <td>64.0</td>\n",
       "      <td>3.0</td>\n",
       "      <td>3020.0</td>\n",
       "      <td>146.0</td>\n",
       "      <td>2020</td>\n",
       "      <td>127</td>\n",
       "      <td>4.307572</td>\n",
       "      <td>4.715100</td>\n",
       "    </tr>\n",
       "    <tr>\n",
       "      <th>1</th>\n",
       "      <td>Honor</td>\n",
       "      <td>Android</td>\n",
       "      <td>17.30</td>\n",
       "      <td>yes</td>\n",
       "      <td>yes</td>\n",
       "      <td>13.0</td>\n",
       "      <td>16.0</td>\n",
       "      <td>128.0</td>\n",
       "      <td>8.0</td>\n",
       "      <td>4300.0</td>\n",
       "      <td>213.0</td>\n",
       "      <td>2020</td>\n",
       "      <td>325</td>\n",
       "      <td>5.162097</td>\n",
       "      <td>5.519018</td>\n",
       "    </tr>\n",
       "    <tr>\n",
       "      <th>2</th>\n",
       "      <td>Honor</td>\n",
       "      <td>Android</td>\n",
       "      <td>16.69</td>\n",
       "      <td>yes</td>\n",
       "      <td>yes</td>\n",
       "      <td>13.0</td>\n",
       "      <td>8.0</td>\n",
       "      <td>128.0</td>\n",
       "      <td>8.0</td>\n",
       "      <td>4200.0</td>\n",
       "      <td>213.0</td>\n",
       "      <td>2020</td>\n",
       "      <td>162</td>\n",
       "      <td>5.111084</td>\n",
       "      <td>5.884631</td>\n",
       "    </tr>\n",
       "    <tr>\n",
       "      <th>3</th>\n",
       "      <td>Honor</td>\n",
       "      <td>Android</td>\n",
       "      <td>25.50</td>\n",
       "      <td>yes</td>\n",
       "      <td>yes</td>\n",
       "      <td>13.0</td>\n",
       "      <td>8.0</td>\n",
       "      <td>64.0</td>\n",
       "      <td>6.0</td>\n",
       "      <td>7250.0</td>\n",
       "      <td>480.0</td>\n",
       "      <td>2020</td>\n",
       "      <td>345</td>\n",
       "      <td>5.135387</td>\n",
       "      <td>5.630961</td>\n",
       "    </tr>\n",
       "    <tr>\n",
       "      <th>4</th>\n",
       "      <td>Honor</td>\n",
       "      <td>Android</td>\n",
       "      <td>15.32</td>\n",
       "      <td>yes</td>\n",
       "      <td>no</td>\n",
       "      <td>13.0</td>\n",
       "      <td>8.0</td>\n",
       "      <td>64.0</td>\n",
       "      <td>3.0</td>\n",
       "      <td>5000.0</td>\n",
       "      <td>185.0</td>\n",
       "      <td>2020</td>\n",
       "      <td>293</td>\n",
       "      <td>4.389995</td>\n",
       "      <td>4.947837</td>\n",
       "    </tr>\n",
       "    <tr>\n",
       "      <th>5</th>\n",
       "      <td>Honor</td>\n",
       "      <td>Android</td>\n",
       "      <td>16.23</td>\n",
       "      <td>yes</td>\n",
       "      <td>no</td>\n",
       "      <td>13.0</td>\n",
       "      <td>8.0</td>\n",
       "      <td>64.0</td>\n",
       "      <td>4.0</td>\n",
       "      <td>4000.0</td>\n",
       "      <td>176.0</td>\n",
       "      <td>2020</td>\n",
       "      <td>223</td>\n",
       "      <td>4.413889</td>\n",
       "      <td>5.060694</td>\n",
       "    </tr>\n",
       "    <tr>\n",
       "      <th>6</th>\n",
       "      <td>Honor</td>\n",
       "      <td>Android</td>\n",
       "      <td>13.84</td>\n",
       "      <td>yes</td>\n",
       "      <td>no</td>\n",
       "      <td>8.0</td>\n",
       "      <td>5.0</td>\n",
       "      <td>32.0</td>\n",
       "      <td>2.0</td>\n",
       "      <td>3020.0</td>\n",
       "      <td>144.0</td>\n",
       "      <td>2020</td>\n",
       "      <td>234</td>\n",
       "      <td>3.878259</td>\n",
       "      <td>4.518958</td>\n",
       "    </tr>\n",
       "    <tr>\n",
       "      <th>7</th>\n",
       "      <td>Honor</td>\n",
       "      <td>Android</td>\n",
       "      <td>15.77</td>\n",
       "      <td>yes</td>\n",
       "      <td>no</td>\n",
       "      <td>13.0</td>\n",
       "      <td>8.0</td>\n",
       "      <td>64.0</td>\n",
       "      <td>4.0</td>\n",
       "      <td>3400.0</td>\n",
       "      <td>164.0</td>\n",
       "      <td>2020</td>\n",
       "      <td>219</td>\n",
       "      <td>4.729421</td>\n",
       "      <td>5.188726</td>\n",
       "    </tr>\n",
       "    <tr>\n",
       "      <th>8</th>\n",
       "      <td>Honor</td>\n",
       "      <td>Android</td>\n",
       "      <td>15.32</td>\n",
       "      <td>yes</td>\n",
       "      <td>no</td>\n",
       "      <td>13.0</td>\n",
       "      <td>16.0</td>\n",
       "      <td>128.0</td>\n",
       "      <td>6.0</td>\n",
       "      <td>4000.0</td>\n",
       "      <td>165.0</td>\n",
       "      <td>2020</td>\n",
       "      <td>161</td>\n",
       "      <td>4.886054</td>\n",
       "      <td>5.299916</td>\n",
       "    </tr>\n",
       "    <tr>\n",
       "      <th>9</th>\n",
       "      <td>Honor</td>\n",
       "      <td>Android</td>\n",
       "      <td>16.23</td>\n",
       "      <td>yes</td>\n",
       "      <td>no</td>\n",
       "      <td>13.0</td>\n",
       "      <td>8.0</td>\n",
       "      <td>128.0</td>\n",
       "      <td>6.0</td>\n",
       "      <td>4000.0</td>\n",
       "      <td>176.0</td>\n",
       "      <td>2020</td>\n",
       "      <td>327</td>\n",
       "      <td>4.773224</td>\n",
       "      <td>5.073610</td>\n",
       "    </tr>\n",
       "  </tbody>\n",
       "</table>\n",
       "</div>"
      ],
      "text/plain": [
       "  device_brand       os  screen_size   4g   5g  rear_camera_mp  \\\n",
       "0        Honor  Android        14.50  yes   no            13.0   \n",
       "1        Honor  Android        17.30  yes  yes            13.0   \n",
       "2        Honor  Android        16.69  yes  yes            13.0   \n",
       "3        Honor  Android        25.50  yes  yes            13.0   \n",
       "4        Honor  Android        15.32  yes   no            13.0   \n",
       "5        Honor  Android        16.23  yes   no            13.0   \n",
       "6        Honor  Android        13.84  yes   no             8.0   \n",
       "7        Honor  Android        15.77  yes   no            13.0   \n",
       "8        Honor  Android        15.32  yes   no            13.0   \n",
       "9        Honor  Android        16.23  yes   no            13.0   \n",
       "\n",
       "   front_camera_mp  internal_memory  ram  battery  weight  release_year  \\\n",
       "0              5.0             64.0  3.0   3020.0   146.0          2020   \n",
       "1             16.0            128.0  8.0   4300.0   213.0          2020   \n",
       "2              8.0            128.0  8.0   4200.0   213.0          2020   \n",
       "3              8.0             64.0  6.0   7250.0   480.0          2020   \n",
       "4              8.0             64.0  3.0   5000.0   185.0          2020   \n",
       "5              8.0             64.0  4.0   4000.0   176.0          2020   \n",
       "6              5.0             32.0  2.0   3020.0   144.0          2020   \n",
       "7              8.0             64.0  4.0   3400.0   164.0          2020   \n",
       "8             16.0            128.0  6.0   4000.0   165.0          2020   \n",
       "9              8.0            128.0  6.0   4000.0   176.0          2020   \n",
       "\n",
       "   days_used  normalized_used_price  normalized_new_price  \n",
       "0        127               4.307572              4.715100  \n",
       "1        325               5.162097              5.519018  \n",
       "2        162               5.111084              5.884631  \n",
       "3        345               5.135387              5.630961  \n",
       "4        293               4.389995              4.947837  \n",
       "5        223               4.413889              5.060694  \n",
       "6        234               3.878259              4.518958  \n",
       "7        219               4.729421              5.188726  \n",
       "8        161               4.886054              5.299916  \n",
       "9        327               4.773224              5.073610  "
      ]
     },
     "execution_count": 3,
     "metadata": {},
     "output_type": "execute_result"
    }
   ],
   "source": [
    "df = pd.read_csv(path)\n",
    "df.head(10)"
   ]
  },
  {
   "cell_type": "code",
   "execution_count": 4,
   "id": "ac451d3b",
   "metadata": {},
   "outputs": [
    {
     "data": {
      "text/plain": [
       "Index(['device_brand', 'os', 'screen_size', '4g', '5g', 'rear_camera_mp',\n",
       "       'front_camera_mp', 'internal_memory', 'ram', 'battery', 'weight',\n",
       "       'release_year', 'days_used', 'normalized_used_price',\n",
       "       'normalized_new_price'],\n",
       "      dtype='object')"
      ]
     },
     "execution_count": 4,
     "metadata": {},
     "output_type": "execute_result"
    }
   ],
   "source": [
    "df.columns"
   ]
  },
  {
   "cell_type": "code",
   "execution_count": 5,
   "id": "b52031e3",
   "metadata": {},
   "outputs": [
    {
     "data": {
      "text/plain": [
       "device_brand              object\n",
       "os                        object\n",
       "screen_size              float64\n",
       "4g                        object\n",
       "5g                        object\n",
       "rear_camera_mp           float64\n",
       "front_camera_mp          float64\n",
       "internal_memory          float64\n",
       "ram                      float64\n",
       "battery                  float64\n",
       "weight                   float64\n",
       "release_year               int64\n",
       "days_used                  int64\n",
       "normalized_used_price    float64\n",
       "normalized_new_price     float64\n",
       "dtype: object"
      ]
     },
     "execution_count": 5,
     "metadata": {},
     "output_type": "execute_result"
    }
   ],
   "source": [
    "df.dtypes"
   ]
  },
  {
   "cell_type": "code",
   "execution_count": 6,
   "id": "dd302d1f",
   "metadata": {},
   "outputs": [
    {
     "data": {
      "text/html": [
       "<div>\n",
       "<style scoped>\n",
       "    .dataframe tbody tr th:only-of-type {\n",
       "        vertical-align: middle;\n",
       "    }\n",
       "\n",
       "    .dataframe tbody tr th {\n",
       "        vertical-align: top;\n",
       "    }\n",
       "\n",
       "    .dataframe thead th {\n",
       "        text-align: right;\n",
       "    }\n",
       "</style>\n",
       "<table border=\"1\" class=\"dataframe\">\n",
       "  <thead>\n",
       "    <tr style=\"text-align: right;\">\n",
       "      <th></th>\n",
       "      <th>device_brand</th>\n",
       "      <th>os</th>\n",
       "      <th>screen_size</th>\n",
       "      <th>4g</th>\n",
       "      <th>5g</th>\n",
       "      <th>rear_camera_mp</th>\n",
       "      <th>front_camera_mp</th>\n",
       "      <th>internal_memory</th>\n",
       "      <th>ram</th>\n",
       "      <th>battery</th>\n",
       "      <th>weight</th>\n",
       "      <th>release_year</th>\n",
       "      <th>days_used</th>\n",
       "      <th>normalized_used_price</th>\n",
       "      <th>normalized_new_price</th>\n",
       "    </tr>\n",
       "  </thead>\n",
       "  <tbody>\n",
       "    <tr>\n",
       "      <th>count</th>\n",
       "      <td>3454</td>\n",
       "      <td>3454</td>\n",
       "      <td>3454.000000</td>\n",
       "      <td>3454</td>\n",
       "      <td>3454</td>\n",
       "      <td>3275.000000</td>\n",
       "      <td>3452.000000</td>\n",
       "      <td>3450.000000</td>\n",
       "      <td>3450.000000</td>\n",
       "      <td>3448.000000</td>\n",
       "      <td>3447.000000</td>\n",
       "      <td>3454.000000</td>\n",
       "      <td>3454.000000</td>\n",
       "      <td>3454.000000</td>\n",
       "      <td>3454.000000</td>\n",
       "    </tr>\n",
       "    <tr>\n",
       "      <th>unique</th>\n",
       "      <td>34</td>\n",
       "      <td>4</td>\n",
       "      <td>NaN</td>\n",
       "      <td>2</td>\n",
       "      <td>2</td>\n",
       "      <td>NaN</td>\n",
       "      <td>NaN</td>\n",
       "      <td>NaN</td>\n",
       "      <td>NaN</td>\n",
       "      <td>NaN</td>\n",
       "      <td>NaN</td>\n",
       "      <td>NaN</td>\n",
       "      <td>NaN</td>\n",
       "      <td>NaN</td>\n",
       "      <td>NaN</td>\n",
       "    </tr>\n",
       "    <tr>\n",
       "      <th>top</th>\n",
       "      <td>Others</td>\n",
       "      <td>Android</td>\n",
       "      <td>NaN</td>\n",
       "      <td>yes</td>\n",
       "      <td>no</td>\n",
       "      <td>NaN</td>\n",
       "      <td>NaN</td>\n",
       "      <td>NaN</td>\n",
       "      <td>NaN</td>\n",
       "      <td>NaN</td>\n",
       "      <td>NaN</td>\n",
       "      <td>NaN</td>\n",
       "      <td>NaN</td>\n",
       "      <td>NaN</td>\n",
       "      <td>NaN</td>\n",
       "    </tr>\n",
       "    <tr>\n",
       "      <th>freq</th>\n",
       "      <td>502</td>\n",
       "      <td>3214</td>\n",
       "      <td>NaN</td>\n",
       "      <td>2335</td>\n",
       "      <td>3302</td>\n",
       "      <td>NaN</td>\n",
       "      <td>NaN</td>\n",
       "      <td>NaN</td>\n",
       "      <td>NaN</td>\n",
       "      <td>NaN</td>\n",
       "      <td>NaN</td>\n",
       "      <td>NaN</td>\n",
       "      <td>NaN</td>\n",
       "      <td>NaN</td>\n",
       "      <td>NaN</td>\n",
       "    </tr>\n",
       "    <tr>\n",
       "      <th>mean</th>\n",
       "      <td>NaN</td>\n",
       "      <td>NaN</td>\n",
       "      <td>13.713115</td>\n",
       "      <td>NaN</td>\n",
       "      <td>NaN</td>\n",
       "      <td>9.460208</td>\n",
       "      <td>6.554229</td>\n",
       "      <td>54.573099</td>\n",
       "      <td>4.036122</td>\n",
       "      <td>3133.402697</td>\n",
       "      <td>182.751871</td>\n",
       "      <td>2015.965258</td>\n",
       "      <td>674.869716</td>\n",
       "      <td>4.364712</td>\n",
       "      <td>5.233107</td>\n",
       "    </tr>\n",
       "    <tr>\n",
       "      <th>std</th>\n",
       "      <td>NaN</td>\n",
       "      <td>NaN</td>\n",
       "      <td>3.805280</td>\n",
       "      <td>NaN</td>\n",
       "      <td>NaN</td>\n",
       "      <td>4.815461</td>\n",
       "      <td>6.970372</td>\n",
       "      <td>84.972371</td>\n",
       "      <td>1.365105</td>\n",
       "      <td>1299.682844</td>\n",
       "      <td>88.413228</td>\n",
       "      <td>2.298455</td>\n",
       "      <td>248.580166</td>\n",
       "      <td>0.588914</td>\n",
       "      <td>0.683637</td>\n",
       "    </tr>\n",
       "    <tr>\n",
       "      <th>min</th>\n",
       "      <td>NaN</td>\n",
       "      <td>NaN</td>\n",
       "      <td>5.080000</td>\n",
       "      <td>NaN</td>\n",
       "      <td>NaN</td>\n",
       "      <td>0.080000</td>\n",
       "      <td>0.000000</td>\n",
       "      <td>0.010000</td>\n",
       "      <td>0.020000</td>\n",
       "      <td>500.000000</td>\n",
       "      <td>69.000000</td>\n",
       "      <td>2013.000000</td>\n",
       "      <td>91.000000</td>\n",
       "      <td>1.536867</td>\n",
       "      <td>2.901422</td>\n",
       "    </tr>\n",
       "    <tr>\n",
       "      <th>25%</th>\n",
       "      <td>NaN</td>\n",
       "      <td>NaN</td>\n",
       "      <td>12.700000</td>\n",
       "      <td>NaN</td>\n",
       "      <td>NaN</td>\n",
       "      <td>5.000000</td>\n",
       "      <td>2.000000</td>\n",
       "      <td>16.000000</td>\n",
       "      <td>4.000000</td>\n",
       "      <td>2100.000000</td>\n",
       "      <td>142.000000</td>\n",
       "      <td>2014.000000</td>\n",
       "      <td>533.500000</td>\n",
       "      <td>4.033931</td>\n",
       "      <td>4.790342</td>\n",
       "    </tr>\n",
       "    <tr>\n",
       "      <th>50%</th>\n",
       "      <td>NaN</td>\n",
       "      <td>NaN</td>\n",
       "      <td>12.830000</td>\n",
       "      <td>NaN</td>\n",
       "      <td>NaN</td>\n",
       "      <td>8.000000</td>\n",
       "      <td>5.000000</td>\n",
       "      <td>32.000000</td>\n",
       "      <td>4.000000</td>\n",
       "      <td>3000.000000</td>\n",
       "      <td>160.000000</td>\n",
       "      <td>2015.500000</td>\n",
       "      <td>690.500000</td>\n",
       "      <td>4.405133</td>\n",
       "      <td>5.245892</td>\n",
       "    </tr>\n",
       "    <tr>\n",
       "      <th>75%</th>\n",
       "      <td>NaN</td>\n",
       "      <td>NaN</td>\n",
       "      <td>15.340000</td>\n",
       "      <td>NaN</td>\n",
       "      <td>NaN</td>\n",
       "      <td>13.000000</td>\n",
       "      <td>8.000000</td>\n",
       "      <td>64.000000</td>\n",
       "      <td>4.000000</td>\n",
       "      <td>4000.000000</td>\n",
       "      <td>185.000000</td>\n",
       "      <td>2018.000000</td>\n",
       "      <td>868.750000</td>\n",
       "      <td>4.755700</td>\n",
       "      <td>5.673718</td>\n",
       "    </tr>\n",
       "    <tr>\n",
       "      <th>max</th>\n",
       "      <td>NaN</td>\n",
       "      <td>NaN</td>\n",
       "      <td>30.710000</td>\n",
       "      <td>NaN</td>\n",
       "      <td>NaN</td>\n",
       "      <td>48.000000</td>\n",
       "      <td>32.000000</td>\n",
       "      <td>1024.000000</td>\n",
       "      <td>12.000000</td>\n",
       "      <td>9720.000000</td>\n",
       "      <td>855.000000</td>\n",
       "      <td>2020.000000</td>\n",
       "      <td>1094.000000</td>\n",
       "      <td>6.619433</td>\n",
       "      <td>7.847841</td>\n",
       "    </tr>\n",
       "  </tbody>\n",
       "</table>\n",
       "</div>"
      ],
      "text/plain": [
       "       device_brand       os  screen_size    4g    5g  rear_camera_mp  \\\n",
       "count          3454     3454  3454.000000  3454  3454     3275.000000   \n",
       "unique           34        4          NaN     2     2             NaN   \n",
       "top          Others  Android          NaN   yes    no             NaN   \n",
       "freq            502     3214          NaN  2335  3302             NaN   \n",
       "mean            NaN      NaN    13.713115   NaN   NaN        9.460208   \n",
       "std             NaN      NaN     3.805280   NaN   NaN        4.815461   \n",
       "min             NaN      NaN     5.080000   NaN   NaN        0.080000   \n",
       "25%             NaN      NaN    12.700000   NaN   NaN        5.000000   \n",
       "50%             NaN      NaN    12.830000   NaN   NaN        8.000000   \n",
       "75%             NaN      NaN    15.340000   NaN   NaN       13.000000   \n",
       "max             NaN      NaN    30.710000   NaN   NaN       48.000000   \n",
       "\n",
       "        front_camera_mp  internal_memory          ram      battery  \\\n",
       "count       3452.000000      3450.000000  3450.000000  3448.000000   \n",
       "unique              NaN              NaN          NaN          NaN   \n",
       "top                 NaN              NaN          NaN          NaN   \n",
       "freq                NaN              NaN          NaN          NaN   \n",
       "mean           6.554229        54.573099     4.036122  3133.402697   \n",
       "std            6.970372        84.972371     1.365105  1299.682844   \n",
       "min            0.000000         0.010000     0.020000   500.000000   \n",
       "25%            2.000000        16.000000     4.000000  2100.000000   \n",
       "50%            5.000000        32.000000     4.000000  3000.000000   \n",
       "75%            8.000000        64.000000     4.000000  4000.000000   \n",
       "max           32.000000      1024.000000    12.000000  9720.000000   \n",
       "\n",
       "             weight  release_year    days_used  normalized_used_price  \\\n",
       "count   3447.000000   3454.000000  3454.000000            3454.000000   \n",
       "unique          NaN           NaN          NaN                    NaN   \n",
       "top             NaN           NaN          NaN                    NaN   \n",
       "freq            NaN           NaN          NaN                    NaN   \n",
       "mean     182.751871   2015.965258   674.869716               4.364712   \n",
       "std       88.413228      2.298455   248.580166               0.588914   \n",
       "min       69.000000   2013.000000    91.000000               1.536867   \n",
       "25%      142.000000   2014.000000   533.500000               4.033931   \n",
       "50%      160.000000   2015.500000   690.500000               4.405133   \n",
       "75%      185.000000   2018.000000   868.750000               4.755700   \n",
       "max      855.000000   2020.000000  1094.000000               6.619433   \n",
       "\n",
       "        normalized_new_price  \n",
       "count            3454.000000  \n",
       "unique                   NaN  \n",
       "top                      NaN  \n",
       "freq                     NaN  \n",
       "mean                5.233107  \n",
       "std                 0.683637  \n",
       "min                 2.901422  \n",
       "25%                 4.790342  \n",
       "50%                 5.245892  \n",
       "75%                 5.673718  \n",
       "max                 7.847841  "
      ]
     },
     "execution_count": 6,
     "metadata": {},
     "output_type": "execute_result"
    }
   ],
   "source": [
    "df.describe(include = 'all')"
   ]
  },
  {
   "cell_type": "code",
   "execution_count": 7,
   "id": "8a968693",
   "metadata": {},
   "outputs": [
    {
     "name": "stdout",
     "output_type": "stream",
     "text": [
      "<class 'pandas.core.frame.DataFrame'>\n",
      "RangeIndex: 3454 entries, 0 to 3453\n",
      "Data columns (total 15 columns):\n",
      " #   Column                 Non-Null Count  Dtype  \n",
      "---  ------                 --------------  -----  \n",
      " 0   device_brand           3454 non-null   object \n",
      " 1   os                     3454 non-null   object \n",
      " 2   screen_size            3454 non-null   float64\n",
      " 3   4g                     3454 non-null   object \n",
      " 4   5g                     3454 non-null   object \n",
      " 5   rear_camera_mp         3275 non-null   float64\n",
      " 6   front_camera_mp        3452 non-null   float64\n",
      " 7   internal_memory        3450 non-null   float64\n",
      " 8   ram                    3450 non-null   float64\n",
      " 9   battery                3448 non-null   float64\n",
      " 10  weight                 3447 non-null   float64\n",
      " 11  release_year           3454 non-null   int64  \n",
      " 12  days_used              3454 non-null   int64  \n",
      " 13  normalized_used_price  3454 non-null   float64\n",
      " 14  normalized_new_price   3454 non-null   float64\n",
      "dtypes: float64(9), int64(2), object(4)\n",
      "memory usage: 404.9+ KB\n"
     ]
    }
   ],
   "source": [
    "df.info()"
   ]
  },
  {
   "cell_type": "markdown",
   "id": "7e6c04d7",
   "metadata": {},
   "source": [
    "<h1>HANDLING OF MISSING VALUES</h1>"
   ]
  },
  {
   "cell_type": "code",
   "execution_count": 8,
   "id": "973f39b5",
   "metadata": {},
   "outputs": [
    {
     "data": {
      "text/plain": [
       "device_brand               0\n",
       "os                         0\n",
       "screen_size                0\n",
       "4g                         0\n",
       "5g                         0\n",
       "rear_camera_mp           179\n",
       "front_camera_mp            2\n",
       "internal_memory            4\n",
       "ram                        4\n",
       "battery                    6\n",
       "weight                     7\n",
       "release_year               0\n",
       "days_used                  0\n",
       "normalized_used_price      0\n",
       "normalized_new_price       0\n",
       "dtype: int64"
      ]
     },
     "execution_count": 8,
     "metadata": {},
     "output_type": "execute_result"
    }
   ],
   "source": [
    "df.isnull().sum()"
   ]
  },
  {
   "cell_type": "markdown",
   "id": "b69865bd",
   "metadata": {},
   "source": [
    "<h3>Analysis of Methods for Handling Missing Data</h3>\n",
    "Examining the differences between methods and determining the most effective approach for handling missing data."
   ]
  },
  {
   "cell_type": "code",
   "execution_count": 9,
   "id": "19773417",
   "metadata": {},
   "outputs": [
    {
     "data": {
      "text/plain": [
       "rear_camera_mp        9.460208\n",
       "front_camera_mp       6.554229\n",
       "internal_memory      54.573099\n",
       "ram                   4.036122\n",
       "battery            3133.402697\n",
       "weight              182.751871\n",
       "dtype: float64"
      ]
     },
     "execution_count": 9,
     "metadata": {},
     "output_type": "execute_result"
    }
   ],
   "source": [
    "df[['rear_camera_mp','front_camera_mp', 'internal_memory', 'ram', 'battery', 'weight']].mean()"
   ]
  },
  {
   "cell_type": "code",
   "execution_count": 10,
   "id": "17257f3c",
   "metadata": {},
   "outputs": [
    {
     "data": {
      "text/plain": [
       "rear_camera_mp        8.0\n",
       "front_camera_mp       5.0\n",
       "internal_memory      32.0\n",
       "ram                   4.0\n",
       "battery            3000.0\n",
       "weight              160.0\n",
       "dtype: float64"
      ]
     },
     "execution_count": 10,
     "metadata": {},
     "output_type": "execute_result"
    }
   ],
   "source": [
    "df[['rear_camera_mp','front_camera_mp', 'internal_memory', 'ram', 'battery', 'weight']].median()"
   ]
  },
  {
   "cell_type": "code",
   "execution_count": 11,
   "id": "91294018",
   "metadata": {},
   "outputs": [
    {
     "data": {
      "text/html": [
       "<div>\n",
       "<style scoped>\n",
       "    .dataframe tbody tr th:only-of-type {\n",
       "        vertical-align: middle;\n",
       "    }\n",
       "\n",
       "    .dataframe tbody tr th {\n",
       "        vertical-align: top;\n",
       "    }\n",
       "\n",
       "    .dataframe thead th {\n",
       "        text-align: right;\n",
       "    }\n",
       "</style>\n",
       "<table border=\"1\" class=\"dataframe\">\n",
       "  <thead>\n",
       "    <tr style=\"text-align: right;\">\n",
       "      <th></th>\n",
       "      <th>rear_camera_mp</th>\n",
       "      <th>front_camera_mp</th>\n",
       "      <th>internal_memory</th>\n",
       "      <th>ram</th>\n",
       "      <th>battery</th>\n",
       "      <th>weight</th>\n",
       "    </tr>\n",
       "  </thead>\n",
       "  <tbody>\n",
       "    <tr>\n",
       "      <th>0</th>\n",
       "      <td>13.0</td>\n",
       "      <td>5.0</td>\n",
       "      <td>16.0</td>\n",
       "      <td>4.0</td>\n",
       "      <td>4000.0</td>\n",
       "      <td>150.0</td>\n",
       "    </tr>\n",
       "  </tbody>\n",
       "</table>\n",
       "</div>"
      ],
      "text/plain": [
       "   rear_camera_mp  front_camera_mp  internal_memory  ram  battery  weight\n",
       "0            13.0              5.0             16.0  4.0   4000.0   150.0"
      ]
     },
     "execution_count": 11,
     "metadata": {},
     "output_type": "execute_result"
    }
   ],
   "source": [
    "df[['rear_camera_mp','front_camera_mp', 'internal_memory', 'ram', 'battery', 'weight']].mode()"
   ]
  },
  {
   "cell_type": "code",
   "execution_count": 12,
   "id": "6040af5c",
   "metadata": {},
   "outputs": [
    {
     "data": {
      "text/plain": [
       "(13.0, 16.0, 64.0, 4.0, 4000.0, 196.8)"
      ]
     },
     "execution_count": 12,
     "metadata": {},
     "output_type": "execute_result"
    }
   ],
   "source": [
    "df[['rear_camera_mp','front_camera_mp', 'internal_memory', 'ram', 'battery', 'weight']].value_counts().idxmax()"
   ]
  },
  {
   "cell_type": "code",
   "execution_count": 13,
   "id": "9b2a00d3",
   "metadata": {},
   "outputs": [
    {
     "data": {
      "text/plain": [
       "rear_camera_mp       0.08\n",
       "front_camera_mp      0.00\n",
       "internal_memory      0.01\n",
       "ram                  0.02\n",
       "battery            500.00\n",
       "weight              69.00\n",
       "dtype: float64"
      ]
     },
     "execution_count": 13,
     "metadata": {},
     "output_type": "execute_result"
    }
   ],
   "source": [
    "df[['rear_camera_mp','front_camera_mp', 'internal_memory', 'ram', 'battery', 'weight']].min()"
   ]
  },
  {
   "cell_type": "code",
   "execution_count": 14,
   "id": "56fd8602",
   "metadata": {},
   "outputs": [
    {
     "data": {
      "text/plain": [
       "rear_camera_mp       48.0\n",
       "front_camera_mp      32.0\n",
       "internal_memory    1024.0\n",
       "ram                  12.0\n",
       "battery            9720.0\n",
       "weight              855.0\n",
       "dtype: float64"
      ]
     },
     "execution_count": 14,
     "metadata": {},
     "output_type": "execute_result"
    }
   ],
   "source": [
    "df[['rear_camera_mp','front_camera_mp', 'internal_memory', 'ram', 'battery', 'weight']].max()"
   ]
  },
  {
   "cell_type": "code",
   "execution_count": 15,
   "id": "443bb463",
   "metadata": {},
   "outputs": [],
   "source": [
    "#missing_data = df.isnull().sum().sort_values(ascending = False)\n",
    "#missing_data\n"
   ]
  },
  {
   "cell_type": "markdown",
   "id": "5055acb9",
   "metadata": {},
   "source": [
    "<h3>REPLACING THE MISSING DATA</h3>"
   ]
  },
  {
   "cell_type": "markdown",
   "id": "0a438357",
   "metadata": {},
   "source": [
    "Replace the missing data by getting the most frequent value of <b>\"rear_camera_mp\"</b>"
   ]
  },
  {
   "cell_type": "code",
   "execution_count": 16,
   "id": "84b1b911",
   "metadata": {},
   "outputs": [
    {
     "data": {
      "text/plain": [
       "0"
      ]
     },
     "execution_count": 16,
     "metadata": {},
     "output_type": "execute_result"
    }
   ],
   "source": [
    "df[\"rear_camera_mp\"].replace(np.nan, 13.0 , inplace = True )\n",
    "df[\"rear_camera_mp\"].isnull().sum()"
   ]
  },
  {
   "cell_type": "markdown",
   "id": "b10f0839",
   "metadata": {},
   "source": [
    "Replace the missing data by getting the most frequent value of <b>\"front_camera_mp\"</b>"
   ]
  },
  {
   "cell_type": "code",
   "execution_count": 17,
   "id": "3422bb5d",
   "metadata": {},
   "outputs": [
    {
     "data": {
      "text/plain": [
       "0"
      ]
     },
     "execution_count": 17,
     "metadata": {},
     "output_type": "execute_result"
    }
   ],
   "source": [
    "df[\"front_camera_mp\"].replace(np.nan, 5.0, inplace = True )\n",
    "df[\"front_camera_mp\"].isnull().sum()"
   ]
  },
  {
   "cell_type": "markdown",
   "id": "bfc665ec",
   "metadata": {},
   "source": [
    "Replace the missing data by getting the most frequent value of <b>\"internal_memory\"</b>"
   ]
  },
  {
   "cell_type": "code",
   "execution_count": 18,
   "id": "46004270",
   "metadata": {},
   "outputs": [
    {
     "data": {
      "text/plain": [
       "0"
      ]
     },
     "execution_count": 18,
     "metadata": {},
     "output_type": "execute_result"
    }
   ],
   "source": [
    "df[\"internal_memory\"].replace(np.nan, 16.0, inplace = True )\n",
    "df[\"internal_memory\"].isnull().sum()"
   ]
  },
  {
   "cell_type": "markdown",
   "id": "230cbdf2",
   "metadata": {},
   "source": [
    "Replace the missing data by getting the most frequent value of <b>\"ram\"</b>"
   ]
  },
  {
   "cell_type": "code",
   "execution_count": 19,
   "id": "6d0e53fc",
   "metadata": {},
   "outputs": [
    {
     "data": {
      "text/plain": [
       "0"
      ]
     },
     "execution_count": 19,
     "metadata": {},
     "output_type": "execute_result"
    }
   ],
   "source": [
    "df[\"ram\"].replace(np.nan, 4.0, inplace = True )\n",
    "df[\"ram\"].isnull().sum()"
   ]
  },
  {
   "cell_type": "markdown",
   "id": "5cc91a0c",
   "metadata": {},
   "source": [
    "Replace the missing data by getting the mean of <b>\"battery\"</b>"
   ]
  },
  {
   "cell_type": "code",
   "execution_count": 20,
   "id": "99095d3a",
   "metadata": {},
   "outputs": [
    {
     "data": {
      "text/plain": [
       "0"
      ]
     },
     "execution_count": 20,
     "metadata": {},
     "output_type": "execute_result"
    }
   ],
   "source": [
    "df[\"battery\"].replace(np.nan, 3133.402697, inplace = True )\n",
    "df[\"battery\"].isnull().sum()"
   ]
  },
  {
   "cell_type": "markdown",
   "id": "4336a8a1",
   "metadata": {},
   "source": [
    "Replace the missing data by getting the mean of <b>\"weight\"</b>"
   ]
  },
  {
   "cell_type": "code",
   "execution_count": 21,
   "id": "598f165c",
   "metadata": {},
   "outputs": [
    {
     "data": {
      "text/plain": [
       "0"
      ]
     },
     "execution_count": 21,
     "metadata": {},
     "output_type": "execute_result"
    }
   ],
   "source": [
    "df[\"weight\"].replace(np.nan,  182.751871, inplace = True )\n",
    "df[\"weight\"].isnull().sum()"
   ]
  },
  {
   "cell_type": "markdown",
   "id": "e60caee3",
   "metadata": {},
   "source": [
    "<h4>Validating no missing data</h4>"
   ]
  },
  {
   "cell_type": "code",
   "execution_count": 22,
   "id": "4944cd94",
   "metadata": {
    "scrolled": true
   },
   "outputs": [
    {
     "data": {
      "text/plain": [
       "device_brand             0\n",
       "os                       0\n",
       "screen_size              0\n",
       "4g                       0\n",
       "5g                       0\n",
       "rear_camera_mp           0\n",
       "front_camera_mp          0\n",
       "internal_memory          0\n",
       "ram                      0\n",
       "battery                  0\n",
       "weight                   0\n",
       "release_year             0\n",
       "days_used                0\n",
       "normalized_used_price    0\n",
       "normalized_new_price     0\n",
       "dtype: int64"
      ]
     },
     "execution_count": 22,
     "metadata": {},
     "output_type": "execute_result"
    }
   ],
   "source": [
    "df.isnull().sum()"
   ]
  },
  {
   "cell_type": "markdown",
   "id": "787a3bf2",
   "metadata": {},
   "source": [
    "<h1>DATA NORMALIZATION</h1>"
   ]
  },
  {
   "cell_type": "code",
   "execution_count": 23,
   "id": "7acb0737",
   "metadata": {},
   "outputs": [
    {
     "data": {
      "text/html": [
       "<div>\n",
       "<style scoped>\n",
       "    .dataframe tbody tr th:only-of-type {\n",
       "        vertical-align: middle;\n",
       "    }\n",
       "\n",
       "    .dataframe tbody tr th {\n",
       "        vertical-align: top;\n",
       "    }\n",
       "\n",
       "    .dataframe thead th {\n",
       "        text-align: right;\n",
       "    }\n",
       "</style>\n",
       "<table border=\"1\" class=\"dataframe\">\n",
       "  <thead>\n",
       "    <tr style=\"text-align: right;\">\n",
       "      <th></th>\n",
       "      <th>device_brand</th>\n",
       "      <th>os</th>\n",
       "      <th>screen_size</th>\n",
       "      <th>4g</th>\n",
       "      <th>5g</th>\n",
       "      <th>rear_camera_mp</th>\n",
       "      <th>front_camera_mp</th>\n",
       "      <th>internal_memory</th>\n",
       "      <th>ram</th>\n",
       "      <th>battery</th>\n",
       "      <th>weight</th>\n",
       "      <th>release_year</th>\n",
       "      <th>days_used</th>\n",
       "      <th>normalized_used_price</th>\n",
       "      <th>normalized_new_price</th>\n",
       "    </tr>\n",
       "  </thead>\n",
       "  <tbody>\n",
       "    <tr>\n",
       "      <th>0</th>\n",
       "      <td>Honor</td>\n",
       "      <td>Android</td>\n",
       "      <td>0.472159</td>\n",
       "      <td>yes</td>\n",
       "      <td>no</td>\n",
       "      <td>0.270833</td>\n",
       "      <td>0.15625</td>\n",
       "      <td>0.062500</td>\n",
       "      <td>0.250000</td>\n",
       "      <td>0.310700</td>\n",
       "      <td>0.170760</td>\n",
       "      <td>1.000000</td>\n",
       "      <td>0.116088</td>\n",
       "      <td>4.307572</td>\n",
       "      <td>4.715100</td>\n",
       "    </tr>\n",
       "    <tr>\n",
       "      <th>1</th>\n",
       "      <td>Honor</td>\n",
       "      <td>Android</td>\n",
       "      <td>0.563334</td>\n",
       "      <td>yes</td>\n",
       "      <td>yes</td>\n",
       "      <td>0.270833</td>\n",
       "      <td>0.50000</td>\n",
       "      <td>0.125000</td>\n",
       "      <td>0.666667</td>\n",
       "      <td>0.442387</td>\n",
       "      <td>0.249123</td>\n",
       "      <td>1.000000</td>\n",
       "      <td>0.297075</td>\n",
       "      <td>5.162097</td>\n",
       "      <td>5.519018</td>\n",
       "    </tr>\n",
       "    <tr>\n",
       "      <th>2</th>\n",
       "      <td>Honor</td>\n",
       "      <td>Android</td>\n",
       "      <td>0.543471</td>\n",
       "      <td>yes</td>\n",
       "      <td>yes</td>\n",
       "      <td>0.270833</td>\n",
       "      <td>0.25000</td>\n",
       "      <td>0.125000</td>\n",
       "      <td>0.666667</td>\n",
       "      <td>0.432099</td>\n",
       "      <td>0.249123</td>\n",
       "      <td>1.000000</td>\n",
       "      <td>0.148080</td>\n",
       "      <td>5.111084</td>\n",
       "      <td>5.884631</td>\n",
       "    </tr>\n",
       "    <tr>\n",
       "      <th>3</th>\n",
       "      <td>Honor</td>\n",
       "      <td>Android</td>\n",
       "      <td>0.830348</td>\n",
       "      <td>yes</td>\n",
       "      <td>yes</td>\n",
       "      <td>0.270833</td>\n",
       "      <td>0.25000</td>\n",
       "      <td>0.062500</td>\n",
       "      <td>0.500000</td>\n",
       "      <td>0.745885</td>\n",
       "      <td>0.561404</td>\n",
       "      <td>1.000000</td>\n",
       "      <td>0.315356</td>\n",
       "      <td>5.135387</td>\n",
       "      <td>5.630961</td>\n",
       "    </tr>\n",
       "    <tr>\n",
       "      <th>4</th>\n",
       "      <td>Honor</td>\n",
       "      <td>Android</td>\n",
       "      <td>0.498860</td>\n",
       "      <td>yes</td>\n",
       "      <td>no</td>\n",
       "      <td>0.270833</td>\n",
       "      <td>0.25000</td>\n",
       "      <td>0.062500</td>\n",
       "      <td>0.250000</td>\n",
       "      <td>0.514403</td>\n",
       "      <td>0.216374</td>\n",
       "      <td>1.000000</td>\n",
       "      <td>0.267824</td>\n",
       "      <td>4.389995</td>\n",
       "      <td>4.947837</td>\n",
       "    </tr>\n",
       "    <tr>\n",
       "      <th>...</th>\n",
       "      <td>...</td>\n",
       "      <td>...</td>\n",
       "      <td>...</td>\n",
       "      <td>...</td>\n",
       "      <td>...</td>\n",
       "      <td>...</td>\n",
       "      <td>...</td>\n",
       "      <td>...</td>\n",
       "      <td>...</td>\n",
       "      <td>...</td>\n",
       "      <td>...</td>\n",
       "      <td>...</td>\n",
       "      <td>...</td>\n",
       "      <td>...</td>\n",
       "      <td>...</td>\n",
       "    </tr>\n",
       "    <tr>\n",
       "      <th>3449</th>\n",
       "      <td>Asus</td>\n",
       "      <td>Android</td>\n",
       "      <td>0.499512</td>\n",
       "      <td>yes</td>\n",
       "      <td>no</td>\n",
       "      <td>0.270833</td>\n",
       "      <td>0.25000</td>\n",
       "      <td>0.062500</td>\n",
       "      <td>0.500000</td>\n",
       "      <td>0.514403</td>\n",
       "      <td>0.222222</td>\n",
       "      <td>0.999505</td>\n",
       "      <td>0.212066</td>\n",
       "      <td>4.492337</td>\n",
       "      <td>6.483872</td>\n",
       "    </tr>\n",
       "    <tr>\n",
       "      <th>3450</th>\n",
       "      <td>Asus</td>\n",
       "      <td>Android</td>\n",
       "      <td>0.496255</td>\n",
       "      <td>yes</td>\n",
       "      <td>no</td>\n",
       "      <td>0.270833</td>\n",
       "      <td>0.25000</td>\n",
       "      <td>0.125000</td>\n",
       "      <td>0.666667</td>\n",
       "      <td>0.411523</td>\n",
       "      <td>0.233918</td>\n",
       "      <td>0.999010</td>\n",
       "      <td>0.494516</td>\n",
       "      <td>5.037732</td>\n",
       "      <td>6.251538</td>\n",
       "    </tr>\n",
       "    <tr>\n",
       "      <th>3451</th>\n",
       "      <td>Alcatel</td>\n",
       "      <td>Android</td>\n",
       "      <td>0.514490</td>\n",
       "      <td>yes</td>\n",
       "      <td>no</td>\n",
       "      <td>0.270833</td>\n",
       "      <td>0.15625</td>\n",
       "      <td>0.031250</td>\n",
       "      <td>0.250000</td>\n",
       "      <td>0.411523</td>\n",
       "      <td>0.192982</td>\n",
       "      <td>1.000000</td>\n",
       "      <td>0.183729</td>\n",
       "      <td>4.357350</td>\n",
       "      <td>4.528829</td>\n",
       "    </tr>\n",
       "    <tr>\n",
       "      <th>3452</th>\n",
       "      <td>Alcatel</td>\n",
       "      <td>Android</td>\n",
       "      <td>0.514490</td>\n",
       "      <td>yes</td>\n",
       "      <td>no</td>\n",
       "      <td>0.270833</td>\n",
       "      <td>0.15625</td>\n",
       "      <td>0.031250</td>\n",
       "      <td>0.166667</td>\n",
       "      <td>0.411523</td>\n",
       "      <td>0.187135</td>\n",
       "      <td>1.000000</td>\n",
       "      <td>0.136197</td>\n",
       "      <td>4.349762</td>\n",
       "      <td>4.624188</td>\n",
       "    </tr>\n",
       "    <tr>\n",
       "      <th>3453</th>\n",
       "      <td>Alcatel</td>\n",
       "      <td>Android</td>\n",
       "      <td>0.417779</td>\n",
       "      <td>yes</td>\n",
       "      <td>no</td>\n",
       "      <td>0.270833</td>\n",
       "      <td>0.15625</td>\n",
       "      <td>0.015625</td>\n",
       "      <td>0.166667</td>\n",
       "      <td>0.411523</td>\n",
       "      <td>0.196491</td>\n",
       "      <td>1.000000</td>\n",
       "      <td>0.160878</td>\n",
       "      <td>4.132122</td>\n",
       "      <td>4.279994</td>\n",
       "    </tr>\n",
       "  </tbody>\n",
       "</table>\n",
       "<p>3454 rows × 15 columns</p>\n",
       "</div>"
      ],
      "text/plain": [
       "     device_brand       os  screen_size   4g   5g  rear_camera_mp  \\\n",
       "0           Honor  Android     0.472159  yes   no        0.270833   \n",
       "1           Honor  Android     0.563334  yes  yes        0.270833   \n",
       "2           Honor  Android     0.543471  yes  yes        0.270833   \n",
       "3           Honor  Android     0.830348  yes  yes        0.270833   \n",
       "4           Honor  Android     0.498860  yes   no        0.270833   \n",
       "...           ...      ...          ...  ...  ...             ...   \n",
       "3449         Asus  Android     0.499512  yes   no        0.270833   \n",
       "3450         Asus  Android     0.496255  yes   no        0.270833   \n",
       "3451      Alcatel  Android     0.514490  yes   no        0.270833   \n",
       "3452      Alcatel  Android     0.514490  yes   no        0.270833   \n",
       "3453      Alcatel  Android     0.417779  yes   no        0.270833   \n",
       "\n",
       "      front_camera_mp  internal_memory       ram   battery    weight  \\\n",
       "0             0.15625         0.062500  0.250000  0.310700  0.170760   \n",
       "1             0.50000         0.125000  0.666667  0.442387  0.249123   \n",
       "2             0.25000         0.125000  0.666667  0.432099  0.249123   \n",
       "3             0.25000         0.062500  0.500000  0.745885  0.561404   \n",
       "4             0.25000         0.062500  0.250000  0.514403  0.216374   \n",
       "...               ...              ...       ...       ...       ...   \n",
       "3449          0.25000         0.062500  0.500000  0.514403  0.222222   \n",
       "3450          0.25000         0.125000  0.666667  0.411523  0.233918   \n",
       "3451          0.15625         0.031250  0.250000  0.411523  0.192982   \n",
       "3452          0.15625         0.031250  0.166667  0.411523  0.187135   \n",
       "3453          0.15625         0.015625  0.166667  0.411523  0.196491   \n",
       "\n",
       "      release_year  days_used  normalized_used_price  normalized_new_price  \n",
       "0         1.000000   0.116088               4.307572              4.715100  \n",
       "1         1.000000   0.297075               5.162097              5.519018  \n",
       "2         1.000000   0.148080               5.111084              5.884631  \n",
       "3         1.000000   0.315356               5.135387              5.630961  \n",
       "4         1.000000   0.267824               4.389995              4.947837  \n",
       "...            ...        ...                    ...                   ...  \n",
       "3449      0.999505   0.212066               4.492337              6.483872  \n",
       "3450      0.999010   0.494516               5.037732              6.251538  \n",
       "3451      1.000000   0.183729               4.357350              4.528829  \n",
       "3452      1.000000   0.136197               4.349762              4.624188  \n",
       "3453      1.000000   0.160878               4.132122              4.279994  \n",
       "\n",
       "[3454 rows x 15 columns]"
      ]
     },
     "execution_count": 23,
     "metadata": {},
     "output_type": "execute_result"
    }
   ],
   "source": [
    "df['screen_size'] = df['screen_size']/df['screen_size'].max()\n",
    "df['rear_camera_mp'] = df['rear_camera_mp']/df['rear_camera_mp'].max()\n",
    "df['front_camera_mp'] = df['front_camera_mp']/df['front_camera_mp'].max()\n",
    "df['internal_memory'] = df['internal_memory']/df['internal_memory'].max()\n",
    "df['ram'] = df['ram']/df['ram'].max()\n",
    "df['battery'] = df['battery']/df['battery'].max()\n",
    "df['weight'] = df['weight']/df['weight'].max()\n",
    "df['release_year'] = df['release_year']/df['release_year'].max()\n",
    "df['days_used'] = df['days_used']/df['days_used'].max()\n",
    "\n",
    "df"
   ]
  },
  {
   "cell_type": "markdown",
   "id": "fae7b5f6",
   "metadata": {},
   "source": [
    "<h1>CORRELATION OF  DATA</h1>\n",
    "Pearson's Correlation"
   ]
  },
  {
   "cell_type": "code",
   "execution_count": 24,
   "id": "2ee324b0",
   "metadata": {},
   "outputs": [],
   "source": [
    "%%capture\n",
    "! pip install seaborn"
   ]
  },
  {
   "cell_type": "code",
   "execution_count": 25,
   "id": "b5b17df6",
   "metadata": {},
   "outputs": [],
   "source": [
    "%matplotlib inline "
   ]
  },
  {
   "cell_type": "code",
   "execution_count": 26,
   "id": "39523259",
   "metadata": {
    "scrolled": true
   },
   "outputs": [
    {
     "data": {
      "text/html": [
       "<div>\n",
       "<style scoped>\n",
       "    .dataframe tbody tr th:only-of-type {\n",
       "        vertical-align: middle;\n",
       "    }\n",
       "\n",
       "    .dataframe tbody tr th {\n",
       "        vertical-align: top;\n",
       "    }\n",
       "\n",
       "    .dataframe thead th {\n",
       "        text-align: right;\n",
       "    }\n",
       "</style>\n",
       "<table border=\"1\" class=\"dataframe\">\n",
       "  <thead>\n",
       "    <tr style=\"text-align: right;\">\n",
       "      <th></th>\n",
       "      <th>screen_size</th>\n",
       "      <th>rear_camera_mp</th>\n",
       "      <th>front_camera_mp</th>\n",
       "      <th>internal_memory</th>\n",
       "      <th>ram</th>\n",
       "      <th>battery</th>\n",
       "      <th>weight</th>\n",
       "      <th>release_year</th>\n",
       "      <th>days_used</th>\n",
       "      <th>normalized_used_price</th>\n",
       "      <th>normalized_new_price</th>\n",
       "    </tr>\n",
       "  </thead>\n",
       "  <tbody>\n",
       "    <tr>\n",
       "      <th>screen_size</th>\n",
       "      <td>1.000000</td>\n",
       "      <td>0.168353</td>\n",
       "      <td>0.271615</td>\n",
       "      <td>0.072195</td>\n",
       "      <td>0.273810</td>\n",
       "      <td>0.811192</td>\n",
       "      <td>0.828743</td>\n",
       "      <td>0.364223</td>\n",
       "      <td>-0.291723</td>\n",
       "      <td>0.614785</td>\n",
       "      <td>0.460889</td>\n",
       "    </tr>\n",
       "    <tr>\n",
       "      <th>rear_camera_mp</th>\n",
       "      <td>0.168353</td>\n",
       "      <td>1.000000</td>\n",
       "      <td>0.438985</td>\n",
       "      <td>0.040689</td>\n",
       "      <td>0.266467</td>\n",
       "      <td>0.272401</td>\n",
       "      <td>-0.083351</td>\n",
       "      <td>0.384425</td>\n",
       "      <td>-0.191985</td>\n",
       "      <td>0.590368</td>\n",
       "      <td>0.535344</td>\n",
       "    </tr>\n",
       "    <tr>\n",
       "      <th>front_camera_mp</th>\n",
       "      <td>0.271615</td>\n",
       "      <td>0.438985</td>\n",
       "      <td>1.000000</td>\n",
       "      <td>0.296713</td>\n",
       "      <td>0.477191</td>\n",
       "      <td>0.369562</td>\n",
       "      <td>-0.004970</td>\n",
       "      <td>0.690661</td>\n",
       "      <td>-0.552377</td>\n",
       "      <td>0.607548</td>\n",
       "      <td>0.474444</td>\n",
       "    </tr>\n",
       "    <tr>\n",
       "      <th>internal_memory</th>\n",
       "      <td>0.072195</td>\n",
       "      <td>0.040689</td>\n",
       "      <td>0.296713</td>\n",
       "      <td>1.000000</td>\n",
       "      <td>0.123406</td>\n",
       "      <td>0.118358</td>\n",
       "      <td>0.015398</td>\n",
       "      <td>0.235097</td>\n",
       "      <td>-0.242279</td>\n",
       "      <td>0.191520</td>\n",
       "      <td>0.196537</td>\n",
       "    </tr>\n",
       "    <tr>\n",
       "      <th>ram</th>\n",
       "      <td>0.273810</td>\n",
       "      <td>0.266467</td>\n",
       "      <td>0.477191</td>\n",
       "      <td>0.123406</td>\n",
       "      <td>1.000000</td>\n",
       "      <td>0.280135</td>\n",
       "      <td>0.089893</td>\n",
       "      <td>0.313829</td>\n",
       "      <td>-0.279737</td>\n",
       "      <td>0.518783</td>\n",
       "      <td>0.530363</td>\n",
       "    </tr>\n",
       "    <tr>\n",
       "      <th>battery</th>\n",
       "      <td>0.811192</td>\n",
       "      <td>0.272401</td>\n",
       "      <td>0.369562</td>\n",
       "      <td>0.118358</td>\n",
       "      <td>0.280135</td>\n",
       "      <td>1.000000</td>\n",
       "      <td>0.699590</td>\n",
       "      <td>0.488387</td>\n",
       "      <td>-0.370416</td>\n",
       "      <td>0.611962</td>\n",
       "      <td>0.469685</td>\n",
       "    </tr>\n",
       "    <tr>\n",
       "      <th>weight</th>\n",
       "      <td>0.828743</td>\n",
       "      <td>-0.083351</td>\n",
       "      <td>-0.004970</td>\n",
       "      <td>0.015398</td>\n",
       "      <td>0.089893</td>\n",
       "      <td>0.699590</td>\n",
       "      <td>1.000000</td>\n",
       "      <td>0.071278</td>\n",
       "      <td>-0.067413</td>\n",
       "      <td>0.382143</td>\n",
       "      <td>0.269263</td>\n",
       "    </tr>\n",
       "    <tr>\n",
       "      <th>release_year</th>\n",
       "      <td>0.364223</td>\n",
       "      <td>0.384425</td>\n",
       "      <td>0.690661</td>\n",
       "      <td>0.235097</td>\n",
       "      <td>0.313829</td>\n",
       "      <td>0.488387</td>\n",
       "      <td>0.071278</td>\n",
       "      <td>1.000000</td>\n",
       "      <td>-0.750390</td>\n",
       "      <td>0.509790</td>\n",
       "      <td>0.303689</td>\n",
       "    </tr>\n",
       "    <tr>\n",
       "      <th>days_used</th>\n",
       "      <td>-0.291723</td>\n",
       "      <td>-0.191985</td>\n",
       "      <td>-0.552377</td>\n",
       "      <td>-0.242279</td>\n",
       "      <td>-0.279737</td>\n",
       "      <td>-0.370416</td>\n",
       "      <td>-0.067413</td>\n",
       "      <td>-0.750390</td>\n",
       "      <td>1.000000</td>\n",
       "      <td>-0.358264</td>\n",
       "      <td>-0.216625</td>\n",
       "    </tr>\n",
       "    <tr>\n",
       "      <th>normalized_used_price</th>\n",
       "      <td>0.614785</td>\n",
       "      <td>0.590368</td>\n",
       "      <td>0.607548</td>\n",
       "      <td>0.191520</td>\n",
       "      <td>0.518783</td>\n",
       "      <td>0.611962</td>\n",
       "      <td>0.382143</td>\n",
       "      <td>0.509790</td>\n",
       "      <td>-0.358264</td>\n",
       "      <td>1.000000</td>\n",
       "      <td>0.834496</td>\n",
       "    </tr>\n",
       "    <tr>\n",
       "      <th>normalized_new_price</th>\n",
       "      <td>0.460889</td>\n",
       "      <td>0.535344</td>\n",
       "      <td>0.474444</td>\n",
       "      <td>0.196537</td>\n",
       "      <td>0.530363</td>\n",
       "      <td>0.469685</td>\n",
       "      <td>0.269263</td>\n",
       "      <td>0.303689</td>\n",
       "      <td>-0.216625</td>\n",
       "      <td>0.834496</td>\n",
       "      <td>1.000000</td>\n",
       "    </tr>\n",
       "  </tbody>\n",
       "</table>\n",
       "</div>"
      ],
      "text/plain": [
       "                       screen_size  rear_camera_mp  front_camera_mp  \\\n",
       "screen_size               1.000000        0.168353         0.271615   \n",
       "rear_camera_mp            0.168353        1.000000         0.438985   \n",
       "front_camera_mp           0.271615        0.438985         1.000000   \n",
       "internal_memory           0.072195        0.040689         0.296713   \n",
       "ram                       0.273810        0.266467         0.477191   \n",
       "battery                   0.811192        0.272401         0.369562   \n",
       "weight                    0.828743       -0.083351        -0.004970   \n",
       "release_year              0.364223        0.384425         0.690661   \n",
       "days_used                -0.291723       -0.191985        -0.552377   \n",
       "normalized_used_price     0.614785        0.590368         0.607548   \n",
       "normalized_new_price      0.460889        0.535344         0.474444   \n",
       "\n",
       "                       internal_memory       ram   battery    weight  \\\n",
       "screen_size                   0.072195  0.273810  0.811192  0.828743   \n",
       "rear_camera_mp                0.040689  0.266467  0.272401 -0.083351   \n",
       "front_camera_mp               0.296713  0.477191  0.369562 -0.004970   \n",
       "internal_memory               1.000000  0.123406  0.118358  0.015398   \n",
       "ram                           0.123406  1.000000  0.280135  0.089893   \n",
       "battery                       0.118358  0.280135  1.000000  0.699590   \n",
       "weight                        0.015398  0.089893  0.699590  1.000000   \n",
       "release_year                  0.235097  0.313829  0.488387  0.071278   \n",
       "days_used                    -0.242279 -0.279737 -0.370416 -0.067413   \n",
       "normalized_used_price         0.191520  0.518783  0.611962  0.382143   \n",
       "normalized_new_price          0.196537  0.530363  0.469685  0.269263   \n",
       "\n",
       "                       release_year  days_used  normalized_used_price  \\\n",
       "screen_size                0.364223  -0.291723               0.614785   \n",
       "rear_camera_mp             0.384425  -0.191985               0.590368   \n",
       "front_camera_mp            0.690661  -0.552377               0.607548   \n",
       "internal_memory            0.235097  -0.242279               0.191520   \n",
       "ram                        0.313829  -0.279737               0.518783   \n",
       "battery                    0.488387  -0.370416               0.611962   \n",
       "weight                     0.071278  -0.067413               0.382143   \n",
       "release_year               1.000000  -0.750390               0.509790   \n",
       "days_used                 -0.750390   1.000000              -0.358264   \n",
       "normalized_used_price      0.509790  -0.358264               1.000000   \n",
       "normalized_new_price       0.303689  -0.216625               0.834496   \n",
       "\n",
       "                       normalized_new_price  \n",
       "screen_size                        0.460889  \n",
       "rear_camera_mp                     0.535344  \n",
       "front_camera_mp                    0.474444  \n",
       "internal_memory                    0.196537  \n",
       "ram                                0.530363  \n",
       "battery                            0.469685  \n",
       "weight                             0.269263  \n",
       "release_year                       0.303689  \n",
       "days_used                         -0.216625  \n",
       "normalized_used_price              0.834496  \n",
       "normalized_new_price               1.000000  "
      ]
     },
     "execution_count": 26,
     "metadata": {},
     "output_type": "execute_result"
    }
   ],
   "source": [
    "# To determine the correlation between variables\n",
    "df.corr(numeric_only = True)"
   ]
  },
  {
   "cell_type": "markdown",
   "id": "4fee387b",
   "metadata": {},
   "source": [
    "<h1>Analysis For SCREEN SIZE</h1>"
   ]
  },
  {
   "cell_type": "code",
   "execution_count": 27,
   "id": "d2f6321c",
   "metadata": {},
   "outputs": [
    {
     "data": {
      "text/plain": [
       "(0.0, 6.8735612911)"
      ]
     },
     "execution_count": 27,
     "metadata": {},
     "output_type": "execute_result"
    },
    {
     "data": {
      "image/png": "[encoded data removed]",
      "text/plain": [
       "<Figure size 640x480 with 1 Axes>"
      ]
     },
     "metadata": {},
     "output_type": "display_data"
    }
   ],
   "source": [
    "sns.regplot(x = \"screen_size\", y = \"normalized_used_price\", data = df)\n",
    "plt.ylim(0,)"
   ]
  },
  {
   "cell_type": "code",
   "execution_count": 28,
   "id": "ac9a0900",
   "metadata": {},
   "outputs": [
    {
     "data": {
      "text/html": [
       "<div>\n",
       "<style scoped>\n",
       "    .dataframe tbody tr th:only-of-type {\n",
       "        vertical-align: middle;\n",
       "    }\n",
       "\n",
       "    .dataframe tbody tr th {\n",
       "        vertical-align: top;\n",
       "    }\n",
       "\n",
       "    .dataframe thead th {\n",
       "        text-align: right;\n",
       "    }\n",
       "</style>\n",
       "<table border=\"1\" class=\"dataframe\">\n",
       "  <thead>\n",
       "    <tr style=\"text-align: right;\">\n",
       "      <th></th>\n",
       "      <th>screen_size</th>\n",
       "      <th>normalized_used_price</th>\n",
       "    </tr>\n",
       "  </thead>\n",
       "  <tbody>\n",
       "    <tr>\n",
       "      <th>screen_size</th>\n",
       "      <td>1.000000</td>\n",
       "      <td>0.614785</td>\n",
       "    </tr>\n",
       "    <tr>\n",
       "      <th>normalized_used_price</th>\n",
       "      <td>0.614785</td>\n",
       "      <td>1.000000</td>\n",
       "    </tr>\n",
       "  </tbody>\n",
       "</table>\n",
       "</div>"
      ],
      "text/plain": [
       "                       screen_size  normalized_used_price\n",
       "screen_size               1.000000               0.614785\n",
       "normalized_used_price     0.614785               1.000000"
      ]
     },
     "execution_count": 28,
     "metadata": {},
     "output_type": "execute_result"
    }
   ],
   "source": [
    "df[[\"screen_size\", \"normalized_used_price\"]].corr()"
   ]
  },
  {
   "cell_type": "code",
   "execution_count": 29,
   "id": "0002c7b5",
   "metadata": {},
   "outputs": [
    {
     "name": "stdout",
     "output_type": "stream",
     "text": [
      "The Pearson Coefficient of Correlation is 0.6147847018380188 with a P-value of 0.0\n"
     ]
    }
   ],
   "source": [
    "# To calculate the Pearson Correlation Coefficient and the P-Value between screen size and price\n",
    "pearson_coefficient, p_value = stats.pearsonr(df[\"screen_size\"], df[\"normalized_used_price\"])\n",
    "\n",
    "# To display the results\n",
    "print(\"The Pearson Coefficient of Correlation is\", pearson_coefficient, \"with a P-value of\", p_value)"
   ]
  },
  {
   "cell_type": "markdown",
   "id": "b8413c04",
   "metadata": {},
   "source": [
    "<h1>Analysis For REAR CAMERA MP</h1>"
   ]
  },
  {
   "cell_type": "code",
   "execution_count": 30,
   "id": "ab936350",
   "metadata": {},
   "outputs": [
    {
     "data": {
      "text/plain": [
       "(0.0, 7.656763723117129)"
      ]
     },
     "execution_count": 30,
     "metadata": {},
     "output_type": "execute_result"
    },
    {
     "data": {
      "image/png": "[encoded data removed]",
      "text/plain": [
       "<Figure size 640x480 with 1 Axes>"
      ]
     },
     "metadata": {},
     "output_type": "display_data"
    }
   ],
   "source": [
    "sns.regplot(x = \"rear_camera_mp\", y = \"normalized_used_price\", data = df)\n",
    "plt.ylim(0,)"
   ]
  },
  {
   "cell_type": "code",
   "execution_count": 31,
   "id": "05678b17",
   "metadata": {},
   "outputs": [
    {
     "data": {
      "text/html": [
       "<div>\n",
       "<style scoped>\n",
       "    .dataframe tbody tr th:only-of-type {\n",
       "        vertical-align: middle;\n",
       "    }\n",
       "\n",
       "    .dataframe tbody tr th {\n",
       "        vertical-align: top;\n",
       "    }\n",
       "\n",
       "    .dataframe thead th {\n",
       "        text-align: right;\n",
       "    }\n",
       "</style>\n",
       "<table border=\"1\" class=\"dataframe\">\n",
       "  <thead>\n",
       "    <tr style=\"text-align: right;\">\n",
       "      <th></th>\n",
       "      <th>rear_camera_mp</th>\n",
       "      <th>normalized_used_price</th>\n",
       "    </tr>\n",
       "  </thead>\n",
       "  <tbody>\n",
       "    <tr>\n",
       "      <th>rear_camera_mp</th>\n",
       "      <td>1.000000</td>\n",
       "      <td>0.590368</td>\n",
       "    </tr>\n",
       "    <tr>\n",
       "      <th>normalized_used_price</th>\n",
       "      <td>0.590368</td>\n",
       "      <td>1.000000</td>\n",
       "    </tr>\n",
       "  </tbody>\n",
       "</table>\n",
       "</div>"
      ],
      "text/plain": [
       "                       rear_camera_mp  normalized_used_price\n",
       "rear_camera_mp               1.000000               0.590368\n",
       "normalized_used_price        0.590368               1.000000"
      ]
     },
     "execution_count": 31,
     "metadata": {},
     "output_type": "execute_result"
    }
   ],
   "source": [
    "df[[\"rear_camera_mp\", \"normalized_used_price\"]].corr()"
   ]
  },
  {
   "cell_type": "code",
   "execution_count": 32,
   "id": "7983dbf6",
   "metadata": {},
   "outputs": [
    {
     "name": "stdout",
     "output_type": "stream",
     "text": [
      "The Pearson Coefficient of Correlation is 0.590367750564414 with a P-value of 1e-323\n"
     ]
    }
   ],
   "source": [
    "# To calculate the Pearson Correlation Coefficient and the P-Value between rear camera mp and price\n",
    "pearson_coefficient, p_value = stats.pearsonr(df[\"rear_camera_mp\"], df[\"normalized_used_price\"])\n",
    "\n",
    "# To display the results\n",
    "print(\"The Pearson Coefficient of Correlation is\", pearson_coefficient, \"with a P-value of\", p_value)"
   ]
  },
  {
   "cell_type": "markdown",
   "id": "39b29bf8",
   "metadata": {},
   "source": [
    "<h1>Analysis For FRONT CAMERA MP</h1>"
   ]
  },
  {
   "cell_type": "code",
   "execution_count": 33,
   "id": "2cbd74b7",
   "metadata": {},
   "outputs": [
    {
     "data": {
      "text/plain": [
       "(0.0, 6.8735612911)"
      ]
     },
     "execution_count": 33,
     "metadata": {},
     "output_type": "execute_result"
    },
    {
     "data": {
      "image/png": "[encoded data removed]",
      "text/plain": [
       "<Figure size 640x480 with 1 Axes>"
      ]
     },
     "metadata": {},
     "output_type": "display_data"
    }
   ],
   "source": [
    "sns.regplot(x = \"front_camera_mp\", y = \"normalized_used_price\", data = df)\n",
    "plt.ylim(0,)"
   ]
  },
  {
   "cell_type": "code",
   "execution_count": 34,
   "id": "04fb5cfa",
   "metadata": {},
   "outputs": [
    {
     "data": {
      "text/html": [
       "<div>\n",
       "<style scoped>\n",
       "    .dataframe tbody tr th:only-of-type {\n",
       "        vertical-align: middle;\n",
       "    }\n",
       "\n",
       "    .dataframe tbody tr th {\n",
       "        vertical-align: top;\n",
       "    }\n",
       "\n",
       "    .dataframe thead th {\n",
       "        text-align: right;\n",
       "    }\n",
       "</style>\n",
       "<table border=\"1\" class=\"dataframe\">\n",
       "  <thead>\n",
       "    <tr style=\"text-align: right;\">\n",
       "      <th></th>\n",
       "      <th>front_camera_mp</th>\n",
       "      <th>normalized_used_price</th>\n",
       "    </tr>\n",
       "  </thead>\n",
       "  <tbody>\n",
       "    <tr>\n",
       "      <th>front_camera_mp</th>\n",
       "      <td>1.000000</td>\n",
       "      <td>0.607548</td>\n",
       "    </tr>\n",
       "    <tr>\n",
       "      <th>normalized_used_price</th>\n",
       "      <td>0.607548</td>\n",
       "      <td>1.000000</td>\n",
       "    </tr>\n",
       "  </tbody>\n",
       "</table>\n",
       "</div>"
      ],
      "text/plain": [
       "                       front_camera_mp  normalized_used_price\n",
       "front_camera_mp               1.000000               0.607548\n",
       "normalized_used_price         0.607548               1.000000"
      ]
     },
     "execution_count": 34,
     "metadata": {},
     "output_type": "execute_result"
    }
   ],
   "source": [
    "df[[\"front_camera_mp\", \"normalized_used_price\"]].corr()"
   ]
  },
  {
   "cell_type": "code",
   "execution_count": 35,
   "id": "07521c31",
   "metadata": {},
   "outputs": [
    {
     "name": "stdout",
     "output_type": "stream",
     "text": [
      "The Pearson Coefficient of Correlation is 0.6075479413450074 with a P-value of 0.0\n"
     ]
    }
   ],
   "source": [
    "# To calculate the Pearson Correlation Coefficient and the P-Value between front camera mp and price\n",
    "pearson_coefficient, p_value = stats.pearsonr(df[\"front_camera_mp\"], df[\"normalized_used_price\"])\n",
    "\n",
    "# To display the results\n",
    "print(\"The Pearson Coefficient of Correlation is\", pearson_coefficient, \"with a P-value of\", p_value)"
   ]
  },
  {
   "cell_type": "markdown",
   "id": "c729468f",
   "metadata": {},
   "source": [
    "<h1>Analysis For INTERNAL MEMORY</h1>"
   ]
  },
  {
   "cell_type": "code",
   "execution_count": 36,
   "id": "1cf97859",
   "metadata": {},
   "outputs": [
    {
     "data": {
      "text/plain": [
       "(0.0, 6.8735612911)"
      ]
     },
     "execution_count": 36,
     "metadata": {},
     "output_type": "execute_result"
    },
    {
     "data": {
      "image/png": "[encoded data removed]",
      "text/plain": [
       "<Figure size 640x480 with 1 Axes>"
      ]
     },
     "metadata": {},
     "output_type": "display_data"
    }
   ],
   "source": [
    "sns.regplot(x = \"internal_memory\", y = \"normalized_used_price\", data = df)\n",
    "plt.ylim(0,)"
   ]
  },
  {
   "cell_type": "code",
   "execution_count": 37,
   "id": "30fa9b1a",
   "metadata": {},
   "outputs": [
    {
     "data": {
      "text/html": [
       "<div>\n",
       "<style scoped>\n",
       "    .dataframe tbody tr th:only-of-type {\n",
       "        vertical-align: middle;\n",
       "    }\n",
       "\n",
       "    .dataframe tbody tr th {\n",
       "        vertical-align: top;\n",
       "    }\n",
       "\n",
       "    .dataframe thead th {\n",
       "        text-align: right;\n",
       "    }\n",
       "</style>\n",
       "<table border=\"1\" class=\"dataframe\">\n",
       "  <thead>\n",
       "    <tr style=\"text-align: right;\">\n",
       "      <th></th>\n",
       "      <th>internal_memory</th>\n",
       "      <th>normalized_used_price</th>\n",
       "    </tr>\n",
       "  </thead>\n",
       "  <tbody>\n",
       "    <tr>\n",
       "      <th>internal_memory</th>\n",
       "      <td>1.00000</td>\n",
       "      <td>0.19152</td>\n",
       "    </tr>\n",
       "    <tr>\n",
       "      <th>normalized_used_price</th>\n",
       "      <td>0.19152</td>\n",
       "      <td>1.00000</td>\n",
       "    </tr>\n",
       "  </tbody>\n",
       "</table>\n",
       "</div>"
      ],
      "text/plain": [
       "                       internal_memory  normalized_used_price\n",
       "internal_memory                1.00000                0.19152\n",
       "normalized_used_price          0.19152                1.00000"
      ]
     },
     "execution_count": 37,
     "metadata": {},
     "output_type": "execute_result"
    }
   ],
   "source": [
    "df[[\"internal_memory\", \"normalized_used_price\"]].corr()"
   ]
  },
  {
   "cell_type": "code",
   "execution_count": 38,
   "id": "b3081a34",
   "metadata": {},
   "outputs": [
    {
     "name": "stdout",
     "output_type": "stream",
     "text": [
      "The Pearson Coefficient of Correlation is 0.191520043629971 with a P-value of 6.846835476118925e-30\n"
     ]
    }
   ],
   "source": [
    "# To calculate the Pearson Correlation Coefficient and the P-Value between internal memory and price\n",
    "pearson_coefficient, p_value = stats.pearsonr(df[\"internal_memory\"], df[\"normalized_used_price\"])\n",
    "\n",
    "# To display the results\n",
    "print(\"The Pearson Coefficient of Correlation is\", pearson_coefficient, \"with a P-value of\", p_value)"
   ]
  },
  {
   "cell_type": "markdown",
   "id": "b56e8d78",
   "metadata": {},
   "source": [
    "<h1>Analysis For RAM</h1>"
   ]
  },
  {
   "cell_type": "code",
   "execution_count": 39,
   "id": "ceef6957",
   "metadata": {},
   "outputs": [
    {
     "data": {
      "text/plain": [
       "(0.0, 6.8735612911)"
      ]
     },
     "execution_count": 39,
     "metadata": {},
     "output_type": "execute_result"
    },
    {
     "data": {
      "image/png": "[encoded data removed]",
      "text/plain": [
       "<Figure size 640x480 with 1 Axes>"
      ]
     },
     "metadata": {},
     "output_type": "display_data"
    }
   ],
   "source": [
    "sns.regplot(x = \"ram\", y = \"normalized_used_price\", data = df)\n",
    "plt.ylim(0,)"
   ]
  },
  {
   "cell_type": "code",
   "execution_count": 40,
   "id": "0587c754",
   "metadata": {},
   "outputs": [
    {
     "data": {
      "text/html": [
       "<div>\n",
       "<style scoped>\n",
       "    .dataframe tbody tr th:only-of-type {\n",
       "        vertical-align: middle;\n",
       "    }\n",
       "\n",
       "    .dataframe tbody tr th {\n",
       "        vertical-align: top;\n",
       "    }\n",
       "\n",
       "    .dataframe thead th {\n",
       "        text-align: right;\n",
       "    }\n",
       "</style>\n",
       "<table border=\"1\" class=\"dataframe\">\n",
       "  <thead>\n",
       "    <tr style=\"text-align: right;\">\n",
       "      <th></th>\n",
       "      <th>ram</th>\n",
       "      <th>normalized_used_price</th>\n",
       "    </tr>\n",
       "  </thead>\n",
       "  <tbody>\n",
       "    <tr>\n",
       "      <th>ram</th>\n",
       "      <td>1.000000</td>\n",
       "      <td>0.518783</td>\n",
       "    </tr>\n",
       "    <tr>\n",
       "      <th>normalized_used_price</th>\n",
       "      <td>0.518783</td>\n",
       "      <td>1.000000</td>\n",
       "    </tr>\n",
       "  </tbody>\n",
       "</table>\n",
       "</div>"
      ],
      "text/plain": [
       "                            ram  normalized_used_price\n",
       "ram                    1.000000               0.518783\n",
       "normalized_used_price  0.518783               1.000000"
      ]
     },
     "execution_count": 40,
     "metadata": {},
     "output_type": "execute_result"
    }
   ],
   "source": [
    "df[[\"ram\", \"normalized_used_price\"]].corr()"
   ]
  },
  {
   "cell_type": "code",
   "execution_count": 41,
   "id": "9f094b82",
   "metadata": {},
   "outputs": [
    {
     "name": "stdout",
     "output_type": "stream",
     "text": [
      "The Pearson Coefficient of Correlation is 0.5187828975342947 with a P-value of 2.510616951660657e-237\n"
     ]
    }
   ],
   "source": [
    "# To calculate the Pearson Correlation Coefficient and the P-Value between ram and price\n",
    "pearson_coefficient, p_value = stats.pearsonr(df[\"ram\"], df[\"normalized_used_price\"])\n",
    "\n",
    "# To display the results\n",
    "print(\"The Pearson Coefficient of Correlation is\", pearson_coefficient, \"with a P-value of\", p_value)"
   ]
  },
  {
   "cell_type": "markdown",
   "id": "ea3a09b8",
   "metadata": {},
   "source": [
    "<h1>Analysis For BATTERY</h1>"
   ]
  },
  {
   "cell_type": "code",
   "execution_count": 42,
   "id": "309af257",
   "metadata": {},
   "outputs": [
    {
     "data": {
      "text/plain": [
       "(0.0, 6.8735612911)"
      ]
     },
     "execution_count": 42,
     "metadata": {},
     "output_type": "execute_result"
    },
    {
     "data": {
      "image/png": "[encoded data removed]",
      "text/plain": [
       "<Figure size 640x480 with 1 Axes>"
      ]
     },
     "metadata": {},
     "output_type": "display_data"
    }
   ],
   "source": [
    "sns.regplot(x = \"battery\", y = \"normalized_used_price\", data = df)\n",
    "plt.ylim(0,)"
   ]
  },
  {
   "cell_type": "code",
   "execution_count": 43,
   "id": "d3bbf2f0",
   "metadata": {},
   "outputs": [
    {
     "data": {
      "text/html": [
       "<div>\n",
       "<style scoped>\n",
       "    .dataframe tbody tr th:only-of-type {\n",
       "        vertical-align: middle;\n",
       "    }\n",
       "\n",
       "    .dataframe tbody tr th {\n",
       "        vertical-align: top;\n",
       "    }\n",
       "\n",
       "    .dataframe thead th {\n",
       "        text-align: right;\n",
       "    }\n",
       "</style>\n",
       "<table border=\"1\" class=\"dataframe\">\n",
       "  <thead>\n",
       "    <tr style=\"text-align: right;\">\n",
       "      <th></th>\n",
       "      <th>battery</th>\n",
       "      <th>normalized_used_price</th>\n",
       "    </tr>\n",
       "  </thead>\n",
       "  <tbody>\n",
       "    <tr>\n",
       "      <th>battery</th>\n",
       "      <td>1.000000</td>\n",
       "      <td>0.611962</td>\n",
       "    </tr>\n",
       "    <tr>\n",
       "      <th>normalized_used_price</th>\n",
       "      <td>0.611962</td>\n",
       "      <td>1.000000</td>\n",
       "    </tr>\n",
       "  </tbody>\n",
       "</table>\n",
       "</div>"
      ],
      "text/plain": [
       "                        battery  normalized_used_price\n",
       "battery                1.000000               0.611962\n",
       "normalized_used_price  0.611962               1.000000"
      ]
     },
     "execution_count": 43,
     "metadata": {},
     "output_type": "execute_result"
    }
   ],
   "source": [
    "df[[\"battery\", \"normalized_used_price\"]].corr()"
   ]
  },
  {
   "cell_type": "code",
   "execution_count": 44,
   "id": "5ccf59be",
   "metadata": {},
   "outputs": [
    {
     "name": "stdout",
     "output_type": "stream",
     "text": [
      "The Pearson Coefficient of Correlation is 0.6119615939002389 with a P-value of 0.0\n"
     ]
    }
   ],
   "source": [
    "# To calculate the Pearson Correlation Coefficient and the P-Value between battery and price\n",
    "pearson_coefficient, p_value = stats.pearsonr(df[\"battery\"], df[\"normalized_used_price\"])\n",
    "\n",
    "# To display the results\n",
    "print(\"The Pearson Coefficient of Correlation is\", pearson_coefficient, \"with a P-value of\", p_value)"
   ]
  },
  {
   "cell_type": "markdown",
   "id": "92ee6c3f",
   "metadata": {},
   "source": [
    "<h1>Analysis For WEIGHT</h1>"
   ]
  },
  {
   "cell_type": "code",
   "execution_count": 45,
   "id": "6885130f",
   "metadata": {},
   "outputs": [
    {
     "data": {
      "text/plain": [
       "(0.0, 6.8735612911)"
      ]
     },
     "execution_count": 45,
     "metadata": {},
     "output_type": "execute_result"
    },
    {
     "data": {
      "image/png": "[encoded data removed]",
      "text/plain": [
       "<Figure size 640x480 with 1 Axes>"
      ]
     },
     "metadata": {},
     "output_type": "display_data"
    }
   ],
   "source": [
    "sns.regplot(x = \"weight\", y = \"normalized_used_price\", data = df)\n",
    "plt.ylim(0,)"
   ]
  },
  {
   "cell_type": "code",
   "execution_count": 46,
   "id": "8c9c452f",
   "metadata": {},
   "outputs": [
    {
     "data": {
      "text/html": [
       "<div>\n",
       "<style scoped>\n",
       "    .dataframe tbody tr th:only-of-type {\n",
       "        vertical-align: middle;\n",
       "    }\n",
       "\n",
       "    .dataframe tbody tr th {\n",
       "        vertical-align: top;\n",
       "    }\n",
       "\n",
       "    .dataframe thead th {\n",
       "        text-align: right;\n",
       "    }\n",
       "</style>\n",
       "<table border=\"1\" class=\"dataframe\">\n",
       "  <thead>\n",
       "    <tr style=\"text-align: right;\">\n",
       "      <th></th>\n",
       "      <th>weight</th>\n",
       "      <th>normalized_used_price</th>\n",
       "    </tr>\n",
       "  </thead>\n",
       "  <tbody>\n",
       "    <tr>\n",
       "      <th>weight</th>\n",
       "      <td>1.000000</td>\n",
       "      <td>0.382143</td>\n",
       "    </tr>\n",
       "    <tr>\n",
       "      <th>normalized_used_price</th>\n",
       "      <td>0.382143</td>\n",
       "      <td>1.000000</td>\n",
       "    </tr>\n",
       "  </tbody>\n",
       "</table>\n",
       "</div>"
      ],
      "text/plain": [
       "                         weight  normalized_used_price\n",
       "weight                 1.000000               0.382143\n",
       "normalized_used_price  0.382143               1.000000"
      ]
     },
     "execution_count": 46,
     "metadata": {},
     "output_type": "execute_result"
    }
   ],
   "source": [
    "df[[\"weight\", \"normalized_used_price\"]].corr()"
   ]
  },
  {
   "cell_type": "code",
   "execution_count": 47,
   "id": "78a89003",
   "metadata": {},
   "outputs": [
    {
     "name": "stdout",
     "output_type": "stream",
     "text": [
      "The Pearson Coefficient of Correlation is 0.38214302395765937 with a P-value of 1.6480811988741017e-120\n"
     ]
    }
   ],
   "source": [
    "# To calculate the Pearson Correlation Coefficient and the P-Value between weight and price\n",
    "pearson_coefficient, p_value = stats.pearsonr(df[\"weight\"], df[\"normalized_used_price\"])\n",
    "\n",
    "# To display the results\n",
    "print(\"The Pearson Coefficient of Correlation is\", pearson_coefficient, \"with a P-value of\", p_value)"
   ]
  },
  {
   "cell_type": "markdown",
   "id": "c803bf35",
   "metadata": {},
   "source": [
    "<h1>Analysis For RELEASE YEAR</h1>"
   ]
  },
  {
   "cell_type": "code",
   "execution_count": 48,
   "id": "3a01854b",
   "metadata": {},
   "outputs": [
    {
     "data": {
      "text/plain": [
       "(0.0, 6.8735612911)"
      ]
     },
     "execution_count": 48,
     "metadata": {},
     "output_type": "execute_result"
    },
    {
     "data": {
      "image/png": "[encoded data removed]",
      "text/plain": [
       "<Figure size 640x480 with 1 Axes>"
      ]
     },
     "metadata": {},
     "output_type": "display_data"
    }
   ],
   "source": [
    "sns.regplot(x = \"release_year\", y = \"normalized_used_price\", data = df)\n",
    "plt.ylim(0,)"
   ]
  },
  {
   "cell_type": "code",
   "execution_count": 49,
   "id": "da1cc58e",
   "metadata": {},
   "outputs": [
    {
     "data": {
      "text/html": [
       "<div>\n",
       "<style scoped>\n",
       "    .dataframe tbody tr th:only-of-type {\n",
       "        vertical-align: middle;\n",
       "    }\n",
       "\n",
       "    .dataframe tbody tr th {\n",
       "        vertical-align: top;\n",
       "    }\n",
       "\n",
       "    .dataframe thead th {\n",
       "        text-align: right;\n",
       "    }\n",
       "</style>\n",
       "<table border=\"1\" class=\"dataframe\">\n",
       "  <thead>\n",
       "    <tr style=\"text-align: right;\">\n",
       "      <th></th>\n",
       "      <th>release_year</th>\n",
       "      <th>normalized_used_price</th>\n",
       "    </tr>\n",
       "  </thead>\n",
       "  <tbody>\n",
       "    <tr>\n",
       "      <th>release_year</th>\n",
       "      <td>1.00000</td>\n",
       "      <td>0.50979</td>\n",
       "    </tr>\n",
       "    <tr>\n",
       "      <th>normalized_used_price</th>\n",
       "      <td>0.50979</td>\n",
       "      <td>1.00000</td>\n",
       "    </tr>\n",
       "  </tbody>\n",
       "</table>\n",
       "</div>"
      ],
      "text/plain": [
       "                       release_year  normalized_used_price\n",
       "release_year                1.00000                0.50979\n",
       "normalized_used_price       0.50979                1.00000"
      ]
     },
     "execution_count": 49,
     "metadata": {},
     "output_type": "execute_result"
    }
   ],
   "source": [
    "df[[\"release_year\", \"normalized_used_price\"]].corr()"
   ]
  },
  {
   "cell_type": "code",
   "execution_count": 50,
   "id": "bf608a82",
   "metadata": {},
   "outputs": [
    {
     "name": "stdout",
     "output_type": "stream",
     "text": [
      "The Pearson Coefficient of Correlation is 0.5097904825970494 with a P-value of 6.826542347504578e-228\n"
     ]
    }
   ],
   "source": [
    "# To calculate the Pearson Correlation Coefficient and the P-Value between release year and price\n",
    "pearson_coefficient, p_value = stats.pearsonr(df[\"release_year\"], df[\"normalized_used_price\"])\n",
    "\n",
    "# To display the results\n",
    "print(\"The Pearson Coefficient of Correlation is\", pearson_coefficient, \"with a P-value of\", p_value)"
   ]
  },
  {
   "cell_type": "markdown",
   "id": "8f51693a",
   "metadata": {},
   "source": [
    "<h1>Analysis For DAYS USED</h1>"
   ]
  },
  {
   "cell_type": "code",
   "execution_count": 51,
   "id": "b59662e3",
   "metadata": {},
   "outputs": [
    {
     "data": {
      "text/plain": [
       "(0.0, 6.8735612911)"
      ]
     },
     "execution_count": 51,
     "metadata": {},
     "output_type": "execute_result"
    },
    {
     "data": {
      "image/png": "[encoded data removed]",
      "text/plain": [
       "<Figure size 640x480 with 1 Axes>"
      ]
     },
     "metadata": {},
     "output_type": "display_data"
    }
   ],
   "source": [
    "sns.regplot(x = \"days_used\", y = \"normalized_used_price\", data = df)\n",
    "plt.ylim(0,)"
   ]
  },
  {
   "cell_type": "code",
   "execution_count": 52,
   "id": "39d328c5",
   "metadata": {},
   "outputs": [
    {
     "data": {
      "text/html": [
       "<div>\n",
       "<style scoped>\n",
       "    .dataframe tbody tr th:only-of-type {\n",
       "        vertical-align: middle;\n",
       "    }\n",
       "\n",
       "    .dataframe tbody tr th {\n",
       "        vertical-align: top;\n",
       "    }\n",
       "\n",
       "    .dataframe thead th {\n",
       "        text-align: right;\n",
       "    }\n",
       "</style>\n",
       "<table border=\"1\" class=\"dataframe\">\n",
       "  <thead>\n",
       "    <tr style=\"text-align: right;\">\n",
       "      <th></th>\n",
       "      <th>days_used</th>\n",
       "      <th>normalized_used_price</th>\n",
       "    </tr>\n",
       "  </thead>\n",
       "  <tbody>\n",
       "    <tr>\n",
       "      <th>days_used</th>\n",
       "      <td>1.000000</td>\n",
       "      <td>-0.358264</td>\n",
       "    </tr>\n",
       "    <tr>\n",
       "      <th>normalized_used_price</th>\n",
       "      <td>-0.358264</td>\n",
       "      <td>1.000000</td>\n",
       "    </tr>\n",
       "  </tbody>\n",
       "</table>\n",
       "</div>"
      ],
      "text/plain": [
       "                       days_used  normalized_used_price\n",
       "days_used               1.000000              -0.358264\n",
       "normalized_used_price  -0.358264               1.000000"
      ]
     },
     "execution_count": 52,
     "metadata": {},
     "output_type": "execute_result"
    }
   ],
   "source": [
    "df[[\"days_used\", \"normalized_used_price\"]].corr()"
   ]
  },
  {
   "cell_type": "code",
   "execution_count": 53,
   "id": "46f0d3c8",
   "metadata": {},
   "outputs": [
    {
     "name": "stdout",
     "output_type": "stream",
     "text": [
      "The Pearson Coefficient of Correlation is -0.3582640944719545 with a P-value of 4.032976044241771e-105\n"
     ]
    }
   ],
   "source": [
    "# To calculate the Pearson Correlation Coefficient and the P-Value between days used and price\n",
    "pearson_coefficient, p_value = stats.pearsonr(df[\"days_used\"], df[\"normalized_used_price\"])\n",
    "\n",
    "# To display the results\n",
    "print(\"The Pearson Coefficient of Correlation is\", pearson_coefficient, \"with a P-value of\", p_value)"
   ]
  },
  {
   "cell_type": "markdown",
   "id": "f13d16a3",
   "metadata": {},
   "source": [
    "<h1>Analysis For NORMALIZED NEW PRICE</h1>"
   ]
  },
  {
   "cell_type": "code",
   "execution_count": 54,
   "id": "940c2645",
   "metadata": {},
   "outputs": [
    {
     "data": {
      "text/plain": [
       "<Axes: xlabel='normalized_new_price', ylabel='normalized_used_price'>"
      ]
     },
     "execution_count": 54,
     "metadata": {},
     "output_type": "execute_result"
    },
    {
     "data": {
      "image/png": "[encoded data removed]",
      "text/plain": [
       "<Figure size 640x480 with 1 Axes>"
      ]
     },
     "metadata": {},
     "output_type": "display_data"
    }
   ],
   "source": [
    "sns.regplot(x = \"normalized_new_price\", y = \"normalized_used_price\", data = df)"
   ]
  },
  {
   "cell_type": "code",
   "execution_count": 55,
   "id": "daccc659",
   "metadata": {},
   "outputs": [
    {
     "data": {
      "text/html": [
       "<div>\n",
       "<style scoped>\n",
       "    .dataframe tbody tr th:only-of-type {\n",
       "        vertical-align: middle;\n",
       "    }\n",
       "\n",
       "    .dataframe tbody tr th {\n",
       "        vertical-align: top;\n",
       "    }\n",
       "\n",
       "    .dataframe thead th {\n",
       "        text-align: right;\n",
       "    }\n",
       "</style>\n",
       "<table border=\"1\" class=\"dataframe\">\n",
       "  <thead>\n",
       "    <tr style=\"text-align: right;\">\n",
       "      <th></th>\n",
       "      <th>normalized_new_price</th>\n",
       "      <th>normalized_used_price</th>\n",
       "    </tr>\n",
       "  </thead>\n",
       "  <tbody>\n",
       "    <tr>\n",
       "      <th>normalized_new_price</th>\n",
       "      <td>1.000000</td>\n",
       "      <td>0.834496</td>\n",
       "    </tr>\n",
       "    <tr>\n",
       "      <th>normalized_used_price</th>\n",
       "      <td>0.834496</td>\n",
       "      <td>1.000000</td>\n",
       "    </tr>\n",
       "  </tbody>\n",
       "</table>\n",
       "</div>"
      ],
      "text/plain": [
       "                       normalized_new_price  normalized_used_price\n",
       "normalized_new_price               1.000000               0.834496\n",
       "normalized_used_price              0.834496               1.000000"
      ]
     },
     "execution_count": 55,
     "metadata": {},
     "output_type": "execute_result"
    }
   ],
   "source": [
    "df[[\"normalized_new_price\", \"normalized_used_price\"]].corr()"
   ]
  },
  {
   "cell_type": "code",
   "execution_count": 56,
   "id": "62ebe27d",
   "metadata": {},
   "outputs": [
    {
     "name": "stdout",
     "output_type": "stream",
     "text": [
      "The Pearson Coefficient of Correlation is 0.8344960187989942 with a P-value of 0.0\n"
     ]
    }
   ],
   "source": [
    "# To calculate the Pearson Correlation Coefficient and the P-Value between normalized new price and price\n",
    "pearson_coefficient, p_value = stats.pearsonr(df[\"normalized_new_price\"], df[\"normalized_used_price\"])\n",
    "\n",
    "# To display the results\n",
    "print(\"The Pearson Coefficient of Correlation is\", pearson_coefficient, \"with a P-value of\", p_value)"
   ]
  },
  {
   "cell_type": "markdown",
   "id": "534658ae",
   "metadata": {},
   "source": [
    "<h1>Analysis For DEVICE BRAND</h1>"
   ]
  },
  {
   "cell_type": "code",
   "execution_count": 57,
   "id": "44e28648",
   "metadata": {},
   "outputs": [
    {
     "data": {
      "text/plain": [
       "<Axes: xlabel='device_brand', ylabel='normalized_used_price'>"
      ]
     },
     "execution_count": 57,
     "metadata": {},
     "output_type": "execute_result"
    },
    {
     "data": {
      "image/png": "[encoded data removed]",
      "text/plain": [
       "<Figure size 640x480 with 1 Axes>"
      ]
     },
     "metadata": {},
     "output_type": "display_data"
    }
   ],
   "source": [
    "# Plot the boxplot between device_brand and normalized_used_price.\n",
    "df[\"device_brand\"].value_counts()\n",
    "\n",
    "sns.boxplot(x = \"device_brand\", y =\"normalized_used_price\", data = df)\n",
    "# device_brand is not predictor"
   ]
  },
  {
   "cell_type": "code",
   "execution_count": 58,
   "id": "4355a818",
   "metadata": {},
   "outputs": [
    {
     "data": {
      "text/plain": [
       "array(['Honor', 'Others', 'HTC', 'Huawei', 'Infinix', 'Lava', 'Lenovo',\n",
       "       'LG', 'Meizu', 'Micromax', 'Motorola', 'Nokia', 'OnePlus', 'Oppo',\n",
       "       'Realme', 'Samsung', 'Vivo', 'Xiaomi', 'ZTE', 'Apple', 'Asus',\n",
       "       'Coolpad', 'Acer', 'Alcatel', 'BlackBerry', 'Celkon', 'Gionee',\n",
       "       'Google', 'Karbonn', 'Microsoft', 'Panasonic', 'Sony', 'Spice',\n",
       "       'XOLO'], dtype=object)"
      ]
     },
     "execution_count": 58,
     "metadata": {},
     "output_type": "execute_result"
    }
   ],
   "source": [
    "df['device_brand'].unique()"
   ]
  },
  {
   "cell_type": "code",
   "execution_count": 59,
   "id": "b8ca37a0",
   "metadata": {},
   "outputs": [
    {
     "name": "stdout",
     "output_type": "stream",
     "text": [
      "ANOVA Results: F =  38.79042408845584 P = 3.697117760839948e-208\n"
     ]
    }
   ],
   "source": [
    "df_group_device_brand = df[[\"device_brand\", \"normalized_used_price\"]]\n",
    "group_device_brand = df_group_device_brand.groupby([\"device_brand\"])\n",
    "\n",
    "# ANOVA\n",
    "honor = group_device_brand.get_group('Honor')['normalized_used_price']\n",
    "others = group_device_brand.get_group('Others')['normalized_used_price']\n",
    "htc = group_device_brand.get_group('HTC')['normalized_used_price']\n",
    "huawei = group_device_brand.get_group('Huawei')['normalized_used_price']\n",
    "infinix = group_device_brand.get_group('Infinix')['normalized_used_price']\n",
    "lava = group_device_brand.get_group('Lava')['normalized_used_price']\n",
    "lenovo = group_device_brand.get_group('Lenovo')['normalized_used_price']\n",
    "lg = group_device_brand.get_group('LG')['normalized_used_price']\n",
    "meizu = group_device_brand.get_group('Meizu')['normalized_used_price']\n",
    "micromax = group_device_brand.get_group('Micromax')['normalized_used_price']\n",
    "motorola = group_device_brand.get_group('Motorola')['normalized_used_price']\n",
    "nokia = group_device_brand.get_group('Nokia')['normalized_used_price']\n",
    "oneplus = group_device_brand.get_group('OnePlus')['normalized_used_price']\n",
    "oppo = group_device_brand.get_group('Oppo')['normalized_used_price']\n",
    "realme = group_device_brand.get_group('Realme')['normalized_used_price']\n",
    "samsung = group_device_brand.get_group('Samsung')['normalized_used_price']\n",
    "vivo = group_device_brand.get_group('Vivo')['normalized_used_price']\n",
    "xiaomi = group_device_brand.get_group('Xiaomi')['normalized_used_price']\n",
    "zte = group_device_brand.get_group('ZTE')['normalized_used_price']\n",
    "apple = group_device_brand.get_group('Apple')['normalized_used_price']\n",
    "asus = group_device_brand.get_group('Asus')['normalized_used_price']\n",
    "coolpad = group_device_brand.get_group('Coolpad')['normalized_used_price']\n",
    "acer = group_device_brand.get_group('Acer')['normalized_used_price']\n",
    "alcatel = group_device_brand.get_group('Alcatel')['normalized_used_price']\n",
    "blackberry = group_device_brand.get_group('BlackBerry')['normalized_used_price']\n",
    "celkon = group_device_brand.get_group('Celkon')['normalized_used_price']\n",
    "gionee = group_device_brand.get_group('Gionee')['normalized_used_price']\n",
    "google = group_device_brand.get_group('Google')['normalized_used_price']\n",
    "karbonn = group_device_brand.get_group('Karbonn')['normalized_used_price']\n",
    "microsoft = group_device_brand.get_group('Microsoft')['normalized_used_price']\n",
    "panasonic = group_device_brand.get_group('Panasonic')['normalized_used_price']\n",
    "sony = group_device_brand.get_group('Sony')['normalized_used_price']\n",
    "spice = group_device_brand.get_group('Spice')['normalized_used_price']\n",
    "xolo = group_device_brand.get_group('XOLO')['normalized_used_price']\n",
    "\n",
    "\n",
    "f_value, p_value = stats.f_oneway(honor, others, htc, huawei, infinix, lava, lenovo, lg, meizu, micromax, motorola, nokia,\n",
    "                                 oneplus, oppo, realme, samsung, vivo, xiaomi, zte, apple, asus, coolpad, acer, alcatel, blackberry,\n",
    "                                 celkon, gionee, google, karbonn, microsoft, panasonic, sony, spice, xolo)\n",
    "\n",
    "# To display the results    \n",
    "print(\"ANOVA Results: F = \", f_value, \"P =\", p_value)"
   ]
  },
  {
   "cell_type": "code",
   "execution_count": 60,
   "id": "3b3d364e",
   "metadata": {},
   "outputs": [
    {
     "data": {
      "text/html": [
       "<div>\n",
       "<style scoped>\n",
       "    .dataframe tbody tr th:only-of-type {\n",
       "        vertical-align: middle;\n",
       "    }\n",
       "\n",
       "    .dataframe tbody tr th {\n",
       "        vertical-align: top;\n",
       "    }\n",
       "\n",
       "    .dataframe thead th {\n",
       "        text-align: right;\n",
       "    }\n",
       "</style>\n",
       "<table border=\"1\" class=\"dataframe\">\n",
       "  <thead>\n",
       "    <tr style=\"text-align: right;\">\n",
       "      <th></th>\n",
       "      <th>count</th>\n",
       "    </tr>\n",
       "    <tr>\n",
       "      <th>device_brand</th>\n",
       "      <th></th>\n",
       "    </tr>\n",
       "  </thead>\n",
       "  <tbody>\n",
       "    <tr>\n",
       "      <th>Others</th>\n",
       "      <td>502</td>\n",
       "    </tr>\n",
       "    <tr>\n",
       "      <th>Samsung</th>\n",
       "      <td>341</td>\n",
       "    </tr>\n",
       "    <tr>\n",
       "      <th>Huawei</th>\n",
       "      <td>251</td>\n",
       "    </tr>\n",
       "    <tr>\n",
       "      <th>LG</th>\n",
       "      <td>201</td>\n",
       "    </tr>\n",
       "    <tr>\n",
       "      <th>Lenovo</th>\n",
       "      <td>171</td>\n",
       "    </tr>\n",
       "    <tr>\n",
       "      <th>ZTE</th>\n",
       "      <td>140</td>\n",
       "    </tr>\n",
       "    <tr>\n",
       "      <th>Xiaomi</th>\n",
       "      <td>132</td>\n",
       "    </tr>\n",
       "    <tr>\n",
       "      <th>Oppo</th>\n",
       "      <td>129</td>\n",
       "    </tr>\n",
       "    <tr>\n",
       "      <th>Asus</th>\n",
       "      <td>122</td>\n",
       "    </tr>\n",
       "    <tr>\n",
       "      <th>Alcatel</th>\n",
       "      <td>121</td>\n",
       "    </tr>\n",
       "    <tr>\n",
       "      <th>Micromax</th>\n",
       "      <td>117</td>\n",
       "    </tr>\n",
       "    <tr>\n",
       "      <th>Vivo</th>\n",
       "      <td>117</td>\n",
       "    </tr>\n",
       "    <tr>\n",
       "      <th>Honor</th>\n",
       "      <td>116</td>\n",
       "    </tr>\n",
       "    <tr>\n",
       "      <th>HTC</th>\n",
       "      <td>110</td>\n",
       "    </tr>\n",
       "    <tr>\n",
       "      <th>Nokia</th>\n",
       "      <td>106</td>\n",
       "    </tr>\n",
       "    <tr>\n",
       "      <th>Motorola</th>\n",
       "      <td>106</td>\n",
       "    </tr>\n",
       "    <tr>\n",
       "      <th>Sony</th>\n",
       "      <td>86</td>\n",
       "    </tr>\n",
       "    <tr>\n",
       "      <th>Meizu</th>\n",
       "      <td>62</td>\n",
       "    </tr>\n",
       "    <tr>\n",
       "      <th>Gionee</th>\n",
       "      <td>56</td>\n",
       "    </tr>\n",
       "    <tr>\n",
       "      <th>Acer</th>\n",
       "      <td>51</td>\n",
       "    </tr>\n",
       "    <tr>\n",
       "      <th>XOLO</th>\n",
       "      <td>49</td>\n",
       "    </tr>\n",
       "    <tr>\n",
       "      <th>Panasonic</th>\n",
       "      <td>47</td>\n",
       "    </tr>\n",
       "    <tr>\n",
       "      <th>Realme</th>\n",
       "      <td>41</td>\n",
       "    </tr>\n",
       "    <tr>\n",
       "      <th>Apple</th>\n",
       "      <td>39</td>\n",
       "    </tr>\n",
       "    <tr>\n",
       "      <th>Lava</th>\n",
       "      <td>36</td>\n",
       "    </tr>\n",
       "    <tr>\n",
       "      <th>Celkon</th>\n",
       "      <td>33</td>\n",
       "    </tr>\n",
       "    <tr>\n",
       "      <th>Spice</th>\n",
       "      <td>30</td>\n",
       "    </tr>\n",
       "    <tr>\n",
       "      <th>Karbonn</th>\n",
       "      <td>29</td>\n",
       "    </tr>\n",
       "    <tr>\n",
       "      <th>Coolpad</th>\n",
       "      <td>22</td>\n",
       "    </tr>\n",
       "    <tr>\n",
       "      <th>BlackBerry</th>\n",
       "      <td>22</td>\n",
       "    </tr>\n",
       "    <tr>\n",
       "      <th>Microsoft</th>\n",
       "      <td>22</td>\n",
       "    </tr>\n",
       "    <tr>\n",
       "      <th>OnePlus</th>\n",
       "      <td>22</td>\n",
       "    </tr>\n",
       "    <tr>\n",
       "      <th>Google</th>\n",
       "      <td>15</td>\n",
       "    </tr>\n",
       "    <tr>\n",
       "      <th>Infinix</th>\n",
       "      <td>10</td>\n",
       "    </tr>\n",
       "  </tbody>\n",
       "</table>\n",
       "</div>"
      ],
      "text/plain": [
       "              count\n",
       "device_brand       \n",
       "Others          502\n",
       "Samsung         341\n",
       "Huawei          251\n",
       "LG              201\n",
       "Lenovo          171\n",
       "ZTE             140\n",
       "Xiaomi          132\n",
       "Oppo            129\n",
       "Asus            122\n",
       "Alcatel         121\n",
       "Micromax        117\n",
       "Vivo            117\n",
       "Honor           116\n",
       "HTC             110\n",
       "Nokia           106\n",
       "Motorola        106\n",
       "Sony             86\n",
       "Meizu            62\n",
       "Gionee           56\n",
       "Acer             51\n",
       "XOLO             49\n",
       "Panasonic        47\n",
       "Realme           41\n",
       "Apple            39\n",
       "Lava             36\n",
       "Celkon           33\n",
       "Spice            30\n",
       "Karbonn          29\n",
       "Coolpad          22\n",
       "BlackBerry       22\n",
       "Microsoft        22\n",
       "OnePlus          22\n",
       "Google           15\n",
       "Infinix          10"
      ]
     },
     "execution_count": 60,
     "metadata": {},
     "output_type": "execute_result"
    }
   ],
   "source": [
    "df[\"device_brand\"].value_counts().to_frame()"
   ]
  },
  {
   "cell_type": "code",
   "execution_count": 61,
   "id": "915a1f5d",
   "metadata": {},
   "outputs": [
    {
     "data": {
      "text/html": [
       "<div>\n",
       "<style scoped>\n",
       "    .dataframe tbody tr th:only-of-type {\n",
       "        vertical-align: middle;\n",
       "    }\n",
       "\n",
       "    .dataframe tbody tr th {\n",
       "        vertical-align: top;\n",
       "    }\n",
       "\n",
       "    .dataframe thead th {\n",
       "        text-align: right;\n",
       "    }\n",
       "</style>\n",
       "<table border=\"1\" class=\"dataframe\">\n",
       "  <thead>\n",
       "    <tr style=\"text-align: right;\">\n",
       "      <th></th>\n",
       "      <th>device_brand</th>\n",
       "      <th>normalized_new_price</th>\n",
       "    </tr>\n",
       "  </thead>\n",
       "  <tbody>\n",
       "    <tr>\n",
       "      <th>2</th>\n",
       "      <td>Apple</td>\n",
       "      <td>6.339548</td>\n",
       "    </tr>\n",
       "    <tr>\n",
       "      <th>22</th>\n",
       "      <td>OnePlus</td>\n",
       "      <td>6.266780</td>\n",
       "    </tr>\n",
       "    <tr>\n",
       "      <th>8</th>\n",
       "      <td>Google</td>\n",
       "      <td>6.077932</td>\n",
       "    </tr>\n",
       "    <tr>\n",
       "      <th>23</th>\n",
       "      <td>Oppo</td>\n",
       "      <td>5.679682</td>\n",
       "    </tr>\n",
       "    <tr>\n",
       "      <th>30</th>\n",
       "      <td>Vivo</td>\n",
       "      <td>5.638037</td>\n",
       "    </tr>\n",
       "    <tr>\n",
       "      <th>28</th>\n",
       "      <td>Sony</td>\n",
       "      <td>5.549278</td>\n",
       "    </tr>\n",
       "    <tr>\n",
       "      <th>11</th>\n",
       "      <td>Huawei</td>\n",
       "      <td>5.515084</td>\n",
       "    </tr>\n",
       "    <tr>\n",
       "      <th>27</th>\n",
       "      <td>Samsung</td>\n",
       "      <td>5.482891</td>\n",
       "    </tr>\n",
       "    <tr>\n",
       "      <th>17</th>\n",
       "      <td>Meizu</td>\n",
       "      <td>5.462516</td>\n",
       "    </tr>\n",
       "    <tr>\n",
       "      <th>9</th>\n",
       "      <td>HTC</td>\n",
       "      <td>5.452407</td>\n",
       "    </tr>\n",
       "    <tr>\n",
       "      <th>3</th>\n",
       "      <td>Asus</td>\n",
       "      <td>5.387590</td>\n",
       "    </tr>\n",
       "    <tr>\n",
       "      <th>32</th>\n",
       "      <td>Xiaomi</td>\n",
       "      <td>5.364574</td>\n",
       "    </tr>\n",
       "    <tr>\n",
       "      <th>10</th>\n",
       "      <td>Honor</td>\n",
       "      <td>5.349602</td>\n",
       "    </tr>\n",
       "    <tr>\n",
       "      <th>7</th>\n",
       "      <td>Gionee</td>\n",
       "      <td>5.334537</td>\n",
       "    </tr>\n",
       "    <tr>\n",
       "      <th>4</th>\n",
       "      <td>BlackBerry</td>\n",
       "      <td>5.304419</td>\n",
       "    </tr>\n",
       "    <tr>\n",
       "      <th>14</th>\n",
       "      <td>LG</td>\n",
       "      <td>5.286666</td>\n",
       "    </tr>\n",
       "    <tr>\n",
       "      <th>33</th>\n",
       "      <td>ZTE</td>\n",
       "      <td>5.218665</td>\n",
       "    </tr>\n",
       "    <tr>\n",
       "      <th>20</th>\n",
       "      <td>Motorola</td>\n",
       "      <td>5.191796</td>\n",
       "    </tr>\n",
       "    <tr>\n",
       "      <th>6</th>\n",
       "      <td>Coolpad</td>\n",
       "      <td>5.169676</td>\n",
       "    </tr>\n",
       "    <tr>\n",
       "      <th>16</th>\n",
       "      <td>Lenovo</td>\n",
       "      <td>5.138462</td>\n",
       "    </tr>\n",
       "    <tr>\n",
       "      <th>26</th>\n",
       "      <td>Realme</td>\n",
       "      <td>5.082650</td>\n",
       "    </tr>\n",
       "    <tr>\n",
       "      <th>0</th>\n",
       "      <td>Acer</td>\n",
       "      <td>5.077328</td>\n",
       "    </tr>\n",
       "    <tr>\n",
       "      <th>24</th>\n",
       "      <td>Others</td>\n",
       "      <td>5.051192</td>\n",
       "    </tr>\n",
       "    <tr>\n",
       "      <th>25</th>\n",
       "      <td>Panasonic</td>\n",
       "      <td>5.020892</td>\n",
       "    </tr>\n",
       "    <tr>\n",
       "      <th>19</th>\n",
       "      <td>Microsoft</td>\n",
       "      <td>4.963936</td>\n",
       "    </tr>\n",
       "    <tr>\n",
       "      <th>31</th>\n",
       "      <td>XOLO</td>\n",
       "      <td>4.822616</td>\n",
       "    </tr>\n",
       "    <tr>\n",
       "      <th>1</th>\n",
       "      <td>Alcatel</td>\n",
       "      <td>4.804302</td>\n",
       "    </tr>\n",
       "    <tr>\n",
       "      <th>21</th>\n",
       "      <td>Nokia</td>\n",
       "      <td>4.668024</td>\n",
       "    </tr>\n",
       "    <tr>\n",
       "      <th>12</th>\n",
       "      <td>Infinix</td>\n",
       "      <td>4.655516</td>\n",
       "    </tr>\n",
       "    <tr>\n",
       "      <th>15</th>\n",
       "      <td>Lava</td>\n",
       "      <td>4.586627</td>\n",
       "    </tr>\n",
       "    <tr>\n",
       "      <th>13</th>\n",
       "      <td>Karbonn</td>\n",
       "      <td>4.582536</td>\n",
       "    </tr>\n",
       "    <tr>\n",
       "      <th>18</th>\n",
       "      <td>Micromax</td>\n",
       "      <td>4.513854</td>\n",
       "    </tr>\n",
       "    <tr>\n",
       "      <th>29</th>\n",
       "      <td>Spice</td>\n",
       "      <td>4.453086</td>\n",
       "    </tr>\n",
       "    <tr>\n",
       "      <th>5</th>\n",
       "      <td>Celkon</td>\n",
       "      <td>4.018319</td>\n",
       "    </tr>\n",
       "  </tbody>\n",
       "</table>\n",
       "</div>"
      ],
      "text/plain": [
       "   device_brand  normalized_new_price\n",
       "2         Apple              6.339548\n",
       "22      OnePlus              6.266780\n",
       "8        Google              6.077932\n",
       "23         Oppo              5.679682\n",
       "30         Vivo              5.638037\n",
       "28         Sony              5.549278\n",
       "11       Huawei              5.515084\n",
       "27      Samsung              5.482891\n",
       "17        Meizu              5.462516\n",
       "9           HTC              5.452407\n",
       "3          Asus              5.387590\n",
       "32       Xiaomi              5.364574\n",
       "10        Honor              5.349602\n",
       "7        Gionee              5.334537\n",
       "4    BlackBerry              5.304419\n",
       "14           LG              5.286666\n",
       "33          ZTE              5.218665\n",
       "20     Motorola              5.191796\n",
       "6       Coolpad              5.169676\n",
       "16       Lenovo              5.138462\n",
       "26       Realme              5.082650\n",
       "0          Acer              5.077328\n",
       "24       Others              5.051192\n",
       "25    Panasonic              5.020892\n",
       "19    Microsoft              4.963936\n",
       "31         XOLO              4.822616\n",
       "1       Alcatel              4.804302\n",
       "21        Nokia              4.668024\n",
       "12      Infinix              4.655516\n",
       "15         Lava              4.586627\n",
       "13      Karbonn              4.582536\n",
       "18     Micromax              4.513854\n",
       "29        Spice              4.453086\n",
       "5        Celkon              4.018319"
      ]
     },
     "execution_count": 61,
     "metadata": {},
     "output_type": "execute_result"
    }
   ],
   "source": [
    "branding = df.groupby('device_brand')['normalized_new_price'].mean().reset_index().sort_values(by='normalized_new_price', ascending=False)\n",
    "branding"
   ]
  },
  {
   "cell_type": "code",
   "execution_count": 64,
   "id": "8142304b",
   "metadata": {},
   "outputs": [
    {
     "name": "stdout",
     "output_type": "stream",
     "text": [
      "expensive ['Apple', 'OnePlus', 'Google', 'Oppo', 'Vivo', 'Sony', 'Huawei', 'Samsung', 'Meizu', 'HTC', 'Asus']\n",
      "budget ['Xiaomi', 'Honor', 'Gionee', 'BlackBerry', 'LG', 'ZTE', 'Motorola', 'Coolpad', 'Lenovo', 'Realme', 'Acer', 'Others', 'Panasonic', 'Microsoft', 'XOLO', 'Alcatel', 'Nokia', 'Infinix', 'Lava', 'Karbonn', 'Micromax', 'Spice', 'Celkon']\n"
     ]
    }
   ],
   "source": [
    "expensive_brands = list(branding['device_brand'].iloc[:len(branding) // 3])\n",
    "budget_brands = []\n",
    "for x in branding['device_brand'].unique():\n",
    "    if x not in expensive_brands:\n",
    "        budget_brands.append(x)\n",
    "        \n",
    "print('expensive', expensive_brands)\n",
    "print('budget', budget_brands)"
   ]
  },
  {
   "cell_type": "code",
   "execution_count": 65,
   "id": "631484e3",
   "metadata": {},
   "outputs": [
    {
     "data": {
      "text/plain": [
       "<Axes: xlabel='device_brand', ylabel='normalized_used_price'>"
      ]
     },
     "execution_count": 65,
     "metadata": {},
     "output_type": "execute_result"
    },
    {
     "data": {
      "image/png": "[encoded data removed]",
      "text/plain": [
       "<Figure size 640x480 with 1 Axes>"
      ]
     },
     "metadata": {},
     "output_type": "display_data"
    }
   ],
   "source": [
    "df['device_brand'].replace(expensive_brands, 'expensive', inplace = True )\n",
    "df['device_brand'].replace(budget_brands, 'budget', inplace = True )\n",
    "sns.boxplot(x = \"device_brand\", y =\"normalized_used_price\", data = df)\n"
   ]
  },
  {
   "cell_type": "code",
   "execution_count": 66,
   "id": "f157600a",
   "metadata": {},
   "outputs": [
    {
     "name": "stdout",
     "output_type": "stream",
     "text": [
      "ANOVA Results: F =  381.4352523303713 P = 1.1745955892774199e-80\n"
     ]
    }
   ],
   "source": [
    "# To create dataframe variable containing only the column drive-wheels and price\n",
    "df_group_branding = df[[\"device_brand\", \"normalized_used_price\"]]\n",
    "\n",
    "# To create the group by the variable drive-wheels\n",
    "group_branding = df_group_branding.groupby([\"device_brand\"])\n",
    "\n",
    "# ANOVA\n",
    "f_value, p_value = stats.f_oneway(group_branding.get_group(\"budget\")[\"normalized_used_price\"], group_branding.get_group(\"expensive\")[\"normalized_used_price\"])\n",
    "\n",
    "# To display the results    \n",
    "print(\"ANOVA Results: F = \", f_value, \"P =\", p_value)"
   ]
  },
  {
   "cell_type": "markdown",
   "id": "6e4d1113",
   "metadata": {},
   "source": [
    "<h1>Analysis For OS</h1>"
   ]
  },
  {
   "cell_type": "code",
   "execution_count": 67,
   "id": "1fd90ed3",
   "metadata": {},
   "outputs": [
    {
     "data": {
      "text/plain": [
       "<Axes: xlabel='os', ylabel='normalized_used_price'>"
      ]
     },
     "execution_count": 67,
     "metadata": {},
     "output_type": "execute_result"
    },
    {
     "data": {
      "image/png": "[encoded data removed]",
      "text/plain": [
       "<Figure size 640x480 with 1 Axes>"
      ]
     },
     "metadata": {},
     "output_type": "display_data"
    }
   ],
   "source": [
    "# Plot the boxplot between os and normalized_used_price.\n",
    "df[\"os\"].value_counts()\n",
    "\n",
    "sns.boxplot(x = \"os\", y =\"normalized_used_price\", data = df)\n",
    "# os is a predictor"
   ]
  },
  {
   "cell_type": "code",
   "execution_count": 68,
   "id": "98b81e64",
   "metadata": {},
   "outputs": [
    {
     "data": {
      "text/plain": [
       "array(['Android', 'Others', 'iOS', 'Windows'], dtype=object)"
      ]
     },
     "execution_count": 68,
     "metadata": {},
     "output_type": "execute_result"
    }
   ],
   "source": [
    "df['os'].unique()"
   ]
  },
  {
   "cell_type": "code",
   "execution_count": 69,
   "id": "ca6cc6a0",
   "metadata": {},
   "outputs": [],
   "source": [
    "# To create dataframe variable containing only the column drive-wheels and price\n",
    "df_group_os = df[[\"os\", \"normalized_used_price\"]]\n",
    "\n",
    "# To create the group by the variable drive-wheels\n",
    "group_os = df_group_os.groupby([\"os\"])\n",
    "\n",
    "#Group Each\n",
    "Android = group_os.get_group(\"Android\")[\"normalized_used_price\"]\n",
    "Others = group_os.get_group(\"Others\")[\"normalized_used_price\"]\n",
    "iOS = group_os.get_group(\"iOS\")[\"normalized_used_price\"]\n",
    "Windows = group_os.get_group(\"Windows\")[\"normalized_used_price\"]"
   ]
  },
  {
   "cell_type": "code",
   "execution_count": 70,
   "id": "ae731d16",
   "metadata": {},
   "outputs": [
    {
     "name": "stdout",
     "output_type": "stream",
     "text": [
      "ANOVA Results: F =  196.63775204281703 P = 1.0001282504638895e-117\n"
     ]
    }
   ],
   "source": [
    "# ANOVA\n",
    "f_value, p_value = stats.f_oneway(Android, Others, iOS, Windows)\n",
    "\n",
    "# To display the results    \n",
    "print(\"ANOVA Results: F = \", f_value, \"P =\", p_value)"
   ]
  },
  {
   "cell_type": "code",
   "execution_count": 71,
   "id": "c98a03b6",
   "metadata": {},
   "outputs": [
    {
     "data": {
      "text/html": [
       "<div>\n",
       "<style scoped>\n",
       "    .dataframe tbody tr th:only-of-type {\n",
       "        vertical-align: middle;\n",
       "    }\n",
       "\n",
       "    .dataframe tbody tr th {\n",
       "        vertical-align: top;\n",
       "    }\n",
       "\n",
       "    .dataframe thead th {\n",
       "        text-align: right;\n",
       "    }\n",
       "</style>\n",
       "<table border=\"1\" class=\"dataframe\">\n",
       "  <thead>\n",
       "    <tr style=\"text-align: right;\">\n",
       "      <th></th>\n",
       "      <th>count</th>\n",
       "    </tr>\n",
       "    <tr>\n",
       "      <th>os</th>\n",
       "      <th></th>\n",
       "    </tr>\n",
       "  </thead>\n",
       "  <tbody>\n",
       "    <tr>\n",
       "      <th>Android</th>\n",
       "      <td>3214</td>\n",
       "    </tr>\n",
       "    <tr>\n",
       "      <th>Others</th>\n",
       "      <td>137</td>\n",
       "    </tr>\n",
       "    <tr>\n",
       "      <th>Windows</th>\n",
       "      <td>67</td>\n",
       "    </tr>\n",
       "    <tr>\n",
       "      <th>iOS</th>\n",
       "      <td>36</td>\n",
       "    </tr>\n",
       "  </tbody>\n",
       "</table>\n",
       "</div>"
      ],
      "text/plain": [
       "         count\n",
       "os            \n",
       "Android   3214\n",
       "Others     137\n",
       "Windows     67\n",
       "iOS         36"
      ]
     },
     "execution_count": 71,
     "metadata": {},
     "output_type": "execute_result"
    }
   ],
   "source": [
    "df[\"os\"].value_counts().to_frame()"
   ]
  },
  {
   "cell_type": "code",
   "execution_count": 72,
   "id": "a79e976f",
   "metadata": {},
   "outputs": [
    {
     "name": "stdout",
     "output_type": "stream",
     "text": [
      "ANOVA Results: F =  535.1968618352637 P = 5.68246152544234e-110\n"
     ]
    }
   ],
   "source": [
    "# ANOVA\n",
    "f_value, p_value = stats.f_oneway(Android, Others)\n",
    "\n",
    "# To display the results    \n",
    "print(\"ANOVA Results: F = \", f_value, \"P =\", p_value)"
   ]
  },
  {
   "cell_type": "code",
   "execution_count": 73,
   "id": "6f0b8729",
   "metadata": {},
   "outputs": [
    {
     "name": "stdout",
     "output_type": "stream",
     "text": [
      "ANOVA Results: F =  14.805612207822014 P = 0.00012145015311603946\n"
     ]
    }
   ],
   "source": [
    "# ANOVA\n",
    "f_value, p_value = stats.f_oneway(Android, Windows)\n",
    "\n",
    "# To display the results    \n",
    "print(\"ANOVA Results: F = \", f_value, \"P =\", p_value)"
   ]
  },
  {
   "cell_type": "code",
   "execution_count": 74,
   "id": "cf49fb6d",
   "metadata": {},
   "outputs": [
    {
     "name": "stdout",
     "output_type": "stream",
     "text": [
      "ANOVA Results: F =  37.67206738703718 P = 9.38101829794889e-10\n"
     ]
    }
   ],
   "source": [
    "# ANOVA\n",
    "f_value, p_value = stats.f_oneway(Android, iOS)\n",
    "\n",
    "# To display the results    \n",
    "print(\"ANOVA Results: F = \", f_value, \"P =\", p_value)"
   ]
  },
  {
   "cell_type": "code",
   "execution_count": 75,
   "id": "e055cb3b",
   "metadata": {},
   "outputs": [
    {
     "name": "stdout",
     "output_type": "stream",
     "text": [
      "ANOVA Results: F =  144.40255154242755 P = 1.6585200223076645e-24\n"
     ]
    }
   ],
   "source": [
    "# ANOVA\n",
    "f_value, p_value = stats.f_oneway(Others, iOS)\n",
    "\n",
    "# To display the results    \n",
    "print(\"ANOVA Results: F = \", f_value, \"P =\", p_value)"
   ]
  },
  {
   "cell_type": "code",
   "execution_count": 76,
   "id": "5a0aaa01",
   "metadata": {},
   "outputs": [
    {
     "name": "stdout",
     "output_type": "stream",
     "text": [
      "ANOVA Results: F =  66.85801965519728 P = 3.186877719350955e-14\n"
     ]
    }
   ],
   "source": [
    "# ANOVA\n",
    "f_value, p_value = stats.f_oneway(Others, Windows)\n",
    "\n",
    "# To display the results    \n",
    "print(\"ANOVA Results: F = \", f_value, \"P =\", p_value)"
   ]
  },
  {
   "cell_type": "code",
   "execution_count": 77,
   "id": "50727d7c",
   "metadata": {},
   "outputs": [
    {
     "name": "stdout",
     "output_type": "stream",
     "text": [
      "ANOVA Results: F =  58.59756903191779 P = 1.1876506876136352e-11\n"
     ]
    }
   ],
   "source": [
    "# ANOVA\n",
    "f_value, p_value = stats.f_oneway(iOS, Windows)\n",
    "\n",
    "# To display the results    \n",
    "print(\"ANOVA Results: F = \", f_value, \"P =\", p_value)"
   ]
  },
  {
   "cell_type": "markdown",
   "id": "1a374012",
   "metadata": {},
   "source": [
    "<h1>Analysis For 4G</h1>"
   ]
  },
  {
   "cell_type": "code",
   "execution_count": 78,
   "id": "e905d7c1",
   "metadata": {},
   "outputs": [
    {
     "data": {
      "text/plain": [
       "<Axes: xlabel='4g', ylabel='normalized_used_price'>"
      ]
     },
     "execution_count": 78,
     "metadata": {},
     "output_type": "execute_result"
    },
    {
     "data": {
      "image/png": "[encoded data removed]",
      "text/plain": [
       "<Figure size 640x480 with 1 Axes>"
      ]
     },
     "metadata": {},
     "output_type": "display_data"
    }
   ],
   "source": [
    "# Plot the boxplot between 4g and normalized_used_price.\n",
    "df[\"4g\"].value_counts()\n",
    "\n",
    "sns.boxplot(x = \"4g\", y =\"normalized_used_price\", data = df)\n",
    "# 4g is a predictor"
   ]
  },
  {
   "cell_type": "code",
   "execution_count": 79,
   "id": "41380891",
   "metadata": {},
   "outputs": [
    {
     "name": "stdout",
     "output_type": "stream",
     "text": [
      "ANOVA Results: F =  1502.2387189514893 P = 3.729945525818113e-273\n"
     ]
    }
   ],
   "source": [
    "# To create dataframe variable containing only the column drive-wheels and price\n",
    "df_group_4g = df[[\"4g\", \"normalized_used_price\"]]\n",
    "\n",
    "# To create the group by the variable drive-wheels\n",
    "group_4g = df_group_4g.groupby([\"4g\"])\n",
    "\n",
    "# ANOVA\n",
    "f_value, p_value = stats.f_oneway(group_4g.get_group(\"yes\")[\"normalized_used_price\"], group_4g.get_group(\"no\")[\"normalized_used_price\"])\n",
    "\n",
    "# To display the results    \n",
    "print(\"ANOVA Results: F = \", f_value, \"P =\", p_value)"
   ]
  },
  {
   "cell_type": "code",
   "execution_count": 80,
   "id": "0186cf5e",
   "metadata": {},
   "outputs": [
    {
     "data": {
      "text/html": [
       "<div>\n",
       "<style scoped>\n",
       "    .dataframe tbody tr th:only-of-type {\n",
       "        vertical-align: middle;\n",
       "    }\n",
       "\n",
       "    .dataframe tbody tr th {\n",
       "        vertical-align: top;\n",
       "    }\n",
       "\n",
       "    .dataframe thead th {\n",
       "        text-align: right;\n",
       "    }\n",
       "</style>\n",
       "<table border=\"1\" class=\"dataframe\">\n",
       "  <thead>\n",
       "    <tr style=\"text-align: right;\">\n",
       "      <th></th>\n",
       "      <th>count</th>\n",
       "    </tr>\n",
       "    <tr>\n",
       "      <th>4g</th>\n",
       "      <th></th>\n",
       "    </tr>\n",
       "  </thead>\n",
       "  <tbody>\n",
       "    <tr>\n",
       "      <th>yes</th>\n",
       "      <td>2335</td>\n",
       "    </tr>\n",
       "    <tr>\n",
       "      <th>no</th>\n",
       "      <td>1119</td>\n",
       "    </tr>\n",
       "  </tbody>\n",
       "</table>\n",
       "</div>"
      ],
      "text/plain": [
       "     count\n",
       "4g        \n",
       "yes   2335\n",
       "no    1119"
      ]
     },
     "execution_count": 80,
     "metadata": {},
     "output_type": "execute_result"
    }
   ],
   "source": [
    "df[\"4g\"].value_counts().to_frame()"
   ]
  },
  {
   "cell_type": "markdown",
   "id": "1312711e",
   "metadata": {},
   "source": [
    "<h1>Analysis For 5G</h1>"
   ]
  },
  {
   "cell_type": "code",
   "execution_count": 81,
   "id": "7aeb94dc",
   "metadata": {},
   "outputs": [
    {
     "data": {
      "text/plain": [
       "<Axes: xlabel='5g', ylabel='normalized_used_price'>"
      ]
     },
     "execution_count": 81,
     "metadata": {},
     "output_type": "execute_result"
    },
    {
     "data": {
      "image/png": "[encoded data removed]",
      "text/plain": [
       "<Figure size 640x480 with 1 Axes>"
      ]
     },
     "metadata": {},
     "output_type": "display_data"
    }
   ],
   "source": [
    "# Plot the boxplot between 5g and normalized_used_price.\n",
    "df[\"5g\"].value_counts()\n",
    "\n",
    "sns.boxplot(x = \"5g\", y =\"normalized_used_price\", data = df)\n",
    "# 5g is a predictor"
   ]
  },
  {
   "cell_type": "code",
   "execution_count": 82,
   "id": "61df6894",
   "metadata": {},
   "outputs": [
    {
     "name": "stdout",
     "output_type": "stream",
     "text": [
      "ANOVA Results: F =  376.6218141257634 P = 1.0331727115127354e-79\n"
     ]
    }
   ],
   "source": [
    "# To create dataframe variable containing only the column 5g and price\n",
    "df_group_5g = df[[\"5g\", \"normalized_used_price\"]]\n",
    "\n",
    "# To create the group by the variable 5g\n",
    "group_5g = df_group_5g.groupby([\"5g\"])\n",
    "\n",
    "# ANOVA\n",
    "f_value, p_value = stats.f_oneway(group_5g.get_group(\"no\")[\"normalized_used_price\"], group_5g.get_group(\"yes\")[\"normalized_used_price\"])\n",
    "\n",
    "# To display the results    \n",
    "print(\"ANOVA Results: F = \", f_value, \"P =\", p_value)"
   ]
  },
  {
   "cell_type": "code",
   "execution_count": 83,
   "id": "af7f1f74",
   "metadata": {},
   "outputs": [
    {
     "data": {
      "text/html": [
       "<div>\n",
       "<style scoped>\n",
       "    .dataframe tbody tr th:only-of-type {\n",
       "        vertical-align: middle;\n",
       "    }\n",
       "\n",
       "    .dataframe tbody tr th {\n",
       "        vertical-align: top;\n",
       "    }\n",
       "\n",
       "    .dataframe thead th {\n",
       "        text-align: right;\n",
       "    }\n",
       "</style>\n",
       "<table border=\"1\" class=\"dataframe\">\n",
       "  <thead>\n",
       "    <tr style=\"text-align: right;\">\n",
       "      <th></th>\n",
       "      <th>count</th>\n",
       "    </tr>\n",
       "    <tr>\n",
       "      <th>5g</th>\n",
       "      <th></th>\n",
       "    </tr>\n",
       "  </thead>\n",
       "  <tbody>\n",
       "    <tr>\n",
       "      <th>no</th>\n",
       "      <td>3302</td>\n",
       "    </tr>\n",
       "    <tr>\n",
       "      <th>yes</th>\n",
       "      <td>152</td>\n",
       "    </tr>\n",
       "  </tbody>\n",
       "</table>\n",
       "</div>"
      ],
      "text/plain": [
       "     count\n",
       "5g        \n",
       "no    3302\n",
       "yes    152"
      ]
     },
     "execution_count": 83,
     "metadata": {},
     "output_type": "execute_result"
    }
   ],
   "source": [
    "df[\"5g\"].value_counts().to_frame()"
   ]
  },
  {
   "cell_type": "markdown",
   "id": "a79eaa36",
   "metadata": {},
   "source": [
    "<h1>DROPPING DATA</h1>"
   ]
  },
  {
   "cell_type": "code",
   "execution_count": 84,
   "id": "e30bc267",
   "metadata": {},
   "outputs": [
    {
     "data": {
      "text/html": [
       "<div>\n",
       "<style scoped>\n",
       "    .dataframe tbody tr th:only-of-type {\n",
       "        vertical-align: middle;\n",
       "    }\n",
       "\n",
       "    .dataframe tbody tr th {\n",
       "        vertical-align: top;\n",
       "    }\n",
       "\n",
       "    .dataframe thead th {\n",
       "        text-align: right;\n",
       "    }\n",
       "</style>\n",
       "<table border=\"1\" class=\"dataframe\">\n",
       "  <thead>\n",
       "    <tr style=\"text-align: right;\">\n",
       "      <th></th>\n",
       "      <th>device_brand</th>\n",
       "      <th>os</th>\n",
       "      <th>screen_size</th>\n",
       "      <th>4g</th>\n",
       "      <th>5g</th>\n",
       "      <th>rear_camera_mp</th>\n",
       "      <th>front_camera_mp</th>\n",
       "      <th>ram</th>\n",
       "      <th>battery</th>\n",
       "      <th>normalized_used_price</th>\n",
       "      <th>normalized_new_price</th>\n",
       "    </tr>\n",
       "  </thead>\n",
       "  <tbody>\n",
       "    <tr>\n",
       "      <th>0</th>\n",
       "      <td>budget</td>\n",
       "      <td>Android</td>\n",
       "      <td>0.472159</td>\n",
       "      <td>yes</td>\n",
       "      <td>no</td>\n",
       "      <td>0.270833</td>\n",
       "      <td>0.15625</td>\n",
       "      <td>0.250000</td>\n",
       "      <td>0.310700</td>\n",
       "      <td>4.307572</td>\n",
       "      <td>4.715100</td>\n",
       "    </tr>\n",
       "    <tr>\n",
       "      <th>1</th>\n",
       "      <td>budget</td>\n",
       "      <td>Android</td>\n",
       "      <td>0.563334</td>\n",
       "      <td>yes</td>\n",
       "      <td>yes</td>\n",
       "      <td>0.270833</td>\n",
       "      <td>0.50000</td>\n",
       "      <td>0.666667</td>\n",
       "      <td>0.442387</td>\n",
       "      <td>5.162097</td>\n",
       "      <td>5.519018</td>\n",
       "    </tr>\n",
       "    <tr>\n",
       "      <th>2</th>\n",
       "      <td>budget</td>\n",
       "      <td>Android</td>\n",
       "      <td>0.543471</td>\n",
       "      <td>yes</td>\n",
       "      <td>yes</td>\n",
       "      <td>0.270833</td>\n",
       "      <td>0.25000</td>\n",
       "      <td>0.666667</td>\n",
       "      <td>0.432099</td>\n",
       "      <td>5.111084</td>\n",
       "      <td>5.884631</td>\n",
       "    </tr>\n",
       "    <tr>\n",
       "      <th>3</th>\n",
       "      <td>budget</td>\n",
       "      <td>Android</td>\n",
       "      <td>0.830348</td>\n",
       "      <td>yes</td>\n",
       "      <td>yes</td>\n",
       "      <td>0.270833</td>\n",
       "      <td>0.25000</td>\n",
       "      <td>0.500000</td>\n",
       "      <td>0.745885</td>\n",
       "      <td>5.135387</td>\n",
       "      <td>5.630961</td>\n",
       "    </tr>\n",
       "    <tr>\n",
       "      <th>4</th>\n",
       "      <td>budget</td>\n",
       "      <td>Android</td>\n",
       "      <td>0.498860</td>\n",
       "      <td>yes</td>\n",
       "      <td>no</td>\n",
       "      <td>0.270833</td>\n",
       "      <td>0.25000</td>\n",
       "      <td>0.250000</td>\n",
       "      <td>0.514403</td>\n",
       "      <td>4.389995</td>\n",
       "      <td>4.947837</td>\n",
       "    </tr>\n",
       "    <tr>\n",
       "      <th>...</th>\n",
       "      <td>...</td>\n",
       "      <td>...</td>\n",
       "      <td>...</td>\n",
       "      <td>...</td>\n",
       "      <td>...</td>\n",
       "      <td>...</td>\n",
       "      <td>...</td>\n",
       "      <td>...</td>\n",
       "      <td>...</td>\n",
       "      <td>...</td>\n",
       "      <td>...</td>\n",
       "    </tr>\n",
       "    <tr>\n",
       "      <th>3449</th>\n",
       "      <td>expensive</td>\n",
       "      <td>Android</td>\n",
       "      <td>0.499512</td>\n",
       "      <td>yes</td>\n",
       "      <td>no</td>\n",
       "      <td>0.270833</td>\n",
       "      <td>0.25000</td>\n",
       "      <td>0.500000</td>\n",
       "      <td>0.514403</td>\n",
       "      <td>4.492337</td>\n",
       "      <td>6.483872</td>\n",
       "    </tr>\n",
       "    <tr>\n",
       "      <th>3450</th>\n",
       "      <td>expensive</td>\n",
       "      <td>Android</td>\n",
       "      <td>0.496255</td>\n",
       "      <td>yes</td>\n",
       "      <td>no</td>\n",
       "      <td>0.270833</td>\n",
       "      <td>0.25000</td>\n",
       "      <td>0.666667</td>\n",
       "      <td>0.411523</td>\n",
       "      <td>5.037732</td>\n",
       "      <td>6.251538</td>\n",
       "    </tr>\n",
       "    <tr>\n",
       "      <th>3451</th>\n",
       "      <td>budget</td>\n",
       "      <td>Android</td>\n",
       "      <td>0.514490</td>\n",
       "      <td>yes</td>\n",
       "      <td>no</td>\n",
       "      <td>0.270833</td>\n",
       "      <td>0.15625</td>\n",
       "      <td>0.250000</td>\n",
       "      <td>0.411523</td>\n",
       "      <td>4.357350</td>\n",
       "      <td>4.528829</td>\n",
       "    </tr>\n",
       "    <tr>\n",
       "      <th>3452</th>\n",
       "      <td>budget</td>\n",
       "      <td>Android</td>\n",
       "      <td>0.514490</td>\n",
       "      <td>yes</td>\n",
       "      <td>no</td>\n",
       "      <td>0.270833</td>\n",
       "      <td>0.15625</td>\n",
       "      <td>0.166667</td>\n",
       "      <td>0.411523</td>\n",
       "      <td>4.349762</td>\n",
       "      <td>4.624188</td>\n",
       "    </tr>\n",
       "    <tr>\n",
       "      <th>3453</th>\n",
       "      <td>budget</td>\n",
       "      <td>Android</td>\n",
       "      <td>0.417779</td>\n",
       "      <td>yes</td>\n",
       "      <td>no</td>\n",
       "      <td>0.270833</td>\n",
       "      <td>0.15625</td>\n",
       "      <td>0.166667</td>\n",
       "      <td>0.411523</td>\n",
       "      <td>4.132122</td>\n",
       "      <td>4.279994</td>\n",
       "    </tr>\n",
       "  </tbody>\n",
       "</table>\n",
       "<p>3454 rows × 11 columns</p>\n",
       "</div>"
      ],
      "text/plain": [
       "     device_brand       os  screen_size   4g   5g  rear_camera_mp  \\\n",
       "0          budget  Android     0.472159  yes   no        0.270833   \n",
       "1          budget  Android     0.563334  yes  yes        0.270833   \n",
       "2          budget  Android     0.543471  yes  yes        0.270833   \n",
       "3          budget  Android     0.830348  yes  yes        0.270833   \n",
       "4          budget  Android     0.498860  yes   no        0.270833   \n",
       "...           ...      ...          ...  ...  ...             ...   \n",
       "3449    expensive  Android     0.499512  yes   no        0.270833   \n",
       "3450    expensive  Android     0.496255  yes   no        0.270833   \n",
       "3451       budget  Android     0.514490  yes   no        0.270833   \n",
       "3452       budget  Android     0.514490  yes   no        0.270833   \n",
       "3453       budget  Android     0.417779  yes   no        0.270833   \n",
       "\n",
       "      front_camera_mp       ram   battery  normalized_used_price  \\\n",
       "0             0.15625  0.250000  0.310700               4.307572   \n",
       "1             0.50000  0.666667  0.442387               5.162097   \n",
       "2             0.25000  0.666667  0.432099               5.111084   \n",
       "3             0.25000  0.500000  0.745885               5.135387   \n",
       "4             0.25000  0.250000  0.514403               4.389995   \n",
       "...               ...       ...       ...                    ...   \n",
       "3449          0.25000  0.500000  0.514403               4.492337   \n",
       "3450          0.25000  0.666667  0.411523               5.037732   \n",
       "3451          0.15625  0.250000  0.411523               4.357350   \n",
       "3452          0.15625  0.166667  0.411523               4.349762   \n",
       "3453          0.15625  0.166667  0.411523               4.132122   \n",
       "\n",
       "      normalized_new_price  \n",
       "0                 4.715100  \n",
       "1                 5.519018  \n",
       "2                 5.884631  \n",
       "3                 5.630961  \n",
       "4                 4.947837  \n",
       "...                    ...  \n",
       "3449              6.483872  \n",
       "3450              6.251538  \n",
       "3451              4.528829  \n",
       "3452              4.624188  \n",
       "3453              4.279994  \n",
       "\n",
       "[3454 rows x 11 columns]"
      ]
     },
     "execution_count": 84,
     "metadata": {},
     "output_type": "execute_result"
    }
   ],
   "source": [
    "df = df.drop(['internal_memory', 'weight', 'release_year', 'days_used'], axis=1)\n",
    "df"
   ]
  },
  {
   "cell_type": "markdown",
   "id": "a2090aca",
   "metadata": {},
   "source": [
    "<h1>DUMMY VARIABLE</h1>"
   ]
  },
  {
   "cell_type": "code",
   "execution_count": 85,
   "id": "19ad88f8",
   "metadata": {},
   "outputs": [
    {
     "data": {
      "text/html": [
       "<div>\n",
       "<style scoped>\n",
       "    .dataframe tbody tr th:only-of-type {\n",
       "        vertical-align: middle;\n",
       "    }\n",
       "\n",
       "    .dataframe tbody tr th {\n",
       "        vertical-align: top;\n",
       "    }\n",
       "\n",
       "    .dataframe thead th {\n",
       "        text-align: right;\n",
       "    }\n",
       "</style>\n",
       "<table border=\"1\" class=\"dataframe\">\n",
       "  <thead>\n",
       "    <tr style=\"text-align: right;\">\n",
       "      <th></th>\n",
       "      <th>OS_Android</th>\n",
       "      <th>OS_Others</th>\n",
       "      <th>OS_Windows</th>\n",
       "      <th>OS_iOS</th>\n",
       "    </tr>\n",
       "  </thead>\n",
       "  <tbody>\n",
       "    <tr>\n",
       "      <th>0</th>\n",
       "      <td>1</td>\n",
       "      <td>0</td>\n",
       "      <td>0</td>\n",
       "      <td>0</td>\n",
       "    </tr>\n",
       "    <tr>\n",
       "      <th>1</th>\n",
       "      <td>1</td>\n",
       "      <td>0</td>\n",
       "      <td>0</td>\n",
       "      <td>0</td>\n",
       "    </tr>\n",
       "    <tr>\n",
       "      <th>2</th>\n",
       "      <td>1</td>\n",
       "      <td>0</td>\n",
       "      <td>0</td>\n",
       "      <td>0</td>\n",
       "    </tr>\n",
       "    <tr>\n",
       "      <th>3</th>\n",
       "      <td>1</td>\n",
       "      <td>0</td>\n",
       "      <td>0</td>\n",
       "      <td>0</td>\n",
       "    </tr>\n",
       "    <tr>\n",
       "      <th>4</th>\n",
       "      <td>1</td>\n",
       "      <td>0</td>\n",
       "      <td>0</td>\n",
       "      <td>0</td>\n",
       "    </tr>\n",
       "    <tr>\n",
       "      <th>5</th>\n",
       "      <td>1</td>\n",
       "      <td>0</td>\n",
       "      <td>0</td>\n",
       "      <td>0</td>\n",
       "    </tr>\n",
       "    <tr>\n",
       "      <th>6</th>\n",
       "      <td>1</td>\n",
       "      <td>0</td>\n",
       "      <td>0</td>\n",
       "      <td>0</td>\n",
       "    </tr>\n",
       "    <tr>\n",
       "      <th>7</th>\n",
       "      <td>1</td>\n",
       "      <td>0</td>\n",
       "      <td>0</td>\n",
       "      <td>0</td>\n",
       "    </tr>\n",
       "    <tr>\n",
       "      <th>8</th>\n",
       "      <td>1</td>\n",
       "      <td>0</td>\n",
       "      <td>0</td>\n",
       "      <td>0</td>\n",
       "    </tr>\n",
       "    <tr>\n",
       "      <th>9</th>\n",
       "      <td>1</td>\n",
       "      <td>0</td>\n",
       "      <td>0</td>\n",
       "      <td>0</td>\n",
       "    </tr>\n",
       "  </tbody>\n",
       "</table>\n",
       "</div>"
      ],
      "text/plain": [
       "   OS_Android  OS_Others  OS_Windows  OS_iOS\n",
       "0           1          0           0       0\n",
       "1           1          0           0       0\n",
       "2           1          0           0       0\n",
       "3           1          0           0       0\n",
       "4           1          0           0       0\n",
       "5           1          0           0       0\n",
       "6           1          0           0       0\n",
       "7           1          0           0       0\n",
       "8           1          0           0       0\n",
       "9           1          0           0       0"
      ]
     },
     "execution_count": 85,
     "metadata": {},
     "output_type": "execute_result"
    }
   ],
   "source": [
    "dummy_1 = pd.get_dummies(df['os'], dtype = int)\n",
    "dummy_1.rename(columns = {'Android':'OS_Android' ,  'iOS':'OS_iOS', 'Windows':'OS_Windows', 'Others':'OS_Others'},inplace = True)\n",
    "\n",
    "dummy_1.head(10)"
   ]
  },
  {
   "cell_type": "code",
   "execution_count": 86,
   "id": "5afbf3c1",
   "metadata": {},
   "outputs": [
    {
     "data": {
      "text/html": [
       "<div>\n",
       "<style scoped>\n",
       "    .dataframe tbody tr th:only-of-type {\n",
       "        vertical-align: middle;\n",
       "    }\n",
       "\n",
       "    .dataframe tbody tr th {\n",
       "        vertical-align: top;\n",
       "    }\n",
       "\n",
       "    .dataframe thead th {\n",
       "        text-align: right;\n",
       "    }\n",
       "</style>\n",
       "<table border=\"1\" class=\"dataframe\">\n",
       "  <thead>\n",
       "    <tr style=\"text-align: right;\">\n",
       "      <th></th>\n",
       "      <th>device_brand</th>\n",
       "      <th>screen_size</th>\n",
       "      <th>4g</th>\n",
       "      <th>5g</th>\n",
       "      <th>rear_camera_mp</th>\n",
       "      <th>front_camera_mp</th>\n",
       "      <th>ram</th>\n",
       "      <th>battery</th>\n",
       "      <th>normalized_used_price</th>\n",
       "      <th>normalized_new_price</th>\n",
       "      <th>OS_Android</th>\n",
       "      <th>OS_Others</th>\n",
       "      <th>OS_Windows</th>\n",
       "      <th>OS_iOS</th>\n",
       "    </tr>\n",
       "  </thead>\n",
       "  <tbody>\n",
       "    <tr>\n",
       "      <th>0</th>\n",
       "      <td>budget</td>\n",
       "      <td>0.472159</td>\n",
       "      <td>yes</td>\n",
       "      <td>no</td>\n",
       "      <td>0.270833</td>\n",
       "      <td>0.15625</td>\n",
       "      <td>0.250000</td>\n",
       "      <td>0.310700</td>\n",
       "      <td>4.307572</td>\n",
       "      <td>4.715100</td>\n",
       "      <td>1</td>\n",
       "      <td>0</td>\n",
       "      <td>0</td>\n",
       "      <td>0</td>\n",
       "    </tr>\n",
       "    <tr>\n",
       "      <th>1</th>\n",
       "      <td>budget</td>\n",
       "      <td>0.563334</td>\n",
       "      <td>yes</td>\n",
       "      <td>yes</td>\n",
       "      <td>0.270833</td>\n",
       "      <td>0.50000</td>\n",
       "      <td>0.666667</td>\n",
       "      <td>0.442387</td>\n",
       "      <td>5.162097</td>\n",
       "      <td>5.519018</td>\n",
       "      <td>1</td>\n",
       "      <td>0</td>\n",
       "      <td>0</td>\n",
       "      <td>0</td>\n",
       "    </tr>\n",
       "    <tr>\n",
       "      <th>2</th>\n",
       "      <td>budget</td>\n",
       "      <td>0.543471</td>\n",
       "      <td>yes</td>\n",
       "      <td>yes</td>\n",
       "      <td>0.270833</td>\n",
       "      <td>0.25000</td>\n",
       "      <td>0.666667</td>\n",
       "      <td>0.432099</td>\n",
       "      <td>5.111084</td>\n",
       "      <td>5.884631</td>\n",
       "      <td>1</td>\n",
       "      <td>0</td>\n",
       "      <td>0</td>\n",
       "      <td>0</td>\n",
       "    </tr>\n",
       "    <tr>\n",
       "      <th>3</th>\n",
       "      <td>budget</td>\n",
       "      <td>0.830348</td>\n",
       "      <td>yes</td>\n",
       "      <td>yes</td>\n",
       "      <td>0.270833</td>\n",
       "      <td>0.25000</td>\n",
       "      <td>0.500000</td>\n",
       "      <td>0.745885</td>\n",
       "      <td>5.135387</td>\n",
       "      <td>5.630961</td>\n",
       "      <td>1</td>\n",
       "      <td>0</td>\n",
       "      <td>0</td>\n",
       "      <td>0</td>\n",
       "    </tr>\n",
       "    <tr>\n",
       "      <th>4</th>\n",
       "      <td>budget</td>\n",
       "      <td>0.498860</td>\n",
       "      <td>yes</td>\n",
       "      <td>no</td>\n",
       "      <td>0.270833</td>\n",
       "      <td>0.25000</td>\n",
       "      <td>0.250000</td>\n",
       "      <td>0.514403</td>\n",
       "      <td>4.389995</td>\n",
       "      <td>4.947837</td>\n",
       "      <td>1</td>\n",
       "      <td>0</td>\n",
       "      <td>0</td>\n",
       "      <td>0</td>\n",
       "    </tr>\n",
       "    <tr>\n",
       "      <th>5</th>\n",
       "      <td>budget</td>\n",
       "      <td>0.528492</td>\n",
       "      <td>yes</td>\n",
       "      <td>no</td>\n",
       "      <td>0.270833</td>\n",
       "      <td>0.25000</td>\n",
       "      <td>0.333333</td>\n",
       "      <td>0.411523</td>\n",
       "      <td>4.413889</td>\n",
       "      <td>5.060694</td>\n",
       "      <td>1</td>\n",
       "      <td>0</td>\n",
       "      <td>0</td>\n",
       "      <td>0</td>\n",
       "    </tr>\n",
       "    <tr>\n",
       "      <th>6</th>\n",
       "      <td>budget</td>\n",
       "      <td>0.450668</td>\n",
       "      <td>yes</td>\n",
       "      <td>no</td>\n",
       "      <td>0.166667</td>\n",
       "      <td>0.15625</td>\n",
       "      <td>0.166667</td>\n",
       "      <td>0.310700</td>\n",
       "      <td>3.878259</td>\n",
       "      <td>4.518958</td>\n",
       "      <td>1</td>\n",
       "      <td>0</td>\n",
       "      <td>0</td>\n",
       "      <td>0</td>\n",
       "    </tr>\n",
       "    <tr>\n",
       "      <th>7</th>\n",
       "      <td>budget</td>\n",
       "      <td>0.513514</td>\n",
       "      <td>yes</td>\n",
       "      <td>no</td>\n",
       "      <td>0.270833</td>\n",
       "      <td>0.25000</td>\n",
       "      <td>0.333333</td>\n",
       "      <td>0.349794</td>\n",
       "      <td>4.729421</td>\n",
       "      <td>5.188726</td>\n",
       "      <td>1</td>\n",
       "      <td>0</td>\n",
       "      <td>0</td>\n",
       "      <td>0</td>\n",
       "    </tr>\n",
       "    <tr>\n",
       "      <th>8</th>\n",
       "      <td>budget</td>\n",
       "      <td>0.498860</td>\n",
       "      <td>yes</td>\n",
       "      <td>no</td>\n",
       "      <td>0.270833</td>\n",
       "      <td>0.50000</td>\n",
       "      <td>0.500000</td>\n",
       "      <td>0.411523</td>\n",
       "      <td>4.886054</td>\n",
       "      <td>5.299916</td>\n",
       "      <td>1</td>\n",
       "      <td>0</td>\n",
       "      <td>0</td>\n",
       "      <td>0</td>\n",
       "    </tr>\n",
       "    <tr>\n",
       "      <th>9</th>\n",
       "      <td>budget</td>\n",
       "      <td>0.528492</td>\n",
       "      <td>yes</td>\n",
       "      <td>no</td>\n",
       "      <td>0.270833</td>\n",
       "      <td>0.25000</td>\n",
       "      <td>0.500000</td>\n",
       "      <td>0.411523</td>\n",
       "      <td>4.773224</td>\n",
       "      <td>5.073610</td>\n",
       "      <td>1</td>\n",
       "      <td>0</td>\n",
       "      <td>0</td>\n",
       "      <td>0</td>\n",
       "    </tr>\n",
       "  </tbody>\n",
       "</table>\n",
       "</div>"
      ],
      "text/plain": [
       "  device_brand  screen_size   4g   5g  rear_camera_mp  front_camera_mp  \\\n",
       "0       budget     0.472159  yes   no        0.270833          0.15625   \n",
       "1       budget     0.563334  yes  yes        0.270833          0.50000   \n",
       "2       budget     0.543471  yes  yes        0.270833          0.25000   \n",
       "3       budget     0.830348  yes  yes        0.270833          0.25000   \n",
       "4       budget     0.498860  yes   no        0.270833          0.25000   \n",
       "5       budget     0.528492  yes   no        0.270833          0.25000   \n",
       "6       budget     0.450668  yes   no        0.166667          0.15625   \n",
       "7       budget     0.513514  yes   no        0.270833          0.25000   \n",
       "8       budget     0.498860  yes   no        0.270833          0.50000   \n",
       "9       budget     0.528492  yes   no        0.270833          0.25000   \n",
       "\n",
       "        ram   battery  normalized_used_price  normalized_new_price  \\\n",
       "0  0.250000  0.310700               4.307572              4.715100   \n",
       "1  0.666667  0.442387               5.162097              5.519018   \n",
       "2  0.666667  0.432099               5.111084              5.884631   \n",
       "3  0.500000  0.745885               5.135387              5.630961   \n",
       "4  0.250000  0.514403               4.389995              4.947837   \n",
       "5  0.333333  0.411523               4.413889              5.060694   \n",
       "6  0.166667  0.310700               3.878259              4.518958   \n",
       "7  0.333333  0.349794               4.729421              5.188726   \n",
       "8  0.500000  0.411523               4.886054              5.299916   \n",
       "9  0.500000  0.411523               4.773224              5.073610   \n",
       "\n",
       "   OS_Android  OS_Others  OS_Windows  OS_iOS  \n",
       "0           1          0           0       0  \n",
       "1           1          0           0       0  \n",
       "2           1          0           0       0  \n",
       "3           1          0           0       0  \n",
       "4           1          0           0       0  \n",
       "5           1          0           0       0  \n",
       "6           1          0           0       0  \n",
       "7           1          0           0       0  \n",
       "8           1          0           0       0  \n",
       "9           1          0           0       0  "
      ]
     },
     "execution_count": 86,
     "metadata": {},
     "output_type": "execute_result"
    }
   ],
   "source": [
    "# Merge data frame \"df\" and \"dummy_1\" \n",
    "df = pd.concat([df, dummy_1], axis = 1)\n",
    "\n",
    "# Drop original column \"os\" from \"df\"\n",
    "df.drop(\"os\", axis = 1, inplace = True)\n",
    "df.head(10)"
   ]
  },
  {
   "cell_type": "code",
   "execution_count": 87,
   "id": "94169b97",
   "metadata": {},
   "outputs": [
    {
     "data": {
      "text/html": [
       "<div>\n",
       "<style scoped>\n",
       "    .dataframe tbody tr th:only-of-type {\n",
       "        vertical-align: middle;\n",
       "    }\n",
       "\n",
       "    .dataframe tbody tr th {\n",
       "        vertical-align: top;\n",
       "    }\n",
       "\n",
       "    .dataframe thead th {\n",
       "        text-align: right;\n",
       "    }\n",
       "</style>\n",
       "<table border=\"1\" class=\"dataframe\">\n",
       "  <thead>\n",
       "    <tr style=\"text-align: right;\">\n",
       "      <th></th>\n",
       "      <th>without_4g</th>\n",
       "      <th>with_4g</th>\n",
       "    </tr>\n",
       "  </thead>\n",
       "  <tbody>\n",
       "    <tr>\n",
       "      <th>0</th>\n",
       "      <td>0</td>\n",
       "      <td>1</td>\n",
       "    </tr>\n",
       "    <tr>\n",
       "      <th>1</th>\n",
       "      <td>0</td>\n",
       "      <td>1</td>\n",
       "    </tr>\n",
       "    <tr>\n",
       "      <th>2</th>\n",
       "      <td>0</td>\n",
       "      <td>1</td>\n",
       "    </tr>\n",
       "    <tr>\n",
       "      <th>3</th>\n",
       "      <td>0</td>\n",
       "      <td>1</td>\n",
       "    </tr>\n",
       "    <tr>\n",
       "      <th>4</th>\n",
       "      <td>0</td>\n",
       "      <td>1</td>\n",
       "    </tr>\n",
       "    <tr>\n",
       "      <th>5</th>\n",
       "      <td>0</td>\n",
       "      <td>1</td>\n",
       "    </tr>\n",
       "    <tr>\n",
       "      <th>6</th>\n",
       "      <td>0</td>\n",
       "      <td>1</td>\n",
       "    </tr>\n",
       "    <tr>\n",
       "      <th>7</th>\n",
       "      <td>0</td>\n",
       "      <td>1</td>\n",
       "    </tr>\n",
       "    <tr>\n",
       "      <th>8</th>\n",
       "      <td>0</td>\n",
       "      <td>1</td>\n",
       "    </tr>\n",
       "    <tr>\n",
       "      <th>9</th>\n",
       "      <td>0</td>\n",
       "      <td>1</td>\n",
       "    </tr>\n",
       "  </tbody>\n",
       "</table>\n",
       "</div>"
      ],
      "text/plain": [
       "   without_4g  with_4g\n",
       "0           0        1\n",
       "1           0        1\n",
       "2           0        1\n",
       "3           0        1\n",
       "4           0        1\n",
       "5           0        1\n",
       "6           0        1\n",
       "7           0        1\n",
       "8           0        1\n",
       "9           0        1"
      ]
     },
     "execution_count": 87,
     "metadata": {},
     "output_type": "execute_result"
    }
   ],
   "source": [
    "dummy_2 = pd.get_dummies(df['4g'], dtype = int)\n",
    "\n",
    "dummy_2.rename(columns = {'no':'without_4g' ,  'yes':'with_4g'},inplace = True)\n",
    "dummy_2.head(10)"
   ]
  },
  {
   "cell_type": "code",
   "execution_count": 88,
   "id": "2ae1130b",
   "metadata": {},
   "outputs": [
    {
     "data": {
      "text/html": [
       "<div>\n",
       "<style scoped>\n",
       "    .dataframe tbody tr th:only-of-type {\n",
       "        vertical-align: middle;\n",
       "    }\n",
       "\n",
       "    .dataframe tbody tr th {\n",
       "        vertical-align: top;\n",
       "    }\n",
       "\n",
       "    .dataframe thead th {\n",
       "        text-align: right;\n",
       "    }\n",
       "</style>\n",
       "<table border=\"1\" class=\"dataframe\">\n",
       "  <thead>\n",
       "    <tr style=\"text-align: right;\">\n",
       "      <th></th>\n",
       "      <th>device_brand</th>\n",
       "      <th>screen_size</th>\n",
       "      <th>5g</th>\n",
       "      <th>rear_camera_mp</th>\n",
       "      <th>front_camera_mp</th>\n",
       "      <th>ram</th>\n",
       "      <th>battery</th>\n",
       "      <th>normalized_used_price</th>\n",
       "      <th>normalized_new_price</th>\n",
       "      <th>OS_Android</th>\n",
       "      <th>OS_Others</th>\n",
       "      <th>OS_Windows</th>\n",
       "      <th>OS_iOS</th>\n",
       "      <th>without_4g</th>\n",
       "      <th>with_4g</th>\n",
       "    </tr>\n",
       "  </thead>\n",
       "  <tbody>\n",
       "    <tr>\n",
       "      <th>0</th>\n",
       "      <td>budget</td>\n",
       "      <td>0.472159</td>\n",
       "      <td>no</td>\n",
       "      <td>0.270833</td>\n",
       "      <td>0.15625</td>\n",
       "      <td>0.250000</td>\n",
       "      <td>0.310700</td>\n",
       "      <td>4.307572</td>\n",
       "      <td>4.715100</td>\n",
       "      <td>1</td>\n",
       "      <td>0</td>\n",
       "      <td>0</td>\n",
       "      <td>0</td>\n",
       "      <td>0</td>\n",
       "      <td>1</td>\n",
       "    </tr>\n",
       "    <tr>\n",
       "      <th>1</th>\n",
       "      <td>budget</td>\n",
       "      <td>0.563334</td>\n",
       "      <td>yes</td>\n",
       "      <td>0.270833</td>\n",
       "      <td>0.50000</td>\n",
       "      <td>0.666667</td>\n",
       "      <td>0.442387</td>\n",
       "      <td>5.162097</td>\n",
       "      <td>5.519018</td>\n",
       "      <td>1</td>\n",
       "      <td>0</td>\n",
       "      <td>0</td>\n",
       "      <td>0</td>\n",
       "      <td>0</td>\n",
       "      <td>1</td>\n",
       "    </tr>\n",
       "    <tr>\n",
       "      <th>2</th>\n",
       "      <td>budget</td>\n",
       "      <td>0.543471</td>\n",
       "      <td>yes</td>\n",
       "      <td>0.270833</td>\n",
       "      <td>0.25000</td>\n",
       "      <td>0.666667</td>\n",
       "      <td>0.432099</td>\n",
       "      <td>5.111084</td>\n",
       "      <td>5.884631</td>\n",
       "      <td>1</td>\n",
       "      <td>0</td>\n",
       "      <td>0</td>\n",
       "      <td>0</td>\n",
       "      <td>0</td>\n",
       "      <td>1</td>\n",
       "    </tr>\n",
       "    <tr>\n",
       "      <th>3</th>\n",
       "      <td>budget</td>\n",
       "      <td>0.830348</td>\n",
       "      <td>yes</td>\n",
       "      <td>0.270833</td>\n",
       "      <td>0.25000</td>\n",
       "      <td>0.500000</td>\n",
       "      <td>0.745885</td>\n",
       "      <td>5.135387</td>\n",
       "      <td>5.630961</td>\n",
       "      <td>1</td>\n",
       "      <td>0</td>\n",
       "      <td>0</td>\n",
       "      <td>0</td>\n",
       "      <td>0</td>\n",
       "      <td>1</td>\n",
       "    </tr>\n",
       "    <tr>\n",
       "      <th>4</th>\n",
       "      <td>budget</td>\n",
       "      <td>0.498860</td>\n",
       "      <td>no</td>\n",
       "      <td>0.270833</td>\n",
       "      <td>0.25000</td>\n",
       "      <td>0.250000</td>\n",
       "      <td>0.514403</td>\n",
       "      <td>4.389995</td>\n",
       "      <td>4.947837</td>\n",
       "      <td>1</td>\n",
       "      <td>0</td>\n",
       "      <td>0</td>\n",
       "      <td>0</td>\n",
       "      <td>0</td>\n",
       "      <td>1</td>\n",
       "    </tr>\n",
       "    <tr>\n",
       "      <th>5</th>\n",
       "      <td>budget</td>\n",
       "      <td>0.528492</td>\n",
       "      <td>no</td>\n",
       "      <td>0.270833</td>\n",
       "      <td>0.25000</td>\n",
       "      <td>0.333333</td>\n",
       "      <td>0.411523</td>\n",
       "      <td>4.413889</td>\n",
       "      <td>5.060694</td>\n",
       "      <td>1</td>\n",
       "      <td>0</td>\n",
       "      <td>0</td>\n",
       "      <td>0</td>\n",
       "      <td>0</td>\n",
       "      <td>1</td>\n",
       "    </tr>\n",
       "    <tr>\n",
       "      <th>6</th>\n",
       "      <td>budget</td>\n",
       "      <td>0.450668</td>\n",
       "      <td>no</td>\n",
       "      <td>0.166667</td>\n",
       "      <td>0.15625</td>\n",
       "      <td>0.166667</td>\n",
       "      <td>0.310700</td>\n",
       "      <td>3.878259</td>\n",
       "      <td>4.518958</td>\n",
       "      <td>1</td>\n",
       "      <td>0</td>\n",
       "      <td>0</td>\n",
       "      <td>0</td>\n",
       "      <td>0</td>\n",
       "      <td>1</td>\n",
       "    </tr>\n",
       "    <tr>\n",
       "      <th>7</th>\n",
       "      <td>budget</td>\n",
       "      <td>0.513514</td>\n",
       "      <td>no</td>\n",
       "      <td>0.270833</td>\n",
       "      <td>0.25000</td>\n",
       "      <td>0.333333</td>\n",
       "      <td>0.349794</td>\n",
       "      <td>4.729421</td>\n",
       "      <td>5.188726</td>\n",
       "      <td>1</td>\n",
       "      <td>0</td>\n",
       "      <td>0</td>\n",
       "      <td>0</td>\n",
       "      <td>0</td>\n",
       "      <td>1</td>\n",
       "    </tr>\n",
       "    <tr>\n",
       "      <th>8</th>\n",
       "      <td>budget</td>\n",
       "      <td>0.498860</td>\n",
       "      <td>no</td>\n",
       "      <td>0.270833</td>\n",
       "      <td>0.50000</td>\n",
       "      <td>0.500000</td>\n",
       "      <td>0.411523</td>\n",
       "      <td>4.886054</td>\n",
       "      <td>5.299916</td>\n",
       "      <td>1</td>\n",
       "      <td>0</td>\n",
       "      <td>0</td>\n",
       "      <td>0</td>\n",
       "      <td>0</td>\n",
       "      <td>1</td>\n",
       "    </tr>\n",
       "    <tr>\n",
       "      <th>9</th>\n",
       "      <td>budget</td>\n",
       "      <td>0.528492</td>\n",
       "      <td>no</td>\n",
       "      <td>0.270833</td>\n",
       "      <td>0.25000</td>\n",
       "      <td>0.500000</td>\n",
       "      <td>0.411523</td>\n",
       "      <td>4.773224</td>\n",
       "      <td>5.073610</td>\n",
       "      <td>1</td>\n",
       "      <td>0</td>\n",
       "      <td>0</td>\n",
       "      <td>0</td>\n",
       "      <td>0</td>\n",
       "      <td>1</td>\n",
       "    </tr>\n",
       "  </tbody>\n",
       "</table>\n",
       "</div>"
      ],
      "text/plain": [
       "  device_brand  screen_size   5g  rear_camera_mp  front_camera_mp       ram  \\\n",
       "0       budget     0.472159   no        0.270833          0.15625  0.250000   \n",
       "1       budget     0.563334  yes        0.270833          0.50000  0.666667   \n",
       "2       budget     0.543471  yes        0.270833          0.25000  0.666667   \n",
       "3       budget     0.830348  yes        0.270833          0.25000  0.500000   \n",
       "4       budget     0.498860   no        0.270833          0.25000  0.250000   \n",
       "5       budget     0.528492   no        0.270833          0.25000  0.333333   \n",
       "6       budget     0.450668   no        0.166667          0.15625  0.166667   \n",
       "7       budget     0.513514   no        0.270833          0.25000  0.333333   \n",
       "8       budget     0.498860   no        0.270833          0.50000  0.500000   \n",
       "9       budget     0.528492   no        0.270833          0.25000  0.500000   \n",
       "\n",
       "    battery  normalized_used_price  normalized_new_price  OS_Android  \\\n",
       "0  0.310700               4.307572              4.715100           1   \n",
       "1  0.442387               5.162097              5.519018           1   \n",
       "2  0.432099               5.111084              5.884631           1   \n",
       "3  0.745885               5.135387              5.630961           1   \n",
       "4  0.514403               4.389995              4.947837           1   \n",
       "5  0.411523               4.413889              5.060694           1   \n",
       "6  0.310700               3.878259              4.518958           1   \n",
       "7  0.349794               4.729421              5.188726           1   \n",
       "8  0.411523               4.886054              5.299916           1   \n",
       "9  0.411523               4.773224              5.073610           1   \n",
       "\n",
       "   OS_Others  OS_Windows  OS_iOS  without_4g  with_4g  \n",
       "0          0           0       0           0        1  \n",
       "1          0           0       0           0        1  \n",
       "2          0           0       0           0        1  \n",
       "3          0           0       0           0        1  \n",
       "4          0           0       0           0        1  \n",
       "5          0           0       0           0        1  \n",
       "6          0           0       0           0        1  \n",
       "7          0           0       0           0        1  \n",
       "8          0           0       0           0        1  \n",
       "9          0           0       0           0        1  "
      ]
     },
     "execution_count": 88,
     "metadata": {},
     "output_type": "execute_result"
    }
   ],
   "source": [
    "# Merge data frame \"df\" and \"dummy_2\" \n",
    "df = pd.concat([df, dummy_2], axis = 1)\n",
    "\n",
    "# Drop original column \"4g\" from \"df\"\n",
    "df.drop(\"4g\", axis = 1, inplace = True)\n",
    "df.head(10)"
   ]
  },
  {
   "cell_type": "code",
   "execution_count": 89,
   "id": "7d1377cf",
   "metadata": {},
   "outputs": [
    {
     "data": {
      "text/html": [
       "<div>\n",
       "<style scoped>\n",
       "    .dataframe tbody tr th:only-of-type {\n",
       "        vertical-align: middle;\n",
       "    }\n",
       "\n",
       "    .dataframe tbody tr th {\n",
       "        vertical-align: top;\n",
       "    }\n",
       "\n",
       "    .dataframe thead th {\n",
       "        text-align: right;\n",
       "    }\n",
       "</style>\n",
       "<table border=\"1\" class=\"dataframe\">\n",
       "  <thead>\n",
       "    <tr style=\"text-align: right;\">\n",
       "      <th></th>\n",
       "      <th>without_5g</th>\n",
       "      <th>with_5g</th>\n",
       "    </tr>\n",
       "  </thead>\n",
       "  <tbody>\n",
       "    <tr>\n",
       "      <th>0</th>\n",
       "      <td>1</td>\n",
       "      <td>0</td>\n",
       "    </tr>\n",
       "    <tr>\n",
       "      <th>1</th>\n",
       "      <td>0</td>\n",
       "      <td>1</td>\n",
       "    </tr>\n",
       "    <tr>\n",
       "      <th>2</th>\n",
       "      <td>0</td>\n",
       "      <td>1</td>\n",
       "    </tr>\n",
       "    <tr>\n",
       "      <th>3</th>\n",
       "      <td>0</td>\n",
       "      <td>1</td>\n",
       "    </tr>\n",
       "    <tr>\n",
       "      <th>4</th>\n",
       "      <td>1</td>\n",
       "      <td>0</td>\n",
       "    </tr>\n",
       "    <tr>\n",
       "      <th>5</th>\n",
       "      <td>1</td>\n",
       "      <td>0</td>\n",
       "    </tr>\n",
       "    <tr>\n",
       "      <th>6</th>\n",
       "      <td>1</td>\n",
       "      <td>0</td>\n",
       "    </tr>\n",
       "    <tr>\n",
       "      <th>7</th>\n",
       "      <td>1</td>\n",
       "      <td>0</td>\n",
       "    </tr>\n",
       "    <tr>\n",
       "      <th>8</th>\n",
       "      <td>1</td>\n",
       "      <td>0</td>\n",
       "    </tr>\n",
       "    <tr>\n",
       "      <th>9</th>\n",
       "      <td>1</td>\n",
       "      <td>0</td>\n",
       "    </tr>\n",
       "  </tbody>\n",
       "</table>\n",
       "</div>"
      ],
      "text/plain": [
       "   without_5g  with_5g\n",
       "0           1        0\n",
       "1           0        1\n",
       "2           0        1\n",
       "3           0        1\n",
       "4           1        0\n",
       "5           1        0\n",
       "6           1        0\n",
       "7           1        0\n",
       "8           1        0\n",
       "9           1        0"
      ]
     },
     "execution_count": 89,
     "metadata": {},
     "output_type": "execute_result"
    }
   ],
   "source": [
    "dummy_3 = pd.get_dummies(df['5g'], dtype = int)\n",
    "dummy_3.rename(columns = {'no':'without_5g' ,  'yes':'with_5g'},inplace = True)\n",
    "dummy_3.head(10)"
   ]
  },
  {
   "cell_type": "code",
   "execution_count": 90,
   "id": "00be4b38",
   "metadata": {
    "scrolled": true
   },
   "outputs": [
    {
     "data": {
      "text/html": [
       "<div>\n",
       "<style scoped>\n",
       "    .dataframe tbody tr th:only-of-type {\n",
       "        vertical-align: middle;\n",
       "    }\n",
       "\n",
       "    .dataframe tbody tr th {\n",
       "        vertical-align: top;\n",
       "    }\n",
       "\n",
       "    .dataframe thead th {\n",
       "        text-align: right;\n",
       "    }\n",
       "</style>\n",
       "<table border=\"1\" class=\"dataframe\">\n",
       "  <thead>\n",
       "    <tr style=\"text-align: right;\">\n",
       "      <th></th>\n",
       "      <th>device_brand</th>\n",
       "      <th>screen_size</th>\n",
       "      <th>rear_camera_mp</th>\n",
       "      <th>front_camera_mp</th>\n",
       "      <th>ram</th>\n",
       "      <th>battery</th>\n",
       "      <th>normalized_used_price</th>\n",
       "      <th>normalized_new_price</th>\n",
       "      <th>OS_Android</th>\n",
       "      <th>OS_Others</th>\n",
       "      <th>OS_Windows</th>\n",
       "      <th>OS_iOS</th>\n",
       "      <th>without_4g</th>\n",
       "      <th>with_4g</th>\n",
       "      <th>without_5g</th>\n",
       "      <th>with_5g</th>\n",
       "    </tr>\n",
       "  </thead>\n",
       "  <tbody>\n",
       "    <tr>\n",
       "      <th>0</th>\n",
       "      <td>budget</td>\n",
       "      <td>0.472159</td>\n",
       "      <td>0.270833</td>\n",
       "      <td>0.15625</td>\n",
       "      <td>0.250000</td>\n",
       "      <td>0.310700</td>\n",
       "      <td>4.307572</td>\n",
       "      <td>4.715100</td>\n",
       "      <td>1</td>\n",
       "      <td>0</td>\n",
       "      <td>0</td>\n",
       "      <td>0</td>\n",
       "      <td>0</td>\n",
       "      <td>1</td>\n",
       "      <td>1</td>\n",
       "      <td>0</td>\n",
       "    </tr>\n",
       "    <tr>\n",
       "      <th>1</th>\n",
       "      <td>budget</td>\n",
       "      <td>0.563334</td>\n",
       "      <td>0.270833</td>\n",
       "      <td>0.50000</td>\n",
       "      <td>0.666667</td>\n",
       "      <td>0.442387</td>\n",
       "      <td>5.162097</td>\n",
       "      <td>5.519018</td>\n",
       "      <td>1</td>\n",
       "      <td>0</td>\n",
       "      <td>0</td>\n",
       "      <td>0</td>\n",
       "      <td>0</td>\n",
       "      <td>1</td>\n",
       "      <td>0</td>\n",
       "      <td>1</td>\n",
       "    </tr>\n",
       "    <tr>\n",
       "      <th>2</th>\n",
       "      <td>budget</td>\n",
       "      <td>0.543471</td>\n",
       "      <td>0.270833</td>\n",
       "      <td>0.25000</td>\n",
       "      <td>0.666667</td>\n",
       "      <td>0.432099</td>\n",
       "      <td>5.111084</td>\n",
       "      <td>5.884631</td>\n",
       "      <td>1</td>\n",
       "      <td>0</td>\n",
       "      <td>0</td>\n",
       "      <td>0</td>\n",
       "      <td>0</td>\n",
       "      <td>1</td>\n",
       "      <td>0</td>\n",
       "      <td>1</td>\n",
       "    </tr>\n",
       "    <tr>\n",
       "      <th>3</th>\n",
       "      <td>budget</td>\n",
       "      <td>0.830348</td>\n",
       "      <td>0.270833</td>\n",
       "      <td>0.25000</td>\n",
       "      <td>0.500000</td>\n",
       "      <td>0.745885</td>\n",
       "      <td>5.135387</td>\n",
       "      <td>5.630961</td>\n",
       "      <td>1</td>\n",
       "      <td>0</td>\n",
       "      <td>0</td>\n",
       "      <td>0</td>\n",
       "      <td>0</td>\n",
       "      <td>1</td>\n",
       "      <td>0</td>\n",
       "      <td>1</td>\n",
       "    </tr>\n",
       "    <tr>\n",
       "      <th>4</th>\n",
       "      <td>budget</td>\n",
       "      <td>0.498860</td>\n",
       "      <td>0.270833</td>\n",
       "      <td>0.25000</td>\n",
       "      <td>0.250000</td>\n",
       "      <td>0.514403</td>\n",
       "      <td>4.389995</td>\n",
       "      <td>4.947837</td>\n",
       "      <td>1</td>\n",
       "      <td>0</td>\n",
       "      <td>0</td>\n",
       "      <td>0</td>\n",
       "      <td>0</td>\n",
       "      <td>1</td>\n",
       "      <td>1</td>\n",
       "      <td>0</td>\n",
       "    </tr>\n",
       "    <tr>\n",
       "      <th>5</th>\n",
       "      <td>budget</td>\n",
       "      <td>0.528492</td>\n",
       "      <td>0.270833</td>\n",
       "      <td>0.25000</td>\n",
       "      <td>0.333333</td>\n",
       "      <td>0.411523</td>\n",
       "      <td>4.413889</td>\n",
       "      <td>5.060694</td>\n",
       "      <td>1</td>\n",
       "      <td>0</td>\n",
       "      <td>0</td>\n",
       "      <td>0</td>\n",
       "      <td>0</td>\n",
       "      <td>1</td>\n",
       "      <td>1</td>\n",
       "      <td>0</td>\n",
       "    </tr>\n",
       "    <tr>\n",
       "      <th>6</th>\n",
       "      <td>budget</td>\n",
       "      <td>0.450668</td>\n",
       "      <td>0.166667</td>\n",
       "      <td>0.15625</td>\n",
       "      <td>0.166667</td>\n",
       "      <td>0.310700</td>\n",
       "      <td>3.878259</td>\n",
       "      <td>4.518958</td>\n",
       "      <td>1</td>\n",
       "      <td>0</td>\n",
       "      <td>0</td>\n",
       "      <td>0</td>\n",
       "      <td>0</td>\n",
       "      <td>1</td>\n",
       "      <td>1</td>\n",
       "      <td>0</td>\n",
       "    </tr>\n",
       "    <tr>\n",
       "      <th>7</th>\n",
       "      <td>budget</td>\n",
       "      <td>0.513514</td>\n",
       "      <td>0.270833</td>\n",
       "      <td>0.25000</td>\n",
       "      <td>0.333333</td>\n",
       "      <td>0.349794</td>\n",
       "      <td>4.729421</td>\n",
       "      <td>5.188726</td>\n",
       "      <td>1</td>\n",
       "      <td>0</td>\n",
       "      <td>0</td>\n",
       "      <td>0</td>\n",
       "      <td>0</td>\n",
       "      <td>1</td>\n",
       "      <td>1</td>\n",
       "      <td>0</td>\n",
       "    </tr>\n",
       "    <tr>\n",
       "      <th>8</th>\n",
       "      <td>budget</td>\n",
       "      <td>0.498860</td>\n",
       "      <td>0.270833</td>\n",
       "      <td>0.50000</td>\n",
       "      <td>0.500000</td>\n",
       "      <td>0.411523</td>\n",
       "      <td>4.886054</td>\n",
       "      <td>5.299916</td>\n",
       "      <td>1</td>\n",
       "      <td>0</td>\n",
       "      <td>0</td>\n",
       "      <td>0</td>\n",
       "      <td>0</td>\n",
       "      <td>1</td>\n",
       "      <td>1</td>\n",
       "      <td>0</td>\n",
       "    </tr>\n",
       "    <tr>\n",
       "      <th>9</th>\n",
       "      <td>budget</td>\n",
       "      <td>0.528492</td>\n",
       "      <td>0.270833</td>\n",
       "      <td>0.25000</td>\n",
       "      <td>0.500000</td>\n",
       "      <td>0.411523</td>\n",
       "      <td>4.773224</td>\n",
       "      <td>5.073610</td>\n",
       "      <td>1</td>\n",
       "      <td>0</td>\n",
       "      <td>0</td>\n",
       "      <td>0</td>\n",
       "      <td>0</td>\n",
       "      <td>1</td>\n",
       "      <td>1</td>\n",
       "      <td>0</td>\n",
       "    </tr>\n",
       "  </tbody>\n",
       "</table>\n",
       "</div>"
      ],
      "text/plain": [
       "  device_brand  screen_size  rear_camera_mp  front_camera_mp       ram  \\\n",
       "0       budget     0.472159        0.270833          0.15625  0.250000   \n",
       "1       budget     0.563334        0.270833          0.50000  0.666667   \n",
       "2       budget     0.543471        0.270833          0.25000  0.666667   \n",
       "3       budget     0.830348        0.270833          0.25000  0.500000   \n",
       "4       budget     0.498860        0.270833          0.25000  0.250000   \n",
       "5       budget     0.528492        0.270833          0.25000  0.333333   \n",
       "6       budget     0.450668        0.166667          0.15625  0.166667   \n",
       "7       budget     0.513514        0.270833          0.25000  0.333333   \n",
       "8       budget     0.498860        0.270833          0.50000  0.500000   \n",
       "9       budget     0.528492        0.270833          0.25000  0.500000   \n",
       "\n",
       "    battery  normalized_used_price  normalized_new_price  OS_Android  \\\n",
       "0  0.310700               4.307572              4.715100           1   \n",
       "1  0.442387               5.162097              5.519018           1   \n",
       "2  0.432099               5.111084              5.884631           1   \n",
       "3  0.745885               5.135387              5.630961           1   \n",
       "4  0.514403               4.389995              4.947837           1   \n",
       "5  0.411523               4.413889              5.060694           1   \n",
       "6  0.310700               3.878259              4.518958           1   \n",
       "7  0.349794               4.729421              5.188726           1   \n",
       "8  0.411523               4.886054              5.299916           1   \n",
       "9  0.411523               4.773224              5.073610           1   \n",
       "\n",
       "   OS_Others  OS_Windows  OS_iOS  without_4g  with_4g  without_5g  with_5g  \n",
       "0          0           0       0           0        1           1        0  \n",
       "1          0           0       0           0        1           0        1  \n",
       "2          0           0       0           0        1           0        1  \n",
       "3          0           0       0           0        1           0        1  \n",
       "4          0           0       0           0        1           1        0  \n",
       "5          0           0       0           0        1           1        0  \n",
       "6          0           0       0           0        1           1        0  \n",
       "7          0           0       0           0        1           1        0  \n",
       "8          0           0       0           0        1           1        0  \n",
       "9          0           0       0           0        1           1        0  "
      ]
     },
     "execution_count": 90,
     "metadata": {},
     "output_type": "execute_result"
    }
   ],
   "source": [
    "# Merge data frame \"df\" and \"dummy_2\" \n",
    "df = pd.concat([df, dummy_3], axis = 1)\n",
    "\n",
    "# Drop original column \"5g\" from \"df\"\n",
    "df.drop(\"5g\", axis = 1, inplace = True)\n",
    "df.head(10)"
   ]
  },
  {
   "cell_type": "code",
   "execution_count": 91,
   "id": "dec1ecf0",
   "metadata": {},
   "outputs": [
    {
     "data": {
      "text/html": [
       "<div>\n",
       "<style scoped>\n",
       "    .dataframe tbody tr th:only-of-type {\n",
       "        vertical-align: middle;\n",
       "    }\n",
       "\n",
       "    .dataframe tbody tr th {\n",
       "        vertical-align: top;\n",
       "    }\n",
       "\n",
       "    .dataframe thead th {\n",
       "        text-align: right;\n",
       "    }\n",
       "</style>\n",
       "<table border=\"1\" class=\"dataframe\">\n",
       "  <thead>\n",
       "    <tr style=\"text-align: right;\">\n",
       "      <th></th>\n",
       "      <th>budget</th>\n",
       "      <th>expensive</th>\n",
       "    </tr>\n",
       "  </thead>\n",
       "  <tbody>\n",
       "    <tr>\n",
       "      <th>0</th>\n",
       "      <td>1</td>\n",
       "      <td>0</td>\n",
       "    </tr>\n",
       "    <tr>\n",
       "      <th>1</th>\n",
       "      <td>1</td>\n",
       "      <td>0</td>\n",
       "    </tr>\n",
       "    <tr>\n",
       "      <th>2</th>\n",
       "      <td>1</td>\n",
       "      <td>0</td>\n",
       "    </tr>\n",
       "    <tr>\n",
       "      <th>3</th>\n",
       "      <td>1</td>\n",
       "      <td>0</td>\n",
       "    </tr>\n",
       "    <tr>\n",
       "      <th>4</th>\n",
       "      <td>1</td>\n",
       "      <td>0</td>\n",
       "    </tr>\n",
       "    <tr>\n",
       "      <th>...</th>\n",
       "      <td>...</td>\n",
       "      <td>...</td>\n",
       "    </tr>\n",
       "    <tr>\n",
       "      <th>3449</th>\n",
       "      <td>0</td>\n",
       "      <td>1</td>\n",
       "    </tr>\n",
       "    <tr>\n",
       "      <th>3450</th>\n",
       "      <td>0</td>\n",
       "      <td>1</td>\n",
       "    </tr>\n",
       "    <tr>\n",
       "      <th>3451</th>\n",
       "      <td>1</td>\n",
       "      <td>0</td>\n",
       "    </tr>\n",
       "    <tr>\n",
       "      <th>3452</th>\n",
       "      <td>1</td>\n",
       "      <td>0</td>\n",
       "    </tr>\n",
       "    <tr>\n",
       "      <th>3453</th>\n",
       "      <td>1</td>\n",
       "      <td>0</td>\n",
       "    </tr>\n",
       "  </tbody>\n",
       "</table>\n",
       "<p>3454 rows × 2 columns</p>\n",
       "</div>"
      ],
      "text/plain": [
       "      budget  expensive\n",
       "0          1          0\n",
       "1          1          0\n",
       "2          1          0\n",
       "3          1          0\n",
       "4          1          0\n",
       "...      ...        ...\n",
       "3449       0          1\n",
       "3450       0          1\n",
       "3451       1          0\n",
       "3452       1          0\n",
       "3453       1          0\n",
       "\n",
       "[3454 rows x 2 columns]"
      ]
     },
     "execution_count": 91,
     "metadata": {},
     "output_type": "execute_result"
    }
   ],
   "source": [
    "dummy_4 = pd.get_dummies(df['device_brand'], dtype = int)\n",
    "dummy_3.rename(columns = {'budget':'budget_brand' ,  'expensive':'expensive_brand'},inplace = True)\n",
    "dummy_4"
   ]
  },
  {
   "cell_type": "code",
   "execution_count": 92,
   "id": "f8fe2edc",
   "metadata": {},
   "outputs": [
    {
     "data": {
      "text/html": [
       "<div>\n",
       "<style scoped>\n",
       "    .dataframe tbody tr th:only-of-type {\n",
       "        vertical-align: middle;\n",
       "    }\n",
       "\n",
       "    .dataframe tbody tr th {\n",
       "        vertical-align: top;\n",
       "    }\n",
       "\n",
       "    .dataframe thead th {\n",
       "        text-align: right;\n",
       "    }\n",
       "</style>\n",
       "<table border=\"1\" class=\"dataframe\">\n",
       "  <thead>\n",
       "    <tr style=\"text-align: right;\">\n",
       "      <th></th>\n",
       "      <th>screen_size</th>\n",
       "      <th>rear_camera_mp</th>\n",
       "      <th>front_camera_mp</th>\n",
       "      <th>ram</th>\n",
       "      <th>battery</th>\n",
       "      <th>normalized_used_price</th>\n",
       "      <th>normalized_new_price</th>\n",
       "      <th>OS_Android</th>\n",
       "      <th>OS_Others</th>\n",
       "      <th>OS_Windows</th>\n",
       "      <th>OS_iOS</th>\n",
       "      <th>without_4g</th>\n",
       "      <th>with_4g</th>\n",
       "      <th>without_5g</th>\n",
       "      <th>with_5g</th>\n",
       "      <th>budget</th>\n",
       "      <th>expensive</th>\n",
       "    </tr>\n",
       "  </thead>\n",
       "  <tbody>\n",
       "    <tr>\n",
       "      <th>0</th>\n",
       "      <td>0.472159</td>\n",
       "      <td>0.270833</td>\n",
       "      <td>0.15625</td>\n",
       "      <td>0.250000</td>\n",
       "      <td>0.310700</td>\n",
       "      <td>4.307572</td>\n",
       "      <td>4.715100</td>\n",
       "      <td>1</td>\n",
       "      <td>0</td>\n",
       "      <td>0</td>\n",
       "      <td>0</td>\n",
       "      <td>0</td>\n",
       "      <td>1</td>\n",
       "      <td>1</td>\n",
       "      <td>0</td>\n",
       "      <td>1</td>\n",
       "      <td>0</td>\n",
       "    </tr>\n",
       "    <tr>\n",
       "      <th>1</th>\n",
       "      <td>0.563334</td>\n",
       "      <td>0.270833</td>\n",
       "      <td>0.50000</td>\n",
       "      <td>0.666667</td>\n",
       "      <td>0.442387</td>\n",
       "      <td>5.162097</td>\n",
       "      <td>5.519018</td>\n",
       "      <td>1</td>\n",
       "      <td>0</td>\n",
       "      <td>0</td>\n",
       "      <td>0</td>\n",
       "      <td>0</td>\n",
       "      <td>1</td>\n",
       "      <td>0</td>\n",
       "      <td>1</td>\n",
       "      <td>1</td>\n",
       "      <td>0</td>\n",
       "    </tr>\n",
       "    <tr>\n",
       "      <th>2</th>\n",
       "      <td>0.543471</td>\n",
       "      <td>0.270833</td>\n",
       "      <td>0.25000</td>\n",
       "      <td>0.666667</td>\n",
       "      <td>0.432099</td>\n",
       "      <td>5.111084</td>\n",
       "      <td>5.884631</td>\n",
       "      <td>1</td>\n",
       "      <td>0</td>\n",
       "      <td>0</td>\n",
       "      <td>0</td>\n",
       "      <td>0</td>\n",
       "      <td>1</td>\n",
       "      <td>0</td>\n",
       "      <td>1</td>\n",
       "      <td>1</td>\n",
       "      <td>0</td>\n",
       "    </tr>\n",
       "    <tr>\n",
       "      <th>3</th>\n",
       "      <td>0.830348</td>\n",
       "      <td>0.270833</td>\n",
       "      <td>0.25000</td>\n",
       "      <td>0.500000</td>\n",
       "      <td>0.745885</td>\n",
       "      <td>5.135387</td>\n",
       "      <td>5.630961</td>\n",
       "      <td>1</td>\n",
       "      <td>0</td>\n",
       "      <td>0</td>\n",
       "      <td>0</td>\n",
       "      <td>0</td>\n",
       "      <td>1</td>\n",
       "      <td>0</td>\n",
       "      <td>1</td>\n",
       "      <td>1</td>\n",
       "      <td>0</td>\n",
       "    </tr>\n",
       "    <tr>\n",
       "      <th>4</th>\n",
       "      <td>0.498860</td>\n",
       "      <td>0.270833</td>\n",
       "      <td>0.25000</td>\n",
       "      <td>0.250000</td>\n",
       "      <td>0.514403</td>\n",
       "      <td>4.389995</td>\n",
       "      <td>4.947837</td>\n",
       "      <td>1</td>\n",
       "      <td>0</td>\n",
       "      <td>0</td>\n",
       "      <td>0</td>\n",
       "      <td>0</td>\n",
       "      <td>1</td>\n",
       "      <td>1</td>\n",
       "      <td>0</td>\n",
       "      <td>1</td>\n",
       "      <td>0</td>\n",
       "    </tr>\n",
       "    <tr>\n",
       "      <th>5</th>\n",
       "      <td>0.528492</td>\n",
       "      <td>0.270833</td>\n",
       "      <td>0.25000</td>\n",
       "      <td>0.333333</td>\n",
       "      <td>0.411523</td>\n",
       "      <td>4.413889</td>\n",
       "      <td>5.060694</td>\n",
       "      <td>1</td>\n",
       "      <td>0</td>\n",
       "      <td>0</td>\n",
       "      <td>0</td>\n",
       "      <td>0</td>\n",
       "      <td>1</td>\n",
       "      <td>1</td>\n",
       "      <td>0</td>\n",
       "      <td>1</td>\n",
       "      <td>0</td>\n",
       "    </tr>\n",
       "    <tr>\n",
       "      <th>6</th>\n",
       "      <td>0.450668</td>\n",
       "      <td>0.166667</td>\n",
       "      <td>0.15625</td>\n",
       "      <td>0.166667</td>\n",
       "      <td>0.310700</td>\n",
       "      <td>3.878259</td>\n",
       "      <td>4.518958</td>\n",
       "      <td>1</td>\n",
       "      <td>0</td>\n",
       "      <td>0</td>\n",
       "      <td>0</td>\n",
       "      <td>0</td>\n",
       "      <td>1</td>\n",
       "      <td>1</td>\n",
       "      <td>0</td>\n",
       "      <td>1</td>\n",
       "      <td>0</td>\n",
       "    </tr>\n",
       "    <tr>\n",
       "      <th>7</th>\n",
       "      <td>0.513514</td>\n",
       "      <td>0.270833</td>\n",
       "      <td>0.25000</td>\n",
       "      <td>0.333333</td>\n",
       "      <td>0.349794</td>\n",
       "      <td>4.729421</td>\n",
       "      <td>5.188726</td>\n",
       "      <td>1</td>\n",
       "      <td>0</td>\n",
       "      <td>0</td>\n",
       "      <td>0</td>\n",
       "      <td>0</td>\n",
       "      <td>1</td>\n",
       "      <td>1</td>\n",
       "      <td>0</td>\n",
       "      <td>1</td>\n",
       "      <td>0</td>\n",
       "    </tr>\n",
       "    <tr>\n",
       "      <th>8</th>\n",
       "      <td>0.498860</td>\n",
       "      <td>0.270833</td>\n",
       "      <td>0.50000</td>\n",
       "      <td>0.500000</td>\n",
       "      <td>0.411523</td>\n",
       "      <td>4.886054</td>\n",
       "      <td>5.299916</td>\n",
       "      <td>1</td>\n",
       "      <td>0</td>\n",
       "      <td>0</td>\n",
       "      <td>0</td>\n",
       "      <td>0</td>\n",
       "      <td>1</td>\n",
       "      <td>1</td>\n",
       "      <td>0</td>\n",
       "      <td>1</td>\n",
       "      <td>0</td>\n",
       "    </tr>\n",
       "    <tr>\n",
       "      <th>9</th>\n",
       "      <td>0.528492</td>\n",
       "      <td>0.270833</td>\n",
       "      <td>0.25000</td>\n",
       "      <td>0.500000</td>\n",
       "      <td>0.411523</td>\n",
       "      <td>4.773224</td>\n",
       "      <td>5.073610</td>\n",
       "      <td>1</td>\n",
       "      <td>0</td>\n",
       "      <td>0</td>\n",
       "      <td>0</td>\n",
       "      <td>0</td>\n",
       "      <td>1</td>\n",
       "      <td>1</td>\n",
       "      <td>0</td>\n",
       "      <td>1</td>\n",
       "      <td>0</td>\n",
       "    </tr>\n",
       "  </tbody>\n",
       "</table>\n",
       "</div>"
      ],
      "text/plain": [
       "   screen_size  rear_camera_mp  front_camera_mp       ram   battery  \\\n",
       "0     0.472159        0.270833          0.15625  0.250000  0.310700   \n",
       "1     0.563334        0.270833          0.50000  0.666667  0.442387   \n",
       "2     0.543471        0.270833          0.25000  0.666667  0.432099   \n",
       "3     0.830348        0.270833          0.25000  0.500000  0.745885   \n",
       "4     0.498860        0.270833          0.25000  0.250000  0.514403   \n",
       "5     0.528492        0.270833          0.25000  0.333333  0.411523   \n",
       "6     0.450668        0.166667          0.15625  0.166667  0.310700   \n",
       "7     0.513514        0.270833          0.25000  0.333333  0.349794   \n",
       "8     0.498860        0.270833          0.50000  0.500000  0.411523   \n",
       "9     0.528492        0.270833          0.25000  0.500000  0.411523   \n",
       "\n",
       "   normalized_used_price  normalized_new_price  OS_Android  OS_Others  \\\n",
       "0               4.307572              4.715100           1          0   \n",
       "1               5.162097              5.519018           1          0   \n",
       "2               5.111084              5.884631           1          0   \n",
       "3               5.135387              5.630961           1          0   \n",
       "4               4.389995              4.947837           1          0   \n",
       "5               4.413889              5.060694           1          0   \n",
       "6               3.878259              4.518958           1          0   \n",
       "7               4.729421              5.188726           1          0   \n",
       "8               4.886054              5.299916           1          0   \n",
       "9               4.773224              5.073610           1          0   \n",
       "\n",
       "   OS_Windows  OS_iOS  without_4g  with_4g  without_5g  with_5g  budget  \\\n",
       "0           0       0           0        1           1        0       1   \n",
       "1           0       0           0        1           0        1       1   \n",
       "2           0       0           0        1           0        1       1   \n",
       "3           0       0           0        1           0        1       1   \n",
       "4           0       0           0        1           1        0       1   \n",
       "5           0       0           0        1           1        0       1   \n",
       "6           0       0           0        1           1        0       1   \n",
       "7           0       0           0        1           1        0       1   \n",
       "8           0       0           0        1           1        0       1   \n",
       "9           0       0           0        1           1        0       1   \n",
       "\n",
       "   expensive  \n",
       "0          0  \n",
       "1          0  \n",
       "2          0  \n",
       "3          0  \n",
       "4          0  \n",
       "5          0  \n",
       "6          0  \n",
       "7          0  \n",
       "8          0  \n",
       "9          0  "
      ]
     },
     "execution_count": 92,
     "metadata": {},
     "output_type": "execute_result"
    }
   ],
   "source": [
    "# Merge data frame \"df\" and \"dummy_2\" \n",
    "df = pd.concat([df, dummy_4], axis = 1)\n",
    "\n",
    "# Drop original column \"5g\" from \"df\"\n",
    "df.drop(\"device_brand\", axis = 1, inplace = True)\n",
    "df.head(10)"
   ]
  },
  {
   "cell_type": "code",
   "execution_count": 93,
   "id": "0fbe48f2",
   "metadata": {},
   "outputs": [
    {
     "ename": "PermissionError",
     "evalue": "[Errno 13] Permission denied: 'ECEN E3_Group 15_MP1 Part1_DW and EDA.csv'",
     "output_type": "error",
     "traceback": [
      "\u001b[1;31m---------------------------------------------------------------------------\u001b[0m",
      "\u001b[1;31mPermissionError\u001b[0m                           Traceback (most recent call last)",
      "Cell \u001b[1;32mIn[93], line 1\u001b[0m\n\u001b[1;32m----> 1\u001b[0m df\u001b[38;5;241m.\u001b[39mto_csv(\u001b[38;5;124m'\u001b[39m\u001b[38;5;124mECEN E3_Group 15_MP1 Part1_DW and EDA.csv\u001b[39m\u001b[38;5;124m'\u001b[39m, index\u001b[38;5;241m=\u001b[39m\u001b[38;5;28;01mFalse\u001b[39;00m)\n",
      "File \u001b[1;32m~\\anaconda3\\Lib\\site-packages\\pandas\\core\\generic.py:3772\u001b[0m, in \u001b[0;36mNDFrame.to_csv\u001b[1;34m(self, path_or_buf, sep, na_rep, float_format, columns, header, index, index_label, mode, encoding, compression, quoting, quotechar, lineterminator, chunksize, date_format, doublequote, escapechar, decimal, errors, storage_options)\u001b[0m\n\u001b[0;32m   3761\u001b[0m df \u001b[38;5;241m=\u001b[39m \u001b[38;5;28mself\u001b[39m \u001b[38;5;28;01mif\u001b[39;00m \u001b[38;5;28misinstance\u001b[39m(\u001b[38;5;28mself\u001b[39m, ABCDataFrame) \u001b[38;5;28;01melse\u001b[39;00m \u001b[38;5;28mself\u001b[39m\u001b[38;5;241m.\u001b[39mto_frame()\n\u001b[0;32m   3763\u001b[0m formatter \u001b[38;5;241m=\u001b[39m DataFrameFormatter(\n\u001b[0;32m   3764\u001b[0m     frame\u001b[38;5;241m=\u001b[39mdf,\n\u001b[0;32m   3765\u001b[0m     header\u001b[38;5;241m=\u001b[39mheader,\n\u001b[1;32m   (...)\u001b[0m\n\u001b[0;32m   3769\u001b[0m     decimal\u001b[38;5;241m=\u001b[39mdecimal,\n\u001b[0;32m   3770\u001b[0m )\n\u001b[1;32m-> 3772\u001b[0m \u001b[38;5;28;01mreturn\u001b[39;00m DataFrameRenderer(formatter)\u001b[38;5;241m.\u001b[39mto_csv(\n\u001b[0;32m   3773\u001b[0m     path_or_buf,\n\u001b[0;32m   3774\u001b[0m     lineterminator\u001b[38;5;241m=\u001b[39mlineterminator,\n\u001b[0;32m   3775\u001b[0m     sep\u001b[38;5;241m=\u001b[39msep,\n\u001b[0;32m   3776\u001b[0m     encoding\u001b[38;5;241m=\u001b[39mencoding,\n\u001b[0;32m   3777\u001b[0m     errors\u001b[38;5;241m=\u001b[39merrors,\n\u001b[0;32m   3778\u001b[0m     compression\u001b[38;5;241m=\u001b[39mcompression,\n\u001b[0;32m   3779\u001b[0m     quoting\u001b[38;5;241m=\u001b[39mquoting,\n\u001b[0;32m   3780\u001b[0m     columns\u001b[38;5;241m=\u001b[39mcolumns,\n\u001b[0;32m   3781\u001b[0m     index_label\u001b[38;5;241m=\u001b[39mindex_label,\n\u001b[0;32m   3782\u001b[0m     mode\u001b[38;5;241m=\u001b[39mmode,\n\u001b[0;32m   3783\u001b[0m     chunksize\u001b[38;5;241m=\u001b[39mchunksize,\n\u001b[0;32m   3784\u001b[0m     quotechar\u001b[38;5;241m=\u001b[39mquotechar,\n\u001b[0;32m   3785\u001b[0m     date_format\u001b[38;5;241m=\u001b[39mdate_format,\n\u001b[0;32m   3786\u001b[0m     doublequote\u001b[38;5;241m=\u001b[39mdoublequote,\n\u001b[0;32m   3787\u001b[0m     escapechar\u001b[38;5;241m=\u001b[39mescapechar,\n\u001b[0;32m   3788\u001b[0m     storage_options\u001b[38;5;241m=\u001b[39mstorage_options,\n\u001b[0;32m   3789\u001b[0m )\n",
      "File \u001b[1;32m~\\anaconda3\\Lib\\site-packages\\pandas\\io\\formats\\format.py:1186\u001b[0m, in \u001b[0;36mDataFrameRenderer.to_csv\u001b[1;34m(self, path_or_buf, encoding, sep, columns, index_label, mode, compression, quoting, quotechar, lineterminator, chunksize, date_format, doublequote, escapechar, errors, storage_options)\u001b[0m\n\u001b[0;32m   1165\u001b[0m     created_buffer \u001b[38;5;241m=\u001b[39m \u001b[38;5;28;01mFalse\u001b[39;00m\n\u001b[0;32m   1167\u001b[0m csv_formatter \u001b[38;5;241m=\u001b[39m CSVFormatter(\n\u001b[0;32m   1168\u001b[0m     path_or_buf\u001b[38;5;241m=\u001b[39mpath_or_buf,\n\u001b[0;32m   1169\u001b[0m     lineterminator\u001b[38;5;241m=\u001b[39mlineterminator,\n\u001b[1;32m   (...)\u001b[0m\n\u001b[0;32m   1184\u001b[0m     formatter\u001b[38;5;241m=\u001b[39m\u001b[38;5;28mself\u001b[39m\u001b[38;5;241m.\u001b[39mfmt,\n\u001b[0;32m   1185\u001b[0m )\n\u001b[1;32m-> 1186\u001b[0m csv_formatter\u001b[38;5;241m.\u001b[39msave()\n\u001b[0;32m   1188\u001b[0m \u001b[38;5;28;01mif\u001b[39;00m created_buffer:\n\u001b[0;32m   1189\u001b[0m     \u001b[38;5;28;01massert\u001b[39;00m \u001b[38;5;28misinstance\u001b[39m(path_or_buf, StringIO)\n",
      "File \u001b[1;32m~\\anaconda3\\Lib\\site-packages\\pandas\\io\\formats\\csvs.py:240\u001b[0m, in \u001b[0;36mCSVFormatter.save\u001b[1;34m(self)\u001b[0m\n\u001b[0;32m    236\u001b[0m \u001b[38;5;250m\u001b[39m\u001b[38;5;124;03m\"\"\"\u001b[39;00m\n\u001b[0;32m    237\u001b[0m \u001b[38;5;124;03mCreate the writer & save.\u001b[39;00m\n\u001b[0;32m    238\u001b[0m \u001b[38;5;124;03m\"\"\"\u001b[39;00m\n\u001b[0;32m    239\u001b[0m \u001b[38;5;66;03m# apply compression and byte/text conversion\u001b[39;00m\n\u001b[1;32m--> 240\u001b[0m \u001b[38;5;28;01mwith\u001b[39;00m get_handle(\n\u001b[0;32m    241\u001b[0m     \u001b[38;5;28mself\u001b[39m\u001b[38;5;241m.\u001b[39mfilepath_or_buffer,\n\u001b[0;32m    242\u001b[0m     \u001b[38;5;28mself\u001b[39m\u001b[38;5;241m.\u001b[39mmode,\n\u001b[0;32m    243\u001b[0m     encoding\u001b[38;5;241m=\u001b[39m\u001b[38;5;28mself\u001b[39m\u001b[38;5;241m.\u001b[39mencoding,\n\u001b[0;32m    244\u001b[0m     errors\u001b[38;5;241m=\u001b[39m\u001b[38;5;28mself\u001b[39m\u001b[38;5;241m.\u001b[39merrors,\n\u001b[0;32m    245\u001b[0m     compression\u001b[38;5;241m=\u001b[39m\u001b[38;5;28mself\u001b[39m\u001b[38;5;241m.\u001b[39mcompression,\n\u001b[0;32m    246\u001b[0m     storage_options\u001b[38;5;241m=\u001b[39m\u001b[38;5;28mself\u001b[39m\u001b[38;5;241m.\u001b[39mstorage_options,\n\u001b[0;32m    247\u001b[0m ) \u001b[38;5;28;01mas\u001b[39;00m handles:\n\u001b[0;32m    248\u001b[0m     \u001b[38;5;66;03m# Note: self.encoding is irrelevant here\u001b[39;00m\n\u001b[0;32m    249\u001b[0m     \u001b[38;5;28mself\u001b[39m\u001b[38;5;241m.\u001b[39mwriter \u001b[38;5;241m=\u001b[39m csvlib\u001b[38;5;241m.\u001b[39mwriter(\n\u001b[0;32m    250\u001b[0m         handles\u001b[38;5;241m.\u001b[39mhandle,\n\u001b[0;32m    251\u001b[0m         lineterminator\u001b[38;5;241m=\u001b[39m\u001b[38;5;28mself\u001b[39m\u001b[38;5;241m.\u001b[39mlineterminator,\n\u001b[1;32m   (...)\u001b[0m\n\u001b[0;32m    256\u001b[0m         quotechar\u001b[38;5;241m=\u001b[39m\u001b[38;5;28mself\u001b[39m\u001b[38;5;241m.\u001b[39mquotechar,\n\u001b[0;32m    257\u001b[0m     )\n\u001b[0;32m    259\u001b[0m     \u001b[38;5;28mself\u001b[39m\u001b[38;5;241m.\u001b[39m_save()\n",
      "File \u001b[1;32m~\\anaconda3\\Lib\\site-packages\\pandas\\io\\common.py:859\u001b[0m, in \u001b[0;36mget_handle\u001b[1;34m(path_or_buf, mode, encoding, compression, memory_map, is_text, errors, storage_options)\u001b[0m\n\u001b[0;32m    854\u001b[0m \u001b[38;5;28;01melif\u001b[39;00m \u001b[38;5;28misinstance\u001b[39m(handle, \u001b[38;5;28mstr\u001b[39m):\n\u001b[0;32m    855\u001b[0m     \u001b[38;5;66;03m# Check whether the filename is to be opened in binary mode.\u001b[39;00m\n\u001b[0;32m    856\u001b[0m     \u001b[38;5;66;03m# Binary mode does not support 'encoding' and 'newline'.\u001b[39;00m\n\u001b[0;32m    857\u001b[0m     \u001b[38;5;28;01mif\u001b[39;00m ioargs\u001b[38;5;241m.\u001b[39mencoding \u001b[38;5;129;01mand\u001b[39;00m \u001b[38;5;124m\"\u001b[39m\u001b[38;5;124mb\u001b[39m\u001b[38;5;124m\"\u001b[39m \u001b[38;5;129;01mnot\u001b[39;00m \u001b[38;5;129;01min\u001b[39;00m ioargs\u001b[38;5;241m.\u001b[39mmode:\n\u001b[0;32m    858\u001b[0m         \u001b[38;5;66;03m# Encoding\u001b[39;00m\n\u001b[1;32m--> 859\u001b[0m         handle \u001b[38;5;241m=\u001b[39m \u001b[38;5;28mopen\u001b[39m(\n\u001b[0;32m    860\u001b[0m             handle,\n\u001b[0;32m    861\u001b[0m             ioargs\u001b[38;5;241m.\u001b[39mmode,\n\u001b[0;32m    862\u001b[0m             encoding\u001b[38;5;241m=\u001b[39mioargs\u001b[38;5;241m.\u001b[39mencoding,\n\u001b[0;32m    863\u001b[0m             errors\u001b[38;5;241m=\u001b[39merrors,\n\u001b[0;32m    864\u001b[0m             newline\u001b[38;5;241m=\u001b[39m\u001b[38;5;124m\"\u001b[39m\u001b[38;5;124m\"\u001b[39m,\n\u001b[0;32m    865\u001b[0m         )\n\u001b[0;32m    866\u001b[0m     \u001b[38;5;28;01melse\u001b[39;00m:\n\u001b[0;32m    867\u001b[0m         \u001b[38;5;66;03m# Binary mode\u001b[39;00m\n\u001b[0;32m    868\u001b[0m         handle \u001b[38;5;241m=\u001b[39m \u001b[38;5;28mopen\u001b[39m(handle, ioargs\u001b[38;5;241m.\u001b[39mmode)\n",
      "\u001b[1;31mPermissionError\u001b[0m: [Errno 13] Permission denied: 'ECEN E3_Group 15_MP1 Part1_DW and EDA.csv'"
     ]
    }
   ],
   "source": [
    "df.to_csv('ECEN E3_Group 15_MP1 Part1_DW and EDA.csv', index=False)"
   ]
  },
  {
   "cell_type": "code",
   "execution_count": null,
   "id": "201a1bcd",
   "metadata": {},
   "outputs": [],
   "source": []
  }
 ],
 "metadata": {
  "kernelspec": {
   "display_name": "Python 3 (ipykernel)",
   "language": "python",
   "name": "python3"
  },
  "language_info": {
   "codemirror_mode": {
    "name": "ipython",
    "version": 3
   },
   "file_extension": ".py",
   "mimetype": "text/x-python",
   "name": "python",
   "nbconvert_exporter": "python",
   "pygments_lexer": "ipython3",
   "version": "3.11.5"
  }
 },
 "nbformat": 4,
 "nbformat_minor": 5
}
